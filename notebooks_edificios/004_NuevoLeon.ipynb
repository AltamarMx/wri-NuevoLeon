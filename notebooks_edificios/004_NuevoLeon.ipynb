{
 "cells": [
  {
   "cell_type": "markdown",
   "id": "dce93af2-8d72-44e1-b703-e70e48fe57c1",
   "metadata": {},
   "source": [
    "# "
   ]
  },
  {
   "cell_type": "markdown",
   "id": "809df418-7d82-4b58-9c60-0e701e983670",
   "metadata": {
    "jp-MarkdownHeadingCollapsed": true
   },
   "source": [
    "# Propuesta de análisis para Sonora y Nuevo León\n",
    "\n",
    "## Vivienda\n",
    "- Promedio nacional\n",
    "- Promedios por estado especificando clima \n",
    "- Consumo total por categoría de:\n",
    "    - aa y naa\n",
    "      - por tipologias \n",
    "    - consumos promedios de la vivienda con aa y naa por tipologia \n",
    "    - \n",
    "\n",
    "\n",
    "## Edificios APF"
   ]
  },
  {
   "cell_type": "code",
   "execution_count": 1,
   "id": "2d4eb0a2-6815-4e08-86f4-51842d119f43",
   "metadata": {},
   "outputs": [],
   "source": [
    "import pandas as pd\n",
    "import seaborn as sns\n",
    "import matplotlib.pyplot as plt\n",
    "from slugify import slugify  # pip install python-slugify\n",
    "import seaborn as sns\n",
    "import matplotlib.patches as mpatches\n"
   ]
  },
  {
   "cell_type": "code",
   "execution_count": 5,
   "id": "b5ff392e-064f-4431-80db-15b3d7b41fc3",
   "metadata": {},
   "outputs": [
    {
     "data": {
      "text/plain": [
       "Index(['generico', 'especifico', 'municipio', 'entidad', 'area', 'aa',\n",
       "       'emensual', 'emensualm2', 'bioclima'],\n",
       "      dtype='object')"
      ]
     },
     "execution_count": 5,
     "metadata": {},
     "output_type": "execute_result"
    }
   ],
   "source": [
    "f = \"../data/002_intermediate/apf_long.parquet\"\n",
    "apf = pd.read_parquet(f)\n",
    "del apf[\"ent_mun\"]\n",
    "# del apf[\"consumo\"]\n",
    "# del apf[\"area\"]\n",
    "# del apf[\"municipio\"]\n",
    "# del apf[\"especifico\"]\n",
    "son = apf[apf.entidad=='SONORA']\n",
    "nl = apf[apf.entidad=='NUEVO LEÓN']\n",
    "nl.columns"
   ]
  },
  {
   "cell_type": "code",
   "execution_count": 6,
   "id": "dcf0ae38-57b2-4f9e-8928-7aafb5dc091d",
   "metadata": {},
   "outputs": [
    {
     "data": {
      "text/plain": [
       "array(['Oficina Pública', 'Salud', 'Comercio', 'Seguridad',\n",
       "       'Educación y Cultura', 'Comunicaciones y Transporte'], dtype=object)"
      ]
     },
     "execution_count": 6,
     "metadata": {},
     "output_type": "execute_result"
    }
   ],
   "source": [
    "nl.generico.unique()"
   ]
  },
  {
   "cell_type": "code",
   "execution_count": 8,
   "id": "3cab8565-5839-434f-8c14-e5644e6e7fa1",
   "metadata": {},
   "outputs": [
    {
     "data": {
      "text/plain": [
       "array(['Administración Pública',\n",
       "       'Asistencia social(centros de integración, de protección, orfanatos, asilos)',\n",
       "       'Almacenes y bodegas',\n",
       "       'Policía(central, comandancias, garitas, estaciones, corralones, módulos)',\n",
       "       'Clínicas y centros de salud(consultorios, laboratorios)',\n",
       "       'Educación superior', 'Hospitales',\n",
       "       'Asistencia Social(centros de integración, de protección, orfanatos, asilos)',\n",
       "       'Educación elemental(jardín de niños)',\n",
       "       'Transportes terrestres, estaciones y terminales',\n",
       "       'Comunicaciones(agencias y centrales, estaciones de radio y TV, estudios)'],\n",
       "      dtype=object)"
      ]
     },
     "execution_count": 8,
     "metadata": {},
     "output_type": "execute_result"
    }
   ],
   "source": [
    "nl.especifico.unique()"
   ]
  },
  {
   "cell_type": "code",
   "execution_count": null,
   "id": "364b9a40-5c8c-4a71-ae33-f1fa66b1770c",
   "metadata": {},
   "outputs": [],
   "source": [
    "apf_naa = apf[apf.aa=='NO']\n",
    "apf_naa"
   ]
  },
  {
   "cell_type": "code",
   "execution_count": null,
   "id": "3fdcc8cf-3172-4abb-a8ae-5dece6290bb6",
   "metadata": {},
   "outputs": [],
   "source": [
    "apf_naa"
   ]
  },
  {
   "cell_type": "code",
   "execution_count": null,
   "id": "1c7991bb-d0fd-439a-b126-f7366f032deb",
   "metadata": {},
   "outputs": [],
   "source": [
    "#| label: fig-mensual-apf-personam2-sin-aa\n",
    "#| fig-cap: Consumo total mensual por metro cuadrado de edificios de la APF para los diferentes bioclimas y sin uso de aire acondicionado.\n",
    "\n",
    "# 1) Orden de bioclimas y paleta\n",
    "climas = sorted(apf['bioclima'].unique())\n",
    "colors = sns.color_palette('Set2', n_colors=len(climas))\n",
    "palette_dict = {clima: colors[i] for i, clima in enumerate(climas)}\n",
    "\n",
    "# 2) Catplot con orientación horizontal y facetas en columnas\n",
    "g = sns.catplot(\n",
    "    data=apf,\n",
    "    x='emensualm2',        # consumo en el eje X\n",
    "    y='bioclima',          # bioclima en el eje Y\n",
    "    hue='bioclima',\n",
    "    palette=palette_dict,\n",
    "    kind='box',\n",
    "    height=4,\n",
    "    sharex=False,\n",
    "    col='generico',\n",
    "    whis=[25, 75],\n",
    "    showfliers=False,\n",
    "    col_wrap=3,\n",
    "    legend=False           # quitamos la leyenda por defecto\n",
    ")\n",
    "\n",
    "\n",
    "\n",
    "# 3) Ajustar márgenes para dejar espacio a la derecha\n",
    "g.fig.subplots_adjust(top=0.85, right=0.75, hspace=0.3)\n",
    "\n",
    "# … pasos 4 y 5 sin cambios …\n",
    "\n",
    "# 6) Prepara los parches\n",
    "handles = [\n",
    "    mpatches.Patch(color=palette_dict[clima], label=clima)\n",
    "    for clima in climas\n",
    "]\n",
    "g.set_titles(template=\"{col_name}\")\n",
    "g.set_axis_labels(x_var='kWh/(m2 mes)', y_var='Bioclima')\n",
    "\n",
    "\n",
    "# # 7) Leyenda vertical al lado derecho\n",
    "# g.fig.legend(\n",
    "#     handles=handles,\n",
    "#     title='Bioclima',\n",
    "#     loc='center left',\n",
    "#     bbox_to_anchor=(1.02, 0.5),  # ligeramente fuera del área de dibujo\n",
    "#     frameon=False\n",
    "# )\n",
    "\n",
    "plt.show()\n",
    "\n"
   ]
  },
  {
   "cell_type": "code",
   "execution_count": null,
   "id": "3dea440f-ebf6-4e92-9806-a762e4b98261",
   "metadata": {
    "scrolled": true
   },
   "outputs": [],
   "source": [
    "\n",
    "# función para calcular estadísticas\n",
    "def calc_stats(df):\n",
    "    return (\n",
    "        df\n",
    "        .groupby('bioclima')['emensualm2']\n",
    "        .agg(\n",
    "            P25     = lambda x: x.quantile(0.25),\n",
    "            Mediana = lambda x: x.quantile(0.50),\n",
    "            Media   = 'mean',\n",
    "            P75     = lambda x: x.quantile(0.75)\n",
    "        )\n",
    "        .round(2)\n",
    "        .reset_index()\n",
    "    )\n",
    "\n",
    "# para cada uso\n",
    "for uso, grupo in apf_naa.groupby('generico'):\n",
    "    stats = calc_stats(grupo)\n",
    "    tag  = f\"tbl-{slugify(uso, lowercase=True)}\"\n",
    "    caption = f\"Estadísticas de consumo mensual (kWh/m²·mes) por bioclima para uso **{uso}**\"\n",
    "    \n",
    "    # print(f\"\\n**Tabla: {uso}**  \\n\")\n",
    "    print(stats.to_markdown(index=False, tablefmt=\"github\"))\n",
    "    print(f\"\\n: {caption} {{{{#{tag}}}}}\\n\")\n"
   ]
  },
  {
   "cell_type": "code",
   "execution_count": null,
   "id": "a374d188-b186-4012-9731-c4d60825f0aa",
   "metadata": {},
   "outputs": [],
   "source": []
  }
 ],
 "metadata": {
  "kernelspec": {
   "display_name": "Python 3 (ipykernel)",
   "language": "python",
   "name": "python3"
  },
  "language_info": {
   "codemirror_mode": {
    "name": "ipython",
    "version": 3
   },
   "file_extension": ".py",
   "mimetype": "text/x-python",
   "name": "python",
   "nbconvert_exporter": "python",
   "pygments_lexer": "ipython3",
   "version": "3.10.17"
  }
 },
 "nbformat": 4,
 "nbformat_minor": 5
}
