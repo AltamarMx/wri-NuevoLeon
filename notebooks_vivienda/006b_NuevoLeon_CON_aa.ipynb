{
 "cells": [
  {
   "cell_type": "code",
   "execution_count": 1,
   "id": "a20d8b29-c405-4fc4-9f2d-ce7018cf23fa",
   "metadata": {},
   "outputs": [],
   "source": [
    "import pandas as pd\n",
    "import numpy as np\n",
    "from tabulate import tabulate\n",
    "import seaborn as sns\n",
    "from matplotlib.patches import Patch\n",
    "import matplotlib.pyplot as plt\n",
    "import plotly.express as px\n"
   ]
  },
  {
   "cell_type": "code",
   "execution_count": 2,
   "id": "49bd9e57-3932-49f3-a66e-56f8bed150ba",
   "metadata": {},
   "outputs": [],
   "source": [
    "total_viviendas = 33_162_148"
   ]
  },
  {
   "cell_type": "code",
   "execution_count": 3,
   "id": "5d91ee21-3603-4306-bdbb-a042c0f75416",
   "metadata": {},
   "outputs": [],
   "source": [
    "f = '../data/001_raw/ENCEVI_2018/vivienda.csv'\n",
    "entidad = pd.read_csv(f,usecols=['folio','entidad'],index_col=0)"
   ]
  },
  {
   "cell_type": "code",
   "execution_count": 4,
   "id": "f45fa825-9800-4a65-92e5-e2bd71b70e82",
   "metadata": {},
   "outputs": [
    {
     "data": {
      "text/html": [
       "<div>\n",
       "<style scoped>\n",
       "    .dataframe tbody tr th:only-of-type {\n",
       "        vertical-align: middle;\n",
       "    }\n",
       "\n",
       "    .dataframe tbody tr th {\n",
       "        vertical-align: top;\n",
       "    }\n",
       "\n",
       "    .dataframe thead th {\n",
       "        text-align: right;\n",
       "    }\n",
       "</style>\n",
       "<table border=\"1\" class=\"dataframe\">\n",
       "  <thead>\n",
       "    <tr style=\"text-align: right;\">\n",
       "      <th></th>\n",
       "      <th>clima</th>\n",
       "      <th>factor</th>\n",
       "      <th>personas</th>\n",
       "      <th>m2</th>\n",
       "      <th>estrato</th>\n",
       "      <th>kwh_mes</th>\n",
       "      <th>kwh_m2</th>\n",
       "      <th>kwh_persona</th>\n",
       "      <th>kwh_m2persona</th>\n",
       "    </tr>\n",
       "    <tr>\n",
       "      <th>folio</th>\n",
       "      <th></th>\n",
       "      <th></th>\n",
       "      <th></th>\n",
       "      <th></th>\n",
       "      <th></th>\n",
       "      <th></th>\n",
       "      <th></th>\n",
       "      <th></th>\n",
       "      <th></th>\n",
       "    </tr>\n",
       "  </thead>\n",
       "  <tbody>\n",
       "    <tr>\n",
       "      <th>16082</th>\n",
       "      <td>Cálido extremoso</td>\n",
       "      <td>1778</td>\n",
       "      <td>4</td>\n",
       "      <td>100.0</td>\n",
       "      <td>Medio bajo</td>\n",
       "      <td>91.972790</td>\n",
       "      <td>1.778141</td>\n",
       "      <td>44.453515</td>\n",
       "      <td>0.444535</td>\n",
       "    </tr>\n",
       "    <tr>\n",
       "      <th>16087</th>\n",
       "      <td>Cálido extremoso</td>\n",
       "      <td>1413</td>\n",
       "      <td>2</td>\n",
       "      <td>100.0</td>\n",
       "      <td>Medio alto</td>\n",
       "      <td>770.600719</td>\n",
       "      <td>7.192273</td>\n",
       "      <td>359.613669</td>\n",
       "      <td>3.596137</td>\n",
       "    </tr>\n",
       "    <tr>\n",
       "      <th>16088</th>\n",
       "      <td>Cálido extremoso</td>\n",
       "      <td>1413</td>\n",
       "      <td>2</td>\n",
       "      <td>100.0</td>\n",
       "      <td>Medio alto</td>\n",
       "      <td>47.375451</td>\n",
       "      <td>0.915925</td>\n",
       "      <td>45.796270</td>\n",
       "      <td>0.457963</td>\n",
       "    </tr>\n",
       "    <tr>\n",
       "      <th>16089</th>\n",
       "      <td>Cálido extremoso</td>\n",
       "      <td>1413</td>\n",
       "      <td>5</td>\n",
       "      <td>150.0</td>\n",
       "      <td>Medio alto</td>\n",
       "      <td>213.275324</td>\n",
       "      <td>2.796276</td>\n",
       "      <td>83.888294</td>\n",
       "      <td>0.559255</td>\n",
       "    </tr>\n",
       "    <tr>\n",
       "      <th>16090</th>\n",
       "      <td>Cálido extremoso</td>\n",
       "      <td>1413</td>\n",
       "      <td>2</td>\n",
       "      <td>100.0</td>\n",
       "      <td>Medio alto</td>\n",
       "      <td>91.219720</td>\n",
       "      <td>1.946021</td>\n",
       "      <td>97.301035</td>\n",
       "      <td>0.973010</td>\n",
       "    </tr>\n",
       "    <tr>\n",
       "      <th>...</th>\n",
       "      <td>...</td>\n",
       "      <td>...</td>\n",
       "      <td>...</td>\n",
       "      <td>...</td>\n",
       "      <td>...</td>\n",
       "      <td>...</td>\n",
       "      <td>...</td>\n",
       "      <td>...</td>\n",
       "      <td>...</td>\n",
       "    </tr>\n",
       "    <tr>\n",
       "      <th>16943</th>\n",
       "      <td>Cálido extremoso</td>\n",
       "      <td>940</td>\n",
       "      <td>5</td>\n",
       "      <td>55.0</td>\n",
       "      <td>Bajo</td>\n",
       "      <td>58.144420</td>\n",
       "      <td>2.149582</td>\n",
       "      <td>23.645397</td>\n",
       "      <td>0.429916</td>\n",
       "    </tr>\n",
       "    <tr>\n",
       "      <th>16945</th>\n",
       "      <td>Cálido extremoso</td>\n",
       "      <td>940</td>\n",
       "      <td>3</td>\n",
       "      <td>100.0</td>\n",
       "      <td>Bajo</td>\n",
       "      <td>129.134483</td>\n",
       "      <td>2.410510</td>\n",
       "      <td>80.350345</td>\n",
       "      <td>0.803503</td>\n",
       "    </tr>\n",
       "    <tr>\n",
       "      <th>16951</th>\n",
       "      <td>Cálido extremoso</td>\n",
       "      <td>940</td>\n",
       "      <td>3</td>\n",
       "      <td>100.0</td>\n",
       "      <td>Bajo</td>\n",
       "      <td>126.895967</td>\n",
       "      <td>2.537919</td>\n",
       "      <td>84.597311</td>\n",
       "      <td>0.845973</td>\n",
       "    </tr>\n",
       "    <tr>\n",
       "      <th>16952</th>\n",
       "      <td>Cálido extremoso</td>\n",
       "      <td>940</td>\n",
       "      <td>9</td>\n",
       "      <td>100.0</td>\n",
       "      <td>Bajo</td>\n",
       "      <td>346.337803</td>\n",
       "      <td>7.042202</td>\n",
       "      <td>78.246689</td>\n",
       "      <td>0.782467</td>\n",
       "    </tr>\n",
       "    <tr>\n",
       "      <th>16960</th>\n",
       "      <td>Cálido extremoso</td>\n",
       "      <td>743</td>\n",
       "      <td>3</td>\n",
       "      <td>200.0</td>\n",
       "      <td>Bajo</td>\n",
       "      <td>176.795556</td>\n",
       "      <td>1.797421</td>\n",
       "      <td>119.828099</td>\n",
       "      <td>0.599140</td>\n",
       "    </tr>\n",
       "  </tbody>\n",
       "</table>\n",
       "<p>266 rows × 9 columns</p>\n",
       "</div>"
      ],
      "text/plain": [
       "                  clima  factor  personas     m2     estrato     kwh_mes  \\\n",
       "folio                                                                      \n",
       "16082  Cálido extremoso    1778         4  100.0  Medio bajo   91.972790   \n",
       "16087  Cálido extremoso    1413         2  100.0  Medio alto  770.600719   \n",
       "16088  Cálido extremoso    1413         2  100.0  Medio alto   47.375451   \n",
       "16089  Cálido extremoso    1413         5  150.0  Medio alto  213.275324   \n",
       "16090  Cálido extremoso    1413         2  100.0  Medio alto   91.219720   \n",
       "...                 ...     ...       ...    ...         ...         ...   \n",
       "16943  Cálido extremoso     940         5   55.0        Bajo   58.144420   \n",
       "16945  Cálido extremoso     940         3  100.0        Bajo  129.134483   \n",
       "16951  Cálido extremoso     940         3  100.0        Bajo  126.895967   \n",
       "16952  Cálido extremoso     940         9  100.0        Bajo  346.337803   \n",
       "16960  Cálido extremoso     743         3  200.0        Bajo  176.795556   \n",
       "\n",
       "         kwh_m2  kwh_persona  kwh_m2persona  \n",
       "folio                                        \n",
       "16082  1.778141    44.453515       0.444535  \n",
       "16087  7.192273   359.613669       3.596137  \n",
       "16088  0.915925    45.796270       0.457963  \n",
       "16089  2.796276    83.888294       0.559255  \n",
       "16090  1.946021    97.301035       0.973010  \n",
       "...         ...          ...            ...  \n",
       "16943  2.149582    23.645397       0.429916  \n",
       "16945  2.410510    80.350345       0.803503  \n",
       "16951  2.537919    84.597311       0.845973  \n",
       "16952  7.042202    78.246689       0.782467  \n",
       "16960  1.797421   119.828099       0.599140  \n",
       "\n",
       "[266 rows x 9 columns]"
      ]
     },
     "execution_count": 4,
     "metadata": {},
     "output_type": "execute_result"
    }
   ],
   "source": [
    "f =\"../data/002_intermediate/vivienda_con_aa.parquet\"\n",
    "viv =pd.read_parquet(f)\n",
    "viv.factor.sum()\n",
    "\n",
    "viv = viv.join(entidad,how='inner')\n",
    "viv = viv[viv['entidad']==19]\n",
    "del viv['entidad']\n",
    "viv"
   ]
  },
  {
   "cell_type": "code",
   "execution_count": 5,
   "id": "b71d8aac-f8c2-4485-9e3e-f6acfd923397",
   "metadata": {},
   "outputs": [
    {
     "data": {
      "text/html": [
       "<div>\n",
       "<style scoped>\n",
       "    .dataframe tbody tr th:only-of-type {\n",
       "        vertical-align: middle;\n",
       "    }\n",
       "\n",
       "    .dataframe tbody tr th {\n",
       "        vertical-align: top;\n",
       "    }\n",
       "\n",
       "    .dataframe thead th {\n",
       "        text-align: right;\n",
       "    }\n",
       "</style>\n",
       "<table border=\"1\" class=\"dataframe\">\n",
       "  <thead>\n",
       "    <tr style=\"text-align: right;\">\n",
       "      <th></th>\n",
       "      <th>clima</th>\n",
       "      <th>factor</th>\n",
       "      <th>personas</th>\n",
       "      <th>m2</th>\n",
       "      <th>estrato</th>\n",
       "      <th>kwh_mes</th>\n",
       "      <th>kwh_m2</th>\n",
       "      <th>kwh_persona</th>\n",
       "      <th>kwh_m2persona</th>\n",
       "    </tr>\n",
       "    <tr>\n",
       "      <th>folio</th>\n",
       "      <th></th>\n",
       "      <th></th>\n",
       "      <th></th>\n",
       "      <th></th>\n",
       "      <th></th>\n",
       "      <th></th>\n",
       "      <th></th>\n",
       "      <th></th>\n",
       "      <th></th>\n",
       "    </tr>\n",
       "  </thead>\n",
       "  <tbody>\n",
       "    <tr>\n",
       "      <th>16082</th>\n",
       "      <td>Cálido extremoso</td>\n",
       "      <td>1778</td>\n",
       "      <td>4</td>\n",
       "      <td>100.0</td>\n",
       "      <td>Medio bajo</td>\n",
       "      <td>91.972790</td>\n",
       "      <td>1.778141</td>\n",
       "      <td>44.453515</td>\n",
       "      <td>0.444535</td>\n",
       "    </tr>\n",
       "    <tr>\n",
       "      <th>16087</th>\n",
       "      <td>Cálido extremoso</td>\n",
       "      <td>1413</td>\n",
       "      <td>2</td>\n",
       "      <td>100.0</td>\n",
       "      <td>Medio alto</td>\n",
       "      <td>770.600719</td>\n",
       "      <td>7.192273</td>\n",
       "      <td>359.613669</td>\n",
       "      <td>3.596137</td>\n",
       "    </tr>\n",
       "    <tr>\n",
       "      <th>16088</th>\n",
       "      <td>Cálido extremoso</td>\n",
       "      <td>1413</td>\n",
       "      <td>2</td>\n",
       "      <td>100.0</td>\n",
       "      <td>Medio alto</td>\n",
       "      <td>47.375451</td>\n",
       "      <td>0.915925</td>\n",
       "      <td>45.796270</td>\n",
       "      <td>0.457963</td>\n",
       "    </tr>\n",
       "    <tr>\n",
       "      <th>16089</th>\n",
       "      <td>Cálido extremoso</td>\n",
       "      <td>1413</td>\n",
       "      <td>5</td>\n",
       "      <td>150.0</td>\n",
       "      <td>Medio alto</td>\n",
       "      <td>213.275324</td>\n",
       "      <td>2.796276</td>\n",
       "      <td>83.888294</td>\n",
       "      <td>0.559255</td>\n",
       "    </tr>\n",
       "    <tr>\n",
       "      <th>16090</th>\n",
       "      <td>Cálido extremoso</td>\n",
       "      <td>1413</td>\n",
       "      <td>2</td>\n",
       "      <td>100.0</td>\n",
       "      <td>Medio alto</td>\n",
       "      <td>91.219720</td>\n",
       "      <td>1.946021</td>\n",
       "      <td>97.301035</td>\n",
       "      <td>0.973010</td>\n",
       "    </tr>\n",
       "    <tr>\n",
       "      <th>...</th>\n",
       "      <td>...</td>\n",
       "      <td>...</td>\n",
       "      <td>...</td>\n",
       "      <td>...</td>\n",
       "      <td>...</td>\n",
       "      <td>...</td>\n",
       "      <td>...</td>\n",
       "      <td>...</td>\n",
       "      <td>...</td>\n",
       "    </tr>\n",
       "    <tr>\n",
       "      <th>16943</th>\n",
       "      <td>Cálido extremoso</td>\n",
       "      <td>940</td>\n",
       "      <td>5</td>\n",
       "      <td>55.0</td>\n",
       "      <td>Bajo</td>\n",
       "      <td>58.144420</td>\n",
       "      <td>2.149582</td>\n",
       "      <td>23.645397</td>\n",
       "      <td>0.429916</td>\n",
       "    </tr>\n",
       "    <tr>\n",
       "      <th>16945</th>\n",
       "      <td>Cálido extremoso</td>\n",
       "      <td>940</td>\n",
       "      <td>3</td>\n",
       "      <td>100.0</td>\n",
       "      <td>Bajo</td>\n",
       "      <td>129.134483</td>\n",
       "      <td>2.410510</td>\n",
       "      <td>80.350345</td>\n",
       "      <td>0.803503</td>\n",
       "    </tr>\n",
       "    <tr>\n",
       "      <th>16951</th>\n",
       "      <td>Cálido extremoso</td>\n",
       "      <td>940</td>\n",
       "      <td>3</td>\n",
       "      <td>100.0</td>\n",
       "      <td>Bajo</td>\n",
       "      <td>126.895967</td>\n",
       "      <td>2.537919</td>\n",
       "      <td>84.597311</td>\n",
       "      <td>0.845973</td>\n",
       "    </tr>\n",
       "    <tr>\n",
       "      <th>16952</th>\n",
       "      <td>Cálido extremoso</td>\n",
       "      <td>940</td>\n",
       "      <td>9</td>\n",
       "      <td>100.0</td>\n",
       "      <td>Bajo</td>\n",
       "      <td>346.337803</td>\n",
       "      <td>7.042202</td>\n",
       "      <td>78.246689</td>\n",
       "      <td>0.782467</td>\n",
       "    </tr>\n",
       "    <tr>\n",
       "      <th>16960</th>\n",
       "      <td>Cálido extremoso</td>\n",
       "      <td>743</td>\n",
       "      <td>3</td>\n",
       "      <td>200.0</td>\n",
       "      <td>Bajo</td>\n",
       "      <td>176.795556</td>\n",
       "      <td>1.797421</td>\n",
       "      <td>119.828099</td>\n",
       "      <td>0.599140</td>\n",
       "    </tr>\n",
       "  </tbody>\n",
       "</table>\n",
       "<p>266 rows × 9 columns</p>\n",
       "</div>"
      ],
      "text/plain": [
       "                  clima  factor  personas     m2     estrato     kwh_mes  \\\n",
       "folio                                                                      \n",
       "16082  Cálido extremoso    1778         4  100.0  Medio bajo   91.972790   \n",
       "16087  Cálido extremoso    1413         2  100.0  Medio alto  770.600719   \n",
       "16088  Cálido extremoso    1413         2  100.0  Medio alto   47.375451   \n",
       "16089  Cálido extremoso    1413         5  150.0  Medio alto  213.275324   \n",
       "16090  Cálido extremoso    1413         2  100.0  Medio alto   91.219720   \n",
       "...                 ...     ...       ...    ...         ...         ...   \n",
       "16943  Cálido extremoso     940         5   55.0        Bajo   58.144420   \n",
       "16945  Cálido extremoso     940         3  100.0        Bajo  129.134483   \n",
       "16951  Cálido extremoso     940         3  100.0        Bajo  126.895967   \n",
       "16952  Cálido extremoso     940         9  100.0        Bajo  346.337803   \n",
       "16960  Cálido extremoso     743         3  200.0        Bajo  176.795556   \n",
       "\n",
       "         kwh_m2  kwh_persona  kwh_m2persona  \n",
       "folio                                        \n",
       "16082  1.778141    44.453515       0.444535  \n",
       "16087  7.192273   359.613669       3.596137  \n",
       "16088  0.915925    45.796270       0.457963  \n",
       "16089  2.796276    83.888294       0.559255  \n",
       "16090  1.946021    97.301035       0.973010  \n",
       "...         ...          ...            ...  \n",
       "16943  2.149582    23.645397       0.429916  \n",
       "16945  2.410510    80.350345       0.803503  \n",
       "16951  2.537919    84.597311       0.845973  \n",
       "16952  7.042202    78.246689       0.782467  \n",
       "16960  1.797421   119.828099       0.599140  \n",
       "\n",
       "[266 rows x 9 columns]"
      ]
     },
     "execution_count": 5,
     "metadata": {},
     "output_type": "execute_result"
    }
   ],
   "source": [
    "viv"
   ]
  },
  {
   "cell_type": "code",
   "execution_count": 6,
   "id": "3cfb7873-988f-493a-a302-3de19c10d581",
   "metadata": {},
   "outputs": [],
   "source": [
    "\n",
    "# --- 1) Función para calcular cuantiles ponderados ---\n",
    "def cuantil_ponderado(valores, percentiles, pesos):\n",
    "    v = np.array(valores)\n",
    "    w = np.array(pesos)\n",
    "    orden = np.argsort(v)\n",
    "    v_ord, w_ord = v[orden], w[orden]\n",
    "    cumw = np.cumsum(w_ord)\n",
    "    cumw_norm = cumw / cumw[-1]\n",
    "    return np.interp(percentiles, cumw_norm, v_ord)\n",
    "\n",
    "# --- 2) Estadísticos ponderados sobre kwh_mes ---\n",
    "def estadisticas_kwh_mes(df):\n",
    "    vals = df['kwh_mes'].values\n",
    "    wts  = df['factor'].values\n",
    "    return pd.Series({\n",
    "        'P25':     cuantil_ponderado(vals, [0.25], wts)[0],\n",
    "        'Mediana': cuantil_ponderado(vals, [0.50], wts)[0],\n",
    "        'Media':   np.average(vals, weights=wts),\n",
    "        'P75':     cuantil_ponderado(vals, [0.75], wts)[0]\n",
    "    })\n",
    "\n",
    "\n",
    "# --- 2) Estadísticos ponderados sobre kwh_mes ---\n",
    "def estadisticas_kwh_mes_persona(df):\n",
    "    vals = df['kwh_persona'].values\n",
    "    wts  = df['factor'].values\n",
    "    return pd.Series({\n",
    "        'P25':     cuantil_ponderado(vals, [0.25], wts)[0],\n",
    "        'Mediana': cuantil_ponderado(vals, [0.50], wts)[0],\n",
    "        'Media':   np.average(vals, weights=wts),\n",
    "        'P75':     cuantil_ponderado(vals, [0.75], wts)[0]\n",
    "    })\n",
    "# --- 2) Estadísticos ponderados sobre kwh_mes ---\n",
    "def estadisticas_kwh_mes_persona_area(df):\n",
    "    vals = df['kwh_m2persona'].values\n",
    "    wts  = df['factor'].values\n",
    "    return pd.Series({\n",
    "        'P25':     cuantil_ponderado(vals, [0.25], wts)[0],\n",
    "        'Mediana': cuantil_ponderado(vals, [0.50], wts)[0],\n",
    "        'Media':   np.average(vals, weights=wts),\n",
    "        'P75':     cuantil_ponderado(vals, [0.75], wts)[0]\n",
    "    })"
   ]
  },
  {
   "cell_type": "code",
   "execution_count": 7,
   "id": "674c8db8-c921-4b30-8667-a27b8026bb38",
   "metadata": {},
   "outputs": [],
   "source": [
    "f = \"../data/002_intermediate/porcentajes_aa.parquet\"\n",
    "porcentajes_aa = pd.read_parquet(f)"
   ]
  },
  {
   "cell_type": "code",
   "execution_count": 8,
   "id": "98bcfaf2-4069-428a-844d-e7b5561adb12",
   "metadata": {},
   "outputs": [
    {
     "name": "stdout",
     "output_type": "stream",
     "text": [
      "|     m² |    P25 |   Mediana |   Media |    P75 |   porcentaje |\n",
      "|-------:|-------:|----------:|--------:|-------:|-------------:|\n",
      "|  30.00 | nan    |    nan    |  nan    | nan    |       nan    |\n",
      "|  55.00 |  46.59 |     48.06 |   53.21 |  53.10 |         0.03 |\n",
      "|  75.00 |  49.50 |     51.96 |   65.28 |  59.49 |         0.01 |\n",
      "| 100.00 | 126.90 |    128.02 |  200.79 | 183.44 |         0.05 |\n",
      "| 150.00 | nan    |    nan    |  nan    | nan    |       nan    |\n",
      "| 200.00 | 176.80 |    176.80 |  176.80 | 176.80 |         0.01 |\n",
      ": Estadísticas ponderadas de consumo total mensual (KWh) para clima **Cálido extremoso**, estrato socioeconómico **Bajo** {#tbl-calido-extremoso-bajo}\n",
      "\n",
      "|     m² |    P25 |   Mediana |   Media |    P75 |   porcentaje |\n",
      "|-------:|-------:|----------:|--------:|-------:|-------------:|\n",
      "|  30.00 | nan    |    nan    |  nan    | nan    |       nan    |\n",
      "|  55.00 |  85.93 |    133.17 |  152.38 | 153.89 |         0.12 |\n",
      "|  75.00 |  69.73 |     82.86 |  101.69 | 113.54 |         0.00 |\n",
      "| 100.00 |  70.66 |     93.53 |  130.92 | 144.28 |         0.09 |\n",
      "| 150.00 | 102.56 |    117.05 |  227.21 | 364.86 |         0.01 |\n",
      "| 200.00 |  65.54 |     88.41 |  275.62 | 140.47 |         0.02 |\n",
      ": Estadísticas ponderadas de consumo total mensual (KWh) para clima **Cálido extremoso**, estrato socioeconómico **Medio bajo** {#tbl-calido-extremoso-medio-bajo}\n",
      "\n",
      "|     m² |    P25 |   Mediana |   Media |    P75 |   porcentaje |\n",
      "|-------:|-------:|----------:|--------:|-------:|-------------:|\n",
      "|  30.00 | nan    |    nan    |  nan    | nan    |       nan    |\n",
      "|  55.00 |  71.76 |     72.92 |   81.73 |  81.69 |         0.05 |\n",
      "|  75.00 |  62.88 |    131.28 |  167.79 | 228.38 |         0.00 |\n",
      "| 100.00 |  68.91 |     97.97 |  166.69 | 266.69 |         0.10 |\n",
      "| 150.00 |  87.12 |    110.75 |  139.65 | 148.28 |         0.65 |\n",
      "| 200.00 |  74.79 |    115.71 |  192.49 | 239.39 |         0.04 |\n",
      ": Estadísticas ponderadas de consumo total mensual (KWh) para clima **Cálido extremoso**, estrato socioeconómico **Medio alto** {#tbl-calido-extremoso-medio-alto}\n",
      "\n",
      "|     m² |    P25 |   Mediana |   Media |    P75 |   porcentaje |\n",
      "|-------:|-------:|----------:|--------:|-------:|-------------:|\n",
      "|  30.00 | nan    |    nan    |  nan    | nan    |       nan    |\n",
      "|  55.00 |  23.29 |     55.36 |   77.37 |  96.73 |         0.00 |\n",
      "|  75.00 |  58.86 |     84.99 |  134.09 | 120.92 |         0.00 |\n",
      "| 100.00 |  67.05 |    106.47 |  136.64 | 156.93 |         0.00 |\n",
      "| 150.00 |  84.46 |    103.97 |  166.80 | 159.32 |         0.23 |\n",
      "| 200.00 | 155.57 |    236.69 |  274.04 | 338.34 |         0.03 |\n",
      ": Estadísticas ponderadas de consumo total mensual (KWh) para clima **Cálido extremoso**, estrato socioeconómico **Alto** {#tbl-calido-extremoso-alto}\n",
      "\n"
     ]
    },
    {
     "name": "stderr",
     "output_type": "stream",
     "text": [
      "/var/folders/tc/1tpm30d53_9458mzx73ydg_w0000gn/T/ipykernel_4617/2173147482.py:11: FutureWarning: DataFrameGroupBy.apply operated on the grouping columns. This behavior is deprecated, and in a future version of pandas the grouping columns will be excluded from the operation. Either pass `include_groups=False` to exclude the groupings or explicitly select the grouping columns after groupby to silence this warning.\n",
      "  .apply(estadisticas_kwh_mes)\n"
     ]
    }
   ],
   "source": [
    "\n",
    "# --- 3) Filtrado inicial ---\n",
    "tamanos  = [30, 55, 75, 100, 150, 200]\n",
    "estratos = ['Bajo', 'Medio bajo', 'Medio alto', 'Alto']\n",
    "\n",
    "viv_tab = viv[viv['m2'].isin(tamanos)].copy()\n",
    "\n",
    "# --- 4) Agrupar y calcular estadísticas ---\n",
    "grouped = (\n",
    "    viv_tab\n",
    "    .groupby(['m2','clima','estrato'], observed=True)\n",
    "    .apply(estadisticas_kwh_mes)\n",
    "    .reset_index()\n",
    ")\n",
    "grouped =  pd.concat([grouped,porcentajes_aa[[\"porcentaje\",\"viviendas\"]]],axis=1)\n",
    "grouped_kwhmes = grouped.copy()\n",
    "\n",
    "# --- 5) Generar tablas Markdown ---\n",
    "for clima in grouped['clima'].unique():\n",
    "    for estrato in estratos:\n",
    "        sub = grouped[\n",
    "            (grouped['clima']==clima) &\n",
    "            (grouped['estrato']==estrato)\n",
    "        ]\n",
    "        if sub.empty:\n",
    "            continue\n",
    "\n",
    "        # 6) Pivot: m2 en filas, percentiles en columnas en el orden correcto\n",
    "        tabla = (\n",
    "            sub\n",
    "            .set_index('m2')[['P25','Mediana','Media','P75',\"porcentaje\"]]\n",
    "            .reindex(tamanos)\n",
    "            .rename_axis('m²')\n",
    "            .round(2)\n",
    "            .reset_index()\n",
    "        )\n",
    "\n",
    "        # 7) Generar slug y etiqueta Quarto\n",
    "        slug_clima   = clima.lower().replace(' ','-').replace('í','i').replace('á','a')\n",
    "        slug_estrato = estrato.lower().replace(' ','-')\n",
    "        etiqueta     = f\"tbl-{slug_clima}-{slug_estrato}\"\n",
    "\n",
    "        # 8) Imprimir en Markdown\n",
    "        print(tabulate(\n",
    "            tabla,\n",
    "            headers=tabla.columns,\n",
    "            tablefmt='pipe',\n",
    "            floatfmt='.2f',\n",
    "            showindex=False\n",
    "        ))\n",
    "        print(\n",
    "            f\": Estadísticas ponderadas de consumo total mensual (KWh) para clima **{clima}**, \"\n",
    "            f\"estrato socioeconómico **{estrato}** {{#{etiqueta}}}\\n\"\n",
    "        )"
   ]
  },
  {
   "cell_type": "code",
   "execution_count": 9,
   "id": "11359251-aaff-43b4-85dc-af8034e31188",
   "metadata": {},
   "outputs": [
    {
     "name": "stdout",
     "output_type": "stream",
     "text": [
      "|     m² |    P25 |   Mediana |   Media |    P75 |\n",
      "|-------:|-------:|----------:|--------:|-------:|\n",
      "|  30.00 | nan    |    nan    |  nan    | nan    |\n",
      "|  55.00 |  23.30 |     23.34 |   23.50 |  23.49 |\n",
      "|  75.00 |  20.13 |     33.93 |   40.38 |  50.06 |\n",
      "| 100.00 |  78.25 |     79.30 |   81.06 |  81.41 |\n",
      "| 150.00 | nan    |    nan    |  nan    | nan    |\n",
      "| 200.00 | 119.83 |    119.83 |  119.83 | 119.83 |\n",
      ": Estadísticas ponderadas de consumo total mensual (KWh) para clima **Cálido extremoso**, estrato socioeconómico **Bajo** {#tbl-calido-extremoso-bajo}\n",
      "\n",
      "|     m² |    P25 |   Mediana |   Media |    P75 |\n",
      "|-------:|-------:|----------:|--------:|-------:|\n",
      "|  30.00 | nan    |    nan    |  nan    | nan    |\n",
      "|  55.00 |  39.89 |     56.16 |   69.88 |  81.24 |\n",
      "|  75.00 |  34.45 |     49.62 |   65.93 |  72.43 |\n",
      "| 100.00 |  33.54 |     47.74 |   68.98 |  66.90 |\n",
      "| 150.00 |  34.80 |     57.78 |   94.97 | 101.98 |\n",
      "| 200.00 |  32.73 |     43.56 |  110.32 |  95.77 |\n",
      ": Estadísticas ponderadas de consumo total mensual (KWh) para clima **Cálido extremoso**, estrato socioeconómico **Medio bajo** {#tbl-calido-extremoso-medio-bajo}\n",
      "\n",
      "|     m² |    P25 |   Mediana |   Media |    P75 |\n",
      "|-------:|-------:|----------:|--------:|-------:|\n",
      "|  30.00 | nan    |    nan    |  nan    | nan    |\n",
      "|  55.00 |  36.15 |     36.76 |   46.11 |  45.78 |\n",
      "|  75.00 |  50.56 |     72.76 |  100.45 | 107.75 |\n",
      "| 100.00 |  51.51 |     69.13 |   82.30 |  92.93 |\n",
      "| 150.00 |  51.28 |     69.77 |   83.37 |  83.86 |\n",
      "| 200.00 |  46.98 |     82.81 |   90.81 | 121.59 |\n",
      ": Estadísticas ponderadas de consumo total mensual (KWh) para clima **Cálido extremoso**, estrato socioeconómico **Medio alto** {#tbl-calido-extremoso-medio-alto}\n",
      "\n",
      "|     m² |    P25 |   Mediana |   Media |    P75 |\n",
      "|-------:|-------:|----------:|--------:|-------:|\n",
      "|  30.00 | nan    |    nan    |  nan    | nan    |\n",
      "|  55.00 |  11.45 |     49.91 |  113.48 | 124.77 |\n",
      "|  75.00 |  52.84 |     67.95 |  108.25 | 138.78 |\n",
      "| 100.00 |  46.22 |     69.68 |   81.82 | 100.53 |\n",
      "| 150.00 |  56.55 |     72.34 |   92.56 | 100.84 |\n",
      "| 200.00 |  71.76 |    115.78 |  138.58 | 140.61 |\n",
      ": Estadísticas ponderadas de consumo total mensual (KWh) para clima **Cálido extremoso**, estrato socioeconómico **Alto** {#tbl-calido-extremoso-alto}\n",
      "\n"
     ]
    },
    {
     "name": "stderr",
     "output_type": "stream",
     "text": [
      "/var/folders/tc/1tpm30d53_9458mzx73ydg_w0000gn/T/ipykernel_4617/954292148.py:11: FutureWarning: DataFrameGroupBy.apply operated on the grouping columns. This behavior is deprecated, and in a future version of pandas the grouping columns will be excluded from the operation. Either pass `include_groups=False` to exclude the groupings or explicitly select the grouping columns after groupby to silence this warning.\n",
      "  .apply(estadisticas_kwh_mes_persona)\n"
     ]
    }
   ],
   "source": [
    "\n",
    "# --- 3) Filtrado inicial ---\n",
    "tamanos  = [30, 55, 75, 100, 150, 200]\n",
    "estratos = ['Bajo', 'Medio bajo', 'Medio alto', 'Alto']\n",
    "\n",
    "viv_tab = viv[viv['m2'].isin(tamanos)].copy()\n",
    "\n",
    "# --- 4) Agrupar y calcular estadísticas ---\n",
    "grouped = (\n",
    "    viv_tab\n",
    "    .groupby(['m2','clima','estrato'], observed=True)\n",
    "    .apply(estadisticas_kwh_mes_persona)\n",
    "    .reset_index()\n",
    ")\n",
    "\n",
    "\n",
    "grouped =  pd.concat([grouped,porcentajes_aa[[\"porcentaje\",\"viviendas\"]]],axis=1)\n",
    "grouped_kwhmespersona = grouped.copy()\n",
    "\n",
    "# --- 5) Generar tablas Markdown ---\n",
    "for clima in grouped['clima'].unique():\n",
    "    for estrato in estratos:\n",
    "        sub = grouped[\n",
    "            (grouped['clima']==clima) &\n",
    "            (grouped['estrato']==estrato)\n",
    "        ]\n",
    "        if sub.empty:\n",
    "            continue\n",
    "\n",
    "        # 6) Pivot: m2 en filas, percentiles en columnas en el orden correcto\n",
    "        tabla = (\n",
    "            sub\n",
    "            .set_index('m2')[['P25','Mediana','Media','P75']]\n",
    "            .reindex(tamanos)\n",
    "            .rename_axis('m²')\n",
    "            .round(2)\n",
    "            .reset_index()\n",
    "        )\n",
    "\n",
    "        # 7) Generar slug y etiqueta Quarto\n",
    "        slug_clima   = clima.lower().replace(' ','-').replace('í','i').replace('á','a')\n",
    "        slug_estrato = estrato.lower().replace(' ','-')\n",
    "        etiqueta     = f\"tbl-{slug_clima}-{slug_estrato}\"\n",
    "\n",
    "        # 8) Imprimir en Markdown\n",
    "        print(tabulate(\n",
    "            tabla,\n",
    "            headers=tabla.columns,\n",
    "            tablefmt='pipe',\n",
    "            floatfmt='.2f',\n",
    "            showindex=False\n",
    "        ))\n",
    "        print(\n",
    "            f\": Estadísticas ponderadas de consumo total mensual (KWh) para clima **{clima}**, \"\n",
    "            f\"estrato socioeconómico **{estrato}** {{#{etiqueta}}}\\n\"\n",
    "        )"
   ]
  },
  {
   "cell_type": "code",
   "execution_count": 10,
   "id": "60b1bc80-a7a1-4d1f-9326-3a38a0153775",
   "metadata": {
    "scrolled": true
   },
   "outputs": [
    {
     "name": "stdout",
     "output_type": "stream",
     "text": [
      "|     m² |    P25 |   Mediana |   Media |    P75 |\n",
      "|-------:|-------:|----------:|--------:|-------:|\n",
      "|  30.00 | nan    |    nan    |  nan    | nan    |\n",
      "|  55.00 |   0.42 |      0.42 |    0.43 |   0.43 |\n",
      "|  75.00 |   0.27 |      0.45 |    0.54 |   0.67 |\n",
      "| 100.00 |   0.78 |      0.79 |    0.81 |   0.81 |\n",
      "| 150.00 | nan    |    nan    |  nan    | nan    |\n",
      "| 200.00 |   0.60 |      0.60 |    0.60 |   0.60 |\n",
      ": Estadísticas ponderadas de consumo total mensual (KWh) para clima **Cálido extremoso**, estrato socioeconómico **Bajo** {#tbl-calido-extremoso-bajo}\n",
      "\n",
      "|     m² |    P25 |   Mediana |   Media |    P75 |\n",
      "|-------:|-------:|----------:|--------:|-------:|\n",
      "|  30.00 | nan    |    nan    |  nan    | nan    |\n",
      "|  55.00 |   0.73 |      1.02 |    1.27 |   1.48 |\n",
      "|  75.00 |   0.46 |      0.66 |    0.88 |   0.97 |\n",
      "| 100.00 |   0.34 |      0.48 |    0.69 |   0.67 |\n",
      "| 150.00 |   0.23 |      0.39 |    0.63 |   0.68 |\n",
      "| 200.00 |   0.16 |      0.22 |    0.55 |   0.48 |\n",
      ": Estadísticas ponderadas de consumo total mensual (KWh) para clima **Cálido extremoso**, estrato socioeconómico **Medio bajo** {#tbl-calido-extremoso-medio-bajo}\n",
      "\n",
      "|     m² |    P25 |   Mediana |   Media |    P75 |\n",
      "|-------:|-------:|----------:|--------:|-------:|\n",
      "|  30.00 | nan    |    nan    |  nan    | nan    |\n",
      "|  55.00 |   0.66 |      0.67 |    0.84 |   0.83 |\n",
      "|  75.00 |   0.67 |      0.97 |    1.34 |   1.44 |\n",
      "| 100.00 |   0.52 |      0.69 |    0.82 |   0.93 |\n",
      "| 150.00 |   0.34 |      0.47 |    0.56 |   0.56 |\n",
      "| 200.00 |   0.23 |      0.41 |    0.45 |   0.61 |\n",
      ": Estadísticas ponderadas de consumo total mensual (KWh) para clima **Cálido extremoso**, estrato socioeconómico **Medio alto** {#tbl-calido-extremoso-medio-alto}\n",
      "\n",
      "|     m² |    P25 |   Mediana |   Media |    P75 |\n",
      "|-------:|-------:|----------:|--------:|-------:|\n",
      "|  30.00 | nan    |    nan    |  nan    | nan    |\n",
      "|  55.00 |   0.21 |      0.91 |    2.06 |   2.27 |\n",
      "|  75.00 |   0.70 |      0.91 |    1.44 |   1.85 |\n",
      "| 100.00 |   0.46 |      0.70 |    0.82 |   1.01 |\n",
      "| 150.00 |   0.38 |      0.48 |    0.62 |   0.67 |\n",
      "| 200.00 |   0.36 |      0.58 |    0.69 |   0.70 |\n",
      ": Estadísticas ponderadas de consumo total mensual (KWh) para clima **Cálido extremoso**, estrato socioeconómico **Alto** {#tbl-calido-extremoso-alto}\n",
      "\n"
     ]
    },
    {
     "name": "stderr",
     "output_type": "stream",
     "text": [
      "/var/folders/tc/1tpm30d53_9458mzx73ydg_w0000gn/T/ipykernel_4617/12594808.py:11: FutureWarning: DataFrameGroupBy.apply operated on the grouping columns. This behavior is deprecated, and in a future version of pandas the grouping columns will be excluded from the operation. Either pass `include_groups=False` to exclude the groupings or explicitly select the grouping columns after groupby to silence this warning.\n",
      "  .apply(estadisticas_kwh_mes_persona_area)\n"
     ]
    }
   ],
   "source": [
    "\n",
    "# --- 3) Filtrado inicial ---\n",
    "tamanos  = [30, 55, 75, 100, 150, 200]\n",
    "estratos = ['Bajo', 'Medio bajo', 'Medio alto', 'Alto']\n",
    "\n",
    "viv_tab = viv[viv['m2'].isin(tamanos)].copy()\n",
    "\n",
    "# --- 4) Agrupar y calcular estadísticas ---\n",
    "grouped = (\n",
    "    viv_tab\n",
    "    .groupby(['m2','clima','estrato'], observed=True)\n",
    "    .apply(estadisticas_kwh_mes_persona_area)\n",
    "    .reset_index()\n",
    ")\n",
    "\n",
    "\n",
    "grouped =  pd.concat([grouped,porcentajes_aa[[\"porcentaje\",\"viviendas\"]]],axis=1)\n",
    "grouped_kwhmespersonaarea = grouped.copy()\n",
    "\n",
    "# --- 5) Generar tablas Markdown ---\n",
    "for clima in grouped['clima'].unique():\n",
    "    for estrato in estratos:\n",
    "        sub = grouped[\n",
    "            (grouped['clima']==clima) &\n",
    "            (grouped['estrato']==estrato)\n",
    "        ]\n",
    "        if sub.empty:\n",
    "            continue\n",
    "\n",
    "        # 6) Pivot: m2 en filas, percentiles en columnas en el orden correcto\n",
    "        tabla = (\n",
    "            sub\n",
    "            .set_index('m2')[['P25','Mediana','Media','P75']]\n",
    "            .reindex(tamanos)\n",
    "            .rename_axis('m²')\n",
    "            .round(2)\n",
    "            .reset_index()\n",
    "        )\n",
    "\n",
    "        # 7) Generar slug y etiqueta Quarto\n",
    "        slug_clima   = clima.lower().replace(' ','-').replace('í','i').replace('á','a')\n",
    "        slug_estrato = estrato.lower().replace(' ','-')\n",
    "        etiqueta     = f\"tbl-{slug_clima}-{slug_estrato}\"\n",
    "\n",
    "        # 8) Imprimir en Markdown\n",
    "        print(tabulate(\n",
    "            tabla,\n",
    "            headers=tabla.columns,\n",
    "            tablefmt='pipe',\n",
    "            floatfmt='.2f',\n",
    "            showindex=False\n",
    "        ))\n",
    "        print(\n",
    "            f\": Estadísticas ponderadas de consumo total mensual (KWh) para clima **{clima}**, \"\n",
    "            f\"estrato socioeconómico **{estrato}** {{#{etiqueta}}}\\n\"\n",
    "        )"
   ]
  },
  {
   "cell_type": "code",
   "execution_count": 11,
   "id": "68201781-73e9-4a1c-97f5-e0b6cf4f50a3",
   "metadata": {},
   "outputs": [
    {
     "data": {
      "image/png": "[encoded data removed]",
      "text/plain": [
       "<Figure size 1200x400 with 1 Axes>"
      ]
     },
     "metadata": {},
     "output_type": "display_data"
    }
   ],
   "source": [
    "#| label: fig-total\n",
    "#| fig-cap: Consumo total mensual de la vivienda para los diferentes climas y estratos socioeconómicos y sin uso de aire acondicionado.\n",
    "estrato_order = ['Bajo', 'Medio bajo', 'Medio alto', 'Alto']\n",
    "m2_list = sorted(viv['m2'].unique())\n",
    "\n",
    "# 2) Crea tu palette y un dict m2→color\n",
    "colors = sns.color_palette('Set2', n_colors=len(m2_list))\n",
    "palette_dict = {m2: colors[i] for i, m2 in enumerate(m2_list)}\n",
    "\n",
    "# 3) Dibuja el catplot SIN leyenda\n",
    "g = sns.catplot(\n",
    "    data=viv,\n",
    "    x='estrato',\n",
    "    y='kwh_mes',\n",
    "    hue='m2',\n",
    "    palette=palette_dict,\n",
    "    col='clima',\n",
    "    kind='box',\n",
    "    order=estrato_order,\n",
    "    col_wrap=3,\n",
    "    height=4,\n",
    "    sharey=True,\n",
    "    whis=[25,75],\n",
    "    showfliers=False,\n",
    "    legend=False      # importante: no leyenda automática\n",
    ")\n",
    "\n",
    "# 4) Formatea ejes y títulos\n",
    "g.set_axis_labels(\"Estrato\", \"Consumo total mensual (kWh)\")\n",
    "g.set_titles(\"{col_name}\")\n",
    "for ax in g.axes.flat:\n",
    "    ax.tick_params(axis='x', rotation=45)\n",
    "\n",
    "# 5) Construye los patches manualmente\n",
    "patches = [\n",
    "    Patch(facecolor=palette_dict[m], label=str(int(m)))\n",
    "    for m in m2_list\n",
    "]\n",
    "\n",
    "# 6) Añade la leyenda centrada un poco a la izquierda\n",
    "g.fig.legend(\n",
    "    handles=patches,\n",
    "    title=\"m²\",\n",
    "    loc=\"upper center\",\n",
    "    bbox_to_anchor=(0.45, 1.05),  # ajusta este 0.45 para moverla más a la izquierda/derecha\n",
    "    ncol=len(m2_list),\n",
    "    frameon=False\n",
    ")\n",
    "\n",
    "# 7) Ajusta márgenes\n",
    "g.fig.subplots_adjust(top=0.88, right=0.92)\n",
    "\n",
    "plt.show()\n"
   ]
  },
  {
   "cell_type": "code",
   "execution_count": 12,
   "id": "ff7e9a17-6f82-4712-ae83-de04a14e16a5",
   "metadata": {},
   "outputs": [
    {
     "data": {
      "image/png": "[encoded data removed]",
      "text/plain": [
       "<Figure size 1200x400 with 1 Axes>"
      ]
     },
     "metadata": {},
     "output_type": "display_data"
    }
   ],
   "source": [
    "#| label: fig-total\n",
    "#| fig-cap: Consumo total mensual de la vivienda para los diferentes climas y estratos socioeconómicos y sin uso de aire acondicionado.\n",
    "estrato_order = ['Bajo', 'Medio bajo', 'Medio alto', 'Alto']\n",
    "m2_list = sorted(viv['m2'].unique())\n",
    "\n",
    "# 2) Crea tu palette y un dict m2→color\n",
    "colors = sns.color_palette('Set2', n_colors=len(m2_list))\n",
    "palette_dict = {m2: colors[i] for i, m2 in enumerate(m2_list)}\n",
    "\n",
    "# 3) Dibuja el catplot SIN leyenda\n",
    "g = sns.catplot(\n",
    "    data=viv,\n",
    "    x='estrato',\n",
    "    y='kwh_persona',\n",
    "    hue='m2',\n",
    "    palette=palette_dict,\n",
    "    col='clima',\n",
    "    kind='box',\n",
    "    order=estrato_order,\n",
    "    col_wrap=3,\n",
    "    height=4,\n",
    "    sharey=True,\n",
    "    whis=[25,75],\n",
    "    showfliers=False,\n",
    "    legend=False      # importante: no leyenda automática\n",
    ")\n",
    "\n",
    "# 4) Formatea ejes y títulos\n",
    "g.set_axis_labels(\"Estrato\", \"Consumo total mensual por persona (kWh/persona)\")\n",
    "g.set_titles(\"{col_name}\")\n",
    "for ax in g.axes.flat:\n",
    "    ax.tick_params(axis='x', rotation=45)\n",
    "\n",
    "# 5) Construye los patches manualmente\n",
    "patches = [\n",
    "    Patch(facecolor=palette_dict[m], label=str(int(m)))\n",
    "    for m in m2_list\n",
    "]\n",
    "\n",
    "# 6) Añade la leyenda centrada un poco a la izquierda\n",
    "g.fig.legend(\n",
    "    handles=patches,\n",
    "    title=\"m²\",\n",
    "    loc=\"upper center\",\n",
    "    bbox_to_anchor=(0.45, 1.05),  # ajusta este 0.45 para moverla más a la izquierda/derecha\n",
    "    ncol=len(m2_list),\n",
    "    frameon=False\n",
    ")\n",
    "\n",
    "# 7) Ajusta márgenes\n",
    "g.fig.subplots_adjust(top=0.88, right=0.92)\n",
    "\n",
    "plt.show()\n"
   ]
  },
  {
   "cell_type": "code",
   "execution_count": 13,
   "id": "450a35af-bb96-4363-955c-7c7210e40ce4",
   "metadata": {},
   "outputs": [
    {
     "data": {
      "image/png": "[encoded data removed]",
      "text/plain": [
       "<Figure size 1200x400 with 1 Axes>"
      ]
     },
     "metadata": {},
     "output_type": "display_data"
    }
   ],
   "source": [
    "#| label: fig-total\n",
    "#| fig-cap: Consumo total mensual de la vivienda para los diferentes climas y estratos socioeconómicos y sin uso de aire acondicionado.\n",
    "estrato_order = ['Bajo', 'Medio bajo', 'Medio alto', 'Alto']\n",
    "m2_list = sorted(viv['m2'].unique())\n",
    "\n",
    "# 2) Crea tu palette y un dict m2→color\n",
    "colors = sns.color_palette('Set2', n_colors=len(m2_list))\n",
    "palette_dict = {m2: colors[i] for i, m2 in enumerate(m2_list)}\n",
    "\n",
    "# 3) Dibuja el catplot SIN leyenda\n",
    "g = sns.catplot(\n",
    "    data=viv,\n",
    "    x='estrato',\n",
    "    y='kwh_m2persona',\n",
    "    hue='m2',\n",
    "    palette=palette_dict,\n",
    "    col='clima',\n",
    "    kind='box',\n",
    "    order=estrato_order,\n",
    "    col_wrap=3,\n",
    "    height=4,\n",
    "    sharey=True,\n",
    "    whis=[25,75],\n",
    "    showfliers=False,\n",
    "    legend=False      # importante: no leyenda automática\n",
    ")\n",
    "\n",
    "# 4) Formatea ejes y títulos\n",
    "g.set_axis_labels(\"Estrato\", \"Consumo total mensual por persona (kWh/persona)\")\n",
    "g.set_titles(\"{col_name}\")\n",
    "for ax in g.axes.flat:\n",
    "    ax.tick_params(axis='x', rotation=45)\n",
    "\n",
    "# 5) Construye los patches manualmente\n",
    "patches = [\n",
    "    Patch(facecolor=palette_dict[m], label=str(int(m)))\n",
    "    for m in m2_list\n",
    "]\n",
    "\n",
    "# 6) Añade la leyenda centrada un poco a la izquierda\n",
    "g.fig.legend(\n",
    "    handles=patches,\n",
    "    title=\"m²\",\n",
    "    loc=\"upper center\",\n",
    "    bbox_to_anchor=(0.45, 1.05),  # ajusta este 0.45 para moverla más a la izquierda/derecha\n",
    "    ncol=len(m2_list),\n",
    "    frameon=False\n",
    ")\n",
    "\n",
    "# 7) Ajusta márgenes\n",
    "g.fig.subplots_adjust(top=0.88, right=0.92)\n",
    "\n",
    "plt.show()\n"
   ]
  },
  {
   "cell_type": "code",
   "execution_count": 14,
   "id": "82f2cd3a-2b6e-4306-8382-7246c253a00e",
   "metadata": {},
   "outputs": [
    {
     "data": {
      "text/html": [
       "<div>\n",
       "<style scoped>\n",
       "    .dataframe tbody tr th:only-of-type {\n",
       "        vertical-align: middle;\n",
       "    }\n",
       "\n",
       "    .dataframe tbody tr th {\n",
       "        vertical-align: top;\n",
       "    }\n",
       "\n",
       "    .dataframe thead th {\n",
       "        text-align: right;\n",
       "    }\n",
       "</style>\n",
       "<table border=\"1\" class=\"dataframe\">\n",
       "  <thead>\n",
       "    <tr style=\"text-align: right;\">\n",
       "      <th></th>\n",
       "      <th>m2</th>\n",
       "      <th>clima</th>\n",
       "      <th>estrato</th>\n",
       "      <th>P25</th>\n",
       "      <th>Mediana</th>\n",
       "      <th>Media</th>\n",
       "      <th>P75</th>\n",
       "      <th>porcentaje</th>\n",
       "      <th>viviendas</th>\n",
       "      <th>etotal</th>\n",
       "    </tr>\n",
       "  </thead>\n",
       "  <tbody>\n",
       "    <tr>\n",
       "      <th>13</th>\n",
       "      <td>150.0</td>\n",
       "      <td>Cálido extremoso</td>\n",
       "      <td>Medio alto</td>\n",
       "      <td>87.115769</td>\n",
       "      <td>110.745026</td>\n",
       "      <td>139.653661</td>\n",
       "      <td>148.281147</td>\n",
       "      <td>0.646143</td>\n",
       "      <td>214275.0</td>\n",
       "      <td>2.992429e+07</td>\n",
       "    </tr>\n",
       "    <tr>\n",
       "      <th>12</th>\n",
       "      <td>150.0</td>\n",
       "      <td>Cálido extremoso</td>\n",
       "      <td>Alto</td>\n",
       "      <td>84.462597</td>\n",
       "      <td>103.969151</td>\n",
       "      <td>166.797558</td>\n",
       "      <td>159.319613</td>\n",
       "      <td>0.228619</td>\n",
       "      <td>75815.0</td>\n",
       "      <td>1.264576e+07</td>\n",
       "    </tr>\n",
       "    <tr>\n",
       "      <th>3</th>\n",
       "      <td>55.0</td>\n",
       "      <td>Cálido extremoso</td>\n",
       "      <td>Medio bajo</td>\n",
       "      <td>85.928051</td>\n",
       "      <td>133.172090</td>\n",
       "      <td>152.381742</td>\n",
       "      <td>153.890123</td>\n",
       "      <td>0.119676</td>\n",
       "      <td>39687.0</td>\n",
       "      <td>6.047574e+06</td>\n",
       "    </tr>\n",
       "    <tr>\n",
       "      <th>10</th>\n",
       "      <td>100.0</td>\n",
       "      <td>Cálido extremoso</td>\n",
       "      <td>Medio alto</td>\n",
       "      <td>68.914369</td>\n",
       "      <td>97.966070</td>\n",
       "      <td>166.693923</td>\n",
       "      <td>266.687700</td>\n",
       "      <td>0.100199</td>\n",
       "      <td>33228.0</td>\n",
       "      <td>5.538906e+06</td>\n",
       "    </tr>\n",
       "    <tr>\n",
       "      <th>11</th>\n",
       "      <td>100.0</td>\n",
       "      <td>Cálido extremoso</td>\n",
       "      <td>Medio bajo</td>\n",
       "      <td>70.664103</td>\n",
       "      <td>93.530096</td>\n",
       "      <td>130.921308</td>\n",
       "      <td>144.277214</td>\n",
       "      <td>0.086041</td>\n",
       "      <td>28533.0</td>\n",
       "      <td>3.735578e+06</td>\n",
       "    </tr>\n",
       "    <tr>\n",
       "      <th>...</th>\n",
       "      <td>...</td>\n",
       "      <td>...</td>\n",
       "      <td>...</td>\n",
       "      <td>...</td>\n",
       "      <td>...</td>\n",
       "      <td>...</td>\n",
       "      <td>...</td>\n",
       "      <td>...</td>\n",
       "      <td>...</td>\n",
       "      <td>...</td>\n",
       "    </tr>\n",
       "    <tr>\n",
       "      <th>63</th>\n",
       "      <td>NaN</td>\n",
       "      <td>NaN</td>\n",
       "      <td>NaN</td>\n",
       "      <td>NaN</td>\n",
       "      <td>NaN</td>\n",
       "      <td>NaN</td>\n",
       "      <td>NaN</td>\n",
       "      <td>0.027016</td>\n",
       "      <td>8959.0</td>\n",
       "      <td>NaN</td>\n",
       "    </tr>\n",
       "    <tr>\n",
       "      <th>64</th>\n",
       "      <td>NaN</td>\n",
       "      <td>NaN</td>\n",
       "      <td>NaN</td>\n",
       "      <td>NaN</td>\n",
       "      <td>NaN</td>\n",
       "      <td>NaN</td>\n",
       "      <td>NaN</td>\n",
       "      <td>0.037597</td>\n",
       "      <td>12468.0</td>\n",
       "      <td>NaN</td>\n",
       "    </tr>\n",
       "    <tr>\n",
       "      <th>65</th>\n",
       "      <td>NaN</td>\n",
       "      <td>NaN</td>\n",
       "      <td>NaN</td>\n",
       "      <td>NaN</td>\n",
       "      <td>NaN</td>\n",
       "      <td>NaN</td>\n",
       "      <td>NaN</td>\n",
       "      <td>0.012427</td>\n",
       "      <td>4121.0</td>\n",
       "      <td>NaN</td>\n",
       "    </tr>\n",
       "    <tr>\n",
       "      <th>66</th>\n",
       "      <td>NaN</td>\n",
       "      <td>NaN</td>\n",
       "      <td>NaN</td>\n",
       "      <td>NaN</td>\n",
       "      <td>NaN</td>\n",
       "      <td>NaN</td>\n",
       "      <td>NaN</td>\n",
       "      <td>0.050618</td>\n",
       "      <td>16786.0</td>\n",
       "      <td>NaN</td>\n",
       "    </tr>\n",
       "    <tr>\n",
       "      <th>67</th>\n",
       "      <td>NaN</td>\n",
       "      <td>NaN</td>\n",
       "      <td>NaN</td>\n",
       "      <td>NaN</td>\n",
       "      <td>NaN</td>\n",
       "      <td>NaN</td>\n",
       "      <td>NaN</td>\n",
       "      <td>0.097856</td>\n",
       "      <td>32451.0</td>\n",
       "      <td>NaN</td>\n",
       "    </tr>\n",
       "  </tbody>\n",
       "</table>\n",
       "<p>68 rows × 10 columns</p>\n",
       "</div>"
      ],
      "text/plain": [
       "       m2             clima     estrato        P25     Mediana       Media  \\\n",
       "13  150.0  Cálido extremoso  Medio alto  87.115769  110.745026  139.653661   \n",
       "12  150.0  Cálido extremoso        Alto  84.462597  103.969151  166.797558   \n",
       "3    55.0  Cálido extremoso  Medio bajo  85.928051  133.172090  152.381742   \n",
       "10  100.0  Cálido extremoso  Medio alto  68.914369   97.966070  166.693923   \n",
       "11  100.0  Cálido extremoso  Medio bajo  70.664103   93.530096  130.921308   \n",
       "..    ...               ...         ...        ...         ...         ...   \n",
       "63    NaN               NaN         NaN        NaN         NaN         NaN   \n",
       "64    NaN               NaN         NaN        NaN         NaN         NaN   \n",
       "65    NaN               NaN         NaN        NaN         NaN         NaN   \n",
       "66    NaN               NaN         NaN        NaN         NaN         NaN   \n",
       "67    NaN               NaN         NaN        NaN         NaN         NaN   \n",
       "\n",
       "           P75  porcentaje  viviendas        etotal  \n",
       "13  148.281147    0.646143   214275.0  2.992429e+07  \n",
       "12  159.319613    0.228619    75815.0  1.264576e+07  \n",
       "3   153.890123    0.119676    39687.0  6.047574e+06  \n",
       "10  266.687700    0.100199    33228.0  5.538906e+06  \n",
       "11  144.277214    0.086041    28533.0  3.735578e+06  \n",
       "..         ...         ...        ...           ...  \n",
       "63         NaN    0.027016     8959.0           NaN  \n",
       "64         NaN    0.037597    12468.0           NaN  \n",
       "65         NaN    0.012427     4121.0           NaN  \n",
       "66         NaN    0.050618    16786.0           NaN  \n",
       "67         NaN    0.097856    32451.0           NaN  \n",
       "\n",
       "[68 rows x 10 columns]"
      ]
     },
     "execution_count": 14,
     "metadata": {},
     "output_type": "execute_result"
    }
   ],
   "source": [
    "grouped_kwhmes[\"etotal\"] = grouped_kwhmes.Media*grouped_kwhmes.viviendas\n",
    "grouped_kwhmes.sort_values(by=\"etotal\",ascending=False)"
   ]
  },
  {
   "cell_type": "code",
   "execution_count": 15,
   "id": "74960c15-577a-4af9-bfe5-cd0b127968b4",
   "metadata": {},
   "outputs": [
    {
     "data": {
      "text/html": [
       "<div>\n",
       "<style scoped>\n",
       "    .dataframe tbody tr th:only-of-type {\n",
       "        vertical-align: middle;\n",
       "    }\n",
       "\n",
       "    .dataframe tbody tr th {\n",
       "        vertical-align: top;\n",
       "    }\n",
       "\n",
       "    .dataframe thead th {\n",
       "        text-align: right;\n",
       "    }\n",
       "</style>\n",
       "<table border=\"1\" class=\"dataframe\">\n",
       "  <thead>\n",
       "    <tr style=\"text-align: right;\">\n",
       "      <th></th>\n",
       "      <th>m2</th>\n",
       "      <th>clima</th>\n",
       "      <th>estrato</th>\n",
       "      <th>viviendas</th>\n",
       "      <th>etotal</th>\n",
       "    </tr>\n",
       "  </thead>\n",
       "  <tbody>\n",
       "    <tr>\n",
       "      <th>0</th>\n",
       "      <td>150.0</td>\n",
       "      <td>Cálido extremoso</td>\n",
       "      <td>Medio alto</td>\n",
       "      <td>214275.0</td>\n",
       "      <td>2.992429e+07</td>\n",
       "    </tr>\n",
       "    <tr>\n",
       "      <th>1</th>\n",
       "      <td>150.0</td>\n",
       "      <td>Cálido extremoso</td>\n",
       "      <td>Alto</td>\n",
       "      <td>75815.0</td>\n",
       "      <td>1.264576e+07</td>\n",
       "    </tr>\n",
       "    <tr>\n",
       "      <th>2</th>\n",
       "      <td>55.0</td>\n",
       "      <td>Cálido extremoso</td>\n",
       "      <td>Medio bajo</td>\n",
       "      <td>39687.0</td>\n",
       "      <td>6.047574e+06</td>\n",
       "    </tr>\n",
       "    <tr>\n",
       "      <th>3</th>\n",
       "      <td>100.0</td>\n",
       "      <td>Cálido extremoso</td>\n",
       "      <td>Medio alto</td>\n",
       "      <td>33228.0</td>\n",
       "      <td>5.538906e+06</td>\n",
       "    </tr>\n",
       "    <tr>\n",
       "      <th>4</th>\n",
       "      <td>100.0</td>\n",
       "      <td>Cálido extremoso</td>\n",
       "      <td>Medio bajo</td>\n",
       "      <td>28533.0</td>\n",
       "      <td>3.735578e+06</td>\n",
       "    </tr>\n",
       "    <tr>\n",
       "      <th>...</th>\n",
       "      <td>...</td>\n",
       "      <td>...</td>\n",
       "      <td>...</td>\n",
       "      <td>...</td>\n",
       "      <td>...</td>\n",
       "    </tr>\n",
       "    <tr>\n",
       "      <th>63</th>\n",
       "      <td>NaN</td>\n",
       "      <td>NaN</td>\n",
       "      <td>NaN</td>\n",
       "      <td>8959.0</td>\n",
       "      <td>NaN</td>\n",
       "    </tr>\n",
       "    <tr>\n",
       "      <th>64</th>\n",
       "      <td>NaN</td>\n",
       "      <td>NaN</td>\n",
       "      <td>NaN</td>\n",
       "      <td>12468.0</td>\n",
       "      <td>NaN</td>\n",
       "    </tr>\n",
       "    <tr>\n",
       "      <th>65</th>\n",
       "      <td>NaN</td>\n",
       "      <td>NaN</td>\n",
       "      <td>NaN</td>\n",
       "      <td>4121.0</td>\n",
       "      <td>NaN</td>\n",
       "    </tr>\n",
       "    <tr>\n",
       "      <th>66</th>\n",
       "      <td>NaN</td>\n",
       "      <td>NaN</td>\n",
       "      <td>NaN</td>\n",
       "      <td>16786.0</td>\n",
       "      <td>NaN</td>\n",
       "    </tr>\n",
       "    <tr>\n",
       "      <th>67</th>\n",
       "      <td>NaN</td>\n",
       "      <td>NaN</td>\n",
       "      <td>NaN</td>\n",
       "      <td>32451.0</td>\n",
       "      <td>NaN</td>\n",
       "    </tr>\n",
       "  </tbody>\n",
       "</table>\n",
       "<p>68 rows × 5 columns</p>\n",
       "</div>"
      ],
      "text/plain": [
       "       m2             clima     estrato  viviendas        etotal\n",
       "0   150.0  Cálido extremoso  Medio alto   214275.0  2.992429e+07\n",
       "1   150.0  Cálido extremoso        Alto    75815.0  1.264576e+07\n",
       "2    55.0  Cálido extremoso  Medio bajo    39687.0  6.047574e+06\n",
       "3   100.0  Cálido extremoso  Medio alto    33228.0  5.538906e+06\n",
       "4   100.0  Cálido extremoso  Medio bajo    28533.0  3.735578e+06\n",
       "..    ...               ...         ...        ...           ...\n",
       "63    NaN               NaN         NaN     8959.0           NaN\n",
       "64    NaN               NaN         NaN    12468.0           NaN\n",
       "65    NaN               NaN         NaN     4121.0           NaN\n",
       "66    NaN               NaN         NaN    16786.0           NaN\n",
       "67    NaN               NaN         NaN    32451.0           NaN\n",
       "\n",
       "[68 rows x 5 columns]"
      ]
     },
     "metadata": {},
     "output_type": "display_data"
    }
   ],
   "source": [
    "# Opción 1: Seleccionar las 4 columnas tras ordenar\n",
    "df_vis = (\n",
    "    grouped_kwhmes\n",
    "      .sort_values(by=\"etotal\", ascending=False)\n",
    "      [[\"m2\",\"clima\",\"estrato\",\"viviendas\",\"etotal\"]]\n",
    "      .reset_index(drop=True)\n",
    ")\n",
    "display(df_vis)\n"
   ]
  },
  {
   "cell_type": "code",
   "execution_count": 16,
   "id": "e02c4846-90b2-4b5b-a1c8-e69dfad0edd0",
   "metadata": {},
   "outputs": [
    {
     "data": {
      "image/png": "[encoded data removed]",
      "text/plain": [
       "<Figure size 800x800 with 1 Axes>"
      ]
     },
     "metadata": {},
     "output_type": "display_data"
    }
   ],
   "source": [
    "\n",
    "# Prepara Serie normalizada (ya la tienes)\n",
    "et = (\n",
    "    grouped_kwhmes\n",
    "      .sort_values(by=\"etotal\", ascending=False)\n",
    "      .set_index([\"m2\",\"clima\",\"estrato\"])[\"etotal\"]\n",
    "      .head(20)\n",
    ")\n",
    "et = et / et.max()\n",
    "\n",
    "# Grafica horizontal\n",
    "plt.figure(figsize=(8, 8))\n",
    "# Para que la barra más grande quede arriba, ordena de menor a mayor\n",
    "et.sort_values().plot(kind='barh')\n",
    "\n",
    "plt.xlabel(\"Energía total (etotal)\")\n",
    "plt.ylabel(\"m2, clima, estrato\")\n",
    "plt.grid(axis='x', linestyle='--', alpha=0.7)\n",
    "plt.tight_layout()\n",
    "plt.show()"
   ]
  },
  {
   "cell_type": "code",
   "execution_count": 17,
   "id": "3f64a040-9299-4159-b078-42dbd66c33f1",
   "metadata": {},
   "outputs": [
    {
     "data": {
      "text/html": [
       "<div>\n",
       "<style scoped>\n",
       "    .dataframe tbody tr th:only-of-type {\n",
       "        vertical-align: middle;\n",
       "    }\n",
       "\n",
       "    .dataframe tbody tr th {\n",
       "        vertical-align: top;\n",
       "    }\n",
       "\n",
       "    .dataframe thead th {\n",
       "        text-align: right;\n",
       "    }\n",
       "</style>\n",
       "<table border=\"1\" class=\"dataframe\">\n",
       "  <thead>\n",
       "    <tr style=\"text-align: right;\">\n",
       "      <th></th>\n",
       "      <th>m2</th>\n",
       "      <th>clima</th>\n",
       "      <th>estrato</th>\n",
       "      <th>P25</th>\n",
       "      <th>Mediana</th>\n",
       "      <th>Media</th>\n",
       "      <th>P75</th>\n",
       "      <th>porcentaje</th>\n",
       "      <th>viviendas</th>\n",
       "      <th>etotal</th>\n",
       "    </tr>\n",
       "  </thead>\n",
       "  <tbody>\n",
       "    <tr>\n",
       "      <th>0</th>\n",
       "      <td>55.0</td>\n",
       "      <td>Cálido extremoso</td>\n",
       "      <td>Alto</td>\n",
       "      <td>23.286239</td>\n",
       "      <td>55.364100</td>\n",
       "      <td>77.365501</td>\n",
       "      <td>96.734238</td>\n",
       "      <td>0.003353</td>\n",
       "      <td>1112.0</td>\n",
       "      <td>8.603044e+04</td>\n",
       "    </tr>\n",
       "    <tr>\n",
       "      <th>1</th>\n",
       "      <td>55.0</td>\n",
       "      <td>Cálido extremoso</td>\n",
       "      <td>Bajo</td>\n",
       "      <td>46.592573</td>\n",
       "      <td>48.061132</td>\n",
       "      <td>53.209719</td>\n",
       "      <td>53.102776</td>\n",
       "      <td>0.028499</td>\n",
       "      <td>9451.0</td>\n",
       "      <td>5.028851e+05</td>\n",
       "    </tr>\n",
       "    <tr>\n",
       "      <th>2</th>\n",
       "      <td>55.0</td>\n",
       "      <td>Cálido extremoso</td>\n",
       "      <td>Medio alto</td>\n",
       "      <td>71.756905</td>\n",
       "      <td>72.924205</td>\n",
       "      <td>81.731623</td>\n",
       "      <td>81.686040</td>\n",
       "      <td>0.046803</td>\n",
       "      <td>15521.0</td>\n",
       "      <td>1.268557e+06</td>\n",
       "    </tr>\n",
       "    <tr>\n",
       "      <th>3</th>\n",
       "      <td>55.0</td>\n",
       "      <td>Cálido extremoso</td>\n",
       "      <td>Medio bajo</td>\n",
       "      <td>85.928051</td>\n",
       "      <td>133.172090</td>\n",
       "      <td>152.381742</td>\n",
       "      <td>153.890123</td>\n",
       "      <td>0.119676</td>\n",
       "      <td>39687.0</td>\n",
       "      <td>6.047574e+06</td>\n",
       "    </tr>\n",
       "    <tr>\n",
       "      <th>4</th>\n",
       "      <td>75.0</td>\n",
       "      <td>Cálido extremoso</td>\n",
       "      <td>Alto</td>\n",
       "      <td>58.864748</td>\n",
       "      <td>84.993635</td>\n",
       "      <td>134.090398</td>\n",
       "      <td>120.916597</td>\n",
       "      <td>0.000645</td>\n",
       "      <td>214.0</td>\n",
       "      <td>2.869535e+04</td>\n",
       "    </tr>\n",
       "    <tr>\n",
       "      <th>...</th>\n",
       "      <td>...</td>\n",
       "      <td>...</td>\n",
       "      <td>...</td>\n",
       "      <td>...</td>\n",
       "      <td>...</td>\n",
       "      <td>...</td>\n",
       "      <td>...</td>\n",
       "      <td>...</td>\n",
       "      <td>...</td>\n",
       "      <td>...</td>\n",
       "    </tr>\n",
       "    <tr>\n",
       "      <th>63</th>\n",
       "      <td>NaN</td>\n",
       "      <td>NaN</td>\n",
       "      <td>NaN</td>\n",
       "      <td>NaN</td>\n",
       "      <td>NaN</td>\n",
       "      <td>NaN</td>\n",
       "      <td>NaN</td>\n",
       "      <td>0.027016</td>\n",
       "      <td>8959.0</td>\n",
       "      <td>NaN</td>\n",
       "    </tr>\n",
       "    <tr>\n",
       "      <th>64</th>\n",
       "      <td>NaN</td>\n",
       "      <td>NaN</td>\n",
       "      <td>NaN</td>\n",
       "      <td>NaN</td>\n",
       "      <td>NaN</td>\n",
       "      <td>NaN</td>\n",
       "      <td>NaN</td>\n",
       "      <td>0.037597</td>\n",
       "      <td>12468.0</td>\n",
       "      <td>NaN</td>\n",
       "    </tr>\n",
       "    <tr>\n",
       "      <th>65</th>\n",
       "      <td>NaN</td>\n",
       "      <td>NaN</td>\n",
       "      <td>NaN</td>\n",
       "      <td>NaN</td>\n",
       "      <td>NaN</td>\n",
       "      <td>NaN</td>\n",
       "      <td>NaN</td>\n",
       "      <td>0.012427</td>\n",
       "      <td>4121.0</td>\n",
       "      <td>NaN</td>\n",
       "    </tr>\n",
       "    <tr>\n",
       "      <th>66</th>\n",
       "      <td>NaN</td>\n",
       "      <td>NaN</td>\n",
       "      <td>NaN</td>\n",
       "      <td>NaN</td>\n",
       "      <td>NaN</td>\n",
       "      <td>NaN</td>\n",
       "      <td>NaN</td>\n",
       "      <td>0.050618</td>\n",
       "      <td>16786.0</td>\n",
       "      <td>NaN</td>\n",
       "    </tr>\n",
       "    <tr>\n",
       "      <th>67</th>\n",
       "      <td>NaN</td>\n",
       "      <td>NaN</td>\n",
       "      <td>NaN</td>\n",
       "      <td>NaN</td>\n",
       "      <td>NaN</td>\n",
       "      <td>NaN</td>\n",
       "      <td>NaN</td>\n",
       "      <td>0.097856</td>\n",
       "      <td>32451.0</td>\n",
       "      <td>NaN</td>\n",
       "    </tr>\n",
       "  </tbody>\n",
       "</table>\n",
       "<p>68 rows × 10 columns</p>\n",
       "</div>"
      ],
      "text/plain": [
       "      m2             clima     estrato        P25     Mediana       Media  \\\n",
       "0   55.0  Cálido extremoso        Alto  23.286239   55.364100   77.365501   \n",
       "1   55.0  Cálido extremoso        Bajo  46.592573   48.061132   53.209719   \n",
       "2   55.0  Cálido extremoso  Medio alto  71.756905   72.924205   81.731623   \n",
       "3   55.0  Cálido extremoso  Medio bajo  85.928051  133.172090  152.381742   \n",
       "4   75.0  Cálido extremoso        Alto  58.864748   84.993635  134.090398   \n",
       "..   ...               ...         ...        ...         ...         ...   \n",
       "63   NaN               NaN         NaN        NaN         NaN         NaN   \n",
       "64   NaN               NaN         NaN        NaN         NaN         NaN   \n",
       "65   NaN               NaN         NaN        NaN         NaN         NaN   \n",
       "66   NaN               NaN         NaN        NaN         NaN         NaN   \n",
       "67   NaN               NaN         NaN        NaN         NaN         NaN   \n",
       "\n",
       "           P75  porcentaje  viviendas        etotal  \n",
       "0    96.734238    0.003353     1112.0  8.603044e+04  \n",
       "1    53.102776    0.028499     9451.0  5.028851e+05  \n",
       "2    81.686040    0.046803    15521.0  1.268557e+06  \n",
       "3   153.890123    0.119676    39687.0  6.047574e+06  \n",
       "4   120.916597    0.000645      214.0  2.869535e+04  \n",
       "..         ...         ...        ...           ...  \n",
       "63         NaN    0.027016     8959.0           NaN  \n",
       "64         NaN    0.037597    12468.0           NaN  \n",
       "65         NaN    0.012427     4121.0           NaN  \n",
       "66         NaN    0.050618    16786.0           NaN  \n",
       "67         NaN    0.097856    32451.0           NaN  \n",
       "\n",
       "[68 rows x 10 columns]"
      ]
     },
     "execution_count": 17,
     "metadata": {},
     "output_type": "execute_result"
    }
   ],
   "source": [
    "grouped_kwhmes"
   ]
  },
  {
   "cell_type": "code",
   "execution_count": 18,
   "id": "69b5cf3e-64b3-4dd2-8d60-0419cba3b159",
   "metadata": {},
   "outputs": [
    {
     "data": {
      "application/vnd.plotly.v1+json": {
       "config": {
        "plotlyServerURL": "https://plot.ly"
       },
       "data": [
        {
         "customdata": [
          [
           150,
           "Medio alto",
           214275
          ],
          [
           150,
           "Alto",
           75815
          ],
          [
           55,
           "Medio bajo",
           39687
          ],
          [
           100,
           "Medio alto",
           33228
          ],
          [
           100,
           "Medio bajo",
           28533
          ],
          [
           100,
           "Bajo",
           16164
          ],
          [
           200,
           "Alto",
           8953
          ],
          [
           200,
           "Medio alto",
           11655
          ],
          [
           200,
           "Medio bajo",
           7152.000000000001
          ],
          [
           55,
           "Medio alto",
           15521
          ],
          [
           200,
           "Bajo",
           3987
          ],
          [
           150,
           "Medio bajo",
           2843
          ],
          [
           55,
           "Bajo",
           9451.000000000002
          ],
          [
           75,
           "Bajo",
           4109.999999999999
          ],
          [
           75,
           "Medio alto",
           1372
          ],
          [
           100,
           "Alto",
           1515
          ],
          [
           75,
           "Medio bajo",
           1416.9999999999998
          ],
          [
           55,
           "Alto",
           1112.0000000000002
          ],
          [
           75,
           "Alto",
           214
          ]
         ],
         "hovertemplate": "Clima=Cálido extremoso<br>Energía total (etotal)=%{x}<br>Porcentaje (%)=%{y}<br>Número de viviendas=%{customdata[2]}<br>m2=%{customdata[0]}<br>estrato=%{customdata[1]}<extra></extra>",
         "legendgroup": "Cálido extremoso",
         "marker": {
          "color": "#636efa",
          "size": {
           "bdata": "AAAAABgoCkEAAAAAcILyQAAAAADgYONAAAAAAIA54EAAAAAAQN3bQAAAAAAAks9AAAAAAIB8wUAAAAAAgMPGQAEAAAAA8LtAAAAAAIBQzkAAAAAAACavQAAAAAAANqZAAQAAAIB1wkD//////w2wQAAAAAAAcJVAAAAAAACsl0D//////yOWQAEAAAAAYJFAAAAAAADAakA=",
           "dtype": "f8"
          },
          "sizemode": "area",
          "sizeref": 90.26194444444444,
          "symbol": "circle"
         },
         "mode": "markers",
         "name": "Cálido extremoso",
         "orientation": "v",
         "showlegend": true,
         "type": "scatter",
         "x": {
          "bdata": "UwMvBLyJfEEOq6ucrx5oQW7Ne4vVEVdB1l+2ahYhVUHr1iHWDIBMQUOUHxP8wkhBfIZA9QO4QkF/QgkR1h1BQVEfwwUsFD5BFqwSh0xbM0FbhCrD54IlQRk0OWaltiNB3bFENpSxHkGPDciGE2AQQVlDAJwAGgxBApF/LwZFCUGSbj53KpcBQVhPWP7mAPVAK3fIF9YF3EA=",
          "dtype": "f8"
         },
         "xaxis": "x",
         "y": {
          "bdata": "8LfmujSt5D81QQnnY0PNP68wamkPo74/yGkoJp2muT9xOFo6xga2PwHk99TA9Kg/eWKgfUWlmz8875sDl/6hP+2Yc5aYFZY/qNC4NZz2pz8cXNZRYZ+IP7UT6j68joE//I2er+8unT/dn9tR12GJP+fvgc438nA/AQI9E2G2cj+5Jw+pgYBxP4nMFaM2eGs/5CM7XkklRT8=",
          "dtype": "f8"
         },
         "yaxis": "y"
        }
       ],
       "layout": {
        "legend": {
         "itemsizing": "constant",
         "title": {
          "text": "Clima"
         },
         "tracegroupgap": 0
        },
        "template": {
         "data": {
          "bar": [
           {
            "error_x": {
             "color": "#2a3f5f"
            },
            "error_y": {
             "color": "#2a3f5f"
            },
            "marker": {
             "line": {
              "color": "#E5ECF6",
              "width": 0.5
             },
             "pattern": {
              "fillmode": "overlay",
              "size": 10,
              "solidity": 0.2
             }
            },
            "type": "bar"
           }
          ],
          "barpolar": [
           {
            "marker": {
             "line": {
              "color": "#E5ECF6",
              "width": 0.5
             },
             "pattern": {
              "fillmode": "overlay",
              "size": 10,
              "solidity": 0.2
             }
            },
            "type": "barpolar"
           }
          ],
          "carpet": [
           {
            "aaxis": {
             "endlinecolor": "#2a3f5f",
             "gridcolor": "white",
             "linecolor": "white",
             "minorgridcolor": "white",
             "startlinecolor": "#2a3f5f"
            },
            "baxis": {
             "endlinecolor": "#2a3f5f",
             "gridcolor": "white",
             "linecolor": "white",
             "minorgridcolor": "white",
             "startlinecolor": "#2a3f5f"
            },
            "type": "carpet"
           }
          ],
          "choropleth": [
           {
            "colorbar": {
             "outlinewidth": 0,
             "ticks": ""
            },
            "type": "choropleth"
           }
          ],
          "contour": [
           {
            "colorbar": {
             "outlinewidth": 0,
             "ticks": ""
            },
            "colorscale": [
             [
              0,
              "#0d0887"
             ],
             [
              0.1111111111111111,
              "#46039f"
             ],
             [
              0.2222222222222222,
              "#7201a8"
             ],
             [
              0.3333333333333333,
              "#9c179e"
             ],
             [
              0.4444444444444444,
              "#bd3786"
             ],
             [
              0.5555555555555556,
              "#d8576b"
             ],
             [
              0.6666666666666666,
              "#ed7953"
             ],
             [
              0.7777777777777778,
              "#fb9f3a"
             ],
             [
              0.8888888888888888,
              "#fdca26"
             ],
             [
              1,
              "#f0f921"
             ]
            ],
            "type": "contour"
           }
          ],
          "contourcarpet": [
           {
            "colorbar": {
             "outlinewidth": 0,
             "ticks": ""
            },
            "type": "contourcarpet"
           }
          ],
          "heatmap": [
           {
            "colorbar": {
             "outlinewidth": 0,
             "ticks": ""
            },
            "colorscale": [
             [
              0,
              "#0d0887"
             ],
             [
              0.1111111111111111,
              "#46039f"
             ],
             [
              0.2222222222222222,
              "#7201a8"
             ],
             [
              0.3333333333333333,
              "#9c179e"
             ],
             [
              0.4444444444444444,
              "#bd3786"
             ],
             [
              0.5555555555555556,
              "#d8576b"
             ],
             [
              0.6666666666666666,
              "#ed7953"
             ],
             [
              0.7777777777777778,
              "#fb9f3a"
             ],
             [
              0.8888888888888888,
              "#fdca26"
             ],
             [
              1,
              "#f0f921"
             ]
            ],
            "type": "heatmap"
           }
          ],
          "histogram": [
           {
            "marker": {
             "pattern": {
              "fillmode": "overlay",
              "size": 10,
              "solidity": 0.2
             }
            },
            "type": "histogram"
           }
          ],
          "histogram2d": [
           {
            "colorbar": {
             "outlinewidth": 0,
             "ticks": ""
            },
            "colorscale": [
             [
              0,
              "#0d0887"
             ],
             [
              0.1111111111111111,
              "#46039f"
             ],
             [
              0.2222222222222222,
              "#7201a8"
             ],
             [
              0.3333333333333333,
              "#9c179e"
             ],
             [
              0.4444444444444444,
              "#bd3786"
             ],
             [
              0.5555555555555556,
              "#d8576b"
             ],
             [
              0.6666666666666666,
              "#ed7953"
             ],
             [
              0.7777777777777778,
              "#fb9f3a"
             ],
             [
              0.8888888888888888,
              "#fdca26"
             ],
             [
              1,
              "#f0f921"
             ]
            ],
            "type": "histogram2d"
           }
          ],
          "histogram2dcontour": [
           {
            "colorbar": {
             "outlinewidth": 0,
             "ticks": ""
            },
            "colorscale": [
             [
              0,
              "#0d0887"
             ],
             [
              0.1111111111111111,
              "#46039f"
             ],
             [
              0.2222222222222222,
              "#7201a8"
             ],
             [
              0.3333333333333333,
              "#9c179e"
             ],
             [
              0.4444444444444444,
              "#bd3786"
             ],
             [
              0.5555555555555556,
              "#d8576b"
             ],
             [
              0.6666666666666666,
              "#ed7953"
             ],
             [
              0.7777777777777778,
              "#fb9f3a"
             ],
             [
              0.8888888888888888,
              "#fdca26"
             ],
             [
              1,
              "#f0f921"
             ]
            ],
            "type": "histogram2dcontour"
           }
          ],
          "mesh3d": [
           {
            "colorbar": {
             "outlinewidth": 0,
             "ticks": ""
            },
            "type": "mesh3d"
           }
          ],
          "parcoords": [
           {
            "line": {
             "colorbar": {
              "outlinewidth": 0,
              "ticks": ""
             }
            },
            "type": "parcoords"
           }
          ],
          "pie": [
           {
            "automargin": true,
            "type": "pie"
           }
          ],
          "scatter": [
           {
            "fillpattern": {
             "fillmode": "overlay",
             "size": 10,
             "solidity": 0.2
            },
            "type": "scatter"
           }
          ],
          "scatter3d": [
           {
            "line": {
             "colorbar": {
              "outlinewidth": 0,
              "ticks": ""
             }
            },
            "marker": {
             "colorbar": {
              "outlinewidth": 0,
              "ticks": ""
             }
            },
            "type": "scatter3d"
           }
          ],
          "scattercarpet": [
           {
            "marker": {
             "colorbar": {
              "outlinewidth": 0,
              "ticks": ""
             }
            },
            "type": "scattercarpet"
           }
          ],
          "scattergeo": [
           {
            "marker": {
             "colorbar": {
              "outlinewidth": 0,
              "ticks": ""
             }
            },
            "type": "scattergeo"
           }
          ],
          "scattergl": [
           {
            "marker": {
             "colorbar": {
              "outlinewidth": 0,
              "ticks": ""
             }
            },
            "type": "scattergl"
           }
          ],
          "scattermap": [
           {
            "marker": {
             "colorbar": {
              "outlinewidth": 0,
              "ticks": ""
             }
            },
            "type": "scattermap"
           }
          ],
          "scattermapbox": [
           {
            "marker": {
             "colorbar": {
              "outlinewidth": 0,
              "ticks": ""
             }
            },
            "type": "scattermapbox"
           }
          ],
          "scatterpolar": [
           {
            "marker": {
             "colorbar": {
              "outlinewidth": 0,
              "ticks": ""
             }
            },
            "type": "scatterpolar"
           }
          ],
          "scatterpolargl": [
           {
            "marker": {
             "colorbar": {
              "outlinewidth": 0,
              "ticks": ""
             }
            },
            "type": "scatterpolargl"
           }
          ],
          "scatterternary": [
           {
            "marker": {
             "colorbar": {
              "outlinewidth": 0,
              "ticks": ""
             }
            },
            "type": "scatterternary"
           }
          ],
          "surface": [
           {
            "colorbar": {
             "outlinewidth": 0,
             "ticks": ""
            },
            "colorscale": [
             [
              0,
              "#0d0887"
             ],
             [
              0.1111111111111111,
              "#46039f"
             ],
             [
              0.2222222222222222,
              "#7201a8"
             ],
             [
              0.3333333333333333,
              "#9c179e"
             ],
             [
              0.4444444444444444,
              "#bd3786"
             ],
             [
              0.5555555555555556,
              "#d8576b"
             ],
             [
              0.6666666666666666,
              "#ed7953"
             ],
             [
              0.7777777777777778,
              "#fb9f3a"
             ],
             [
              0.8888888888888888,
              "#fdca26"
             ],
             [
              1,
              "#f0f921"
             ]
            ],
            "type": "surface"
           }
          ],
          "table": [
           {
            "cells": {
             "fill": {
              "color": "#EBF0F8"
             },
             "line": {
              "color": "white"
             }
            },
            "header": {
             "fill": {
              "color": "#C8D4E3"
             },
             "line": {
              "color": "white"
             }
            },
            "type": "table"
           }
          ]
         },
         "layout": {
          "annotationdefaults": {
           "arrowcolor": "#2a3f5f",
           "arrowhead": 0,
           "arrowwidth": 1
          },
          "autotypenumbers": "strict",
          "coloraxis": {
           "colorbar": {
            "outlinewidth": 0,
            "ticks": ""
           }
          },
          "colorscale": {
           "diverging": [
            [
             0,
             "#8e0152"
            ],
            [
             0.1,
             "#c51b7d"
            ],
            [
             0.2,
             "#de77ae"
            ],
            [
             0.3,
             "#f1b6da"
            ],
            [
             0.4,
             "#fde0ef"
            ],
            [
             0.5,
             "#f7f7f7"
            ],
            [
             0.6,
             "#e6f5d0"
            ],
            [
             0.7,
             "#b8e186"
            ],
            [
             0.8,
             "#7fbc41"
            ],
            [
             0.9,
             "#4d9221"
            ],
            [
             1,
             "#276419"
            ]
           ],
           "sequential": [
            [
             0,
             "#0d0887"
            ],
            [
             0.1111111111111111,
             "#46039f"
            ],
            [
             0.2222222222222222,
             "#7201a8"
            ],
            [
             0.3333333333333333,
             "#9c179e"
            ],
            [
             0.4444444444444444,
             "#bd3786"
            ],
            [
             0.5555555555555556,
             "#d8576b"
            ],
            [
             0.6666666666666666,
             "#ed7953"
            ],
            [
             0.7777777777777778,
             "#fb9f3a"
            ],
            [
             0.8888888888888888,
             "#fdca26"
            ],
            [
             1,
             "#f0f921"
            ]
           ],
           "sequentialminus": [
            [
             0,
             "#0d0887"
            ],
            [
             0.1111111111111111,
             "#46039f"
            ],
            [
             0.2222222222222222,
             "#7201a8"
            ],
            [
             0.3333333333333333,
             "#9c179e"
            ],
            [
             0.4444444444444444,
             "#bd3786"
            ],
            [
             0.5555555555555556,
             "#d8576b"
            ],
            [
             0.6666666666666666,
             "#ed7953"
            ],
            [
             0.7777777777777778,
             "#fb9f3a"
            ],
            [
             0.8888888888888888,
             "#fdca26"
            ],
            [
             1,
             "#f0f921"
            ]
           ]
          },
          "colorway": [
           "#636efa",
           "#EF553B",
           "#00cc96",
           "#ab63fa",
           "#FFA15A",
           "#19d3f3",
           "#FF6692",
           "#B6E880",
           "#FF97FF",
           "#FECB52"
          ],
          "font": {
           "color": "#2a3f5f"
          },
          "geo": {
           "bgcolor": "white",
           "lakecolor": "white",
           "landcolor": "#E5ECF6",
           "showlakes": true,
           "showland": true,
           "subunitcolor": "white"
          },
          "hoverlabel": {
           "align": "left"
          },
          "hovermode": "closest",
          "mapbox": {
           "style": "light"
          },
          "paper_bgcolor": "white",
          "plot_bgcolor": "#E5ECF6",
          "polar": {
           "angularaxis": {
            "gridcolor": "white",
            "linecolor": "white",
            "ticks": ""
           },
           "bgcolor": "#E5ECF6",
           "radialaxis": {
            "gridcolor": "white",
            "linecolor": "white",
            "ticks": ""
           }
          },
          "scene": {
           "xaxis": {
            "backgroundcolor": "#E5ECF6",
            "gridcolor": "white",
            "gridwidth": 2,
            "linecolor": "white",
            "showbackground": true,
            "ticks": "",
            "zerolinecolor": "white"
           },
           "yaxis": {
            "backgroundcolor": "#E5ECF6",
            "gridcolor": "white",
            "gridwidth": 2,
            "linecolor": "white",
            "showbackground": true,
            "ticks": "",
            "zerolinecolor": "white"
           },
           "zaxis": {
            "backgroundcolor": "#E5ECF6",
            "gridcolor": "white",
            "gridwidth": 2,
            "linecolor": "white",
            "showbackground": true,
            "ticks": "",
            "zerolinecolor": "white"
           }
          },
          "shapedefaults": {
           "line": {
            "color": "#2a3f5f"
           }
          },
          "ternary": {
           "aaxis": {
            "gridcolor": "white",
            "linecolor": "white",
            "ticks": ""
           },
           "baxis": {
            "gridcolor": "white",
            "linecolor": "white",
            "ticks": ""
           },
           "bgcolor": "#E5ECF6",
           "caxis": {
            "gridcolor": "white",
            "linecolor": "white",
            "ticks": ""
           }
          },
          "title": {
           "x": 0.05
          },
          "xaxis": {
           "automargin": true,
           "gridcolor": "white",
           "linecolor": "white",
           "ticks": "",
           "title": {
            "standoff": 15
           },
           "zerolinecolor": "white",
           "zerolinewidth": 2
          },
          "yaxis": {
           "automargin": true,
           "gridcolor": "white",
           "linecolor": "white",
           "ticks": "",
           "title": {
            "standoff": 15
           },
           "zerolinecolor": "white",
           "zerolinewidth": 2
          }
         }
        },
        "title": {
         "text": "Top 10 grupos: Energía total vs Porcentaje (tamaño por viviendas)"
        },
        "xaxis": {
         "anchor": "y",
         "domain": [
          0,
          1
         ],
         "tickformat": ".2e",
         "title": {
          "text": "Energía total (etotal)"
         }
        },
        "yaxis": {
         "anchor": "x",
         "domain": [
          0,
          1
         ],
         "ticksuffix": "%",
         "title": {
          "text": "Porcentaje (%)"
         }
        }
       }
      },
      "image/png": "[encoded data removed]"
     },
     "metadata": {},
     "output_type": "display_data"
    }
   ],
   "source": [
    "\n",
    "# Ordenar y seleccionar top 10 grupos por etotal\n",
    "df_top10 = (\n",
    "    grouped_kwhmes\n",
    "    .sort_values(by='etotal', ascending=False)\n",
    "    # .head(30)\n",
    "    .reset_index()\n",
    ")\n",
    "\n",
    "# Crear gráfica de burbujas: etotal vs porcentaje, tamaño por viviendas, color por clima\n",
    "fig = px.scatter(\n",
    "    df_top10,\n",
    "    x='etotal',\n",
    "    y='porcentaje',\n",
    "    size='viviendas',\n",
    "    color='clima',\n",
    "    hover_data=['m2', 'estrato', 'viviendas', 'porcentaje', 'etotal'],\n",
    "    labels={\n",
    "        'etotal': 'Energía total (etotal)',\n",
    "        'porcentaje': 'Porcentaje (%)',\n",
    "        'viviendas': 'Número de viviendas',\n",
    "        'clima': 'Clima'\n",
    "    },\n",
    "    title='Top 10 grupos: Energía total vs Porcentaje (tamaño por viviendas)',\n",
    "    size_max=60\n",
    ")\n",
    "\n",
    "fig.update_layout(\n",
    "    xaxis=dict(tickformat=\".2e\"),\n",
    "    yaxis=dict(ticksuffix=\"%\")\n",
    ")\n",
    "\n",
    "fig.show()\n"
   ]
  },
  {
   "cell_type": "code",
   "execution_count": 19,
   "id": "daa17f81-e94c-4c4e-afa7-b9c109527534",
   "metadata": {},
   "outputs": [
    {
     "data": {
      "application/vnd.plotly.v1+json": {
       "config": {
        "plotlyServerURL": "https://plot.ly"
       },
       "data": [
        {
         "customdata": [
          [
           150,
           "Medio alto",
           214275,
           29924288.26147778
          ],
          [
           150,
           "Alto",
           75815,
           12645756.895955589
          ],
          [
           55,
           "Medio bajo",
           39687,
           6047574.1794313025
          ],
          [
           100,
           "Medio alto",
           33228,
           5538905.6673812475
          ],
          [
           100,
           "Medio bajo",
           28533,
           3735577.6729077003
          ],
          [
           100,
           "Bajo",
           16164,
           3245560.149401219
          ],
          [
           200,
           "Alto",
           8953,
           2453511.916031657
          ],
          [
           200,
           "Medio alto",
           11655,
           2243500.133095085
          ],
          [
           200,
           "Medio bajo",
           7152.000000000001,
           1971244.0225085805
          ],
          [
           55,
           "Medio alto",
           15521,
           1268556.5276286653
          ],
          [
           200,
           "Bajo",
           3987,
           704883.8811837541
          ],
          [
           150,
           "Medio bajo",
           2843,
           645970.6996551781
          ],
          [
           55,
           "Bajo",
           9451.000000000002,
           502885.0529964248
          ],
          [
           75,
           "Bajo",
           4109.999999999999,
           268292.8816225165
          ],
          [
           75,
           "Medio alto",
           1372,
           230208.07617237678
          ],
          [
           100,
           "Alto",
           1515,
           207008.77319253242
          ],
          [
           75,
           "Medio bajo",
           1416.9999999999998,
           144101.30822454818
          ],
          [
           55,
           "Alto",
           1112.0000000000002,
           86030.43709593767
          ],
          [
           75,
           "Alto",
           214,
           28695.345201603293
          ]
         ],
         "hovertemplate": "Clima=Cálido extremoso<br>Media=%{x}<br>Porcentaje (%)=%{y}<br>Número de viviendas=%{customdata[2]}<br>m2=%{customdata[0]}<br>estrato=%{customdata[1]}<br>Energía total (etotal)=%{customdata[3]}<extra></extra>",
         "legendgroup": "Cálido extremoso",
         "marker": {
          "color": "#636efa",
          "size": {
           "bdata": "AAAAABgoCkEAAAAAcILyQAAAAADgYONAAAAAAIA54EAAAAAAQN3bQAAAAAAAks9AAAAAAIB8wUAAAAAAgMPGQAEAAAAA8LtAAAAAAIBQzkAAAAAAACavQAAAAAAANqZAAQAAAIB1wkD//////w2wQAAAAAAAcJVAAAAAAACsl0D//////yOWQAEAAAAAYJFAAAAAAADAakA=",
           "dtype": "f8"
          },
          "sizemode": "area",
          "sizeref": 90.26194444444444,
          "symbol": "circle"
         },
         "mode": "markers",
         "name": "Cálido extremoso",
         "orientation": "v",
         "showlegend": true,
         "type": "scatter",
         "x": {
          "bdata": "7T74yup0YUAvE1uZhdlkQLNoMDo3DGNAKOmfnTTWZEAX2E5ae11gQI/1IOlCGWlADlb+YrIgcUCzbpCXwg9oQDzZXB/xOXFAR+st69JuVEB+DowxdRlmQArSv9PcZmxARARaEdiaSkCTRVL0y1FQQMrG79lI+WRAXLjDaHYUYUCC+joFdWxZQHPnPl5kV1NAU/iiiuTCYEA=",
          "dtype": "f8"
         },
         "xaxis": "x",
         "y": {
          "bdata": "8LfmujSt5D81QQnnY0PNP68wamkPo74/yGkoJp2muT9xOFo6xga2PwHk99TA9Kg/eWKgfUWlmz8875sDl/6hP+2Yc5aYFZY/qNC4NZz2pz8cXNZRYZ+IP7UT6j68joE//I2er+8unT/dn9tR12GJP+fvgc438nA/AQI9E2G2cj+5Jw+pgYBxP4nMFaM2eGs/5CM7XkklRT8=",
          "dtype": "f8"
         },
         "yaxis": "y"
        }
       ],
       "layout": {
        "legend": {
         "itemsizing": "constant",
         "title": {
          "text": "Clima"
         },
         "tracegroupgap": 0
        },
        "template": {
         "data": {
          "bar": [
           {
            "error_x": {
             "color": "#2a3f5f"
            },
            "error_y": {
             "color": "#2a3f5f"
            },
            "marker": {
             "line": {
              "color": "#E5ECF6",
              "width": 0.5
             },
             "pattern": {
              "fillmode": "overlay",
              "size": 10,
              "solidity": 0.2
             }
            },
            "type": "bar"
           }
          ],
          "barpolar": [
           {
            "marker": {
             "line": {
              "color": "#E5ECF6",
              "width": 0.5
             },
             "pattern": {
              "fillmode": "overlay",
              "size": 10,
              "solidity": 0.2
             }
            },
            "type": "barpolar"
           }
          ],
          "carpet": [
           {
            "aaxis": {
             "endlinecolor": "#2a3f5f",
             "gridcolor": "white",
             "linecolor": "white",
             "minorgridcolor": "white",
             "startlinecolor": "#2a3f5f"
            },
            "baxis": {
             "endlinecolor": "#2a3f5f",
             "gridcolor": "white",
             "linecolor": "white",
             "minorgridcolor": "white",
             "startlinecolor": "#2a3f5f"
            },
            "type": "carpet"
           }
          ],
          "choropleth": [
           {
            "colorbar": {
             "outlinewidth": 0,
             "ticks": ""
            },
            "type": "choropleth"
           }
          ],
          "contour": [
           {
            "colorbar": {
             "outlinewidth": 0,
             "ticks": ""
            },
            "colorscale": [
             [
              0,
              "#0d0887"
             ],
             [
              0.1111111111111111,
              "#46039f"
             ],
             [
              0.2222222222222222,
              "#7201a8"
             ],
             [
              0.3333333333333333,
              "#9c179e"
             ],
             [
              0.4444444444444444,
              "#bd3786"
             ],
             [
              0.5555555555555556,
              "#d8576b"
             ],
             [
              0.6666666666666666,
              "#ed7953"
             ],
             [
              0.7777777777777778,
              "#fb9f3a"
             ],
             [
              0.8888888888888888,
              "#fdca26"
             ],
             [
              1,
              "#f0f921"
             ]
            ],
            "type": "contour"
           }
          ],
          "contourcarpet": [
           {
            "colorbar": {
             "outlinewidth": 0,
             "ticks": ""
            },
            "type": "contourcarpet"
           }
          ],
          "heatmap": [
           {
            "colorbar": {
             "outlinewidth": 0,
             "ticks": ""
            },
            "colorscale": [
             [
              0,
              "#0d0887"
             ],
             [
              0.1111111111111111,
              "#46039f"
             ],
             [
              0.2222222222222222,
              "#7201a8"
             ],
             [
              0.3333333333333333,
              "#9c179e"
             ],
             [
              0.4444444444444444,
              "#bd3786"
             ],
             [
              0.5555555555555556,
              "#d8576b"
             ],
             [
              0.6666666666666666,
              "#ed7953"
             ],
             [
              0.7777777777777778,
              "#fb9f3a"
             ],
             [
              0.8888888888888888,
              "#fdca26"
             ],
             [
              1,
              "#f0f921"
             ]
            ],
            "type": "heatmap"
           }
          ],
          "histogram": [
           {
            "marker": {
             "pattern": {
              "fillmode": "overlay",
              "size": 10,
              "solidity": 0.2
             }
            },
            "type": "histogram"
           }
          ],
          "histogram2d": [
           {
            "colorbar": {
             "outlinewidth": 0,
             "ticks": ""
            },
            "colorscale": [
             [
              0,
              "#0d0887"
             ],
             [
              0.1111111111111111,
              "#46039f"
             ],
             [
              0.2222222222222222,
              "#7201a8"
             ],
             [
              0.3333333333333333,
              "#9c179e"
             ],
             [
              0.4444444444444444,
              "#bd3786"
             ],
             [
              0.5555555555555556,
              "#d8576b"
             ],
             [
              0.6666666666666666,
              "#ed7953"
             ],
             [
              0.7777777777777778,
              "#fb9f3a"
             ],
             [
              0.8888888888888888,
              "#fdca26"
             ],
             [
              1,
              "#f0f921"
             ]
            ],
            "type": "histogram2d"
           }
          ],
          "histogram2dcontour": [
           {
            "colorbar": {
             "outlinewidth": 0,
             "ticks": ""
            },
            "colorscale": [
             [
              0,
              "#0d0887"
             ],
             [
              0.1111111111111111,
              "#46039f"
             ],
             [
              0.2222222222222222,
              "#7201a8"
             ],
             [
              0.3333333333333333,
              "#9c179e"
             ],
             [
              0.4444444444444444,
              "#bd3786"
             ],
             [
              0.5555555555555556,
              "#d8576b"
             ],
             [
              0.6666666666666666,
              "#ed7953"
             ],
             [
              0.7777777777777778,
              "#fb9f3a"
             ],
             [
              0.8888888888888888,
              "#fdca26"
             ],
             [
              1,
              "#f0f921"
             ]
            ],
            "type": "histogram2dcontour"
           }
          ],
          "mesh3d": [
           {
            "colorbar": {
             "outlinewidth": 0,
             "ticks": ""
            },
            "type": "mesh3d"
           }
          ],
          "parcoords": [
           {
            "line": {
             "colorbar": {
              "outlinewidth": 0,
              "ticks": ""
             }
            },
            "type": "parcoords"
           }
          ],
          "pie": [
           {
            "automargin": true,
            "type": "pie"
           }
          ],
          "scatter": [
           {
            "fillpattern": {
             "fillmode": "overlay",
             "size": 10,
             "solidity": 0.2
            },
            "type": "scatter"
           }
          ],
          "scatter3d": [
           {
            "line": {
             "colorbar": {
              "outlinewidth": 0,
              "ticks": ""
             }
            },
            "marker": {
             "colorbar": {
              "outlinewidth": 0,
              "ticks": ""
             }
            },
            "type": "scatter3d"
           }
          ],
          "scattercarpet": [
           {
            "marker": {
             "colorbar": {
              "outlinewidth": 0,
              "ticks": ""
             }
            },
            "type": "scattercarpet"
           }
          ],
          "scattergeo": [
           {
            "marker": {
             "colorbar": {
              "outlinewidth": 0,
              "ticks": ""
             }
            },
            "type": "scattergeo"
           }
          ],
          "scattergl": [
           {
            "marker": {
             "colorbar": {
              "outlinewidth": 0,
              "ticks": ""
             }
            },
            "type": "scattergl"
           }
          ],
          "scattermap": [
           {
            "marker": {
             "colorbar": {
              "outlinewidth": 0,
              "ticks": ""
             }
            },
            "type": "scattermap"
           }
          ],
          "scattermapbox": [
           {
            "marker": {
             "colorbar": {
              "outlinewidth": 0,
              "ticks": ""
             }
            },
            "type": "scattermapbox"
           }
          ],
          "scatterpolar": [
           {
            "marker": {
             "colorbar": {
              "outlinewidth": 0,
              "ticks": ""
             }
            },
            "type": "scatterpolar"
           }
          ],
          "scatterpolargl": [
           {
            "marker": {
             "colorbar": {
              "outlinewidth": 0,
              "ticks": ""
             }
            },
            "type": "scatterpolargl"
           }
          ],
          "scatterternary": [
           {
            "marker": {
             "colorbar": {
              "outlinewidth": 0,
              "ticks": ""
             }
            },
            "type": "scatterternary"
           }
          ],
          "surface": [
           {
            "colorbar": {
             "outlinewidth": 0,
             "ticks": ""
            },
            "colorscale": [
             [
              0,
              "#0d0887"
             ],
             [
              0.1111111111111111,
              "#46039f"
             ],
             [
              0.2222222222222222,
              "#7201a8"
             ],
             [
              0.3333333333333333,
              "#9c179e"
             ],
             [
              0.4444444444444444,
              "#bd3786"
             ],
             [
              0.5555555555555556,
              "#d8576b"
             ],
             [
              0.6666666666666666,
              "#ed7953"
             ],
             [
              0.7777777777777778,
              "#fb9f3a"
             ],
             [
              0.8888888888888888,
              "#fdca26"
             ],
             [
              1,
              "#f0f921"
             ]
            ],
            "type": "surface"
           }
          ],
          "table": [
           {
            "cells": {
             "fill": {
              "color": "#EBF0F8"
             },
             "line": {
              "color": "white"
             }
            },
            "header": {
             "fill": {
              "color": "#C8D4E3"
             },
             "line": {
              "color": "white"
             }
            },
            "type": "table"
           }
          ]
         },
         "layout": {
          "annotationdefaults": {
           "arrowcolor": "#2a3f5f",
           "arrowhead": 0,
           "arrowwidth": 1
          },
          "autotypenumbers": "strict",
          "coloraxis": {
           "colorbar": {
            "outlinewidth": 0,
            "ticks": ""
           }
          },
          "colorscale": {
           "diverging": [
            [
             0,
             "#8e0152"
            ],
            [
             0.1,
             "#c51b7d"
            ],
            [
             0.2,
             "#de77ae"
            ],
            [
             0.3,
             "#f1b6da"
            ],
            [
             0.4,
             "#fde0ef"
            ],
            [
             0.5,
             "#f7f7f7"
            ],
            [
             0.6,
             "#e6f5d0"
            ],
            [
             0.7,
             "#b8e186"
            ],
            [
             0.8,
             "#7fbc41"
            ],
            [
             0.9,
             "#4d9221"
            ],
            [
             1,
             "#276419"
            ]
           ],
           "sequential": [
            [
             0,
             "#0d0887"
            ],
            [
             0.1111111111111111,
             "#46039f"
            ],
            [
             0.2222222222222222,
             "#7201a8"
            ],
            [
             0.3333333333333333,
             "#9c179e"
            ],
            [
             0.4444444444444444,
             "#bd3786"
            ],
            [
             0.5555555555555556,
             "#d8576b"
            ],
            [
             0.6666666666666666,
             "#ed7953"
            ],
            [
             0.7777777777777778,
             "#fb9f3a"
            ],
            [
             0.8888888888888888,
             "#fdca26"
            ],
            [
             1,
             "#f0f921"
            ]
           ],
           "sequentialminus": [
            [
             0,
             "#0d0887"
            ],
            [
             0.1111111111111111,
             "#46039f"
            ],
            [
             0.2222222222222222,
             "#7201a8"
            ],
            [
             0.3333333333333333,
             "#9c179e"
            ],
            [
             0.4444444444444444,
             "#bd3786"
            ],
            [
             0.5555555555555556,
             "#d8576b"
            ],
            [
             0.6666666666666666,
             "#ed7953"
            ],
            [
             0.7777777777777778,
             "#fb9f3a"
            ],
            [
             0.8888888888888888,
             "#fdca26"
            ],
            [
             1,
             "#f0f921"
            ]
           ]
          },
          "colorway": [
           "#636efa",
           "#EF553B",
           "#00cc96",
           "#ab63fa",
           "#FFA15A",
           "#19d3f3",
           "#FF6692",
           "#B6E880",
           "#FF97FF",
           "#FECB52"
          ],
          "font": {
           "color": "#2a3f5f"
          },
          "geo": {
           "bgcolor": "white",
           "lakecolor": "white",
           "landcolor": "#E5ECF6",
           "showlakes": true,
           "showland": true,
           "subunitcolor": "white"
          },
          "hoverlabel": {
           "align": "left"
          },
          "hovermode": "closest",
          "mapbox": {
           "style": "light"
          },
          "paper_bgcolor": "white",
          "plot_bgcolor": "#E5ECF6",
          "polar": {
           "angularaxis": {
            "gridcolor": "white",
            "linecolor": "white",
            "ticks": ""
           },
           "bgcolor": "#E5ECF6",
           "radialaxis": {
            "gridcolor": "white",
            "linecolor": "white",
            "ticks": ""
           }
          },
          "scene": {
           "xaxis": {
            "backgroundcolor": "#E5ECF6",
            "gridcolor": "white",
            "gridwidth": 2,
            "linecolor": "white",
            "showbackground": true,
            "ticks": "",
            "zerolinecolor": "white"
           },
           "yaxis": {
            "backgroundcolor": "#E5ECF6",
            "gridcolor": "white",
            "gridwidth": 2,
            "linecolor": "white",
            "showbackground": true,
            "ticks": "",
            "zerolinecolor": "white"
           },
           "zaxis": {
            "backgroundcolor": "#E5ECF6",
            "gridcolor": "white",
            "gridwidth": 2,
            "linecolor": "white",
            "showbackground": true,
            "ticks": "",
            "zerolinecolor": "white"
           }
          },
          "shapedefaults": {
           "line": {
            "color": "#2a3f5f"
           }
          },
          "ternary": {
           "aaxis": {
            "gridcolor": "white",
            "linecolor": "white",
            "ticks": ""
           },
           "baxis": {
            "gridcolor": "white",
            "linecolor": "white",
            "ticks": ""
           },
           "bgcolor": "#E5ECF6",
           "caxis": {
            "gridcolor": "white",
            "linecolor": "white",
            "ticks": ""
           }
          },
          "title": {
           "x": 0.05
          },
          "xaxis": {
           "automargin": true,
           "gridcolor": "white",
           "linecolor": "white",
           "ticks": "",
           "title": {
            "standoff": 15
           },
           "zerolinecolor": "white",
           "zerolinewidth": 2
          },
          "yaxis": {
           "automargin": true,
           "gridcolor": "white",
           "linecolor": "white",
           "ticks": "",
           "title": {
            "standoff": 15
           },
           "zerolinecolor": "white",
           "zerolinewidth": 2
          }
         }
        },
        "title": {
         "text": "Top 10 grupos: Energía total vs Porcentaje (tamaño por viviendas)"
        },
        "xaxis": {
         "anchor": "y",
         "domain": [
          0,
          1
         ],
         "tickformat": ".2e",
         "title": {
          "text": "Media"
         }
        },
        "yaxis": {
         "anchor": "x",
         "domain": [
          0,
          1
         ],
         "ticksuffix": "%",
         "title": {
          "text": "Porcentaje (%)"
         }
        }
       }
      },
      "image/png": "[encoded data removed]"
     },
     "metadata": {},
     "output_type": "display_data"
    }
   ],
   "source": [
    "\n",
    "# Ordenar y seleccionar top 10 grupos por etotal\n",
    "df_top10 = (\n",
    "    grouped_kwhmes\n",
    "    .sort_values(by='etotal', ascending=False)\n",
    "    # .head(30)\n",
    "    .reset_index()\n",
    ")\n",
    "\n",
    "# Crear gráfica de burbujas: etotal vs porcentaje, tamaño por viviendas, color por clima\n",
    "fig = px.scatter(\n",
    "    df_top10,\n",
    "    x='Media',\n",
    "    y='porcentaje',\n",
    "    size='viviendas',\n",
    "    color='clima',\n",
    "    hover_data=['m2', 'estrato', 'viviendas', 'porcentaje', 'etotal'],\n",
    "    labels={\n",
    "        'etotal': 'Energía total (etotal)',\n",
    "        'porcentaje': 'Porcentaje (%)',\n",
    "        'viviendas': 'Número de viviendas',\n",
    "        'clima': 'Clima'\n",
    "    },\n",
    "    title='Top 10 grupos: Energía total vs Porcentaje (tamaño por viviendas)',\n",
    "    size_max=60\n",
    ")\n",
    "\n",
    "fig.update_layout(\n",
    "    xaxis=dict(tickformat=\".2e\"),\n",
    "    yaxis=dict(ticksuffix=\"%\")\n",
    ")\n",
    "\n",
    "fig.show()\n"
   ]
  },
  {
   "cell_type": "code",
   "execution_count": null,
   "id": "3a736fd7-c63f-4f25-a214-0849f4050a64",
   "metadata": {},
   "outputs": [],
   "source": []
  },
  {
   "cell_type": "code",
   "execution_count": null,
   "id": "e90b7a14-4e88-4a88-8d3a-8499446b86cc",
   "metadata": {},
   "outputs": [],
   "source": []
  },
  {
   "cell_type": "code",
   "execution_count": null,
   "id": "926acdc2-fe89-4ef1-b79e-db81fe3423a1",
   "metadata": {},
   "outputs": [],
   "source": []
  },
  {
   "cell_type": "code",
   "execution_count": null,
   "id": "74065f44-f764-45c0-b96b-7d0818668327",
   "metadata": {},
   "outputs": [],
   "source": []
  }
 ],
 "metadata": {
  "kernelspec": {
   "display_name": "Python 3 (ipykernel)",
   "language": "python",
   "name": "python3"
  },
  "language_info": {
   "codemirror_mode": {
    "name": "ipython",
    "version": 3
   },
   "file_extension": ".py",
   "mimetype": "text/x-python",
   "name": "python",
   "nbconvert_exporter": "python",
   "pygments_lexer": "ipython3",
   "version": "3.10.17"
  }
 },
 "nbformat": 4,
 "nbformat_minor": 5
}
