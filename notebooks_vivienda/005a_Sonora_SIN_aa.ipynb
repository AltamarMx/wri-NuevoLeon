{
 "cells": [
  {
   "cell_type": "code",
   "execution_count": 3,
   "id": "a20d8b29-c405-4fc4-9f2d-ce7018cf23fa",
   "metadata": {},
   "outputs": [],
   "source": [
    "import pandas as pd\n",
    "import numpy as np\n",
    "from tabulate import tabulate\n",
    "import seaborn as sns\n",
    "from matplotlib.patches import Patch\n",
    "import matplotlib.pyplot as plt\n",
    "import plotly.express as px\n"
   ]
  },
  {
   "cell_type": "code",
   "execution_count": null,
   "id": "3720c357-5ccf-4a84-9797-3b14a5fb53a0",
   "metadata": {},
   "outputs": [],
   "source": []
  },
  {
   "cell_type": "code",
   "execution_count": 4,
   "id": "49bd9e57-3932-49f3-a66e-56f8bed150ba",
   "metadata": {},
   "outputs": [],
   "source": [
    "total_viviendas = 33_162_148"
   ]
  },
  {
   "cell_type": "code",
   "execution_count": 5,
   "id": "02d071fe-dff9-4efb-b95b-a8f6df528ce5",
   "metadata": {},
   "outputs": [],
   "source": [
    "f = '../data/001_raw/ENCEVI_2018/vivienda.csv'\n",
    "entidad = pd.read_csv(f,usecols=['folio','entidad'],index_col=0)"
   ]
  },
  {
   "cell_type": "code",
   "execution_count": 6,
   "id": "f45fa825-9800-4a65-92e5-e2bd71b70e82",
   "metadata": {},
   "outputs": [
    {
     "data": {
      "text/html": [
       "<div>\n",
       "<style scoped>\n",
       "    .dataframe tbody tr th:only-of-type {\n",
       "        vertical-align: middle;\n",
       "    }\n",
       "\n",
       "    .dataframe tbody tr th {\n",
       "        vertical-align: top;\n",
       "    }\n",
       "\n",
       "    .dataframe thead th {\n",
       "        text-align: right;\n",
       "    }\n",
       "</style>\n",
       "<table border=\"1\" class=\"dataframe\">\n",
       "  <thead>\n",
       "    <tr style=\"text-align: right;\">\n",
       "      <th></th>\n",
       "      <th>clima</th>\n",
       "      <th>factor</th>\n",
       "      <th>personas</th>\n",
       "      <th>m2</th>\n",
       "      <th>estrato</th>\n",
       "      <th>kwh_mes</th>\n",
       "      <th>kwh_m2</th>\n",
       "      <th>kwh_persona</th>\n",
       "      <th>kwh_m2persona</th>\n",
       "    </tr>\n",
       "    <tr>\n",
       "      <th>folio</th>\n",
       "      <th></th>\n",
       "      <th></th>\n",
       "      <th></th>\n",
       "      <th></th>\n",
       "      <th></th>\n",
       "      <th></th>\n",
       "      <th></th>\n",
       "      <th></th>\n",
       "      <th></th>\n",
       "    </tr>\n",
       "  </thead>\n",
       "  <tbody>\n",
       "    <tr>\n",
       "      <th>22590</th>\n",
       "      <td>Cálido extremoso</td>\n",
       "      <td>866</td>\n",
       "      <td>2</td>\n",
       "      <td>100.0</td>\n",
       "      <td>Medio alto</td>\n",
       "      <td>248.353667</td>\n",
       "      <td>5.215427</td>\n",
       "      <td>260.771350</td>\n",
       "      <td>2.607713</td>\n",
       "    </tr>\n",
       "    <tr>\n",
       "      <th>22599</th>\n",
       "      <td>Cálido extremoso</td>\n",
       "      <td>1071</td>\n",
       "      <td>4</td>\n",
       "      <td>55.0</td>\n",
       "      <td>Medio bajo</td>\n",
       "      <td>99.431435</td>\n",
       "      <td>1.868106</td>\n",
       "      <td>25.686454</td>\n",
       "      <td>0.467026</td>\n",
       "    </tr>\n",
       "    <tr>\n",
       "      <th>22601</th>\n",
       "      <td>Cálido extremoso</td>\n",
       "      <td>1071</td>\n",
       "      <td>2</td>\n",
       "      <td>100.0</td>\n",
       "      <td>Medio bajo</td>\n",
       "      <td>39.861273</td>\n",
       "      <td>0.810513</td>\n",
       "      <td>40.525628</td>\n",
       "      <td>0.405256</td>\n",
       "    </tr>\n",
       "    <tr>\n",
       "      <th>22628</th>\n",
       "      <td>Cálido extremoso</td>\n",
       "      <td>901</td>\n",
       "      <td>3</td>\n",
       "      <td>55.0</td>\n",
       "      <td>Medio bajo</td>\n",
       "      <td>118.996569</td>\n",
       "      <td>4.615625</td>\n",
       "      <td>84.619783</td>\n",
       "      <td>1.538542</td>\n",
       "    </tr>\n",
       "    <tr>\n",
       "      <th>22691</th>\n",
       "      <td>Cálido extremoso</td>\n",
       "      <td>996</td>\n",
       "      <td>1</td>\n",
       "      <td>30.0</td>\n",
       "      <td>Medio alto</td>\n",
       "      <td>683.033608</td>\n",
       "      <td>44.776648</td>\n",
       "      <td>1343.299429</td>\n",
       "      <td>44.776648</td>\n",
       "    </tr>\n",
       "    <tr>\n",
       "      <th>...</th>\n",
       "      <td>...</td>\n",
       "      <td>...</td>\n",
       "      <td>...</td>\n",
       "      <td>...</td>\n",
       "      <td>...</td>\n",
       "      <td>...</td>\n",
       "      <td>...</td>\n",
       "      <td>...</td>\n",
       "      <td>...</td>\n",
       "    </tr>\n",
       "    <tr>\n",
       "      <th>23432</th>\n",
       "      <td>Cálido extremoso</td>\n",
       "      <td>876</td>\n",
       "      <td>4</td>\n",
       "      <td>100.0</td>\n",
       "      <td>Medio bajo</td>\n",
       "      <td>36.586415</td>\n",
       "      <td>0.756119</td>\n",
       "      <td>18.902981</td>\n",
       "      <td>0.189030</td>\n",
       "    </tr>\n",
       "    <tr>\n",
       "      <th>23439</th>\n",
       "      <td>Cálido extremoso</td>\n",
       "      <td>795</td>\n",
       "      <td>2</td>\n",
       "      <td>75.0</td>\n",
       "      <td>Medio bajo</td>\n",
       "      <td>270.990191</td>\n",
       "      <td>3.733643</td>\n",
       "      <td>140.011599</td>\n",
       "      <td>1.866821</td>\n",
       "    </tr>\n",
       "    <tr>\n",
       "      <th>23440</th>\n",
       "      <td>Cálido extremoso</td>\n",
       "      <td>795</td>\n",
       "      <td>6</td>\n",
       "      <td>75.0</td>\n",
       "      <td>Medio bajo</td>\n",
       "      <td>27.199863</td>\n",
       "      <td>0.713241</td>\n",
       "      <td>8.915511</td>\n",
       "      <td>0.118873</td>\n",
       "    </tr>\n",
       "    <tr>\n",
       "      <th>23447</th>\n",
       "      <td>Cálido extremoso</td>\n",
       "      <td>795</td>\n",
       "      <td>3</td>\n",
       "      <td>100.0</td>\n",
       "      <td>Medio bajo</td>\n",
       "      <td>93.770246</td>\n",
       "      <td>1.937918</td>\n",
       "      <td>64.597280</td>\n",
       "      <td>0.645973</td>\n",
       "    </tr>\n",
       "    <tr>\n",
       "      <th>23452</th>\n",
       "      <td>Cálido extremoso</td>\n",
       "      <td>795</td>\n",
       "      <td>1</td>\n",
       "      <td>75.0</td>\n",
       "      <td>Medio bajo</td>\n",
       "      <td>55.424261</td>\n",
       "      <td>1.453347</td>\n",
       "      <td>109.001046</td>\n",
       "      <td>1.453347</td>\n",
       "    </tr>\n",
       "  </tbody>\n",
       "</table>\n",
       "<p>80 rows × 9 columns</p>\n",
       "</div>"
      ],
      "text/plain": [
       "                  clima  factor  personas     m2     estrato     kwh_mes  \\\n",
       "folio                                                                      \n",
       "22590  Cálido extremoso     866         2  100.0  Medio alto  248.353667   \n",
       "22599  Cálido extremoso    1071         4   55.0  Medio bajo   99.431435   \n",
       "22601  Cálido extremoso    1071         2  100.0  Medio bajo   39.861273   \n",
       "22628  Cálido extremoso     901         3   55.0  Medio bajo  118.996569   \n",
       "22691  Cálido extremoso     996         1   30.0  Medio alto  683.033608   \n",
       "...                 ...     ...       ...    ...         ...         ...   \n",
       "23432  Cálido extremoso     876         4  100.0  Medio bajo   36.586415   \n",
       "23439  Cálido extremoso     795         2   75.0  Medio bajo  270.990191   \n",
       "23440  Cálido extremoso     795         6   75.0  Medio bajo   27.199863   \n",
       "23447  Cálido extremoso     795         3  100.0  Medio bajo   93.770246   \n",
       "23452  Cálido extremoso     795         1   75.0  Medio bajo   55.424261   \n",
       "\n",
       "          kwh_m2  kwh_persona  kwh_m2persona  \n",
       "folio                                         \n",
       "22590   5.215427   260.771350       2.607713  \n",
       "22599   1.868106    25.686454       0.467026  \n",
       "22601   0.810513    40.525628       0.405256  \n",
       "22628   4.615625    84.619783       1.538542  \n",
       "22691  44.776648  1343.299429      44.776648  \n",
       "...          ...          ...            ...  \n",
       "23432   0.756119    18.902981       0.189030  \n",
       "23439   3.733643   140.011599       1.866821  \n",
       "23440   0.713241     8.915511       0.118873  \n",
       "23447   1.937918    64.597280       0.645973  \n",
       "23452   1.453347   109.001046       1.453347  \n",
       "\n",
       "[80 rows x 9 columns]"
      ]
     },
     "execution_count": 6,
     "metadata": {},
     "output_type": "execute_result"
    }
   ],
   "source": [
    "f =\"../data/002_intermediate/vivienda_sin_aa.parquet\"\n",
    "viv =pd.read_parquet(f)\n",
    "viv.factor.sum()\n",
    "viv = viv.join(entidad,how='inner')\n",
    "viv = viv[viv['entidad']==26]\n",
    "del viv['entidad']\n",
    "viv"
   ]
  },
  {
   "cell_type": "code",
   "execution_count": 7,
   "id": "ea5b9758-52d8-4c91-b109-3d7d57490d65",
   "metadata": {},
   "outputs": [
    {
     "data": {
      "text/plain": [
       "np.int64(74473)"
      ]
     },
     "execution_count": 7,
     "metadata": {},
     "output_type": "execute_result"
    }
   ],
   "source": [
    "viv.factor.sum()"
   ]
  },
  {
   "cell_type": "code",
   "execution_count": 5,
   "id": "3cfb7873-988f-493a-a302-3de19c10d581",
   "metadata": {},
   "outputs": [],
   "source": [
    "\n",
    "# --- 1) Función para calcular cuantiles ponderados ---\n",
    "def cuantil_ponderado(valores, percentiles, pesos):\n",
    "    v = np.array(valores)\n",
    "    w = np.array(pesos)\n",
    "    orden = np.argsort(v)\n",
    "    v_ord, w_ord = v[orden], w[orden]\n",
    "    cumw = np.cumsum(w_ord)\n",
    "    cumw_norm = cumw / cumw[-1]\n",
    "    return np.interp(percentiles, cumw_norm, v_ord)\n",
    "\n",
    "# --- 2) Estadísticos ponderados sobre kwh_mes ---\n",
    "def estadisticas_kwh_mes(df):\n",
    "    vals = df['kwh_mes'].values\n",
    "    wts  = df['factor'].values\n",
    "    return pd.Series({\n",
    "        'P25':     cuantil_ponderado(vals, [0.25], wts)[0],\n",
    "        'Mediana': cuantil_ponderado(vals, [0.50], wts)[0],\n",
    "        'Media':   np.average(vals, weights=wts),\n",
    "        'P75':     cuantil_ponderado(vals, [0.75], wts)[0]\n",
    "    })\n",
    "\n",
    "\n",
    "# --- 2) Estadísticos ponderados sobre kwh_mes ---\n",
    "def estadisticas_kwh_mes_persona(df):\n",
    "    vals = df['kwh_persona'].values\n",
    "    wts  = df['factor'].values\n",
    "    return pd.Series({\n",
    "        'P25':     cuantil_ponderado(vals, [0.25], wts)[0],\n",
    "        'Mediana': cuantil_ponderado(vals, [0.50], wts)[0],\n",
    "        'Media':   np.average(vals, weights=wts),\n",
    "        'P75':     cuantil_ponderado(vals, [0.75], wts)[0]\n",
    "    })\n",
    "# --- 2) Estadísticos ponderados sobre kwh_mes ---\n",
    "def estadisticas_kwh_mes_persona_area(df):\n",
    "    vals = df['kwh_m2persona'].values\n",
    "    wts  = df['factor'].values\n",
    "    return pd.Series({\n",
    "        'P25':     cuantil_ponderado(vals, [0.25], wts)[0],\n",
    "        'Mediana': cuantil_ponderado(vals, [0.50], wts)[0],\n",
    "        'Media':   np.average(vals, weights=wts),\n",
    "        'P75':     cuantil_ponderado(vals, [0.75], wts)[0]\n",
    "    })"
   ]
  },
  {
   "cell_type": "code",
   "execution_count": 6,
   "id": "674c8db8-c921-4b30-8667-a27b8026bb38",
   "metadata": {},
   "outputs": [],
   "source": [
    "f = \"../data/002_intermediate/porcentajes_naa.parquet\"\n",
    "porcentajes_naa = pd.read_parquet(f)"
   ]
  },
  {
   "cell_type": "code",
   "execution_count": 7,
   "id": "98bcfaf2-4069-428a-844d-e7b5561adb12",
   "metadata": {},
   "outputs": [
    {
     "name": "stdout",
     "output_type": "stream",
     "text": [
      "|     m² |    P25 |   Mediana |   Media |    P75 |   porcentaje |\n",
      "|-------:|-------:|----------:|--------:|-------:|-------------:|\n",
      "|  30.00 | nan    |    nan    |  nan    | nan    |       nan    |\n",
      "|  55.00 |  50.42 |     50.42 |   78.25 |  71.24 |         0.52 |\n",
      "|  75.00 | nan    |    nan    |  nan    | nan    |       nan    |\n",
      "| 100.00 | 105.78 |    105.78 |  105.78 | 105.78 |         1.35 |\n",
      "| 150.00 | nan    |    nan    |  nan    | nan    |       nan    |\n",
      "| 200.00 | nan    |    nan    |  nan    | nan    |       nan    |\n",
      ": Estadísticas ponderadas de consumo total mensual (KWh) para clima **Cálido extremoso**, estrato socioeconómico **Bajo** {#tbl-calido-extremoso-bajo}\n",
      "\n",
      "|     m² |   P25 |   Mediana |   Media |    P75 |   porcentaje |\n",
      "|-------:|------:|----------:|--------:|-------:|-------------:|\n",
      "|  30.00 | 30.87 |    116.15 |  180.92 | 252.33 |         0.11 |\n",
      "|  55.00 | 45.06 |     98.33 |  169.00 | 188.15 |         1.01 |\n",
      "|  75.00 | 35.58 |     63.12 |  106.96 | 109.88 |         2.84 |\n",
      "| 100.00 | 41.17 |     66.81 |  180.23 | 104.39 |         0.98 |\n",
      "| 150.00 | 64.05 |    109.88 |  174.06 | 184.36 |         0.24 |\n",
      "| 200.00 | 68.74 |     68.74 |  452.77 | 448.99 |         1.04 |\n",
      ": Estadísticas ponderadas de consumo total mensual (KWh) para clima **Cálido extremoso**, estrato socioeconómico **Medio bajo** {#tbl-calido-extremoso-medio-bajo}\n",
      "\n",
      "|     m² |   P25 |   Mediana |   Media |    P75 |   porcentaje |\n",
      "|-------:|------:|----------:|--------:|-------:|-------------:|\n",
      "|  30.00 | 22.95 |     77.62 |  382.80 | 380.33 |         0.17 |\n",
      "|  55.00 | 60.63 |     62.42 |  100.20 | 100.18 |         0.10 |\n",
      "|  75.00 | 67.65 |     67.65 |   67.65 |  67.65 |         0.42 |\n",
      "| 100.00 | 72.90 |    155.33 |  147.31 | 166.91 |         0.09 |\n",
      "| 150.00 | 45.62 |     48.88 |  118.69 | 121.84 |         0.05 |\n",
      "| 200.00 | 67.44 |    112.95 |  122.39 | 124.32 |         0.29 |\n",
      ": Estadísticas ponderadas de consumo total mensual (KWh) para clima **Cálido extremoso**, estrato socioeconómico **Medio alto** {#tbl-calido-extremoso-medio-alto}\n",
      "\n",
      "|     m² |    P25 |   Mediana |   Media |    P75 |   porcentaje |\n",
      "|-------:|-------:|----------:|--------:|-------:|-------------:|\n",
      "|  30.00 | 145.57 |    145.57 |  145.57 | 145.57 |         0.01 |\n",
      "|  55.00 | nan    |    nan    |  nan    | nan    |       nan    |\n",
      "|  75.00 | nan    |    nan    |  nan    | nan    |       nan    |\n",
      "| 100.00 | 331.27 |    331.27 |  331.27 | 331.27 |         0.01 |\n",
      "| 150.00 | nan    |    nan    |  nan    | nan    |       nan    |\n",
      "| 200.00 | nan    |    nan    |  nan    | nan    |       nan    |\n",
      ": Estadísticas ponderadas de consumo total mensual (KWh) para clima **Cálido extremoso**, estrato socioeconómico **Alto** {#tbl-calido-extremoso-alto}\n",
      "\n"
     ]
    },
    {
     "name": "stderr",
     "output_type": "stream",
     "text": [
      "/var/folders/tc/1tpm30d53_9458mzx73ydg_w0000gn/T/ipykernel_4419/2426823092.py:11: FutureWarning: DataFrameGroupBy.apply operated on the grouping columns. This behavior is deprecated, and in a future version of pandas the grouping columns will be excluded from the operation. Either pass `include_groups=False` to exclude the groupings or explicitly select the grouping columns after groupby to silence this warning.\n",
      "  .apply(estadisticas_kwh_mes)\n"
     ]
    }
   ],
   "source": [
    "\n",
    "# --- 3) Filtrado inicial ---\n",
    "tamanos  = [30, 55, 75, 100, 150, 200]\n",
    "estratos = ['Bajo', 'Medio bajo', 'Medio alto', 'Alto']\n",
    "\n",
    "viv_tab = viv[viv['m2'].isin(tamanos)].copy()\n",
    "\n",
    "# --- 4) Agrupar y calcular estadísticas ---\n",
    "grouped = (\n",
    "    viv_tab\n",
    "    .groupby(['m2','clima','estrato'], observed=True)\n",
    "    .apply(estadisticas_kwh_mes)\n",
    "    .reset_index()\n",
    ")\n",
    "grouped =  pd.concat([grouped,porcentajes_naa[[\"porcentaje\",\"viviendas\"]]],axis=1)\n",
    "grouped_kwhmes = grouped.copy()\n",
    "\n",
    "# --- 5) Generar tablas Markdown ---\n",
    "for clima in grouped['clima'].unique():\n",
    "    for estrato in estratos:\n",
    "        sub = grouped[\n",
    "            (grouped['clima']==clima) &\n",
    "            (grouped['estrato']==estrato)\n",
    "        ]\n",
    "        if sub.empty:\n",
    "            continue\n",
    "\n",
    "        # 6) Pivot: m2 en filas, percentiles en columnas en el orden correcto\n",
    "        tabla = (\n",
    "            sub\n",
    "            .set_index('m2')[['P25','Mediana','Media','P75',\"porcentaje\"]]\n",
    "            .reindex(tamanos)\n",
    "            .rename_axis('m²')\n",
    "            .round(2)\n",
    "            .reset_index()\n",
    "        )\n",
    "\n",
    "        # 7) Generar slug y etiqueta Quarto\n",
    "        slug_clima   = clima.lower().replace(' ','-').replace('í','i').replace('á','a')\n",
    "        slug_estrato = estrato.lower().replace(' ','-')\n",
    "        etiqueta     = f\"tbl-{slug_clima}-{slug_estrato}\"\n",
    "\n",
    "        # 8) Imprimir en Markdown\n",
    "        print(tabulate(\n",
    "            tabla,\n",
    "            headers=tabla.columns,\n",
    "            tablefmt='pipe',\n",
    "            floatfmt='.2f',\n",
    "            showindex=False\n",
    "        ))\n",
    "        print(\n",
    "            f\": Estadísticas ponderadas de consumo total mensual (KWh) para clima **{clima}**, \"\n",
    "            f\"estrato socioeconómico **{estrato}** {{#{etiqueta}}}\\n\"\n",
    "        )"
   ]
  },
  {
   "cell_type": "code",
   "execution_count": 8,
   "id": "11359251-aaff-43b4-85dc-af8034e31188",
   "metadata": {},
   "outputs": [
    {
     "name": "stdout",
     "output_type": "stream",
     "text": [
      "|     m² |    P25 |   Mediana |   Media |    P75 |\n",
      "|-------:|-------:|----------:|--------:|-------:|\n",
      "|  30.00 | nan    |    nan    |  nan    | nan    |\n",
      "|  55.00 |  38.92 |     55.27 |   82.47 |  79.74 |\n",
      "|  75.00 | nan    |    nan    |  nan    | nan    |\n",
      "| 100.00 |  53.77 |     53.77 |   53.77 |  53.77 |\n",
      "| 150.00 | nan    |    nan    |  nan    | nan    |\n",
      "| 200.00 | nan    |    nan    |  nan    | nan    |\n",
      ": Estadísticas ponderadas de consumo total mensual (KWh) para clima **Cálido extremoso**, estrato socioeconómico **Bajo** {#tbl-calido-extremoso-bajo}\n",
      "\n",
      "|     m² |   P25 |   Mediana |   Media |    P75 |\n",
      "|-------:|------:|----------:|--------:|-------:|\n",
      "|  30.00 | 62.77 |     84.65 |  157.09 | 153.80 |\n",
      "|  55.00 | 37.77 |     84.83 |  146.16 | 103.99 |\n",
      "|  75.00 | 28.33 |     38.12 |   57.31 |  73.44 |\n",
      "| 100.00 | 29.49 |     39.01 |   81.14 |  68.03 |\n",
      "| 150.00 | 45.63 |     52.46 |   71.73 |  77.94 |\n",
      "| 200.00 | 43.54 |     43.54 |   92.95 |  92.46 |\n",
      ": Estadísticas ponderadas de consumo total mensual (KWh) para clima **Cálido extremoso**, estrato socioeconómico **Medio bajo** {#tbl-calido-extremoso-medio-bajo}\n",
      "\n",
      "|     m² |   P25 |   Mediana |   Media |    P75 |\n",
      "|-------:|------:|----------:|--------:|-------:|\n",
      "|  30.00 | 23.33 |    132.66 |  742.92 | 737.98 |\n",
      "|  55.00 | 30.82 |     31.76 |   51.52 |  51.51 |\n",
      "|  75.00 | 46.60 |     46.60 |   46.60 |  46.60 |\n",
      "| 100.00 | 31.71 |     81.53 |  101.72 | 104.35 |\n",
      "| 150.00 | 39.84 |     53.72 |  103.51 |  94.48 |\n",
      "| 200.00 | 39.90 |     47.57 |   60.93 |  70.56 |\n",
      ": Estadísticas ponderadas de consumo total mensual (KWh) para clima **Cálido extremoso**, estrato socioeconómico **Medio alto** {#tbl-calido-extremoso-medio-alto}\n",
      "\n",
      "|     m² |    P25 |   Mediana |   Media |    P75 |\n",
      "|-------:|-------:|----------:|--------:|-------:|\n",
      "|  30.00 |  24.26 |     24.26 |   24.26 |  24.26 |\n",
      "|  55.00 | nan    |    nan    |  nan    | nan    |\n",
      "|  75.00 | nan    |    nan    |  nan    | nan    |\n",
      "| 100.00 | 331.27 |    331.27 |  331.27 | 331.27 |\n",
      "| 150.00 | nan    |    nan    |  nan    | nan    |\n",
      "| 200.00 | nan    |    nan    |  nan    | nan    |\n",
      ": Estadísticas ponderadas de consumo total mensual (KWh) para clima **Cálido extremoso**, estrato socioeconómico **Alto** {#tbl-calido-extremoso-alto}\n",
      "\n"
     ]
    },
    {
     "name": "stderr",
     "output_type": "stream",
     "text": [
      "/var/folders/tc/1tpm30d53_9458mzx73ydg_w0000gn/T/ipykernel_4419/137336241.py:11: FutureWarning: DataFrameGroupBy.apply operated on the grouping columns. This behavior is deprecated, and in a future version of pandas the grouping columns will be excluded from the operation. Either pass `include_groups=False` to exclude the groupings or explicitly select the grouping columns after groupby to silence this warning.\n",
      "  .apply(estadisticas_kwh_mes_persona)\n"
     ]
    }
   ],
   "source": [
    "\n",
    "# --- 3) Filtrado inicial ---\n",
    "tamanos  = [30, 55, 75, 100, 150, 200]\n",
    "estratos = ['Bajo', 'Medio bajo', 'Medio alto', 'Alto']\n",
    "\n",
    "viv_tab = viv[viv['m2'].isin(tamanos)].copy()\n",
    "\n",
    "# --- 4) Agrupar y calcular estadísticas ---\n",
    "grouped = (\n",
    "    viv_tab\n",
    "    .groupby(['m2','clima','estrato'], observed=True)\n",
    "    .apply(estadisticas_kwh_mes_persona)\n",
    "    .reset_index()\n",
    ")\n",
    "\n",
    "\n",
    "grouped =  pd.concat([grouped,porcentajes_naa[[\"porcentaje\",\"viviendas\"]]],axis=1)\n",
    "grouped_kwhmespersona = grouped.copy()\n",
    "\n",
    "# --- 5) Generar tablas Markdown ---\n",
    "for clima in grouped['clima'].unique():\n",
    "    for estrato in estratos:\n",
    "        sub = grouped[\n",
    "            (grouped['clima']==clima) &\n",
    "            (grouped['estrato']==estrato)\n",
    "        ]\n",
    "        if sub.empty:\n",
    "            continue\n",
    "\n",
    "        # 6) Pivot: m2 en filas, percentiles en columnas en el orden correcto\n",
    "        tabla = (\n",
    "            sub\n",
    "            .set_index('m2')[['P25','Mediana','Media','P75']]\n",
    "            .reindex(tamanos)\n",
    "            .rename_axis('m²')\n",
    "            .round(2)\n",
    "            .reset_index()\n",
    "        )\n",
    "\n",
    "        # 7) Generar slug y etiqueta Quarto\n",
    "        slug_clima   = clima.lower().replace(' ','-').replace('í','i').replace('á','a')\n",
    "        slug_estrato = estrato.lower().replace(' ','-')\n",
    "        etiqueta     = f\"tbl-{slug_clima}-{slug_estrato}\"\n",
    "\n",
    "        # 8) Imprimir en Markdown\n",
    "        print(tabulate(\n",
    "            tabla,\n",
    "            headers=tabla.columns,\n",
    "            tablefmt='pipe',\n",
    "            floatfmt='.2f',\n",
    "            showindex=False\n",
    "        ))\n",
    "        print(\n",
    "            f\": Estadísticas ponderadas de consumo total mensual (KWh) para clima **{clima}**, \"\n",
    "            f\"estrato socioeconómico **{estrato}** {{#{etiqueta}}}\\n\"\n",
    "        )"
   ]
  },
  {
   "cell_type": "code",
   "execution_count": 9,
   "id": "60b1bc80-a7a1-4d1f-9326-3a38a0153775",
   "metadata": {
    "scrolled": true
   },
   "outputs": [
    {
     "name": "stdout",
     "output_type": "stream",
     "text": [
      "|     m² |    P25 |   Mediana |   Media |    P75 |\n",
      "|-------:|-------:|----------:|--------:|-------:|\n",
      "|  30.00 | nan    |    nan    |  nan    | nan    |\n",
      "|  55.00 |   0.71 |      1.00 |    1.50 |   1.45 |\n",
      "|  75.00 | nan    |    nan    |  nan    | nan    |\n",
      "| 100.00 |   0.54 |      0.54 |    0.54 |   0.54 |\n",
      "| 150.00 | nan    |    nan    |  nan    | nan    |\n",
      "| 200.00 | nan    |    nan    |  nan    | nan    |\n",
      ": Estadísticas ponderadas de consumo total mensual (KWh) para clima **Cálido extremoso**, estrato socioeconómico **Bajo** {#tbl-calido-extremoso-bajo}\n",
      "\n",
      "|     m² |   P25 |   Mediana |   Media |   P75 |\n",
      "|-------:|------:|----------:|--------:|------:|\n",
      "|  30.00 |  2.09 |      2.82 |    5.24 |  5.13 |\n",
      "|  55.00 |  0.69 |      1.54 |    2.66 |  1.89 |\n",
      "|  75.00 |  0.38 |      0.51 |    0.76 |  0.98 |\n",
      "| 100.00 |  0.29 |      0.39 |    0.81 |  0.68 |\n",
      "| 150.00 |  0.30 |      0.35 |    0.48 |  0.52 |\n",
      "| 200.00 |  0.22 |      0.22 |    0.46 |  0.46 |\n",
      ": Estadísticas ponderadas de consumo total mensual (KWh) para clima **Cálido extremoso**, estrato socioeconómico **Medio bajo** {#tbl-calido-extremoso-medio-bajo}\n",
      "\n",
      "|     m² |   P25 |   Mediana |   Media |   P75 |\n",
      "|-------:|------:|----------:|--------:|------:|\n",
      "|  30.00 |  0.78 |      4.42 |   24.76 | 24.60 |\n",
      "|  55.00 |  0.56 |      0.58 |    0.94 |  0.94 |\n",
      "|  75.00 |  0.62 |      0.62 |    0.62 |  0.62 |\n",
      "| 100.00 |  0.32 |      0.82 |    1.02 |  1.04 |\n",
      "| 150.00 |  0.27 |      0.36 |    0.69 |  0.63 |\n",
      "| 200.00 |  0.20 |      0.24 |    0.30 |  0.35 |\n",
      ": Estadísticas ponderadas de consumo total mensual (KWh) para clima **Cálido extremoso**, estrato socioeconómico **Medio alto** {#tbl-calido-extremoso-medio-alto}\n",
      "\n",
      "|     m² |    P25 |   Mediana |   Media |    P75 |\n",
      "|-------:|-------:|----------:|--------:|-------:|\n",
      "|  30.00 |   0.81 |      0.81 |    0.81 |   0.81 |\n",
      "|  55.00 | nan    |    nan    |  nan    | nan    |\n",
      "|  75.00 | nan    |    nan    |  nan    | nan    |\n",
      "| 100.00 |   3.31 |      3.31 |    3.31 |   3.31 |\n",
      "| 150.00 | nan    |    nan    |  nan    | nan    |\n",
      "| 200.00 | nan    |    nan    |  nan    | nan    |\n",
      ": Estadísticas ponderadas de consumo total mensual (KWh) para clima **Cálido extremoso**, estrato socioeconómico **Alto** {#tbl-calido-extremoso-alto}\n",
      "\n"
     ]
    },
    {
     "name": "stderr",
     "output_type": "stream",
     "text": [
      "/var/folders/tc/1tpm30d53_9458mzx73ydg_w0000gn/T/ipykernel_4419/2581412135.py:11: FutureWarning: DataFrameGroupBy.apply operated on the grouping columns. This behavior is deprecated, and in a future version of pandas the grouping columns will be excluded from the operation. Either pass `include_groups=False` to exclude the groupings or explicitly select the grouping columns after groupby to silence this warning.\n",
      "  .apply(estadisticas_kwh_mes_persona_area)\n"
     ]
    }
   ],
   "source": [
    "\n",
    "# --- 3) Filtrado inicial ---\n",
    "tamanos  = [30, 55, 75, 100, 150, 200]\n",
    "estratos = ['Bajo', 'Medio bajo', 'Medio alto', 'Alto']\n",
    "\n",
    "viv_tab = viv[viv['m2'].isin(tamanos)].copy()\n",
    "\n",
    "# --- 4) Agrupar y calcular estadísticas ---\n",
    "grouped = (\n",
    "    viv_tab\n",
    "    .groupby(['m2','clima','estrato'], observed=True)\n",
    "    .apply(estadisticas_kwh_mes_persona_area)\n",
    "    .reset_index()\n",
    ")\n",
    "\n",
    "\n",
    "grouped =  pd.concat([grouped,porcentajes_naa[[\"porcentaje\",\"viviendas\"]]],axis=1)\n",
    "grouped_kwhmespersonaarea = grouped.copy()\n",
    "\n",
    "# --- 5) Generar tablas Markdown ---\n",
    "for clima in grouped['clima'].unique():\n",
    "    for estrato in estratos:\n",
    "        sub = grouped[\n",
    "            (grouped['clima']==clima) &\n",
    "            (grouped['estrato']==estrato)\n",
    "        ]\n",
    "        if sub.empty:\n",
    "            continue\n",
    "\n",
    "        # 6) Pivot: m2 en filas, percentiles en columnas en el orden correcto\n",
    "        tabla = (\n",
    "            sub\n",
    "            .set_index('m2')[['P25','Mediana','Media','P75']]\n",
    "            .reindex(tamanos)\n",
    "            .rename_axis('m²')\n",
    "            .round(2)\n",
    "            .reset_index()\n",
    "        )\n",
    "\n",
    "        # 7) Generar slug y etiqueta Quarto\n",
    "        slug_clima   = clima.lower().replace(' ','-').replace('í','i').replace('á','a')\n",
    "        slug_estrato = estrato.lower().replace(' ','-')\n",
    "        etiqueta     = f\"tbl-{slug_clima}-{slug_estrato}\"\n",
    "\n",
    "        # 8) Imprimir en Markdown\n",
    "        print(tabulate(\n",
    "            tabla,\n",
    "            headers=tabla.columns,\n",
    "            tablefmt='pipe',\n",
    "            floatfmt='.2f',\n",
    "            showindex=False\n",
    "        ))\n",
    "        print(\n",
    "            f\": Estadísticas ponderadas de consumo total mensual (KWh) para clima **{clima}**, \"\n",
    "            f\"estrato socioeconómico **{estrato}** {{#{etiqueta}}}\\n\"\n",
    "        )"
   ]
  },
  {
   "cell_type": "code",
   "execution_count": 10,
   "id": "68201781-73e9-4a1c-97f5-e0b6cf4f50a3",
   "metadata": {},
   "outputs": [
    {
     "data": {
      "image/png": "[encoded data removed]",
      "text/plain": [
       "<Figure size 1200x400 with 1 Axes>"
      ]
     },
     "metadata": {},
     "output_type": "display_data"
    }
   ],
   "source": [
    "#| label: fig-total\n",
    "#| fig-cap: Consumo total mensual de la vivienda para los diferentes climas y estratos socioeconómicos y sin uso de aire acondicionado.\n",
    "estrato_order = ['Bajo', 'Medio bajo', 'Medio alto', 'Alto']\n",
    "m2_list = sorted(viv['m2'].unique())\n",
    "\n",
    "# 2) Crea tu palette y un dict m2→color\n",
    "colors = sns.color_palette('Set2', n_colors=len(m2_list))\n",
    "palette_dict = {m2: colors[i] for i, m2 in enumerate(m2_list)}\n",
    "\n",
    "# 3) Dibuja el catplot SIN leyenda\n",
    "g = sns.catplot(\n",
    "    data=viv,\n",
    "    x='estrato',\n",
    "    y='kwh_mes',\n",
    "    hue='m2',\n",
    "    palette=palette_dict,\n",
    "    col='clima',\n",
    "    kind='box',\n",
    "    order=estrato_order,\n",
    "    col_wrap=3,\n",
    "    height=4,\n",
    "    sharey=True,\n",
    "    whis=[25,75],\n",
    "    showfliers=False,\n",
    "    legend=False      # importante: no leyenda automática\n",
    ")\n",
    "\n",
    "# 4) Formatea ejes y títulos\n",
    "g.set_axis_labels(\"Estrato\", \"Consumo total mensual (kWh)\")\n",
    "g.set_titles(\"{col_name}\")\n",
    "for ax in g.axes.flat:\n",
    "    ax.tick_params(axis='x', rotation=45)\n",
    "\n",
    "# 5) Construye los patches manualmente\n",
    "patches = [\n",
    "    Patch(facecolor=palette_dict[m], label=str(int(m)))\n",
    "    for m in m2_list\n",
    "]\n",
    "\n",
    "# 6) Añade la leyenda centrada un poco a la izquierda\n",
    "g.fig.legend(\n",
    "    handles=patches,\n",
    "    title=\"m²\",\n",
    "    loc=\"upper center\",\n",
    "    bbox_to_anchor=(0.45, 1.05),  # ajusta este 0.45 para moverla más a la izquierda/derecha\n",
    "    ncol=len(m2_list),\n",
    "    frameon=False\n",
    ")\n",
    "\n",
    "# 7) Ajusta márgenes\n",
    "g.fig.subplots_adjust(top=0.88, right=0.92)\n",
    "\n",
    "plt.show()\n"
   ]
  },
  {
   "cell_type": "code",
   "execution_count": 11,
   "id": "ff7e9a17-6f82-4712-ae83-de04a14e16a5",
   "metadata": {},
   "outputs": [
    {
     "data": {
      "image/png": "[encoded data removed]",
      "text/plain": [
       "<Figure size 1200x400 with 1 Axes>"
      ]
     },
     "metadata": {},
     "output_type": "display_data"
    }
   ],
   "source": [
    "#| label: fig-total\n",
    "#| fig-cap: Consumo total mensual de la vivienda para los diferentes climas y estratos socioeconómicos y sin uso de aire acondicionado.\n",
    "estrato_order = ['Bajo', 'Medio bajo', 'Medio alto', 'Alto']\n",
    "m2_list = sorted(viv['m2'].unique())\n",
    "\n",
    "# 2) Crea tu palette y un dict m2→color\n",
    "colors = sns.color_palette('Set2', n_colors=len(m2_list))\n",
    "palette_dict = {m2: colors[i] for i, m2 in enumerate(m2_list)}\n",
    "\n",
    "# 3) Dibuja el catplot SIN leyenda\n",
    "g = sns.catplot(\n",
    "    data=viv,\n",
    "    x='estrato',\n",
    "    y='kwh_persona',\n",
    "    hue='m2',\n",
    "    palette=palette_dict,\n",
    "    col='clima',\n",
    "    kind='box',\n",
    "    order=estrato_order,\n",
    "    col_wrap=3,\n",
    "    height=4,\n",
    "    sharey=True,\n",
    "    whis=[25,75],\n",
    "    showfliers=False,\n",
    "    legend=False      # importante: no leyenda automática\n",
    ")\n",
    "\n",
    "# 4) Formatea ejes y títulos\n",
    "g.set_axis_labels(\"Estrato\", \"Consumo total mensual por persona (kWh/persona)\")\n",
    "g.set_titles(\"{col_name}\")\n",
    "for ax in g.axes.flat:\n",
    "    ax.tick_params(axis='x', rotation=45)\n",
    "\n",
    "# 5) Construye los patches manualmente\n",
    "patches = [\n",
    "    Patch(facecolor=palette_dict[m], label=str(int(m)))\n",
    "    for m in m2_list\n",
    "]\n",
    "\n",
    "# 6) Añade la leyenda centrada un poco a la izquierda\n",
    "g.fig.legend(\n",
    "    handles=patches,\n",
    "    title=\"m²\",\n",
    "    loc=\"upper center\",\n",
    "    bbox_to_anchor=(0.45, 1.05),  # ajusta este 0.45 para moverla más a la izquierda/derecha\n",
    "    ncol=len(m2_list),\n",
    "    frameon=False\n",
    ")\n",
    "\n",
    "# 7) Ajusta márgenes\n",
    "g.fig.subplots_adjust(top=0.88, right=0.92)\n",
    "\n",
    "plt.show()\n"
   ]
  },
  {
   "cell_type": "code",
   "execution_count": 12,
   "id": "450a35af-bb96-4363-955c-7c7210e40ce4",
   "metadata": {},
   "outputs": [
    {
     "data": {
      "image/png": "[encoded data removed]",
      "text/plain": [
       "<Figure size 1200x400 with 1 Axes>"
      ]
     },
     "metadata": {},
     "output_type": "display_data"
    }
   ],
   "source": [
    "#| label: fig-total\n",
    "#| fig-cap: Consumo total mensual de la vivienda para los diferentes climas y estratos socioeconómicos y sin uso de aire acondicionado.\n",
    "estrato_order = ['Bajo', 'Medio bajo', 'Medio alto', 'Alto']\n",
    "m2_list = sorted(viv['m2'].unique())\n",
    "\n",
    "# 2) Crea tu palette y un dict m2→color\n",
    "colors = sns.color_palette('Set2', n_colors=len(m2_list))\n",
    "palette_dict = {m2: colors[i] for i, m2 in enumerate(m2_list)}\n",
    "\n",
    "# 3) Dibuja el catplot SIN leyenda\n",
    "g = sns.catplot(\n",
    "    data=viv,\n",
    "    x='estrato',\n",
    "    y='kwh_m2persona',\n",
    "    hue='m2',\n",
    "    palette=palette_dict,\n",
    "    col='clima',\n",
    "    kind='box',\n",
    "    order=estrato_order,\n",
    "    col_wrap=3,\n",
    "    height=4,\n",
    "    sharey=True,\n",
    "    whis=[25,75],\n",
    "    showfliers=False,\n",
    "    legend=False      # importante: no leyenda automática\n",
    ")\n",
    "\n",
    "# 4) Formatea ejes y títulos\n",
    "g.set_axis_labels(\"Estrato\", \"Consumo total mensual por persona (kWh/persona)\")\n",
    "g.set_titles(\"{col_name}\")\n",
    "for ax in g.axes.flat:\n",
    "    ax.tick_params(axis='x', rotation=45)\n",
    "\n",
    "# 5) Construye los patches manualmente\n",
    "patches = [\n",
    "    Patch(facecolor=palette_dict[m], label=str(int(m)))\n",
    "    for m in m2_list\n",
    "]\n",
    "\n",
    "# 6) Añade la leyenda centrada un poco a la izquierda\n",
    "g.fig.legend(\n",
    "    handles=patches,\n",
    "    title=\"m²\",\n",
    "    loc=\"upper center\",\n",
    "    bbox_to_anchor=(0.45, 1.05),  # ajusta este 0.45 para moverla más a la izquierda/derecha\n",
    "    ncol=len(m2_list),\n",
    "    frameon=False\n",
    ")\n",
    "\n",
    "# 7) Ajusta márgenes\n",
    "g.fig.subplots_adjust(top=0.88, right=0.92)\n",
    "\n",
    "plt.show()\n"
   ]
  },
  {
   "cell_type": "code",
   "execution_count": 13,
   "id": "82f2cd3a-2b6e-4306-8382-7246c253a00e",
   "metadata": {},
   "outputs": [
    {
     "data": {
      "text/html": [
       "<div>\n",
       "<style scoped>\n",
       "    .dataframe tbody tr th:only-of-type {\n",
       "        vertical-align: middle;\n",
       "    }\n",
       "\n",
       "    .dataframe tbody tr th {\n",
       "        vertical-align: top;\n",
       "    }\n",
       "\n",
       "    .dataframe thead th {\n",
       "        text-align: right;\n",
       "    }\n",
       "</style>\n",
       "<table border=\"1\" class=\"dataframe\">\n",
       "  <thead>\n",
       "    <tr style=\"text-align: right;\">\n",
       "      <th></th>\n",
       "      <th>m2</th>\n",
       "      <th>clima</th>\n",
       "      <th>estrato</th>\n",
       "      <th>P25</th>\n",
       "      <th>Mediana</th>\n",
       "      <th>Media</th>\n",
       "      <th>P75</th>\n",
       "      <th>porcentaje</th>\n",
       "      <th>viviendas</th>\n",
       "      <th>etotal</th>\n",
       "    </tr>\n",
       "  </thead>\n",
       "  <tbody>\n",
       "    <tr>\n",
       "      <th>15</th>\n",
       "      <td>200.0</td>\n",
       "      <td>Cálido extremoso</td>\n",
       "      <td>Medio bajo</td>\n",
       "      <td>68.743118</td>\n",
       "      <td>68.743118</td>\n",
       "      <td>452.774187</td>\n",
       "      <td>448.986303</td>\n",
       "      <td>1.042562</td>\n",
       "      <td>345736.0</td>\n",
       "      <td>1.565403e+08</td>\n",
       "    </tr>\n",
       "    <tr>\n",
       "      <th>7</th>\n",
       "      <td>75.0</td>\n",
       "      <td>Cálido extremoso</td>\n",
       "      <td>Medio bajo</td>\n",
       "      <td>35.575006</td>\n",
       "      <td>63.124793</td>\n",
       "      <td>106.956038</td>\n",
       "      <td>109.879163</td>\n",
       "      <td>2.841960</td>\n",
       "      <td>942455.0</td>\n",
       "      <td>1.008013e+08</td>\n",
       "    </tr>\n",
       "    <tr>\n",
       "      <th>11</th>\n",
       "      <td>100.0</td>\n",
       "      <td>Cálido extremoso</td>\n",
       "      <td>Medio bajo</td>\n",
       "      <td>41.165181</td>\n",
       "      <td>66.807680</td>\n",
       "      <td>180.232915</td>\n",
       "      <td>104.389011</td>\n",
       "      <td>0.983977</td>\n",
       "      <td>326308.0</td>\n",
       "      <td>5.881144e+07</td>\n",
       "    </tr>\n",
       "    <tr>\n",
       "      <th>5</th>\n",
       "      <td>55.0</td>\n",
       "      <td>Cálido extremoso</td>\n",
       "      <td>Medio bajo</td>\n",
       "      <td>45.058011</td>\n",
       "      <td>98.328373</td>\n",
       "      <td>169.002358</td>\n",
       "      <td>188.154703</td>\n",
       "      <td>1.006820</td>\n",
       "      <td>333883.0</td>\n",
       "      <td>5.642701e+07</td>\n",
       "    </tr>\n",
       "    <tr>\n",
       "      <th>9</th>\n",
       "      <td>100.0</td>\n",
       "      <td>Cálido extremoso</td>\n",
       "      <td>Bajo</td>\n",
       "      <td>105.784101</td>\n",
       "      <td>105.784101</td>\n",
       "      <td>105.784101</td>\n",
       "      <td>105.784101</td>\n",
       "      <td>1.347802</td>\n",
       "      <td>446960.0</td>\n",
       "      <td>4.728126e+07</td>\n",
       "    </tr>\n",
       "    <tr>\n",
       "      <th>...</th>\n",
       "      <td>...</td>\n",
       "      <td>...</td>\n",
       "      <td>...</td>\n",
       "      <td>...</td>\n",
       "      <td>...</td>\n",
       "      <td>...</td>\n",
       "      <td>...</td>\n",
       "      <td>...</td>\n",
       "      <td>...</td>\n",
       "      <td>...</td>\n",
       "    </tr>\n",
       "    <tr>\n",
       "      <th>67</th>\n",
       "      <td>NaN</td>\n",
       "      <td>NaN</td>\n",
       "      <td>NaN</td>\n",
       "      <td>NaN</td>\n",
       "      <td>NaN</td>\n",
       "      <td>NaN</td>\n",
       "      <td>NaN</td>\n",
       "      <td>1.915470</td>\n",
       "      <td>635211.0</td>\n",
       "      <td>NaN</td>\n",
       "    </tr>\n",
       "    <tr>\n",
       "      <th>68</th>\n",
       "      <td>NaN</td>\n",
       "      <td>NaN</td>\n",
       "      <td>NaN</td>\n",
       "      <td>NaN</td>\n",
       "      <td>NaN</td>\n",
       "      <td>NaN</td>\n",
       "      <td>NaN</td>\n",
       "      <td>0.004716</td>\n",
       "      <td>1564.0</td>\n",
       "      <td>NaN</td>\n",
       "    </tr>\n",
       "    <tr>\n",
       "      <th>69</th>\n",
       "      <td>NaN</td>\n",
       "      <td>NaN</td>\n",
       "      <td>NaN</td>\n",
       "      <td>NaN</td>\n",
       "      <td>NaN</td>\n",
       "      <td>NaN</td>\n",
       "      <td>NaN</td>\n",
       "      <td>0.270070</td>\n",
       "      <td>89561.0</td>\n",
       "      <td>NaN</td>\n",
       "    </tr>\n",
       "    <tr>\n",
       "      <th>70</th>\n",
       "      <td>NaN</td>\n",
       "      <td>NaN</td>\n",
       "      <td>NaN</td>\n",
       "      <td>NaN</td>\n",
       "      <td>NaN</td>\n",
       "      <td>NaN</td>\n",
       "      <td>NaN</td>\n",
       "      <td>0.042817</td>\n",
       "      <td>14199.0</td>\n",
       "      <td>NaN</td>\n",
       "    </tr>\n",
       "    <tr>\n",
       "      <th>71</th>\n",
       "      <td>NaN</td>\n",
       "      <td>NaN</td>\n",
       "      <td>NaN</td>\n",
       "      <td>NaN</td>\n",
       "      <td>NaN</td>\n",
       "      <td>NaN</td>\n",
       "      <td>NaN</td>\n",
       "      <td>0.324258</td>\n",
       "      <td>107531.0</td>\n",
       "      <td>NaN</td>\n",
       "    </tr>\n",
       "  </tbody>\n",
       "</table>\n",
       "<p>72 rows × 10 columns</p>\n",
       "</div>"
      ],
      "text/plain": [
       "       m2             clima     estrato         P25     Mediana       Media  \\\n",
       "15  200.0  Cálido extremoso  Medio bajo   68.743118   68.743118  452.774187   \n",
       "7    75.0  Cálido extremoso  Medio bajo   35.575006   63.124793  106.956038   \n",
       "11  100.0  Cálido extremoso  Medio bajo   41.165181   66.807680  180.232915   \n",
       "5    55.0  Cálido extremoso  Medio bajo   45.058011   98.328373  169.002358   \n",
       "9   100.0  Cálido extremoso        Bajo  105.784101  105.784101  105.784101   \n",
       "..    ...               ...         ...         ...         ...         ...   \n",
       "67    NaN               NaN         NaN         NaN         NaN         NaN   \n",
       "68    NaN               NaN         NaN         NaN         NaN         NaN   \n",
       "69    NaN               NaN         NaN         NaN         NaN         NaN   \n",
       "70    NaN               NaN         NaN         NaN         NaN         NaN   \n",
       "71    NaN               NaN         NaN         NaN         NaN         NaN   \n",
       "\n",
       "           P75  porcentaje  viviendas        etotal  \n",
       "15  448.986303    1.042562   345736.0  1.565403e+08  \n",
       "7   109.879163    2.841960   942455.0  1.008013e+08  \n",
       "11  104.389011    0.983977   326308.0  5.881144e+07  \n",
       "5   188.154703    1.006820   333883.0  5.642701e+07  \n",
       "9   105.784101    1.347802   446960.0  4.728126e+07  \n",
       "..         ...         ...        ...           ...  \n",
       "67         NaN    1.915470   635211.0           NaN  \n",
       "68         NaN    0.004716     1564.0           NaN  \n",
       "69         NaN    0.270070    89561.0           NaN  \n",
       "70         NaN    0.042817    14199.0           NaN  \n",
       "71         NaN    0.324258   107531.0           NaN  \n",
       "\n",
       "[72 rows x 10 columns]"
      ]
     },
     "execution_count": 13,
     "metadata": {},
     "output_type": "execute_result"
    }
   ],
   "source": [
    "grouped_kwhmes[\"etotal\"] = grouped_kwhmes.Media*grouped_kwhmes.viviendas\n",
    "grouped_kwhmes.sort_values(by=\"etotal\",ascending=False)"
   ]
  },
  {
   "cell_type": "code",
   "execution_count": 14,
   "id": "74960c15-577a-4af9-bfe5-cd0b127968b4",
   "metadata": {},
   "outputs": [
    {
     "data": {
      "text/html": [
       "<div>\n",
       "<style scoped>\n",
       "    .dataframe tbody tr th:only-of-type {\n",
       "        vertical-align: middle;\n",
       "    }\n",
       "\n",
       "    .dataframe tbody tr th {\n",
       "        vertical-align: top;\n",
       "    }\n",
       "\n",
       "    .dataframe thead th {\n",
       "        text-align: right;\n",
       "    }\n",
       "</style>\n",
       "<table border=\"1\" class=\"dataframe\">\n",
       "  <thead>\n",
       "    <tr style=\"text-align: right;\">\n",
       "      <th></th>\n",
       "      <th>m2</th>\n",
       "      <th>clima</th>\n",
       "      <th>estrato</th>\n",
       "      <th>viviendas</th>\n",
       "      <th>etotal</th>\n",
       "    </tr>\n",
       "  </thead>\n",
       "  <tbody>\n",
       "    <tr>\n",
       "      <th>0</th>\n",
       "      <td>200.0</td>\n",
       "      <td>Cálido extremoso</td>\n",
       "      <td>Medio bajo</td>\n",
       "      <td>345736.0</td>\n",
       "      <td>1.565403e+08</td>\n",
       "    </tr>\n",
       "    <tr>\n",
       "      <th>1</th>\n",
       "      <td>75.0</td>\n",
       "      <td>Cálido extremoso</td>\n",
       "      <td>Medio bajo</td>\n",
       "      <td>942455.0</td>\n",
       "      <td>1.008013e+08</td>\n",
       "    </tr>\n",
       "    <tr>\n",
       "      <th>2</th>\n",
       "      <td>100.0</td>\n",
       "      <td>Cálido extremoso</td>\n",
       "      <td>Medio bajo</td>\n",
       "      <td>326308.0</td>\n",
       "      <td>5.881144e+07</td>\n",
       "    </tr>\n",
       "    <tr>\n",
       "      <th>3</th>\n",
       "      <td>55.0</td>\n",
       "      <td>Cálido extremoso</td>\n",
       "      <td>Medio bajo</td>\n",
       "      <td>333883.0</td>\n",
       "      <td>5.642701e+07</td>\n",
       "    </tr>\n",
       "    <tr>\n",
       "      <th>4</th>\n",
       "      <td>100.0</td>\n",
       "      <td>Cálido extremoso</td>\n",
       "      <td>Bajo</td>\n",
       "      <td>446960.0</td>\n",
       "      <td>4.728126e+07</td>\n",
       "    </tr>\n",
       "    <tr>\n",
       "      <th>...</th>\n",
       "      <td>...</td>\n",
       "      <td>...</td>\n",
       "      <td>...</td>\n",
       "      <td>...</td>\n",
       "      <td>...</td>\n",
       "    </tr>\n",
       "    <tr>\n",
       "      <th>67</th>\n",
       "      <td>NaN</td>\n",
       "      <td>NaN</td>\n",
       "      <td>NaN</td>\n",
       "      <td>635211.0</td>\n",
       "      <td>NaN</td>\n",
       "    </tr>\n",
       "    <tr>\n",
       "      <th>68</th>\n",
       "      <td>NaN</td>\n",
       "      <td>NaN</td>\n",
       "      <td>NaN</td>\n",
       "      <td>1564.0</td>\n",
       "      <td>NaN</td>\n",
       "    </tr>\n",
       "    <tr>\n",
       "      <th>69</th>\n",
       "      <td>NaN</td>\n",
       "      <td>NaN</td>\n",
       "      <td>NaN</td>\n",
       "      <td>89561.0</td>\n",
       "      <td>NaN</td>\n",
       "    </tr>\n",
       "    <tr>\n",
       "      <th>70</th>\n",
       "      <td>NaN</td>\n",
       "      <td>NaN</td>\n",
       "      <td>NaN</td>\n",
       "      <td>14199.0</td>\n",
       "      <td>NaN</td>\n",
       "    </tr>\n",
       "    <tr>\n",
       "      <th>71</th>\n",
       "      <td>NaN</td>\n",
       "      <td>NaN</td>\n",
       "      <td>NaN</td>\n",
       "      <td>107531.0</td>\n",
       "      <td>NaN</td>\n",
       "    </tr>\n",
       "  </tbody>\n",
       "</table>\n",
       "<p>72 rows × 5 columns</p>\n",
       "</div>"
      ],
      "text/plain": [
       "       m2             clima     estrato  viviendas        etotal\n",
       "0   200.0  Cálido extremoso  Medio bajo   345736.0  1.565403e+08\n",
       "1    75.0  Cálido extremoso  Medio bajo   942455.0  1.008013e+08\n",
       "2   100.0  Cálido extremoso  Medio bajo   326308.0  5.881144e+07\n",
       "3    55.0  Cálido extremoso  Medio bajo   333883.0  5.642701e+07\n",
       "4   100.0  Cálido extremoso        Bajo   446960.0  4.728126e+07\n",
       "..    ...               ...         ...        ...           ...\n",
       "67    NaN               NaN         NaN   635211.0           NaN\n",
       "68    NaN               NaN         NaN     1564.0           NaN\n",
       "69    NaN               NaN         NaN    89561.0           NaN\n",
       "70    NaN               NaN         NaN    14199.0           NaN\n",
       "71    NaN               NaN         NaN   107531.0           NaN\n",
       "\n",
       "[72 rows x 5 columns]"
      ]
     },
     "metadata": {},
     "output_type": "display_data"
    }
   ],
   "source": [
    "# Opción 1: Seleccionar las 4 columnas tras ordenar\n",
    "df_vis = (\n",
    "    grouped_kwhmes\n",
    "      .sort_values(by=\"etotal\", ascending=False)\n",
    "      [[\"m2\",\"clima\",\"estrato\",\"viviendas\",\"etotal\"]]\n",
    "      .reset_index(drop=True)\n",
    ")\n",
    "display(df_vis)\n"
   ]
  },
  {
   "cell_type": "code",
   "execution_count": 15,
   "id": "e02c4846-90b2-4b5b-a1c8-e69dfad0edd0",
   "metadata": {},
   "outputs": [
    {
     "data": {
      "image/png": "[encoded data removed]",
      "text/plain": [
       "<Figure size 800x800 with 1 Axes>"
      ]
     },
     "metadata": {},
     "output_type": "display_data"
    }
   ],
   "source": [
    "\n",
    "# Prepara Serie normalizada (ya la tienes)\n",
    "et = (\n",
    "    grouped_kwhmes\n",
    "      .sort_values(by=\"etotal\", ascending=False)\n",
    "      .set_index([\"m2\",\"clima\",\"estrato\"])[\"etotal\"]\n",
    "      .head(20)\n",
    ")\n",
    "et = et / et.max()\n",
    "\n",
    "# Grafica horizontal\n",
    "plt.figure(figsize=(8, 8))\n",
    "# Para que la barra más grande quede arriba, ordena de menor a mayor\n",
    "et.sort_values().plot(kind='barh')\n",
    "\n",
    "plt.xlabel(\"Energía total (etotal)\")\n",
    "plt.ylabel(\"m2, clima, estrato\")\n",
    "plt.grid(axis='x', linestyle='--', alpha=0.7)\n",
    "plt.tight_layout()\n",
    "plt.show()"
   ]
  },
  {
   "cell_type": "code",
   "execution_count": 16,
   "id": "69b5cf3e-64b3-4dd2-8d60-0419cba3b159",
   "metadata": {},
   "outputs": [
    {
     "data": {
      "application/vnd.plotly.v1+json": {
       "config": {
        "plotlyServerURL": "https://plot.ly"
       },
       "data": [
        {
         "customdata": [
          [
           200,
           "Medio bajo",
           345736
          ],
          [
           75,
           "Medio bajo",
           942455
          ],
          [
           100,
           "Medio bajo",
           326307.99999999994
          ],
          [
           55,
           "Medio bajo",
           333883
          ],
          [
           100,
           "Bajo",
           446960
          ],
          [
           30,
           "Medio alto",
           55170
          ],
          [
           150,
           "Medio bajo",
           79953
          ],
          [
           55,
           "Bajo",
           173902
          ],
          [
           200,
           "Medio alto",
           97524
          ],
          [
           75,
           "Medio alto",
           140688.99999999997
          ],
          [
           30,
           "Medio bajo",
           35304.99999999999
          ],
          [
           100,
           "Medio alto",
           28997
          ],
          [
           55,
           "Medio alto",
           33510
          ],
          [
           150,
           "Medio alto",
           17477
          ],
          [
           100,
           "Alto",
           3595.9999999999995
          ],
          [
           30,
           "Alto",
           2312.0000000000005
          ]
         ],
         "hovertemplate": "Clima=Cálido extremoso<br>Energía total (etotal)=%{x}<br>Porcentaje (%)=%{y}<br>Número de viviendas=%{customdata[2]}<br>m2=%{customdata[0]}<br>estrato=%{customdata[1]}<extra></extra>",
         "legendgroup": "Cálido extremoso",
         "marker": {
          "color": "#636efa",
          "size": {
           "bdata": "AAAAACAaFUEAAAAA7sIsQf////+P6hNBAAAAAOxgFEEAAAAAwEcbQQAAAABA8OpAAAAAABCF80AAAAAAcDoFQQAAAABAz/dA/////4csAUH/////Hz3hQAAAAABAUdxAAAAAAMBc4EAAAAAAQBHRQP//////F6xAAQAAAAAQokA=",
           "dtype": "f8"
          },
          "sizemode": "area",
          "sizeref": 438.19,
          "symbol": "circle"
         },
         "mode": "markers",
         "name": "Cálido extremoso",
         "orientation": "v",
         "showlegend": true,
         "type": "scatter",
         "x": {
          "bdata": "N+OXYDupokHhAjmTawiYQTWmU5AhC4xBlWjuMhDoikHsqthvo4uGQS2A8P/7I3RB3N3YRU+LakFhlD1PSfRpQe1gauAdxGZBSIb1cicnYkHMKpJOxV1YQaIS+46AS1BBGUM7KMidSUG6sD5kq6Y/QYz9G+pELTJBrsxKyceKFEE=",
          "dtype": "f8"
         },
         "xaxis": "x",
         "y": {
          "bdata": "vdSSo1Wu8D8gxdWNVbwGQFNHqOi9fO8/tFS02e4b8D9CgmOImJD1P61qQoVtS8U/3Br1o0Xczj/q7+qV4MfgP3hltHg+0tI/AdcZmtcm2z8ZemWeE0G7P/6awKp4YrY/tjAX8VfeuT+wO9oDtvuqPzfeyzg3NYY/hWHraneOfD8=",
          "dtype": "f8"
         },
         "yaxis": "y"
        }
       ],
       "layout": {
        "legend": {
         "itemsizing": "constant",
         "title": {
          "text": "Clima"
         },
         "tracegroupgap": 0
        },
        "template": {
         "data": {
          "bar": [
           {
            "error_x": {
             "color": "#2a3f5f"
            },
            "error_y": {
             "color": "#2a3f5f"
            },
            "marker": {
             "line": {
              "color": "#E5ECF6",
              "width": 0.5
             },
             "pattern": {
              "fillmode": "overlay",
              "size": 10,
              "solidity": 0.2
             }
            },
            "type": "bar"
           }
          ],
          "barpolar": [
           {
            "marker": {
             "line": {
              "color": "#E5ECF6",
              "width": 0.5
             },
             "pattern": {
              "fillmode": "overlay",
              "size": 10,
              "solidity": 0.2
             }
            },
            "type": "barpolar"
           }
          ],
          "carpet": [
           {
            "aaxis": {
             "endlinecolor": "#2a3f5f",
             "gridcolor": "white",
             "linecolor": "white",
             "minorgridcolor": "white",
             "startlinecolor": "#2a3f5f"
            },
            "baxis": {
             "endlinecolor": "#2a3f5f",
             "gridcolor": "white",
             "linecolor": "white",
             "minorgridcolor": "white",
             "startlinecolor": "#2a3f5f"
            },
            "type": "carpet"
           }
          ],
          "choropleth": [
           {
            "colorbar": {
             "outlinewidth": 0,
             "ticks": ""
            },
            "type": "choropleth"
           }
          ],
          "contour": [
           {
            "colorbar": {
             "outlinewidth": 0,
             "ticks": ""
            },
            "colorscale": [
             [
              0,
              "#0d0887"
             ],
             [
              0.1111111111111111,
              "#46039f"
             ],
             [
              0.2222222222222222,
              "#7201a8"
             ],
             [
              0.3333333333333333,
              "#9c179e"
             ],
             [
              0.4444444444444444,
              "#bd3786"
             ],
             [
              0.5555555555555556,
              "#d8576b"
             ],
             [
              0.6666666666666666,
              "#ed7953"
             ],
             [
              0.7777777777777778,
              "#fb9f3a"
             ],
             [
              0.8888888888888888,
              "#fdca26"
             ],
             [
              1,
              "#f0f921"
             ]
            ],
            "type": "contour"
           }
          ],
          "contourcarpet": [
           {
            "colorbar": {
             "outlinewidth": 0,
             "ticks": ""
            },
            "type": "contourcarpet"
           }
          ],
          "heatmap": [
           {
            "colorbar": {
             "outlinewidth": 0,
             "ticks": ""
            },
            "colorscale": [
             [
              0,
              "#0d0887"
             ],
             [
              0.1111111111111111,
              "#46039f"
             ],
             [
              0.2222222222222222,
              "#7201a8"
             ],
             [
              0.3333333333333333,
              "#9c179e"
             ],
             [
              0.4444444444444444,
              "#bd3786"
             ],
             [
              0.5555555555555556,
              "#d8576b"
             ],
             [
              0.6666666666666666,
              "#ed7953"
             ],
             [
              0.7777777777777778,
              "#fb9f3a"
             ],
             [
              0.8888888888888888,
              "#fdca26"
             ],
             [
              1,
              "#f0f921"
             ]
            ],
            "type": "heatmap"
           }
          ],
          "histogram": [
           {
            "marker": {
             "pattern": {
              "fillmode": "overlay",
              "size": 10,
              "solidity": 0.2
             }
            },
            "type": "histogram"
           }
          ],
          "histogram2d": [
           {
            "colorbar": {
             "outlinewidth": 0,
             "ticks": ""
            },
            "colorscale": [
             [
              0,
              "#0d0887"
             ],
             [
              0.1111111111111111,
              "#46039f"
             ],
             [
              0.2222222222222222,
              "#7201a8"
             ],
             [
              0.3333333333333333,
              "#9c179e"
             ],
             [
              0.4444444444444444,
              "#bd3786"
             ],
             [
              0.5555555555555556,
              "#d8576b"
             ],
             [
              0.6666666666666666,
              "#ed7953"
             ],
             [
              0.7777777777777778,
              "#fb9f3a"
             ],
             [
              0.8888888888888888,
              "#fdca26"
             ],
             [
              1,
              "#f0f921"
             ]
            ],
            "type": "histogram2d"
           }
          ],
          "histogram2dcontour": [
           {
            "colorbar": {
             "outlinewidth": 0,
             "ticks": ""
            },
            "colorscale": [
             [
              0,
              "#0d0887"
             ],
             [
              0.1111111111111111,
              "#46039f"
             ],
             [
              0.2222222222222222,
              "#7201a8"
             ],
             [
              0.3333333333333333,
              "#9c179e"
             ],
             [
              0.4444444444444444,
              "#bd3786"
             ],
             [
              0.5555555555555556,
              "#d8576b"
             ],
             [
              0.6666666666666666,
              "#ed7953"
             ],
             [
              0.7777777777777778,
              "#fb9f3a"
             ],
             [
              0.8888888888888888,
              "#fdca26"
             ],
             [
              1,
              "#f0f921"
             ]
            ],
            "type": "histogram2dcontour"
           }
          ],
          "mesh3d": [
           {
            "colorbar": {
             "outlinewidth": 0,
             "ticks": ""
            },
            "type": "mesh3d"
           }
          ],
          "parcoords": [
           {
            "line": {
             "colorbar": {
              "outlinewidth": 0,
              "ticks": ""
             }
            },
            "type": "parcoords"
           }
          ],
          "pie": [
           {
            "automargin": true,
            "type": "pie"
           }
          ],
          "scatter": [
           {
            "fillpattern": {
             "fillmode": "overlay",
             "size": 10,
             "solidity": 0.2
            },
            "type": "scatter"
           }
          ],
          "scatter3d": [
           {
            "line": {
             "colorbar": {
              "outlinewidth": 0,
              "ticks": ""
             }
            },
            "marker": {
             "colorbar": {
              "outlinewidth": 0,
              "ticks": ""
             }
            },
            "type": "scatter3d"
           }
          ],
          "scattercarpet": [
           {
            "marker": {
             "colorbar": {
              "outlinewidth": 0,
              "ticks": ""
             }
            },
            "type": "scattercarpet"
           }
          ],
          "scattergeo": [
           {
            "marker": {
             "colorbar": {
              "outlinewidth": 0,
              "ticks": ""
             }
            },
            "type": "scattergeo"
           }
          ],
          "scattergl": [
           {
            "marker": {
             "colorbar": {
              "outlinewidth": 0,
              "ticks": ""
             }
            },
            "type": "scattergl"
           }
          ],
          "scattermap": [
           {
            "marker": {
             "colorbar": {
              "outlinewidth": 0,
              "ticks": ""
             }
            },
            "type": "scattermap"
           }
          ],
          "scattermapbox": [
           {
            "marker": {
             "colorbar": {
              "outlinewidth": 0,
              "ticks": ""
             }
            },
            "type": "scattermapbox"
           }
          ],
          "scatterpolar": [
           {
            "marker": {
             "colorbar": {
              "outlinewidth": 0,
              "ticks": ""
             }
            },
            "type": "scatterpolar"
           }
          ],
          "scatterpolargl": [
           {
            "marker": {
             "colorbar": {
              "outlinewidth": 0,
              "ticks": ""
             }
            },
            "type": "scatterpolargl"
           }
          ],
          "scatterternary": [
           {
            "marker": {
             "colorbar": {
              "outlinewidth": 0,
              "ticks": ""
             }
            },
            "type": "scatterternary"
           }
          ],
          "surface": [
           {
            "colorbar": {
             "outlinewidth": 0,
             "ticks": ""
            },
            "colorscale": [
             [
              0,
              "#0d0887"
             ],
             [
              0.1111111111111111,
              "#46039f"
             ],
             [
              0.2222222222222222,
              "#7201a8"
             ],
             [
              0.3333333333333333,
              "#9c179e"
             ],
             [
              0.4444444444444444,
              "#bd3786"
             ],
             [
              0.5555555555555556,
              "#d8576b"
             ],
             [
              0.6666666666666666,
              "#ed7953"
             ],
             [
              0.7777777777777778,
              "#fb9f3a"
             ],
             [
              0.8888888888888888,
              "#fdca26"
             ],
             [
              1,
              "#f0f921"
             ]
            ],
            "type": "surface"
           }
          ],
          "table": [
           {
            "cells": {
             "fill": {
              "color": "#EBF0F8"
             },
             "line": {
              "color": "white"
             }
            },
            "header": {
             "fill": {
              "color": "#C8D4E3"
             },
             "line": {
              "color": "white"
             }
            },
            "type": "table"
           }
          ]
         },
         "layout": {
          "annotationdefaults": {
           "arrowcolor": "#2a3f5f",
           "arrowhead": 0,
           "arrowwidth": 1
          },
          "autotypenumbers": "strict",
          "coloraxis": {
           "colorbar": {
            "outlinewidth": 0,
            "ticks": ""
           }
          },
          "colorscale": {
           "diverging": [
            [
             0,
             "#8e0152"
            ],
            [
             0.1,
             "#c51b7d"
            ],
            [
             0.2,
             "#de77ae"
            ],
            [
             0.3,
             "#f1b6da"
            ],
            [
             0.4,
             "#fde0ef"
            ],
            [
             0.5,
             "#f7f7f7"
            ],
            [
             0.6,
             "#e6f5d0"
            ],
            [
             0.7,
             "#b8e186"
            ],
            [
             0.8,
             "#7fbc41"
            ],
            [
             0.9,
             "#4d9221"
            ],
            [
             1,
             "#276419"
            ]
           ],
           "sequential": [
            [
             0,
             "#0d0887"
            ],
            [
             0.1111111111111111,
             "#46039f"
            ],
            [
             0.2222222222222222,
             "#7201a8"
            ],
            [
             0.3333333333333333,
             "#9c179e"
            ],
            [
             0.4444444444444444,
             "#bd3786"
            ],
            [
             0.5555555555555556,
             "#d8576b"
            ],
            [
             0.6666666666666666,
             "#ed7953"
            ],
            [
             0.7777777777777778,
             "#fb9f3a"
            ],
            [
             0.8888888888888888,
             "#fdca26"
            ],
            [
             1,
             "#f0f921"
            ]
           ],
           "sequentialminus": [
            [
             0,
             "#0d0887"
            ],
            [
             0.1111111111111111,
             "#46039f"
            ],
            [
             0.2222222222222222,
             "#7201a8"
            ],
            [
             0.3333333333333333,
             "#9c179e"
            ],
            [
             0.4444444444444444,
             "#bd3786"
            ],
            [
             0.5555555555555556,
             "#d8576b"
            ],
            [
             0.6666666666666666,
             "#ed7953"
            ],
            [
             0.7777777777777778,
             "#fb9f3a"
            ],
            [
             0.8888888888888888,
             "#fdca26"
            ],
            [
             1,
             "#f0f921"
            ]
           ]
          },
          "colorway": [
           "#636efa",
           "#EF553B",
           "#00cc96",
           "#ab63fa",
           "#FFA15A",
           "#19d3f3",
           "#FF6692",
           "#B6E880",
           "#FF97FF",
           "#FECB52"
          ],
          "font": {
           "color": "#2a3f5f"
          },
          "geo": {
           "bgcolor": "white",
           "lakecolor": "white",
           "landcolor": "#E5ECF6",
           "showlakes": true,
           "showland": true,
           "subunitcolor": "white"
          },
          "hoverlabel": {
           "align": "left"
          },
          "hovermode": "closest",
          "mapbox": {
           "style": "light"
          },
          "paper_bgcolor": "white",
          "plot_bgcolor": "#E5ECF6",
          "polar": {
           "angularaxis": {
            "gridcolor": "white",
            "linecolor": "white",
            "ticks": ""
           },
           "bgcolor": "#E5ECF6",
           "radialaxis": {
            "gridcolor": "white",
            "linecolor": "white",
            "ticks": ""
           }
          },
          "scene": {
           "xaxis": {
            "backgroundcolor": "#E5ECF6",
            "gridcolor": "white",
            "gridwidth": 2,
            "linecolor": "white",
            "showbackground": true,
            "ticks": "",
            "zerolinecolor": "white"
           },
           "yaxis": {
            "backgroundcolor": "#E5ECF6",
            "gridcolor": "white",
            "gridwidth": 2,
            "linecolor": "white",
            "showbackground": true,
            "ticks": "",
            "zerolinecolor": "white"
           },
           "zaxis": {
            "backgroundcolor": "#E5ECF6",
            "gridcolor": "white",
            "gridwidth": 2,
            "linecolor": "white",
            "showbackground": true,
            "ticks": "",
            "zerolinecolor": "white"
           }
          },
          "shapedefaults": {
           "line": {
            "color": "#2a3f5f"
           }
          },
          "ternary": {
           "aaxis": {
            "gridcolor": "white",
            "linecolor": "white",
            "ticks": ""
           },
           "baxis": {
            "gridcolor": "white",
            "linecolor": "white",
            "ticks": ""
           },
           "bgcolor": "#E5ECF6",
           "caxis": {
            "gridcolor": "white",
            "linecolor": "white",
            "ticks": ""
           }
          },
          "title": {
           "x": 0.05
          },
          "xaxis": {
           "automargin": true,
           "gridcolor": "white",
           "linecolor": "white",
           "ticks": "",
           "title": {
            "standoff": 15
           },
           "zerolinecolor": "white",
           "zerolinewidth": 2
          },
          "yaxis": {
           "automargin": true,
           "gridcolor": "white",
           "linecolor": "white",
           "ticks": "",
           "title": {
            "standoff": 15
           },
           "zerolinecolor": "white",
           "zerolinewidth": 2
          }
         }
        },
        "title": {
         "text": "Top 10 grupos: Energía total vs Porcentaje (tamaño por viviendas)"
        },
        "xaxis": {
         "anchor": "y",
         "domain": [
          0,
          1
         ],
         "tickformat": ".2e",
         "title": {
          "text": "Energía total (etotal)"
         }
        },
        "yaxis": {
         "anchor": "x",
         "domain": [
          0,
          1
         ],
         "ticksuffix": "%",
         "title": {
          "text": "Porcentaje (%)"
         }
        }
       }
      },
      "image/png": "[encoded data removed]"
     },
     "metadata": {},
     "output_type": "display_data"
    }
   ],
   "source": [
    "\n",
    "# Ordenar y seleccionar top 10 grupos por etotal\n",
    "df_top10 = (\n",
    "    grouped_kwhmes\n",
    "    .sort_values(by='etotal', ascending=False)\n",
    "    # .head(30)\n",
    "    .reset_index()\n",
    ")\n",
    "\n",
    "# Crear gráfica de burbujas: etotal vs porcentaje, tamaño por viviendas, color por clima\n",
    "fig = px.scatter(\n",
    "    df_top10,\n",
    "    x='etotal',\n",
    "    y='porcentaje',\n",
    "    size='viviendas',\n",
    "    color='clima',\n",
    "    hover_data=['m2', 'estrato', 'viviendas', 'porcentaje', 'etotal'],\n",
    "    labels={\n",
    "        'etotal': 'Energía total (etotal)',\n",
    "        'porcentaje': 'Porcentaje (%)',\n",
    "        'viviendas': 'Número de viviendas',\n",
    "        'clima': 'Clima'\n",
    "    },\n",
    "    title='Top 10 grupos: Energía total vs Porcentaje (tamaño por viviendas)',\n",
    "    size_max=60\n",
    ")\n",
    "\n",
    "fig.update_layout(\n",
    "    xaxis=dict(tickformat=\".2e\"),\n",
    "    yaxis=dict(ticksuffix=\"%\")\n",
    ")\n",
    "\n",
    "fig.show()\n"
   ]
  },
  {
   "cell_type": "code",
   "execution_count": 17,
   "id": "3a736fd7-c63f-4f25-a214-0849f4050a64",
   "metadata": {},
   "outputs": [
    {
     "data": {
      "application/vnd.plotly.v1+json": {
       "config": {
        "plotlyServerURL": "https://plot.ly"
       },
       "data": [
        {
         "customdata": [
          [
           200,
           "Medio bajo",
           345736,
           156540336.2966554
          ],
          [
           75,
           "Medio bajo",
           942455,
           100801252.80567504
          ],
          [
           100,
           "Medio bajo",
           326307.99999999994,
           58811442.04084436
          ],
          [
           55,
           "Medio bajo",
           333883,
           56427014.36641041
          ],
          [
           100,
           "Bajo",
           446960,
           47281261.98079476
          ],
          [
           30,
           "Medio alto",
           55170,
           21118911.996215988
          ],
          [
           150,
           "Medio bajo",
           79953,
           13916794.182722978
          ],
          [
           55,
           "Bajo",
           173902,
           13607498.476267042
          ],
          [
           200,
           "Medio alto",
           97524,
           11935983.012985671
          ],
          [
           75,
           "Medio alto",
           140688.99999999997,
           9517371.592471257
          ],
          [
           30,
           "Medio bajo",
           35304.99999999999,
           6387477.227671336
          ],
          [
           100,
           "Medio alto",
           28997,
           4271618.234074267
          ],
          [
           55,
           "Medio alto",
           33510,
           3357584.314308536
          ],
          [
           150,
           "Medio alto",
           17477,
           2074283.3915815786
          ],
          [
           100,
           "Alto",
           3595.9999999999995,
           1191236.9144895999
          ],
          [
           30,
           "Alto",
           2312.0000000000005,
           336561.94657440006
          ]
         ],
         "hovertemplate": "Clima=Cálido extremoso<br>Media=%{x}<br>Porcentaje (%)=%{y}<br>Número de viviendas=%{customdata[2]}<br>m2=%{customdata[0]}<br>estrato=%{customdata[1]}<br>Energía total (etotal)=%{customdata[3]}<extra></extra>",
         "legendgroup": "Cálido extremoso",
         "marker": {
          "color": "#636efa",
          "size": {
           "bdata": "AAAAACAaFUEAAAAA7sIsQf////+P6hNBAAAAAOxgFEEAAAAAwEcbQQAAAABA8OpAAAAAABCF80AAAAAAcDoFQQAAAABAz/dA/////4csAUH/////Hz3hQAAAAABAUdxAAAAAAMBc4EAAAAAAQBHRQP//////F6xAAQAAAAAQokA=",
           "dtype": "f8"
          },
          "sizemode": "area",
          "sizeref": 438.19,
          "symbol": "circle"
         },
         "mode": "markers",
         "name": "Cálido extremoso",
         "orientation": "v",
         "showlegend": true,
         "type": "scatter",
         "x": {
          "bdata": "NN3YEWNMfEArCxC6L71aQLflPQp0h2ZA96SGURMgZUD4M9G3LnJaQLYVs5/A7HdAMX5oc/3BZUCevt+f4I9TQItHzTr5mF5APma2vH3pUECclZ4Ph51mQDDimVf/aWJAskmVQpMMWUB9SykV76tdQKZO9oVGtHRAMvSZ/UsyYkA=",
          "dtype": "f8"
         },
         "xaxis": "x",
         "y": {
          "bdata": "vdSSo1Wu8D8gxdWNVbwGQFNHqOi9fO8/tFS02e4b8D9CgmOImJD1P61qQoVtS8U/3Br1o0Xczj/q7+qV4MfgP3hltHg+0tI/AdcZmtcm2z8ZemWeE0G7P/6awKp4YrY/tjAX8VfeuT+wO9oDtvuqPzfeyzg3NYY/hWHraneOfD8=",
          "dtype": "f8"
         },
         "yaxis": "y"
        }
       ],
       "layout": {
        "legend": {
         "itemsizing": "constant",
         "title": {
          "text": "Clima"
         },
         "tracegroupgap": 0
        },
        "template": {
         "data": {
          "bar": [
           {
            "error_x": {
             "color": "#2a3f5f"
            },
            "error_y": {
             "color": "#2a3f5f"
            },
            "marker": {
             "line": {
              "color": "#E5ECF6",
              "width": 0.5
             },
             "pattern": {
              "fillmode": "overlay",
              "size": 10,
              "solidity": 0.2
             }
            },
            "type": "bar"
           }
          ],
          "barpolar": [
           {
            "marker": {
             "line": {
              "color": "#E5ECF6",
              "width": 0.5
             },
             "pattern": {
              "fillmode": "overlay",
              "size": 10,
              "solidity": 0.2
             }
            },
            "type": "barpolar"
           }
          ],
          "carpet": [
           {
            "aaxis": {
             "endlinecolor": "#2a3f5f",
             "gridcolor": "white",
             "linecolor": "white",
             "minorgridcolor": "white",
             "startlinecolor": "#2a3f5f"
            },
            "baxis": {
             "endlinecolor": "#2a3f5f",
             "gridcolor": "white",
             "linecolor": "white",
             "minorgridcolor": "white",
             "startlinecolor": "#2a3f5f"
            },
            "type": "carpet"
           }
          ],
          "choropleth": [
           {
            "colorbar": {
             "outlinewidth": 0,
             "ticks": ""
            },
            "type": "choropleth"
           }
          ],
          "contour": [
           {
            "colorbar": {
             "outlinewidth": 0,
             "ticks": ""
            },
            "colorscale": [
             [
              0,
              "#0d0887"
             ],
             [
              0.1111111111111111,
              "#46039f"
             ],
             [
              0.2222222222222222,
              "#7201a8"
             ],
             [
              0.3333333333333333,
              "#9c179e"
             ],
             [
              0.4444444444444444,
              "#bd3786"
             ],
             [
              0.5555555555555556,
              "#d8576b"
             ],
             [
              0.6666666666666666,
              "#ed7953"
             ],
             [
              0.7777777777777778,
              "#fb9f3a"
             ],
             [
              0.8888888888888888,
              "#fdca26"
             ],
             [
              1,
              "#f0f921"
             ]
            ],
            "type": "contour"
           }
          ],
          "contourcarpet": [
           {
            "colorbar": {
             "outlinewidth": 0,
             "ticks": ""
            },
            "type": "contourcarpet"
           }
          ],
          "heatmap": [
           {
            "colorbar": {
             "outlinewidth": 0,
             "ticks": ""
            },
            "colorscale": [
             [
              0,
              "#0d0887"
             ],
             [
              0.1111111111111111,
              "#46039f"
             ],
             [
              0.2222222222222222,
              "#7201a8"
             ],
             [
              0.3333333333333333,
              "#9c179e"
             ],
             [
              0.4444444444444444,
              "#bd3786"
             ],
             [
              0.5555555555555556,
              "#d8576b"
             ],
             [
              0.6666666666666666,
              "#ed7953"
             ],
             [
              0.7777777777777778,
              "#fb9f3a"
             ],
             [
              0.8888888888888888,
              "#fdca26"
             ],
             [
              1,
              "#f0f921"
             ]
            ],
            "type": "heatmap"
           }
          ],
          "histogram": [
           {
            "marker": {
             "pattern": {
              "fillmode": "overlay",
              "size": 10,
              "solidity": 0.2
             }
            },
            "type": "histogram"
           }
          ],
          "histogram2d": [
           {
            "colorbar": {
             "outlinewidth": 0,
             "ticks": ""
            },
            "colorscale": [
             [
              0,
              "#0d0887"
             ],
             [
              0.1111111111111111,
              "#46039f"
             ],
             [
              0.2222222222222222,
              "#7201a8"
             ],
             [
              0.3333333333333333,
              "#9c179e"
             ],
             [
              0.4444444444444444,
              "#bd3786"
             ],
             [
              0.5555555555555556,
              "#d8576b"
             ],
             [
              0.6666666666666666,
              "#ed7953"
             ],
             [
              0.7777777777777778,
              "#fb9f3a"
             ],
             [
              0.8888888888888888,
              "#fdca26"
             ],
             [
              1,
              "#f0f921"
             ]
            ],
            "type": "histogram2d"
           }
          ],
          "histogram2dcontour": [
           {
            "colorbar": {
             "outlinewidth": 0,
             "ticks": ""
            },
            "colorscale": [
             [
              0,
              "#0d0887"
             ],
             [
              0.1111111111111111,
              "#46039f"
             ],
             [
              0.2222222222222222,
              "#7201a8"
             ],
             [
              0.3333333333333333,
              "#9c179e"
             ],
             [
              0.4444444444444444,
              "#bd3786"
             ],
             [
              0.5555555555555556,
              "#d8576b"
             ],
             [
              0.6666666666666666,
              "#ed7953"
             ],
             [
              0.7777777777777778,
              "#fb9f3a"
             ],
             [
              0.8888888888888888,
              "#fdca26"
             ],
             [
              1,
              "#f0f921"
             ]
            ],
            "type": "histogram2dcontour"
           }
          ],
          "mesh3d": [
           {
            "colorbar": {
             "outlinewidth": 0,
             "ticks": ""
            },
            "type": "mesh3d"
           }
          ],
          "parcoords": [
           {
            "line": {
             "colorbar": {
              "outlinewidth": 0,
              "ticks": ""
             }
            },
            "type": "parcoords"
           }
          ],
          "pie": [
           {
            "automargin": true,
            "type": "pie"
           }
          ],
          "scatter": [
           {
            "fillpattern": {
             "fillmode": "overlay",
             "size": 10,
             "solidity": 0.2
            },
            "type": "scatter"
           }
          ],
          "scatter3d": [
           {
            "line": {
             "colorbar": {
              "outlinewidth": 0,
              "ticks": ""
             }
            },
            "marker": {
             "colorbar": {
              "outlinewidth": 0,
              "ticks": ""
             }
            },
            "type": "scatter3d"
           }
          ],
          "scattercarpet": [
           {
            "marker": {
             "colorbar": {
              "outlinewidth": 0,
              "ticks": ""
             }
            },
            "type": "scattercarpet"
           }
          ],
          "scattergeo": [
           {
            "marker": {
             "colorbar": {
              "outlinewidth": 0,
              "ticks": ""
             }
            },
            "type": "scattergeo"
           }
          ],
          "scattergl": [
           {
            "marker": {
             "colorbar": {
              "outlinewidth": 0,
              "ticks": ""
             }
            },
            "type": "scattergl"
           }
          ],
          "scattermap": [
           {
            "marker": {
             "colorbar": {
              "outlinewidth": 0,
              "ticks": ""
             }
            },
            "type": "scattermap"
           }
          ],
          "scattermapbox": [
           {
            "marker": {
             "colorbar": {
              "outlinewidth": 0,
              "ticks": ""
             }
            },
            "type": "scattermapbox"
           }
          ],
          "scatterpolar": [
           {
            "marker": {
             "colorbar": {
              "outlinewidth": 0,
              "ticks": ""
             }
            },
            "type": "scatterpolar"
           }
          ],
          "scatterpolargl": [
           {
            "marker": {
             "colorbar": {
              "outlinewidth": 0,
              "ticks": ""
             }
            },
            "type": "scatterpolargl"
           }
          ],
          "scatterternary": [
           {
            "marker": {
             "colorbar": {
              "outlinewidth": 0,
              "ticks": ""
             }
            },
            "type": "scatterternary"
           }
          ],
          "surface": [
           {
            "colorbar": {
             "outlinewidth": 0,
             "ticks": ""
            },
            "colorscale": [
             [
              0,
              "#0d0887"
             ],
             [
              0.1111111111111111,
              "#46039f"
             ],
             [
              0.2222222222222222,
              "#7201a8"
             ],
             [
              0.3333333333333333,
              "#9c179e"
             ],
             [
              0.4444444444444444,
              "#bd3786"
             ],
             [
              0.5555555555555556,
              "#d8576b"
             ],
             [
              0.6666666666666666,
              "#ed7953"
             ],
             [
              0.7777777777777778,
              "#fb9f3a"
             ],
             [
              0.8888888888888888,
              "#fdca26"
             ],
             [
              1,
              "#f0f921"
             ]
            ],
            "type": "surface"
           }
          ],
          "table": [
           {
            "cells": {
             "fill": {
              "color": "#EBF0F8"
             },
             "line": {
              "color": "white"
             }
            },
            "header": {
             "fill": {
              "color": "#C8D4E3"
             },
             "line": {
              "color": "white"
             }
            },
            "type": "table"
           }
          ]
         },
         "layout": {
          "annotationdefaults": {
           "arrowcolor": "#2a3f5f",
           "arrowhead": 0,
           "arrowwidth": 1
          },
          "autotypenumbers": "strict",
          "coloraxis": {
           "colorbar": {
            "outlinewidth": 0,
            "ticks": ""
           }
          },
          "colorscale": {
           "diverging": [
            [
             0,
             "#8e0152"
            ],
            [
             0.1,
             "#c51b7d"
            ],
            [
             0.2,
             "#de77ae"
            ],
            [
             0.3,
             "#f1b6da"
            ],
            [
             0.4,
             "#fde0ef"
            ],
            [
             0.5,
             "#f7f7f7"
            ],
            [
             0.6,
             "#e6f5d0"
            ],
            [
             0.7,
             "#b8e186"
            ],
            [
             0.8,
             "#7fbc41"
            ],
            [
             0.9,
             "#4d9221"
            ],
            [
             1,
             "#276419"
            ]
           ],
           "sequential": [
            [
             0,
             "#0d0887"
            ],
            [
             0.1111111111111111,
             "#46039f"
            ],
            [
             0.2222222222222222,
             "#7201a8"
            ],
            [
             0.3333333333333333,
             "#9c179e"
            ],
            [
             0.4444444444444444,
             "#bd3786"
            ],
            [
             0.5555555555555556,
             "#d8576b"
            ],
            [
             0.6666666666666666,
             "#ed7953"
            ],
            [
             0.7777777777777778,
             "#fb9f3a"
            ],
            [
             0.8888888888888888,
             "#fdca26"
            ],
            [
             1,
             "#f0f921"
            ]
           ],
           "sequentialminus": [
            [
             0,
             "#0d0887"
            ],
            [
             0.1111111111111111,
             "#46039f"
            ],
            [
             0.2222222222222222,
             "#7201a8"
            ],
            [
             0.3333333333333333,
             "#9c179e"
            ],
            [
             0.4444444444444444,
             "#bd3786"
            ],
            [
             0.5555555555555556,
             "#d8576b"
            ],
            [
             0.6666666666666666,
             "#ed7953"
            ],
            [
             0.7777777777777778,
             "#fb9f3a"
            ],
            [
             0.8888888888888888,
             "#fdca26"
            ],
            [
             1,
             "#f0f921"
            ]
           ]
          },
          "colorway": [
           "#636efa",
           "#EF553B",
           "#00cc96",
           "#ab63fa",
           "#FFA15A",
           "#19d3f3",
           "#FF6692",
           "#B6E880",
           "#FF97FF",
           "#FECB52"
          ],
          "font": {
           "color": "#2a3f5f"
          },
          "geo": {
           "bgcolor": "white",
           "lakecolor": "white",
           "landcolor": "#E5ECF6",
           "showlakes": true,
           "showland": true,
           "subunitcolor": "white"
          },
          "hoverlabel": {
           "align": "left"
          },
          "hovermode": "closest",
          "mapbox": {
           "style": "light"
          },
          "paper_bgcolor": "white",
          "plot_bgcolor": "#E5ECF6",
          "polar": {
           "angularaxis": {
            "gridcolor": "white",
            "linecolor": "white",
            "ticks": ""
           },
           "bgcolor": "#E5ECF6",
           "radialaxis": {
            "gridcolor": "white",
            "linecolor": "white",
            "ticks": ""
           }
          },
          "scene": {
           "xaxis": {
            "backgroundcolor": "#E5ECF6",
            "gridcolor": "white",
            "gridwidth": 2,
            "linecolor": "white",
            "showbackground": true,
            "ticks": "",
            "zerolinecolor": "white"
           },
           "yaxis": {
            "backgroundcolor": "#E5ECF6",
            "gridcolor": "white",
            "gridwidth": 2,
            "linecolor": "white",
            "showbackground": true,
            "ticks": "",
            "zerolinecolor": "white"
           },
           "zaxis": {
            "backgroundcolor": "#E5ECF6",
            "gridcolor": "white",
            "gridwidth": 2,
            "linecolor": "white",
            "showbackground": true,
            "ticks": "",
            "zerolinecolor": "white"
           }
          },
          "shapedefaults": {
           "line": {
            "color": "#2a3f5f"
           }
          },
          "ternary": {
           "aaxis": {
            "gridcolor": "white",
            "linecolor": "white",
            "ticks": ""
           },
           "baxis": {
            "gridcolor": "white",
            "linecolor": "white",
            "ticks": ""
           },
           "bgcolor": "#E5ECF6",
           "caxis": {
            "gridcolor": "white",
            "linecolor": "white",
            "ticks": ""
           }
          },
          "title": {
           "x": 0.05
          },
          "xaxis": {
           "automargin": true,
           "gridcolor": "white",
           "linecolor": "white",
           "ticks": "",
           "title": {
            "standoff": 15
           },
           "zerolinecolor": "white",
           "zerolinewidth": 2
          },
          "yaxis": {
           "automargin": true,
           "gridcolor": "white",
           "linecolor": "white",
           "ticks": "",
           "title": {
            "standoff": 15
           },
           "zerolinecolor": "white",
           "zerolinewidth": 2
          }
         }
        },
        "title": {
         "text": "Top 10 grupos: Energía total vs Porcentaje (tamaño por viviendas)"
        },
        "xaxis": {
         "anchor": "y",
         "domain": [
          0,
          1
         ],
         "tickformat": ".2e",
         "title": {
          "text": "Media"
         }
        },
        "yaxis": {
         "anchor": "x",
         "domain": [
          0,
          1
         ],
         "ticksuffix": "%",
         "title": {
          "text": "Porcentaje (%)"
         }
        }
       }
      },
      "image/png": "[encoded data removed]"
     },
     "metadata": {},
     "output_type": "display_data"
    }
   ],
   "source": [
    "\n",
    "# Ordenar y seleccionar top 10 grupos por etotal\n",
    "df_top10 = (\n",
    "    grouped_kwhmes\n",
    "    .sort_values(by='etotal', ascending=False)\n",
    "    # .head(30)\n",
    "    .reset_index()\n",
    ")\n",
    "\n",
    "# Crear gráfica de burbujas: etotal vs porcentaje, tamaño por viviendas, color por clima\n",
    "fig = px.scatter(\n",
    "    df_top10,\n",
    "    x='Media',\n",
    "    y='porcentaje',\n",
    "    size='viviendas',\n",
    "    color='clima',\n",
    "    hover_data=['m2', 'estrato', 'viviendas', 'porcentaje', 'etotal'],\n",
    "    labels={\n",
    "        'etotal': 'Energía total (etotal)',\n",
    "        'porcentaje': 'Porcentaje (%)',\n",
    "        'viviendas': 'Número de viviendas',\n",
    "        'clima': 'Clima'\n",
    "    },\n",
    "    title='Top 10 grupos: Energía total vs Porcentaje (tamaño por viviendas)',\n",
    "    size_max=60\n",
    ")\n",
    "\n",
    "fig.update_layout(\n",
    "    xaxis=dict(tickformat=\".2e\"),\n",
    "    yaxis=dict(ticksuffix=\"%\")\n",
    ")\n",
    "\n",
    "fig.show()\n"
   ]
  },
  {
   "cell_type": "code",
   "execution_count": null,
   "id": "e90b7a14-4e88-4a88-8d3a-8499446b86cc",
   "metadata": {},
   "outputs": [],
   "source": []
  }
 ],
 "metadata": {
  "kernelspec": {
   "display_name": "Python 3 (ipykernel)",
   "language": "python",
   "name": "python3"
  },
  "language_info": {
   "codemirror_mode": {
    "name": "ipython",
    "version": 3
   },
   "file_extension": ".py",
   "mimetype": "text/x-python",
   "name": "python",
   "nbconvert_exporter": "python",
   "pygments_lexer": "ipython3",
   "version": "3.10.17"
  }
 },
 "nbformat": 4,
 "nbformat_minor": 5
}
