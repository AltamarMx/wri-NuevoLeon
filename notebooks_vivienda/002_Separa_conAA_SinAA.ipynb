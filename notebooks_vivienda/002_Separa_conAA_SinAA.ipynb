{
 "cells": [
  {
   "cell_type": "code",
   "execution_count": 15,
   "id": "2e6e2060-b263-43e0-94f7-a6a7efdd9407",
   "metadata": {},
   "outputs": [],
   "source": [
    "import pandas as pd\n",
    "import numpy as np\n",
    "\n",
    "total = 1_427_843\n",
    "total_ac = 625_781\n",
    "total_nac = 802_062"
   ]
  },
  {
   "cell_type": "code",
   "execution_count": 16,
   "id": "57b81ff3-a088-4d09-ba3c-cad78ab13ce7",
   "metadata": {},
   "outputs": [
    {
     "name": "stdout",
     "output_type": "stream",
     "text": [
      "se tiran  51\n",
      "Iniciales  1036944\n",
      "Restan     951967\n"
     ]
    }
   ],
   "source": [
    "f = '../data/002_intermediate/vivienda_energia_m2_estrato_clima.parquet'\n",
    "vivienda = pd.read_parquet(f)\n",
    "print(\"se tiran \",vivienda.m2.isna().sum())\n",
    "print(\"Iniciales \",vivienda.factor.sum())\n",
    "vivienda.dropna(inplace=True)\n",
    "print(\"Restan    \",vivienda.factor.sum())\n"
   ]
  },
  {
   "cell_type": "code",
   "execution_count": 17,
   "id": "e491779e-28f6-4f05-9ac4-c36d581c8aec",
   "metadata": {},
   "outputs": [
    {
     "name": "stdout",
     "output_type": "stream",
     "text": [
      "Con AC: 419033\n",
      "Sin AC: 532934\n"
     ]
    }
   ],
   "source": [
    "f = \"../data/001_raw/ENCEVI_2018/aireacond.csv\"\n",
    "aire = pd.read_csv(f,index_col=0)\n",
    "folios_con_ac = aire.index.unique()\n",
    "\n",
    "# 2. Subconjunto de viv con AC\n",
    "viv_con_ac = vivienda.loc[ vivienda.index.isin(folios_con_ac) ]\n",
    "\n",
    "# 3. Subconjunto de viv sin AC\n",
    "viv_sin_ac = vivienda.loc[ ~vivienda.index.isin(folios_con_ac) ]\n",
    "\n",
    "# 4. Comprobar tamaños\n",
    "print(\"Con AC:\", viv_con_ac.factor.sum())\n",
    "print(\"Sin AC:\", viv_sin_ac.factor.sum())"
   ]
  },
  {
   "cell_type": "code",
   "execution_count": 18,
   "id": "ae39360e-ccf4-4b16-859f-eee674ab837b",
   "metadata": {},
   "outputs": [],
   "source": [
    "# viv_con_ac.to_parquet(\"../data/002_intermediate/vivienda_con_aa.parquet\")\n",
    "# viv_sin_ac.to_parquet(\"../data/002_intermediate/vivienda_sin_aa.parquet\")"
   ]
  },
  {
   "cell_type": "code",
   "execution_count": 19,
   "id": "126e4c68-f288-4f96-908b-dd852126e32a",
   "metadata": {},
   "outputs": [],
   "source": [
    "ac_mean = np.average(viv_con_ac['kwh_mes'],weights=viv_con_ac['factor'])\n",
    "nac_mean = np.average(viv_sin_ac['kwh_mes'],weights=viv_sin_ac['factor'])"
   ]
  },
  {
   "cell_type": "code",
   "execution_count": 20,
   "id": "05bb3bb7-6b55-4a37-8e37-b5f6838464ce",
   "metadata": {},
   "outputs": [
    {
     "data": {
      "text/plain": [
       "(np.float64(159.55143774011103), np.float64(120.54649414890874))"
      ]
     },
     "execution_count": 20,
     "metadata": {},
     "output_type": "execute_result"
    }
   ],
   "source": [
    "ac_mean, nac_mean"
   ]
  },
  {
   "cell_type": "code",
   "execution_count": 21,
   "id": "ca7b89f9-3fb1-476b-8984-5ffa489efa67",
   "metadata": {},
   "outputs": [
    {
     "data": {
      "text/plain": [
       "(np.float64(99844258.26044442), np.float64(96685762.19006203))"
      ]
     },
     "execution_count": 21,
     "metadata": {},
     "output_type": "execute_result"
    }
   ],
   "source": [
    "ac_energia = ac_mean*total_ac\n",
    "nac_energia = nac_mean*total_nac\n",
    "ac_energia, nac_energia"
   ]
  },
  {
   "cell_type": "code",
   "execution_count": 22,
   "id": "855988b3-75a7-4374-937e-c6f59e61ccb3",
   "metadata": {},
   "outputs": [
    {
     "data": {
      "text/plain": [
       "np.float64(196530020.45050645)"
      ]
     },
     "execution_count": 22,
     "metadata": {},
     "output_type": "execute_result"
    }
   ],
   "source": [
    "total_energia = ac_energia + nac_energia\n",
    "total_energia"
   ]
  },
  {
   "cell_type": "code",
   "execution_count": 23,
   "id": "1572c8a7-43f5-44c1-a5c7-2f1fea8a0085",
   "metadata": {},
   "outputs": [
    {
     "name": "stdout",
     "output_type": "stream",
     "text": [
      "  Tipo de vivienda  Viviendas (%)  Consumo (%)\n",
      "0           Con AC      43.827017    50.803566\n",
      "1           Sin AC      56.172983    49.196434\n"
     ]
    }
   ],
   "source": [
    "# Porcentaje de viviendas\n",
    "porc_ac = total_ac / total * 100\n",
    "porc_nac = total_nac / total * 100\n",
    "\n",
    "\n",
    "# Porcentaje del consumo\n",
    "porc_consumo_ac = ac_energia / total_energia * 100\n",
    "porc_consumo_nac = nac_energia / total_energia * 100\n",
    "\n",
    "# Crear tabla\n",
    "import pandas as pd\n",
    "\n",
    "tabla = pd.DataFrame({\n",
    "    'Tipo de vivienda': ['Con AC', 'Sin AC'],\n",
    "    'Viviendas (%)': [porc_ac, porc_nac],\n",
    "    'Consumo (%)': [porc_consumo_ac, porc_consumo_nac]\n",
    "})\n",
    "\n",
    "print(tabla)\n"
   ]
  },
  {
   "cell_type": "markdown",
   "id": "4945aed2-577d-4f3d-80f9-7e25ccc6cca6",
   "metadata": {},
   "source": [
    "## Calculo de con aire acondicionado"
   ]
  },
  {
   "cell_type": "code",
   "execution_count": 24,
   "id": "9c8cb577-1bb7-4885-be70-b7caad6f0c2a",
   "metadata": {
    "scrolled": true
   },
   "outputs": [
    {
     "data": {
      "text/html": [
       "<div>\n",
       "<style scoped>\n",
       "    .dataframe tbody tr th:only-of-type {\n",
       "        vertical-align: middle;\n",
       "    }\n",
       "\n",
       "    .dataframe tbody tr th {\n",
       "        vertical-align: top;\n",
       "    }\n",
       "\n",
       "    .dataframe thead th {\n",
       "        text-align: right;\n",
       "    }\n",
       "</style>\n",
       "<table border=\"1\" class=\"dataframe\">\n",
       "  <thead>\n",
       "    <tr style=\"text-align: right;\">\n",
       "      <th></th>\n",
       "      <th>m2</th>\n",
       "      <th>estrato</th>\n",
       "      <th>consumo_total_pond</th>\n",
       "      <th>peso</th>\n",
       "      <th>n_filas</th>\n",
       "      <th>pct_consumo_total</th>\n",
       "    </tr>\n",
       "  </thead>\n",
       "  <tbody>\n",
       "    <tr>\n",
       "      <th>0</th>\n",
       "      <td>55.0</td>\n",
       "      <td>Alto</td>\n",
       "      <td>404776.30</td>\n",
       "      <td>5232</td>\n",
       "      <td>3</td>\n",
       "      <td>0.61</td>\n",
       "    </tr>\n",
       "    <tr>\n",
       "      <th>1</th>\n",
       "      <td>75.0</td>\n",
       "      <td>Alto</td>\n",
       "      <td>1587764.40</td>\n",
       "      <td>11841</td>\n",
       "      <td>7</td>\n",
       "      <td>2.37</td>\n",
       "    </tr>\n",
       "    <tr>\n",
       "      <th>2</th>\n",
       "      <td>100.0</td>\n",
       "      <td>Alto</td>\n",
       "      <td>8105589.07</td>\n",
       "      <td>59321</td>\n",
       "      <td>37</td>\n",
       "      <td>12.12</td>\n",
       "    </tr>\n",
       "    <tr>\n",
       "      <th>3</th>\n",
       "      <td>150.0</td>\n",
       "      <td>Alto</td>\n",
       "      <td>7213327.21</td>\n",
       "      <td>43246</td>\n",
       "      <td>27</td>\n",
       "      <td>10.79</td>\n",
       "    </tr>\n",
       "    <tr>\n",
       "      <th>4</th>\n",
       "      <td>200.0</td>\n",
       "      <td>Alto</td>\n",
       "      <td>5224366.26</td>\n",
       "      <td>19064</td>\n",
       "      <td>11</td>\n",
       "      <td>7.81</td>\n",
       "    </tr>\n",
       "    <tr>\n",
       "      <th>5</th>\n",
       "      <td>55.0</td>\n",
       "      <td>Bajo</td>\n",
       "      <td>87317.15</td>\n",
       "      <td>1641</td>\n",
       "      <td>2</td>\n",
       "      <td>0.13</td>\n",
       "    </tr>\n",
       "    <tr>\n",
       "      <th>6</th>\n",
       "      <td>75.0</td>\n",
       "      <td>Bajo</td>\n",
       "      <td>168482.71</td>\n",
       "      <td>2581</td>\n",
       "      <td>3</td>\n",
       "      <td>0.25</td>\n",
       "    </tr>\n",
       "    <tr>\n",
       "      <th>7</th>\n",
       "      <td>100.0</td>\n",
       "      <td>Bajo</td>\n",
       "      <td>566226.16</td>\n",
       "      <td>2820</td>\n",
       "      <td>3</td>\n",
       "      <td>0.85</td>\n",
       "    </tr>\n",
       "    <tr>\n",
       "      <th>8</th>\n",
       "      <td>200.0</td>\n",
       "      <td>Bajo</td>\n",
       "      <td>131359.10</td>\n",
       "      <td>743</td>\n",
       "      <td>1</td>\n",
       "      <td>0.20</td>\n",
       "    </tr>\n",
       "    <tr>\n",
       "      <th>9</th>\n",
       "      <td>55.0</td>\n",
       "      <td>Medio alto</td>\n",
       "      <td>372696.20</td>\n",
       "      <td>4560</td>\n",
       "      <td>3</td>\n",
       "      <td>0.56</td>\n",
       "    </tr>\n",
       "    <tr>\n",
       "      <th>10</th>\n",
       "      <td>75.0</td>\n",
       "      <td>Medio alto</td>\n",
       "      <td>4971454.15</td>\n",
       "      <td>29629</td>\n",
       "      <td>19</td>\n",
       "      <td>7.44</td>\n",
       "    </tr>\n",
       "    <tr>\n",
       "      <th>11</th>\n",
       "      <td>100.0</td>\n",
       "      <td>Medio alto</td>\n",
       "      <td>10599566.47</td>\n",
       "      <td>63587</td>\n",
       "      <td>40</td>\n",
       "      <td>15.85</td>\n",
       "    </tr>\n",
       "    <tr>\n",
       "      <th>12</th>\n",
       "      <td>150.0</td>\n",
       "      <td>Medio alto</td>\n",
       "      <td>5565757.01</td>\n",
       "      <td>39854</td>\n",
       "      <td>25</td>\n",
       "      <td>8.32</td>\n",
       "    </tr>\n",
       "    <tr>\n",
       "      <th>13</th>\n",
       "      <td>200.0</td>\n",
       "      <td>Medio alto</td>\n",
       "      <td>4636759.43</td>\n",
       "      <td>24088</td>\n",
       "      <td>15</td>\n",
       "      <td>6.94</td>\n",
       "    </tr>\n",
       "    <tr>\n",
       "      <th>14</th>\n",
       "      <td>55.0</td>\n",
       "      <td>Medio bajo</td>\n",
       "      <td>2578451.45</td>\n",
       "      <td>16921</td>\n",
       "      <td>11</td>\n",
       "      <td>3.86</td>\n",
       "    </tr>\n",
       "    <tr>\n",
       "      <th>15</th>\n",
       "      <td>75.0</td>\n",
       "      <td>Medio bajo</td>\n",
       "      <td>2583755.78</td>\n",
       "      <td>25407</td>\n",
       "      <td>16</td>\n",
       "      <td>3.86</td>\n",
       "    </tr>\n",
       "    <tr>\n",
       "      <th>16</th>\n",
       "      <td>100.0</td>\n",
       "      <td>Medio bajo</td>\n",
       "      <td>5163929.14</td>\n",
       "      <td>39443</td>\n",
       "      <td>25</td>\n",
       "      <td>7.72</td>\n",
       "    </tr>\n",
       "    <tr>\n",
       "      <th>17</th>\n",
       "      <td>150.0</td>\n",
       "      <td>Medio bajo</td>\n",
       "      <td>5221615.42</td>\n",
       "      <td>22981</td>\n",
       "      <td>14</td>\n",
       "      <td>7.81</td>\n",
       "    </tr>\n",
       "    <tr>\n",
       "      <th>18</th>\n",
       "      <td>200.0</td>\n",
       "      <td>Medio bajo</td>\n",
       "      <td>1674124.19</td>\n",
       "      <td>6074</td>\n",
       "      <td>4</td>\n",
       "      <td>2.50</td>\n",
       "    </tr>\n",
       "  </tbody>\n",
       "</table>\n",
       "</div>"
      ],
      "text/plain": [
       "       m2     estrato  consumo_total_pond   peso  n_filas  pct_consumo_total\n",
       "0    55.0        Alto           404776.30   5232        3               0.61\n",
       "1    75.0        Alto          1587764.40  11841        7               2.37\n",
       "2   100.0        Alto          8105589.07  59321       37              12.12\n",
       "3   150.0        Alto          7213327.21  43246       27              10.79\n",
       "4   200.0        Alto          5224366.26  19064       11               7.81\n",
       "5    55.0        Bajo            87317.15   1641        2               0.13\n",
       "6    75.0        Bajo           168482.71   2581        3               0.25\n",
       "7   100.0        Bajo           566226.16   2820        3               0.85\n",
       "8   200.0        Bajo           131359.10    743        1               0.20\n",
       "9    55.0  Medio alto           372696.20   4560        3               0.56\n",
       "10   75.0  Medio alto          4971454.15  29629       19               7.44\n",
       "11  100.0  Medio alto         10599566.47  63587       40              15.85\n",
       "12  150.0  Medio alto          5565757.01  39854       25               8.32\n",
       "13  200.0  Medio alto          4636759.43  24088       15               6.94\n",
       "14   55.0  Medio bajo          2578451.45  16921       11               3.86\n",
       "15   75.0  Medio bajo          2583755.78  25407       16               3.86\n",
       "16  100.0  Medio bajo          5163929.14  39443       25               7.72\n",
       "17  150.0  Medio bajo          5221615.42  22981       14               7.81\n",
       "18  200.0  Medio bajo          1674124.19   6074        4               2.50"
      ]
     },
     "execution_count": 24,
     "metadata": {},
     "output_type": "execute_result"
    }
   ],
   "source": [
    "df = viv_con_ac[['m2','estrato','kwh_mes','factor']].copy()\n",
    "df = df.dropna(subset=['kwh_mes','factor'])\n",
    "df = df[df['factor'] > 0]\n",
    "\n",
    "# Consumo ponderado por registro (kWh/mes * peso)\n",
    "df['consumo_pond'] = df['kwh_mes'] * df['factor']\n",
    "\n",
    "# Agregado por m2 y estrato\n",
    "res = (\n",
    "    df.groupby(['m2','estrato'], as_index=False)\n",
    "      .agg(consumo_total_pond=('consumo_pond','sum'),\n",
    "           peso=('factor','sum'),\n",
    "           n_filas=('kwh_mes','size'))\n",
    ")\n",
    "\n",
    "# Porcentaje respecto al consumo total (suma ponderada global)\n",
    "total_consumo = res['consumo_total_pond'].sum()\n",
    "res['pct_consumo_total'] = 100 * res['consumo_total_pond'] / total_consumo\n",
    "\n",
    "# Orden y redondeo para presentación\n",
    "res = res.sort_values(['estrato','m2']).reset_index(drop=True)\n",
    "res['consumo_total_pond'] = res['consumo_total_pond'].round(2)\n",
    "res['pct_consumo_total'] = res['pct_consumo_total'].round(2)\n",
    "\n",
    "res\n"
   ]
  },
  {
   "cell_type": "code",
   "execution_count": 32,
   "id": "a7913b05-0420-41d2-9321-b25fca73ba0c",
   "metadata": {},
   "outputs": [
    {
     "name": "stdout",
     "output_type": "stream",
     "text": [
      "|   m2 | estrato    |   pct_consumo_total |   pct_viviendas |\n",
      "|-----:|:-----------|--------------------:|----------------:|\n",
      "|  100 | Medio alto |                 5.4 |             6.7 |\n",
      "|  100 | Alto       |                 4.1 |             6.2 |\n",
      "|  150 | Alto       |                 3.7 |             4.5 |\n",
      "|  150 | Medio alto |                 2.8 |             4.2 |\n",
      "|  200 | Alto       |                 2.7 |             2   |\n",
      "|  150 | Medio bajo |                 2.7 |             2.4 |\n",
      "|  100 | Medio bajo |                 2.6 |             4.1 |\n",
      "|   75 | Medio alto |                 2.5 |             3.1 |\n",
      "|  200 | Medio alto |                 2.4 |             2.5 |\n",
      "|   75 | Medio bajo |                 1.3 |             2.7 |\n",
      "|   55 | Medio bajo |                 1.3 |             1.8 |\n",
      "|  200 | Medio bajo |                 0.9 |             0.6 |\n",
      "|   75 | Alto       |                 0.8 |             1.2 |\n",
      "|  100 | Bajo       |                 0.3 |             0.3 |\n",
      "|   55 | Alto       |                 0.2 |             0.5 |\n",
      "|   55 | Medio alto |                 0.2 |             0.5 |\n",
      "|   75 | Bajo       |                 0.1 |             0.3 |\n",
      "|  200 | Bajo       |                 0.1 |             0.1 |\n",
      "|   55 | Bajo       |                 0   |             0.2 |\n"
     ]
    },
    {
     "name": "stderr",
     "output_type": "stream",
     "text": [
      "C:\\Users\\gbv\\AppData\\Local\\Temp\\ipykernel_11592\\1899583107.py:9: FutureWarning: DataFrameGroupBy.apply operated on the grouping columns. This behavior is deprecated, and in a future version of pandas the grouping columns will be excluded from the operation. Either pass `include_groups=False` to exclude the groupings or explicitly select the grouping columns after groupby to silence this warning.\n",
      "  .apply(lambda g: pd.Series({\n"
     ]
    }
   ],
   "source": [
    "\n",
    "# totales dados\n",
    "etotal = 196530020.45050645\n",
    "total_viviendas = 951967\n",
    "\n",
    "# agrupación y cálculos\n",
    "resultado = (\n",
    "    viv_con_ac\n",
    "    .groupby(['m2', 'estrato'], as_index=False)\n",
    "    .apply(lambda g: pd.Series({\n",
    "        'consumo_total_pond': (g['kwh_mes'] * g['factor']).sum(),\n",
    "        'viviendas_pond': g['factor'].sum()\n",
    "    }))\n",
    "    .reset_index(drop=True)\n",
    ")\n",
    "\n",
    "# porcentajes\n",
    "resultado['pct_consumo_total'] = 100 * resultado['consumo_total_pond'] / etotal\n",
    "resultado['pct_viviendas'] = 100 * resultado['viviendas_pond'] / total_viviendas\n",
    "\n",
    "# ordenar\n",
    "resultado = resultado.sort_values('consumo_total_pond', ascending=False)\n",
    "\n",
    "# print(resultado.columns)\n",
    "cols = ['m2', 'estrato',  'pct_consumo_total', 'pct_viviendas']\n",
    "print(resultado[cols].round(1).to_markdown(index=False))\n"
   ]
  },
  {
   "cell_type": "markdown",
   "id": "b8a9697d-16c9-4a80-b101-f03600907465",
   "metadata": {},
   "source": [
    "## Calculo sin aire acondicionado"
   ]
  },
  {
   "cell_type": "code",
   "execution_count": 34,
   "id": "23ed0ad0-97ad-4009-9f6e-412d288ac779",
   "metadata": {},
   "outputs": [
    {
     "name": "stdout",
     "output_type": "stream",
     "text": [
      "|   m2 | estrato    |   pct_consumo_total |   pct_viviendas |\n",
      "|-----:|:-----------|--------------------:|----------------:|\n",
      "|  100 | Medio alto |                 4.4 |             7.9 |\n",
      "|  100 | Medio bajo |                 4.2 |             7.5 |\n",
      "|   75 | Medio bajo |                 3.3 |             6.4 |\n",
      "|  150 | Medio bajo |                 2.9 |             4.8 |\n",
      "|   55 | Medio bajo |                 2.4 |             4.2 |\n",
      "|  200 | Medio alto |                 2.3 |             2.7 |\n",
      "|  150 | Medio alto |                 2.2 |             3.7 |\n",
      "|  200 | Medio bajo |                 2   |             2.2 |\n",
      "|  100 | Alto       |                 1.7 |             2.9 |\n",
      "|   75 | Medio alto |                 1.6 |             3.7 |\n",
      "|  150 | Alto       |                 1.3 |             1.9 |\n",
      "|   55 | Medio alto |                 1.3 |             1.8 |\n",
      "|   75 | Alto       |                 0.9 |             1.6 |\n",
      "|  200 | Alto       |                 0.5 |             1.3 |\n",
      "|   30 | Medio bajo |                 0.5 |             1.4 |\n",
      "|   75 | Bajo       |                 0.4 |             0.6 |\n",
      "|  100 | Bajo       |                 0.1 |             0.3 |\n",
      "|  150 | Bajo       |                 0.1 |             0.2 |\n",
      "|   55 | Alto       |                 0.1 |             0.2 |\n",
      "|   55 | Bajo       |                 0.1 |             0.4 |\n",
      "|   30 | Medio alto |                 0.1 |             0.2 |\n",
      "|   30 | Bajo       |                 0   |             0.2 |\n"
     ]
    },
    {
     "name": "stderr",
     "output_type": "stream",
     "text": [
      "C:\\Users\\gbv\\AppData\\Local\\Temp\\ipykernel_11592\\1719583142.py:9: FutureWarning: DataFrameGroupBy.apply operated on the grouping columns. This behavior is deprecated, and in a future version of pandas the grouping columns will be excluded from the operation. Either pass `include_groups=False` to exclude the groupings or explicitly select the grouping columns after groupby to silence this warning.\n",
      "  .apply(lambda g: pd.Series({\n"
     ]
    }
   ],
   "source": [
    "\n",
    "# totales dados\n",
    "etotal = 196530020.45050645\n",
    "total_viviendas = 951967\n",
    "\n",
    "# agrupación y cálculos\n",
    "resultado = (\n",
    "    viv_sin_ac\n",
    "    .groupby(['m2', 'estrato'], as_index=False)\n",
    "    .apply(lambda g: pd.Series({\n",
    "        'consumo_total_pond': (g['kwh_mes'] * g['factor']).sum(),\n",
    "        'viviendas_pond': g['factor'].sum()\n",
    "    }))\n",
    "    .reset_index(drop=True)\n",
    ")\n",
    "\n",
    "# porcentajes\n",
    "resultado['pct_consumo_total'] = 100 * resultado['consumo_total_pond'] / etotal\n",
    "resultado['pct_viviendas'] = 100 * resultado['viviendas_pond'] / total_viviendas\n",
    "\n",
    "\n",
    "resultado = resultado.sort_values('consumo_total_pond', ascending=False)\n",
    "cols = ['m2', 'estrato',  'pct_consumo_total', 'pct_viviendas']\n",
    "print(resultado[cols].round(1).to_markdown(index=False))\n"
   ]
  },
  {
   "cell_type": "code",
   "execution_count": null,
   "id": "6368486e-770b-49bf-a571-3a11e304aae8",
   "metadata": {},
   "outputs": [],
   "source": []
  }
 ],
 "metadata": {
  "kernelspec": {
   "display_name": "Python 3 (ipykernel)",
   "language": "python",
   "name": "python3"
  },
  "language_info": {
   "codemirror_mode": {
    "name": "ipython",
    "version": 3
   },
   "file_extension": ".py",
   "mimetype": "text/x-python",
   "name": "python",
   "nbconvert_exporter": "python",
   "pygments_lexer": "ipython3",
   "version": "3.10.17"
  }
 },
 "nbformat": 4,
 "nbformat_minor": 5
}
