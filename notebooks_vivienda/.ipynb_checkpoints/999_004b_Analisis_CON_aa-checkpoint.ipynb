{
 "cells": [
  {
   "cell_type": "code",
   "execution_count": 1,
   "id": "a20d8b29-c405-4fc4-9f2d-ce7018cf23fa",
   "metadata": {},
   "outputs": [],
   "source": [
    "import pandas as pd\n",
    "import numpy as np\n",
    "from tabulate import tabulate\n",
    "import seaborn as sns\n",
    "from matplotlib.patches import Patch\n",
    "import matplotlib.pyplot as plt\n",
    "import plotly.express as px\n"
   ]
  },
  {
   "cell_type": "code",
   "execution_count": 2,
   "id": "49bd9e57-3932-49f3-a66e-56f8bed150ba",
   "metadata": {},
   "outputs": [],
   "source": [
    "total_viviendas = 33_162_148"
   ]
  },
  {
   "cell_type": "code",
   "execution_count": 3,
   "id": "f45fa825-9800-4a65-92e5-e2bd71b70e82",
   "metadata": {},
   "outputs": [
    {
     "data": {
      "text/plain": [
       "Index(['clima', 'factor', 'personas', 'm2', 'estrato', 'kwh_mes', 'kwh_m2',\n",
       "       'kwh_persona', 'kwh_m2persona'],\n",
       "      dtype='object')"
      ]
     },
     "execution_count": 3,
     "metadata": {},
     "output_type": "execute_result"
    }
   ],
   "source": [
    "f =\"../data/002_intermediate/vivienda_con_aa.parquet\"\n",
    "viv =pd.read_parquet(f)\n",
    "viv.factor.sum()\n",
    "viv.columns"
   ]
  },
  {
   "cell_type": "code",
   "execution_count": 4,
   "id": "b71d8aac-f8c2-4485-9e3e-f6acfd923397",
   "metadata": {},
   "outputs": [
    {
     "data": {
      "text/html": [
       "<div>\n",
       "<style scoped>\n",
       "    .dataframe tbody tr th:only-of-type {\n",
       "        vertical-align: middle;\n",
       "    }\n",
       "\n",
       "    .dataframe tbody tr th {\n",
       "        vertical-align: top;\n",
       "    }\n",
       "\n",
       "    .dataframe thead th {\n",
       "        text-align: right;\n",
       "    }\n",
       "</style>\n",
       "<table border=\"1\" class=\"dataframe\">\n",
       "  <thead>\n",
       "    <tr style=\"text-align: right;\">\n",
       "      <th></th>\n",
       "      <th>clima</th>\n",
       "      <th>factor</th>\n",
       "      <th>personas</th>\n",
       "      <th>m2</th>\n",
       "      <th>estrato</th>\n",
       "      <th>kwh_mes</th>\n",
       "      <th>kwh_m2</th>\n",
       "      <th>kwh_persona</th>\n",
       "      <th>kwh_m2persona</th>\n",
       "    </tr>\n",
       "    <tr>\n",
       "      <th>folio</th>\n",
       "      <th></th>\n",
       "      <th></th>\n",
       "      <th></th>\n",
       "      <th></th>\n",
       "      <th></th>\n",
       "      <th></th>\n",
       "      <th></th>\n",
       "      <th></th>\n",
       "      <th></th>\n",
       "    </tr>\n",
       "  </thead>\n",
       "  <tbody>\n",
       "    <tr>\n",
       "      <th>69</th>\n",
       "      <td>Templado</td>\n",
       "      <td>342</td>\n",
       "      <td>2</td>\n",
       "      <td>150.0</td>\n",
       "      <td>Medio alto</td>\n",
       "      <td>246.827727</td>\n",
       "      <td>1.700369</td>\n",
       "      <td>127.527659</td>\n",
       "      <td>0.850184</td>\n",
       "    </tr>\n",
       "    <tr>\n",
       "      <th>70</th>\n",
       "      <td>Templado</td>\n",
       "      <td>342</td>\n",
       "      <td>5</td>\n",
       "      <td>200.0</td>\n",
       "      <td>Medio alto</td>\n",
       "      <td>860.214478</td>\n",
       "      <td>4.444441</td>\n",
       "      <td>177.777659</td>\n",
       "      <td>0.888888</td>\n",
       "    </tr>\n",
       "    <tr>\n",
       "      <th>76</th>\n",
       "      <td>Templado</td>\n",
       "      <td>301</td>\n",
       "      <td>3</td>\n",
       "      <td>150.0</td>\n",
       "      <td>Medio bajo</td>\n",
       "      <td>59.965533</td>\n",
       "      <td>0.812866</td>\n",
       "      <td>40.643305</td>\n",
       "      <td>0.270955</td>\n",
       "    </tr>\n",
       "    <tr>\n",
       "      <th>126</th>\n",
       "      <td>Templado</td>\n",
       "      <td>401</td>\n",
       "      <td>2</td>\n",
       "      <td>200.0</td>\n",
       "      <td>Medio bajo</td>\n",
       "      <td>177.066764</td>\n",
       "      <td>0.826312</td>\n",
       "      <td>82.631156</td>\n",
       "      <td>0.413156</td>\n",
       "    </tr>\n",
       "    <tr>\n",
       "      <th>168</th>\n",
       "      <td>Templado</td>\n",
       "      <td>349</td>\n",
       "      <td>1</td>\n",
       "      <td>200.0</td>\n",
       "      <td>Alto</td>\n",
       "      <td>34.993695</td>\n",
       "      <td>0.361602</td>\n",
       "      <td>72.320303</td>\n",
       "      <td>0.361602</td>\n",
       "    </tr>\n",
       "    <tr>\n",
       "      <th>...</th>\n",
       "      <td>...</td>\n",
       "      <td>...</td>\n",
       "      <td>...</td>\n",
       "      <td>...</td>\n",
       "      <td>...</td>\n",
       "      <td>...</td>\n",
       "      <td>...</td>\n",
       "      <td>...</td>\n",
       "      <td>...</td>\n",
       "    </tr>\n",
       "    <tr>\n",
       "      <th>27904</th>\n",
       "      <td>Tropical</td>\n",
       "      <td>620</td>\n",
       "      <td>3</td>\n",
       "      <td>55.0</td>\n",
       "      <td>Medio bajo</td>\n",
       "      <td>92.532559</td>\n",
       "      <td>3.420901</td>\n",
       "      <td>62.716512</td>\n",
       "      <td>1.140300</td>\n",
       "    </tr>\n",
       "    <tr>\n",
       "      <th>27968</th>\n",
       "      <td>Tropical</td>\n",
       "      <td>499</td>\n",
       "      <td>4</td>\n",
       "      <td>75.0</td>\n",
       "      <td>Medio bajo</td>\n",
       "      <td>78.142053</td>\n",
       "      <td>2.153248</td>\n",
       "      <td>40.373394</td>\n",
       "      <td>0.538312</td>\n",
       "    </tr>\n",
       "    <tr>\n",
       "      <th>28010</th>\n",
       "      <td>Tropical</td>\n",
       "      <td>488</td>\n",
       "      <td>3</td>\n",
       "      <td>55.0</td>\n",
       "      <td>Bajo</td>\n",
       "      <td>64.593418</td>\n",
       "      <td>1.213573</td>\n",
       "      <td>22.248844</td>\n",
       "      <td>0.404524</td>\n",
       "    </tr>\n",
       "    <tr>\n",
       "      <th>28357</th>\n",
       "      <td>Templado</td>\n",
       "      <td>394</td>\n",
       "      <td>3</td>\n",
       "      <td>150.0</td>\n",
       "      <td>Medio bajo</td>\n",
       "      <td>47.539310</td>\n",
       "      <td>0.654986</td>\n",
       "      <td>32.749303</td>\n",
       "      <td>0.218329</td>\n",
       "    </tr>\n",
       "    <tr>\n",
       "      <th>28626</th>\n",
       "      <td>Templado</td>\n",
       "      <td>542</td>\n",
       "      <td>3</td>\n",
       "      <td>75.0</td>\n",
       "      <td>Medio bajo</td>\n",
       "      <td>52.105125</td>\n",
       "      <td>1.389470</td>\n",
       "      <td>34.736750</td>\n",
       "      <td>0.463157</td>\n",
       "    </tr>\n",
       "  </tbody>\n",
       "</table>\n",
       "<p>2729 rows × 9 columns</p>\n",
       "</div>"
      ],
      "text/plain": [
       "          clima  factor  personas     m2     estrato     kwh_mes    kwh_m2  \\\n",
       "folio                                                                        \n",
       "69     Templado     342         2  150.0  Medio alto  246.827727  1.700369   \n",
       "70     Templado     342         5  200.0  Medio alto  860.214478  4.444441   \n",
       "76     Templado     301         3  150.0  Medio bajo   59.965533  0.812866   \n",
       "126    Templado     401         2  200.0  Medio bajo  177.066764  0.826312   \n",
       "168    Templado     349         1  200.0        Alto   34.993695  0.361602   \n",
       "...         ...     ...       ...    ...         ...         ...       ...   \n",
       "27904  Tropical     620         3   55.0  Medio bajo   92.532559  3.420901   \n",
       "27968  Tropical     499         4   75.0  Medio bajo   78.142053  2.153248   \n",
       "28010  Tropical     488         3   55.0        Bajo   64.593418  1.213573   \n",
       "28357  Templado     394         3  150.0  Medio bajo   47.539310  0.654986   \n",
       "28626  Templado     542         3   75.0  Medio bajo   52.105125  1.389470   \n",
       "\n",
       "       kwh_persona  kwh_m2persona  \n",
       "folio                              \n",
       "69      127.527659       0.850184  \n",
       "70      177.777659       0.888888  \n",
       "76       40.643305       0.270955  \n",
       "126      82.631156       0.413156  \n",
       "168      72.320303       0.361602  \n",
       "...            ...            ...  \n",
       "27904    62.716512       1.140300  \n",
       "27968    40.373394       0.538312  \n",
       "28010    22.248844       0.404524  \n",
       "28357    32.749303       0.218329  \n",
       "28626    34.736750       0.463157  \n",
       "\n",
       "[2729 rows x 9 columns]"
      ]
     },
     "execution_count": 4,
     "metadata": {},
     "output_type": "execute_result"
    }
   ],
   "source": [
    "viv"
   ]
  },
  {
   "cell_type": "code",
   "execution_count": 5,
   "id": "3cfb7873-988f-493a-a302-3de19c10d581",
   "metadata": {},
   "outputs": [],
   "source": [
    "\n",
    "# --- 1) Función para calcular cuantiles ponderados ---\n",
    "def cuantil_ponderado(valores, percentiles, pesos):\n",
    "    v = np.array(valores)\n",
    "    w = np.array(pesos)\n",
    "    orden = np.argsort(v)\n",
    "    v_ord, w_ord = v[orden], w[orden]\n",
    "    cumw = np.cumsum(w_ord)\n",
    "    cumw_norm = cumw / cumw[-1]\n",
    "    return np.interp(percentiles, cumw_norm, v_ord)\n",
    "\n",
    "# --- 2) Estadísticos ponderados sobre kwh_mes ---\n",
    "def estadisticas_kwh_mes(df):\n",
    "    vals = df['kwh_mes'].values\n",
    "    wts  = df['factor'].values\n",
    "    return pd.Series({\n",
    "        'P25':     cuantil_ponderado(vals, [0.25], wts)[0],\n",
    "        'Mediana': cuantil_ponderado(vals, [0.50], wts)[0],\n",
    "        'Media':   np.average(vals, weights=wts),\n",
    "        'P75':     cuantil_ponderado(vals, [0.75], wts)[0]\n",
    "    })\n",
    "\n",
    "\n",
    "# --- 2) Estadísticos ponderados sobre kwh_mes ---\n",
    "def estadisticas_kwh_mes_persona(df):\n",
    "    vals = df['kwh_persona'].values\n",
    "    wts  = df['factor'].values\n",
    "    return pd.Series({\n",
    "        'P25':     cuantil_ponderado(vals, [0.25], wts)[0],\n",
    "        'Mediana': cuantil_ponderado(vals, [0.50], wts)[0],\n",
    "        'Media':   np.average(vals, weights=wts),\n",
    "        'P75':     cuantil_ponderado(vals, [0.75], wts)[0]\n",
    "    })\n",
    "# --- 2) Estadísticos ponderados sobre kwh_mes ---\n",
    "def estadisticas_kwh_mes_persona_area(df):\n",
    "    vals = df['kwh_m2persona'].values\n",
    "    wts  = df['factor'].values\n",
    "    return pd.Series({\n",
    "        'P25':     cuantil_ponderado(vals, [0.25], wts)[0],\n",
    "        'Mediana': cuantil_ponderado(vals, [0.50], wts)[0],\n",
    "        'Media':   np.average(vals, weights=wts),\n",
    "        'P75':     cuantil_ponderado(vals, [0.75], wts)[0]\n",
    "    })"
   ]
  },
  {
   "cell_type": "code",
   "execution_count": 6,
   "id": "674c8db8-c921-4b30-8667-a27b8026bb38",
   "metadata": {},
   "outputs": [],
   "source": [
    "f = \"../data/002_intermediate/porcentajes_aa.parquet\"\n",
    "porcentajes_aa = pd.read_parquet(f)"
   ]
  },
  {
   "cell_type": "code",
   "execution_count": 7,
   "id": "98bcfaf2-4069-428a-844d-e7b5561adb12",
   "metadata": {},
   "outputs": [
    {
     "name": "stdout",
     "output_type": "stream",
     "text": [
      "|     m² |    P25 |   Mediana |   Media |    P75 |   porcentaje |\n",
      "|-------:|-------:|----------:|--------:|-------:|-------------:|\n",
      "|  30.00 |  45.99 |     93.31 |  147.79 | 184.06 |         0.03 |\n",
      "|  55.00 |  57.75 |    143.20 |  204.89 | 331.24 |         0.09 |\n",
      "|  75.00 |  62.19 |    108.28 |  144.16 | 155.72 |         0.09 |\n",
      "| 100.00 | 123.33 |    180.46 |  216.16 | 252.89 |         0.11 |\n",
      "| 150.00 |  95.84 |    132.67 |  192.75 | 203.42 |         0.08 |\n",
      "| 200.00 |  90.85 |    126.77 |  154.73 | 178.53 |         0.02 |\n",
      ": Estadísticas ponderadas de consumo total mensual (KWh) para clima **Cálido extremoso**, estrato socioeconómico **Bajo** {#tbl-calido-extremoso-bajo}\n",
      "\n",
      "|     m² |    P25 |   Mediana |   Media |    P75 |   porcentaje |\n",
      "|-------:|-------:|----------:|--------:|-------:|-------------:|\n",
      "|  30.00 |  94.98 |    130.98 |  144.41 | 191.70 |         0.12 |\n",
      "|  55.00 |  65.83 |    109.50 |  153.56 | 217.36 |         0.65 |\n",
      "|  75.00 |  73.18 |    125.18 |  164.16 | 208.67 |         0.98 |\n",
      "| 100.00 |  78.80 |    140.34 |  213.98 | 235.23 |         0.92 |\n",
      "| 150.00 | 100.34 |    168.94 |  220.99 | 294.22 |         0.73 |\n",
      "| 200.00 |  90.31 |    144.44 |  258.87 | 303.64 |         0.26 |\n",
      ": Estadísticas ponderadas de consumo total mensual (KWh) para clima **Cálido extremoso**, estrato socioeconómico **Medio bajo** {#tbl-calido-extremoso-medio-bajo}\n",
      "\n",
      "|     m² |    P25 |   Mediana |   Media |    P75 |   porcentaje |\n",
      "|-------:|-------:|----------:|--------:|-------:|-------------:|\n",
      "|  30.00 |  66.53 |     93.18 |  140.90 | 184.65 |         0.05 |\n",
      "|  55.00 |  69.50 |     95.70 |  194.41 | 267.71 |         0.23 |\n",
      "|  75.00 |  97.67 |    195.16 |  263.42 | 294.72 |         0.58 |\n",
      "| 100.00 |  86.87 |    147.80 |  243.42 | 293.98 |         0.88 |\n",
      "| 150.00 |  94.85 |    151.79 |  251.15 | 287.89 |         0.80 |\n",
      "| 200.00 | 109.51 |    168.85 |  276.15 | 313.73 |         0.41 |\n",
      ": Estadísticas ponderadas de consumo total mensual (KWh) para clima **Cálido extremoso**, estrato socioeconómico **Medio alto** {#tbl-calido-extremoso-medio-alto}\n",
      "\n",
      "|     m² |    P25 |   Mediana |   Media |    P75 |   porcentaje |\n",
      "|-------:|-------:|----------:|--------:|-------:|-------------:|\n",
      "|  30.00 | 113.41 |    113.41 |  113.41 | 113.41 |         0.00 |\n",
      "|  55.00 |  89.40 |    119.73 |  183.52 | 259.14 |         0.10 |\n",
      "|  75.00 | 102.92 |    192.56 |  214.76 | 307.22 |         0.25 |\n",
      "| 100.00 |  84.42 |    137.26 |  227.98 | 229.32 |         0.54 |\n",
      "| 150.00 |  97.51 |    144.52 |  240.19 | 288.71 |         0.50 |\n",
      "| 200.00 | 141.94 |    237.84 |  376.09 | 475.06 |         0.33 |\n",
      ": Estadísticas ponderadas de consumo total mensual (KWh) para clima **Cálido extremoso**, estrato socioeconómico **Alto** {#tbl-calido-extremoso-alto}\n",
      "\n",
      "|     m² |    P25 |   Mediana |   Media |    P75 |   porcentaje |\n",
      "|-------:|-------:|----------:|--------:|-------:|-------------:|\n",
      "|  30.00 | nan    |    nan    |  nan    | nan    |       nan    |\n",
      "|  55.00 | nan    |    nan    |  nan    | nan    |       nan    |\n",
      "|  75.00 |  92.88 |    106.25 |  116.90 | 123.73 |         0.01 |\n",
      "| 100.00 |  19.46 |     19.46 |   40.15 |  37.86 |         0.01 |\n",
      "| 150.00 |  63.67 |     71.73 |   86.71 |  72.17 |         0.02 |\n",
      "| 200.00 | nan    |    nan    |  nan    | nan    |       nan    |\n",
      ": Estadísticas ponderadas de consumo total mensual (KWh) para clima **Templado**, estrato socioeconómico **Bajo** {#tbl-templado-bajo}\n",
      "\n",
      "|     m² |   P25 |   Mediana |   Media |    P75 |   porcentaje |\n",
      "|-------:|------:|----------:|--------:|-------:|-------------:|\n",
      "|  30.00 | 52.47 |     78.01 |   73.24 |  81.50 |         0.01 |\n",
      "|  55.00 | 59.14 |     67.10 |  130.86 | 101.29 |         0.03 |\n",
      "|  75.00 | 52.85 |     95.56 |  127.76 | 160.32 |         0.07 |\n",
      "| 100.00 | 95.37 |    155.96 |  202.36 | 214.80 |         0.06 |\n",
      "| 150.00 | 53.04 |     95.64 |  151.93 | 200.62 |         0.07 |\n",
      "| 200.00 | 84.37 |    107.78 |  248.43 | 252.23 |         0.02 |\n",
      ": Estadísticas ponderadas de consumo total mensual (KWh) para clima **Templado**, estrato socioeconómico **Medio bajo** {#tbl-templado-medio-bajo}\n",
      "\n",
      "|     m² |    P25 |   Mediana |   Media |    P75 |   porcentaje |\n",
      "|-------:|-------:|----------:|--------:|-------:|-------------:|\n",
      "|  30.00 |  44.77 |     44.77 |   44.77 |  44.77 |         0.00 |\n",
      "|  55.00 |  29.05 |     36.49 |   46.50 |  44.83 |         0.01 |\n",
      "|  75.00 | 102.64 |    166.83 |  190.48 | 177.69 |         0.01 |\n",
      "| 100.00 |  52.54 |     79.32 |  133.22 | 168.03 |         0.03 |\n",
      "| 150.00 | 107.16 |    154.02 |  167.58 | 185.56 |         0.02 |\n",
      "| 200.00 | 106.03 |    147.64 |  310.92 | 333.45 |         0.00 |\n",
      ": Estadísticas ponderadas de consumo total mensual (KWh) para clima **Templado**, estrato socioeconómico **Medio alto** {#tbl-templado-medio-alto}\n",
      "\n",
      "|     m² |    P25 |   Mediana |   Media |    P75 |   porcentaje |\n",
      "|-------:|-------:|----------:|--------:|-------:|-------------:|\n",
      "|  30.00 | nan    |    nan    |  nan    | nan    |       nan    |\n",
      "|  55.00 | nan    |    nan    |  nan    | nan    |       nan    |\n",
      "|  75.00 |  40.44 |     47.64 |   59.95 |  58.67 |         0.02 |\n",
      "| 100.00 |  68.64 |     93.84 |  150.25 | 193.69 |         0.01 |\n",
      "| 150.00 |  93.62 |    114.41 |  146.98 | 151.32 |         0.05 |\n",
      "| 200.00 |  36.45 |     61.27 |   98.44 | 129.38 |         0.04 |\n",
      ": Estadísticas ponderadas de consumo total mensual (KWh) para clima **Templado**, estrato socioeconómico **Alto** {#tbl-templado-alto}\n",
      "\n",
      "|     m² |    P25 |   Mediana |   Media |    P75 |   porcentaje |\n",
      "|-------:|-------:|----------:|--------:|-------:|-------------:|\n",
      "|  30.00 | 136.27 |    152.23 |  171.66 | 187.39 |         0.00 |\n",
      "|  55.00 |  57.89 |    104.23 |  134.70 | 187.98 |         0.04 |\n",
      "|  75.00 |  66.28 |     79.04 |  131.71 | 171.54 |         0.05 |\n",
      "| 100.00 |  57.75 |    129.75 |  190.49 | 221.78 |         0.05 |\n",
      "| 150.00 |  79.72 |    160.18 |  176.82 | 226.57 |         0.03 |\n",
      "| 200.00 |  56.92 |     56.92 |  141.66 |  56.92 |         0.04 |\n",
      ": Estadísticas ponderadas de consumo total mensual (KWh) para clima **Tropical**, estrato socioeconómico **Bajo** {#tbl-tropical-bajo}\n",
      "\n",
      "|     m² |    P25 |   Mediana |   Media |    P75 |   porcentaje |\n",
      "|-------:|-------:|----------:|--------:|-------:|-------------:|\n",
      "|  30.00 |  90.50 |    150.47 |  232.18 | 326.76 |         0.05 |\n",
      "|  55.00 | 105.96 |    175.05 |  216.48 | 300.80 |         0.14 |\n",
      "|  75.00 |  82.66 |    148.77 |  190.58 | 223.32 |         0.20 |\n",
      "| 100.00 |  85.27 |    171.54 |  224.28 | 282.40 |         0.26 |\n",
      "| 150.00 | 112.01 |    175.41 |  185.93 | 206.27 |         0.17 |\n",
      "| 200.00 | 130.37 |    139.24 |  344.11 | 277.76 |         0.05 |\n",
      ": Estadísticas ponderadas de consumo total mensual (KWh) para clima **Tropical**, estrato socioeconómico **Medio bajo** {#tbl-tropical-medio-bajo}\n",
      "\n",
      "|     m² |    P25 |   Mediana |   Media |    P75 |   porcentaje |\n",
      "|-------:|-------:|----------:|--------:|-------:|-------------:|\n",
      "|  30.00 |  80.00 |    122.09 |  113.15 | 125.23 |         0.00 |\n",
      "|  55.00 |  83.19 |    127.99 |  221.72 | 176.28 |         0.02 |\n",
      "|  75.00 |  79.39 |     97.08 |  143.72 | 189.89 |         0.06 |\n",
      "| 100.00 | 107.68 |    200.49 |  291.92 | 420.94 |         0.03 |\n",
      "| 150.00 |  91.41 |    173.24 |  263.85 | 308.93 |         0.06 |\n",
      "| 200.00 |  90.69 |    107.00 |  229.03 | 274.89 |         0.01 |\n",
      ": Estadísticas ponderadas de consumo total mensual (KWh) para clima **Tropical**, estrato socioeconómico **Medio alto** {#tbl-tropical-medio-alto}\n",
      "\n",
      "|     m² |    P25 |   Mediana |   Media |    P75 |   porcentaje |\n",
      "|-------:|-------:|----------:|--------:|-------:|-------------:|\n",
      "|  30.00 |  83.76 |     83.76 |  134.21 | 130.99 |         0.00 |\n",
      "|  55.00 |  80.60 |     80.60 |  124.27 | 106.79 |         0.01 |\n",
      "|  75.00 |  64.65 |     64.65 |  111.58 | 101.13 |         0.06 |\n",
      "| 100.00 |  75.77 |    113.96 |  167.56 | 176.81 |         0.06 |\n",
      "| 150.00 |  89.23 |    110.42 |  236.25 | 324.69 |         0.05 |\n",
      "| 200.00 | 131.38 |    134.71 |  166.66 | 207.21 |         0.03 |\n",
      ": Estadísticas ponderadas de consumo total mensual (KWh) para clima **Tropical**, estrato socioeconómico **Alto** {#tbl-tropical-alto}\n",
      "\n"
     ]
    },
    {
     "name": "stderr",
     "output_type": "stream",
     "text": [
      "/var/folders/tc/1tpm30d53_9458mzx73ydg_w0000gn/T/ipykernel_9530/2173147482.py:11: FutureWarning: DataFrameGroupBy.apply operated on the grouping columns. This behavior is deprecated, and in a future version of pandas the grouping columns will be excluded from the operation. Either pass `include_groups=False` to exclude the groupings or explicitly select the grouping columns after groupby to silence this warning.\n",
      "  .apply(estadisticas_kwh_mes)\n"
     ]
    }
   ],
   "source": [
    "\n",
    "# --- 3) Filtrado inicial ---\n",
    "tamanos  = [30, 55, 75, 100, 150, 200]\n",
    "estratos = ['Bajo', 'Medio bajo', 'Medio alto', 'Alto']\n",
    "\n",
    "viv_tab = viv[viv['m2'].isin(tamanos)].copy()\n",
    "\n",
    "# --- 4) Agrupar y calcular estadísticas ---\n",
    "grouped = (\n",
    "    viv_tab\n",
    "    .groupby(['m2','clima','estrato'], observed=True)\n",
    "    .apply(estadisticas_kwh_mes)\n",
    "    .reset_index()\n",
    ")\n",
    "grouped =  pd.concat([grouped,porcentajes_aa[[\"porcentaje\",\"viviendas\"]]],axis=1)\n",
    "grouped_kwhmes = grouped.copy()\n",
    "\n",
    "# --- 5) Generar tablas Markdown ---\n",
    "for clima in grouped['clima'].unique():\n",
    "    for estrato in estratos:\n",
    "        sub = grouped[\n",
    "            (grouped['clima']==clima) &\n",
    "            (grouped['estrato']==estrato)\n",
    "        ]\n",
    "        if sub.empty:\n",
    "            continue\n",
    "\n",
    "        # 6) Pivot: m2 en filas, percentiles en columnas en el orden correcto\n",
    "        tabla = (\n",
    "            sub\n",
    "            .set_index('m2')[['P25','Mediana','Media','P75',\"porcentaje\"]]\n",
    "            .reindex(tamanos)\n",
    "            .rename_axis('m²')\n",
    "            .round(2)\n",
    "            .reset_index()\n",
    "        )\n",
    "\n",
    "        # 7) Generar slug y etiqueta Quarto\n",
    "        slug_clima   = clima.lower().replace(' ','-').replace('í','i').replace('á','a')\n",
    "        slug_estrato = estrato.lower().replace(' ','-')\n",
    "        etiqueta     = f\"tbl-{slug_clima}-{slug_estrato}\"\n",
    "\n",
    "        # 8) Imprimir en Markdown\n",
    "        print(tabulate(\n",
    "            tabla,\n",
    "            headers=tabla.columns,\n",
    "            tablefmt='pipe',\n",
    "            floatfmt='.2f',\n",
    "            showindex=False\n",
    "        ))\n",
    "        print(\n",
    "            f\": Estadísticas ponderadas de consumo total mensual (KWh) para clima **{clima}**, \"\n",
    "            f\"estrato socioeconómico **{estrato}** {{#{etiqueta}}}\\n\"\n",
    "        )"
   ]
  },
  {
   "cell_type": "code",
   "execution_count": 8,
   "id": "11359251-aaff-43b4-85dc-af8034e31188",
   "metadata": {},
   "outputs": [
    {
     "name": "stdout",
     "output_type": "stream",
     "text": [
      "|     m² |   P25 |   Mediana |   Media |    P75 |\n",
      "|-------:|------:|----------:|--------:|-------:|\n",
      "|  30.00 | 25.12 |     41.52 |   54.83 |  76.02 |\n",
      "|  55.00 | 40.20 |     69.67 |   95.29 | 115.32 |\n",
      "|  75.00 | 56.11 |     67.46 |   84.16 |  98.49 |\n",
      "| 100.00 | 42.99 |     82.10 |  107.00 | 131.09 |\n",
      "| 150.00 | 46.49 |     79.74 |  130.24 | 108.04 |\n",
      "| 200.00 | 19.19 |     43.27 |   86.84 | 121.00 |\n",
      ": Estadísticas ponderadas de consumo total mensual (KWh) para clima **Cálido extremoso**, estrato socioeconómico **Bajo** {#tbl-calido-extremoso-bajo}\n",
      "\n",
      "|     m² |   P25 |   Mediana |   Media |    P75 |\n",
      "|-------:|------:|----------:|--------:|-------:|\n",
      "|  30.00 | 37.56 |     54.28 |   83.58 |  85.94 |\n",
      "|  55.00 | 35.86 |     62.50 |   79.23 |  93.90 |\n",
      "|  75.00 | 36.82 |     59.44 |   81.12 | 106.54 |\n",
      "| 100.00 | 41.01 |     67.39 |   99.94 | 112.51 |\n",
      "| 150.00 | 43.43 |     71.53 |   92.23 | 113.86 |\n",
      "| 200.00 | 49.23 |     86.35 |  103.36 | 134.78 |\n",
      ": Estadísticas ponderadas de consumo total mensual (KWh) para clima **Cálido extremoso**, estrato socioeconómico **Medio bajo** {#tbl-calido-extremoso-medio-bajo}\n",
      "\n",
      "|     m² |   P25 |   Mediana |   Media |    P75 |\n",
      "|-------:|------:|----------:|--------:|-------:|\n",
      "|  30.00 | 45.76 |     87.66 |   94.76 | 115.21 |\n",
      "|  55.00 | 36.14 |     72.00 |   86.77 | 105.08 |\n",
      "|  75.00 | 51.10 |     85.65 |  110.59 | 123.23 |\n",
      "| 100.00 | 54.56 |     82.97 |  115.54 | 129.30 |\n",
      "| 150.00 | 54.27 |     80.44 |  112.08 | 131.68 |\n",
      "| 200.00 | 56.55 |     85.47 |  115.86 | 134.29 |\n",
      ": Estadísticas ponderadas de consumo total mensual (KWh) para clima **Cálido extremoso**, estrato socioeconómico **Medio alto** {#tbl-calido-extremoso-medio-alto}\n",
      "\n",
      "|     m² |    P25 |   Mediana |   Media |    P75 |\n",
      "|-------:|-------:|----------:|--------:|-------:|\n",
      "|  30.00 | 219.25 |    219.25 |  219.25 | 219.25 |\n",
      "|  55.00 |  44.68 |     62.62 |   89.26 | 100.57 |\n",
      "|  75.00 |  56.84 |     93.04 |  104.30 | 123.04 |\n",
      "| 100.00 |  48.54 |     76.72 |   99.64 | 107.44 |\n",
      "| 150.00 |  50.94 |     77.68 |  108.92 | 127.32 |\n",
      "| 200.00 |  76.06 |    126.14 |  158.21 | 212.04 |\n",
      ": Estadísticas ponderadas de consumo total mensual (KWh) para clima **Cálido extremoso**, estrato socioeconómico **Alto** {#tbl-calido-extremoso-alto}\n",
      "\n",
      "|     m² |    P25 |   Mediana |   Media |    P75 |\n",
      "|-------:|-------:|----------:|--------:|-------:|\n",
      "|  30.00 | nan    |    nan    |  nan    | nan    |\n",
      "|  55.00 | nan    |    nan    |  nan    | nan    |\n",
      "|  75.00 |  29.97 |     44.55 |   70.44 |  82.98 |\n",
      "| 100.00 |  20.11 |     20.11 |   40.09 |  37.88 |\n",
      "| 150.00 |  22.78 |     29.74 |   49.03 |  48.41 |\n",
      "| 200.00 | nan    |    nan    |  nan    | nan    |\n",
      ": Estadísticas ponderadas de consumo total mensual (KWh) para clima **Templado**, estrato socioeconómico **Bajo** {#tbl-templado-bajo}\n",
      "\n",
      "|     m² |   P25 |   Mediana |   Media |    P75 |\n",
      "|-------:|------:|----------:|--------:|-------:|\n",
      "|  30.00 | 21.24 |     48.82 |   66.53 |  54.70 |\n",
      "|  55.00 | 24.99 |     37.03 |   54.56 |  61.38 |\n",
      "|  75.00 | 37.45 |     47.94 |   62.87 |  57.84 |\n",
      "| 100.00 | 37.75 |     61.31 |   80.77 | 112.79 |\n",
      "| 150.00 | 32.73 |     54.01 |   70.41 |  81.42 |\n",
      "| 200.00 | 38.24 |     62.34 |  102.86 | 108.39 |\n",
      ": Estadísticas ponderadas de consumo total mensual (KWh) para clima **Templado**, estrato socioeconómico **Medio bajo** {#tbl-templado-medio-bajo}\n",
      "\n",
      "|     m² |   P25 |   Mediana |   Media |    P75 |\n",
      "|-------:|------:|----------:|--------:|-------:|\n",
      "|  30.00 | 46.27 |     46.27 |   46.27 |  46.27 |\n",
      "|  55.00 | 28.56 |     30.87 |   33.97 |  33.46 |\n",
      "|  75.00 | 40.96 |     57.53 |   65.23 |  74.34 |\n",
      "| 100.00 | 37.45 |     47.39 |   64.14 |  78.89 |\n",
      "| 150.00 | 37.25 |     54.79 |   82.71 | 117.03 |\n",
      "| 200.00 | 52.47 |     77.16 |   98.81 |  98.47 |\n",
      ": Estadísticas ponderadas de consumo total mensual (KWh) para clima **Templado**, estrato socioeconómico **Medio alto** {#tbl-templado-medio-alto}\n",
      "\n",
      "|     m² |    P25 |   Mediana |   Media |    P75 |\n",
      "|-------:|-------:|----------:|--------:|-------:|\n",
      "|  30.00 | nan    |    nan    |  nan    | nan    |\n",
      "|  55.00 | nan    |    nan    |  nan    | nan    |\n",
      "|  75.00 |  35.17 |     39.70 |   71.42 |  72.82 |\n",
      "| 100.00 |  66.84 |     94.78 |   98.55 | 120.44 |\n",
      "| 150.00 |  85.49 |     96.97 |  103.72 | 112.23 |\n",
      "| 200.00 |  14.83 |     62.34 |   55.73 |  79.69 |\n",
      ": Estadísticas ponderadas de consumo total mensual (KWh) para clima **Templado**, estrato socioeconómico **Alto** {#tbl-templado-alto}\n",
      "\n",
      "|     m² |   P25 |   Mediana |   Media |    P75 |\n",
      "|-------:|------:|----------:|--------:|-------:|\n",
      "|  30.00 | 57.79 |     80.28 |  132.35 | 135.16 |\n",
      "|  55.00 | 17.12 |     32.80 |   39.66 |  50.36 |\n",
      "|  75.00 | 37.46 |     40.52 |   51.55 |  62.76 |\n",
      "| 100.00 | 26.27 |     40.88 |   73.82 |  87.47 |\n",
      "| 150.00 | 36.58 |    106.36 |  131.18 | 182.57 |\n",
      "| 200.00 | 56.92 |     56.92 |   63.13 |  56.92 |\n",
      ": Estadísticas ponderadas de consumo total mensual (KWh) para clima **Tropical**, estrato socioeconómico **Bajo** {#tbl-tropical-bajo}\n",
      "\n",
      "|     m² |   P25 |   Mediana |   Media |    P75 |\n",
      "|-------:|------:|----------:|--------:|-------:|\n",
      "|  30.00 | 64.70 |     88.07 |   95.83 |  92.11 |\n",
      "|  55.00 | 59.55 |     72.76 |  100.98 | 125.08 |\n",
      "|  75.00 | 47.36 |     59.47 |   83.50 |  97.10 |\n",
      "| 100.00 | 44.07 |     69.62 |   91.18 | 113.33 |\n",
      "| 150.00 | 52.29 |     90.48 |  127.52 | 134.40 |\n",
      "| 200.00 | 55.59 |     80.48 |  138.79 | 106.14 |\n",
      ": Estadísticas ponderadas de consumo total mensual (KWh) para clima **Tropical**, estrato socioeconómico **Medio bajo** {#tbl-tropical-medio-bajo}\n",
      "\n",
      "|     m² |   P25 |   Mediana |   Media |    P75 |\n",
      "|-------:|------:|----------:|--------:|-------:|\n",
      "|  30.00 | 63.80 |    151.74 |  199.90 | 210.64 |\n",
      "|  55.00 | 37.68 |     41.41 |   76.29 |  68.43 |\n",
      "|  75.00 | 61.86 |     93.24 |  105.22 | 100.33 |\n",
      "| 100.00 | 61.22 |     97.75 |  110.89 | 123.83 |\n",
      "| 150.00 | 76.38 |    102.22 |  124.77 | 169.08 |\n",
      "| 200.00 | 53.03 |     72.43 |  123.57 | 150.80 |\n",
      ": Estadísticas ponderadas de consumo total mensual (KWh) para clima **Tropical**, estrato socioeconómico **Medio alto** {#tbl-tropical-medio-alto}\n",
      "\n",
      "|     m² |    P25 |   Mediana |   Media |    P75 |\n",
      "|-------:|-------:|----------:|--------:|-------:|\n",
      "|  30.00 |  21.64 |     21.64 |   65.00 |  81.58 |\n",
      "|  55.00 |  54.63 |     54.63 |   87.27 |  74.20 |\n",
      "|  75.00 | 128.68 |    131.28 |  134.80 | 134.27 |\n",
      "| 100.00 |  66.17 |     81.30 |   99.49 | 116.79 |\n",
      "| 150.00 |  57.79 |     67.35 |   92.24 | 102.23 |\n",
      "| 200.00 |  31.75 |     67.70 |   94.18 | 129.21 |\n",
      ": Estadísticas ponderadas de consumo total mensual (KWh) para clima **Tropical**, estrato socioeconómico **Alto** {#tbl-tropical-alto}\n",
      "\n"
     ]
    },
    {
     "name": "stderr",
     "output_type": "stream",
     "text": [
      "/var/folders/tc/1tpm30d53_9458mzx73ydg_w0000gn/T/ipykernel_9530/954292148.py:11: FutureWarning: DataFrameGroupBy.apply operated on the grouping columns. This behavior is deprecated, and in a future version of pandas the grouping columns will be excluded from the operation. Either pass `include_groups=False` to exclude the groupings or explicitly select the grouping columns after groupby to silence this warning.\n",
      "  .apply(estadisticas_kwh_mes_persona)\n"
     ]
    }
   ],
   "source": [
    "\n",
    "# --- 3) Filtrado inicial ---\n",
    "tamanos  = [30, 55, 75, 100, 150, 200]\n",
    "estratos = ['Bajo', 'Medio bajo', 'Medio alto', 'Alto']\n",
    "\n",
    "viv_tab = viv[viv['m2'].isin(tamanos)].copy()\n",
    "\n",
    "# --- 4) Agrupar y calcular estadísticas ---\n",
    "grouped = (\n",
    "    viv_tab\n",
    "    .groupby(['m2','clima','estrato'], observed=True)\n",
    "    .apply(estadisticas_kwh_mes_persona)\n",
    "    .reset_index()\n",
    ")\n",
    "\n",
    "\n",
    "grouped =  pd.concat([grouped,porcentajes_aa[[\"porcentaje\",\"viviendas\"]]],axis=1)\n",
    "grouped_kwhmespersona = grouped.copy()\n",
    "\n",
    "# --- 5) Generar tablas Markdown ---\n",
    "for clima in grouped['clima'].unique():\n",
    "    for estrato in estratos:\n",
    "        sub = grouped[\n",
    "            (grouped['clima']==clima) &\n",
    "            (grouped['estrato']==estrato)\n",
    "        ]\n",
    "        if sub.empty:\n",
    "            continue\n",
    "\n",
    "        # 6) Pivot: m2 en filas, percentiles en columnas en el orden correcto\n",
    "        tabla = (\n",
    "            sub\n",
    "            .set_index('m2')[['P25','Mediana','Media','P75']]\n",
    "            .reindex(tamanos)\n",
    "            .rename_axis('m²')\n",
    "            .round(2)\n",
    "            .reset_index()\n",
    "        )\n",
    "\n",
    "        # 7) Generar slug y etiqueta Quarto\n",
    "        slug_clima   = clima.lower().replace(' ','-').replace('í','i').replace('á','a')\n",
    "        slug_estrato = estrato.lower().replace(' ','-')\n",
    "        etiqueta     = f\"tbl-{slug_clima}-{slug_estrato}\"\n",
    "\n",
    "        # 8) Imprimir en Markdown\n",
    "        print(tabulate(\n",
    "            tabla,\n",
    "            headers=tabla.columns,\n",
    "            tablefmt='pipe',\n",
    "            floatfmt='.2f',\n",
    "            showindex=False\n",
    "        ))\n",
    "        print(\n",
    "            f\": Estadísticas ponderadas de consumo total mensual (KWh) para clima **{clima}**, \"\n",
    "            f\"estrato socioeconómico **{estrato}** {{#{etiqueta}}}\\n\"\n",
    "        )"
   ]
  },
  {
   "cell_type": "code",
   "execution_count": 9,
   "id": "60b1bc80-a7a1-4d1f-9326-3a38a0153775",
   "metadata": {
    "scrolled": true
   },
   "outputs": [
    {
     "name": "stdout",
     "output_type": "stream",
     "text": [
      "|     m² |   P25 |   Mediana |   Media |   P75 |\n",
      "|-------:|------:|----------:|--------:|------:|\n",
      "|  30.00 |  0.84 |      1.38 |    1.83 |  2.53 |\n",
      "|  55.00 |  0.73 |      1.27 |    1.73 |  2.10 |\n",
      "|  75.00 |  0.75 |      0.90 |    1.12 |  1.31 |\n",
      "| 100.00 |  0.43 |      0.82 |    1.07 |  1.31 |\n",
      "| 150.00 |  0.31 |      0.53 |    0.87 |  0.72 |\n",
      "| 200.00 |  0.10 |      0.22 |    0.43 |  0.61 |\n",
      ": Estadísticas ponderadas de consumo total mensual (KWh) para clima **Cálido extremoso**, estrato socioeconómico **Bajo** {#tbl-calido-extremoso-bajo}\n",
      "\n",
      "|     m² |   P25 |   Mediana |   Media |   P75 |\n",
      "|-------:|------:|----------:|--------:|------:|\n",
      "|  30.00 |  1.25 |      1.81 |    2.79 |  2.86 |\n",
      "|  55.00 |  0.65 |      1.14 |    1.44 |  1.71 |\n",
      "|  75.00 |  0.49 |      0.79 |    1.08 |  1.42 |\n",
      "| 100.00 |  0.41 |      0.67 |    1.00 |  1.13 |\n",
      "| 150.00 |  0.29 |      0.48 |    0.61 |  0.76 |\n",
      "| 200.00 |  0.25 |      0.43 |    0.52 |  0.67 |\n",
      ": Estadísticas ponderadas de consumo total mensual (KWh) para clima **Cálido extremoso**, estrato socioeconómico **Medio bajo** {#tbl-calido-extremoso-medio-bajo}\n",
      "\n",
      "|     m² |   P25 |   Mediana |   Media |   P75 |\n",
      "|-------:|------:|----------:|--------:|------:|\n",
      "|  30.00 |  1.53 |      2.92 |    3.16 |  3.84 |\n",
      "|  55.00 |  0.66 |      1.31 |    1.58 |  1.91 |\n",
      "|  75.00 |  0.68 |      1.14 |    1.47 |  1.64 |\n",
      "| 100.00 |  0.55 |      0.83 |    1.16 |  1.29 |\n",
      "| 150.00 |  0.36 |      0.54 |    0.75 |  0.88 |\n",
      "| 200.00 |  0.28 |      0.43 |    0.58 |  0.67 |\n",
      ": Estadísticas ponderadas de consumo total mensual (KWh) para clima **Cálido extremoso**, estrato socioeconómico **Medio alto** {#tbl-calido-extremoso-medio-alto}\n",
      "\n",
      "|     m² |   P25 |   Mediana |   Media |   P75 |\n",
      "|-------:|------:|----------:|--------:|------:|\n",
      "|  30.00 |  7.31 |      7.31 |    7.31 |  7.31 |\n",
      "|  55.00 |  0.81 |      1.14 |    1.62 |  1.83 |\n",
      "|  75.00 |  0.76 |      1.24 |    1.39 |  1.64 |\n",
      "| 100.00 |  0.49 |      0.77 |    1.00 |  1.07 |\n",
      "| 150.00 |  0.34 |      0.52 |    0.73 |  0.85 |\n",
      "| 200.00 |  0.38 |      0.63 |    0.79 |  1.06 |\n",
      ": Estadísticas ponderadas de consumo total mensual (KWh) para clima **Cálido extremoso**, estrato socioeconómico **Alto** {#tbl-calido-extremoso-alto}\n",
      "\n",
      "|     m² |    P25 |   Mediana |   Media |    P75 |\n",
      "|-------:|-------:|----------:|--------:|-------:|\n",
      "|  30.00 | nan    |    nan    |  nan    | nan    |\n",
      "|  55.00 | nan    |    nan    |  nan    | nan    |\n",
      "|  75.00 |   0.40 |      0.59 |    0.94 |   1.11 |\n",
      "| 100.00 |   0.20 |      0.20 |    0.40 |   0.38 |\n",
      "| 150.00 |   0.15 |      0.20 |    0.33 |   0.32 |\n",
      "| 200.00 | nan    |    nan    |  nan    | nan    |\n",
      ": Estadísticas ponderadas de consumo total mensual (KWh) para clima **Templado**, estrato socioeconómico **Bajo** {#tbl-templado-bajo}\n",
      "\n",
      "|     m² |   P25 |   Mediana |   Media |   P75 |\n",
      "|-------:|------:|----------:|--------:|------:|\n",
      "|  30.00 |  0.71 |      1.63 |    2.22 |  1.82 |\n",
      "|  55.00 |  0.45 |      0.67 |    0.99 |  1.12 |\n",
      "|  75.00 |  0.50 |      0.64 |    0.84 |  0.77 |\n",
      "| 100.00 |  0.38 |      0.61 |    0.81 |  1.13 |\n",
      "| 150.00 |  0.22 |      0.36 |    0.47 |  0.54 |\n",
      "| 200.00 |  0.19 |      0.31 |    0.51 |  0.54 |\n",
      ": Estadísticas ponderadas de consumo total mensual (KWh) para clima **Templado**, estrato socioeconómico **Medio bajo** {#tbl-templado-medio-bajo}\n",
      "\n",
      "|     m² |   P25 |   Mediana |   Media |   P75 |\n",
      "|-------:|------:|----------:|--------:|------:|\n",
      "|  30.00 |  1.54 |      1.54 |    1.54 |  1.54 |\n",
      "|  55.00 |  0.52 |      0.56 |    0.62 |  0.61 |\n",
      "|  75.00 |  0.55 |      0.77 |    0.87 |  0.99 |\n",
      "| 100.00 |  0.37 |      0.47 |    0.64 |  0.79 |\n",
      "| 150.00 |  0.25 |      0.37 |    0.55 |  0.78 |\n",
      "| 200.00 |  0.26 |      0.39 |    0.49 |  0.49 |\n",
      ": Estadísticas ponderadas de consumo total mensual (KWh) para clima **Templado**, estrato socioeconómico **Medio alto** {#tbl-templado-medio-alto}\n",
      "\n",
      "|     m² |    P25 |   Mediana |   Media |    P75 |\n",
      "|-------:|-------:|----------:|--------:|-------:|\n",
      "|  30.00 | nan    |    nan    |  nan    | nan    |\n",
      "|  55.00 | nan    |    nan    |  nan    | nan    |\n",
      "|  75.00 |   0.47 |      0.53 |    0.95 |   0.97 |\n",
      "| 100.00 |   0.67 |      0.95 |    0.99 |   1.20 |\n",
      "| 150.00 |   0.57 |      0.65 |    0.69 |   0.75 |\n",
      "| 200.00 |   0.07 |      0.31 |    0.28 |   0.40 |\n",
      ": Estadísticas ponderadas de consumo total mensual (KWh) para clima **Templado**, estrato socioeconómico **Alto** {#tbl-templado-alto}\n",
      "\n",
      "|     m² |   P25 |   Mediana |   Media |   P75 |\n",
      "|-------:|------:|----------:|--------:|------:|\n",
      "|  30.00 |  1.93 |      2.68 |    4.41 |  4.51 |\n",
      "|  55.00 |  0.31 |      0.60 |    0.72 |  0.92 |\n",
      "|  75.00 |  0.50 |      0.54 |    0.69 |  0.84 |\n",
      "| 100.00 |  0.26 |      0.41 |    0.74 |  0.87 |\n",
      "| 150.00 |  0.24 |      0.71 |    0.87 |  1.22 |\n",
      "| 200.00 |  0.28 |      0.28 |    0.32 |  0.28 |\n",
      ": Estadísticas ponderadas de consumo total mensual (KWh) para clima **Tropical**, estrato socioeconómico **Bajo** {#tbl-tropical-bajo}\n",
      "\n",
      "|     m² |   P25 |   Mediana |   Media |   P75 |\n",
      "|-------:|------:|----------:|--------:|------:|\n",
      "|  30.00 |  2.16 |      2.94 |    3.19 |  3.07 |\n",
      "|  55.00 |  1.08 |      1.32 |    1.84 |  2.27 |\n",
      "|  75.00 |  0.63 |      0.79 |    1.11 |  1.29 |\n",
      "| 100.00 |  0.44 |      0.70 |    0.91 |  1.13 |\n",
      "| 150.00 |  0.35 |      0.60 |    0.85 |  0.90 |\n",
      "| 200.00 |  0.28 |      0.40 |    0.69 |  0.53 |\n",
      ": Estadísticas ponderadas de consumo total mensual (KWh) para clima **Tropical**, estrato socioeconómico **Medio bajo** {#tbl-tropical-medio-bajo}\n",
      "\n",
      "|     m² |   P25 |   Mediana |   Media |   P75 |\n",
      "|-------:|------:|----------:|--------:|------:|\n",
      "|  30.00 |  2.13 |      5.06 |    6.66 |  7.02 |\n",
      "|  55.00 |  0.69 |      0.75 |    1.39 |  1.24 |\n",
      "|  75.00 |  0.82 |      1.24 |    1.40 |  1.34 |\n",
      "| 100.00 |  0.61 |      0.98 |    1.11 |  1.24 |\n",
      "| 150.00 |  0.51 |      0.68 |    0.83 |  1.13 |\n",
      "| 200.00 |  0.27 |      0.36 |    0.62 |  0.75 |\n",
      ": Estadísticas ponderadas de consumo total mensual (KWh) para clima **Tropical**, estrato socioeconómico **Medio alto** {#tbl-tropical-medio-alto}\n",
      "\n",
      "|     m² |   P25 |   Mediana |   Media |   P75 |\n",
      "|-------:|------:|----------:|--------:|------:|\n",
      "|  30.00 |  0.72 |      0.72 |    2.17 |  2.72 |\n",
      "|  55.00 |  0.99 |      0.99 |    1.59 |  1.35 |\n",
      "|  75.00 |  1.72 |      1.75 |    1.80 |  1.79 |\n",
      "| 100.00 |  0.66 |      0.81 |    0.99 |  1.17 |\n",
      "| 150.00 |  0.39 |      0.45 |    0.61 |  0.68 |\n",
      "| 200.00 |  0.16 |      0.34 |    0.47 |  0.65 |\n",
      ": Estadísticas ponderadas de consumo total mensual (KWh) para clima **Tropical**, estrato socioeconómico **Alto** {#tbl-tropical-alto}\n",
      "\n"
     ]
    },
    {
     "name": "stderr",
     "output_type": "stream",
     "text": [
      "/var/folders/tc/1tpm30d53_9458mzx73ydg_w0000gn/T/ipykernel_9530/12594808.py:11: FutureWarning: DataFrameGroupBy.apply operated on the grouping columns. This behavior is deprecated, and in a future version of pandas the grouping columns will be excluded from the operation. Either pass `include_groups=False` to exclude the groupings or explicitly select the grouping columns after groupby to silence this warning.\n",
      "  .apply(estadisticas_kwh_mes_persona_area)\n"
     ]
    }
   ],
   "source": [
    "\n",
    "# --- 3) Filtrado inicial ---\n",
    "tamanos  = [30, 55, 75, 100, 150, 200]\n",
    "estratos = ['Bajo', 'Medio bajo', 'Medio alto', 'Alto']\n",
    "\n",
    "viv_tab = viv[viv['m2'].isin(tamanos)].copy()\n",
    "\n",
    "# --- 4) Agrupar y calcular estadísticas ---\n",
    "grouped = (\n",
    "    viv_tab\n",
    "    .groupby(['m2','clima','estrato'], observed=True)\n",
    "    .apply(estadisticas_kwh_mes_persona_area)\n",
    "    .reset_index()\n",
    ")\n",
    "\n",
    "\n",
    "grouped =  pd.concat([grouped,porcentajes_aa[[\"porcentaje\",\"viviendas\"]]],axis=1)\n",
    "grouped_kwhmespersonaarea = grouped.copy()\n",
    "\n",
    "# --- 5) Generar tablas Markdown ---\n",
    "for clima in grouped['clima'].unique():\n",
    "    for estrato in estratos:\n",
    "        sub = grouped[\n",
    "            (grouped['clima']==clima) &\n",
    "            (grouped['estrato']==estrato)\n",
    "        ]\n",
    "        if sub.empty:\n",
    "            continue\n",
    "\n",
    "        # 6) Pivot: m2 en filas, percentiles en columnas en el orden correcto\n",
    "        tabla = (\n",
    "            sub\n",
    "            .set_index('m2')[['P25','Mediana','Media','P75']]\n",
    "            .reindex(tamanos)\n",
    "            .rename_axis('m²')\n",
    "            .round(2)\n",
    "            .reset_index()\n",
    "        )\n",
    "\n",
    "        # 7) Generar slug y etiqueta Quarto\n",
    "        slug_clima   = clima.lower().replace(' ','-').replace('í','i').replace('á','a')\n",
    "        slug_estrato = estrato.lower().replace(' ','-')\n",
    "        etiqueta     = f\"tbl-{slug_clima}-{slug_estrato}\"\n",
    "\n",
    "        # 8) Imprimir en Markdown\n",
    "        print(tabulate(\n",
    "            tabla,\n",
    "            headers=tabla.columns,\n",
    "            tablefmt='pipe',\n",
    "            floatfmt='.2f',\n",
    "            showindex=False\n",
    "        ))\n",
    "        print(\n",
    "            f\": Estadísticas ponderadas de consumo total mensual (KWh) para clima **{clima}**, \"\n",
    "            f\"estrato socioeconómico **{estrato}** {{#{etiqueta}}}\\n\"\n",
    "        )"
   ]
  },
  {
   "cell_type": "code",
   "execution_count": 10,
   "id": "68201781-73e9-4a1c-97f5-e0b6cf4f50a3",
   "metadata": {},
   "outputs": [
    {
     "data": {
      "image/png": "[encoded data removed]",
      "text/plain": [
       "<Figure size 1200x400 with 3 Axes>"
      ]
     },
     "metadata": {},
     "output_type": "display_data"
    }
   ],
   "source": [
    "#| label: fig-total\n",
    "#| fig-cap: Consumo total mensual de la vivienda para los diferentes climas y estratos socioeconómicos y sin uso de aire acondicionado.\n",
    "estrato_order = ['Bajo', 'Medio bajo', 'Medio alto', 'Alto']\n",
    "m2_list = sorted(viv['m2'].unique())\n",
    "\n",
    "# 2) Crea tu palette y un dict m2→color\n",
    "colors = sns.color_palette('Set2', n_colors=len(m2_list))\n",
    "palette_dict = {m2: colors[i] for i, m2 in enumerate(m2_list)}\n",
    "\n",
    "# 3) Dibuja el catplot SIN leyenda\n",
    "g = sns.catplot(\n",
    "    data=viv,\n",
    "    x='estrato',\n",
    "    y='kwh_mes',\n",
    "    hue='m2',\n",
    "    palette=palette_dict,\n",
    "    col='clima',\n",
    "    kind='box',\n",
    "    order=estrato_order,\n",
    "    col_wrap=3,\n",
    "    height=4,\n",
    "    sharey=True,\n",
    "    whis=[25,75],\n",
    "    showfliers=False,\n",
    "    legend=False      # importante: no leyenda automática\n",
    ")\n",
    "\n",
    "# 4) Formatea ejes y títulos\n",
    "g.set_axis_labels(\"Estrato\", \"Consumo total mensual (kWh)\")\n",
    "g.set_titles(\"{col_name}\")\n",
    "for ax in g.axes.flat:\n",
    "    ax.tick_params(axis='x', rotation=45)\n",
    "\n",
    "# 5) Construye los patches manualmente\n",
    "patches = [\n",
    "    Patch(facecolor=palette_dict[m], label=str(int(m)))\n",
    "    for m in m2_list\n",
    "]\n",
    "\n",
    "# 6) Añade la leyenda centrada un poco a la izquierda\n",
    "g.fig.legend(\n",
    "    handles=patches,\n",
    "    title=\"m²\",\n",
    "    loc=\"upper center\",\n",
    "    bbox_to_anchor=(0.45, 1.05),  # ajusta este 0.45 para moverla más a la izquierda/derecha\n",
    "    ncol=len(m2_list),\n",
    "    frameon=False\n",
    ")\n",
    "\n",
    "# 7) Ajusta márgenes\n",
    "g.fig.subplots_adjust(top=0.88, right=0.92)\n",
    "\n",
    "plt.show()\n"
   ]
  },
  {
   "cell_type": "code",
   "execution_count": 11,
   "id": "ff7e9a17-6f82-4712-ae83-de04a14e16a5",
   "metadata": {},
   "outputs": [
    {
     "data": {
      "image/png": "[encoded data removed]",
      "text/plain": [
       "<Figure size 1200x400 with 3 Axes>"
      ]
     },
     "metadata": {},
     "output_type": "display_data"
    }
   ],
   "source": [
    "#| label: fig-total\n",
    "#| fig-cap: Consumo total mensual de la vivienda para los diferentes climas y estratos socioeconómicos y sin uso de aire acondicionado.\n",
    "estrato_order = ['Bajo', 'Medio bajo', 'Medio alto', 'Alto']\n",
    "m2_list = sorted(viv['m2'].unique())\n",
    "\n",
    "# 2) Crea tu palette y un dict m2→color\n",
    "colors = sns.color_palette('Set2', n_colors=len(m2_list))\n",
    "palette_dict = {m2: colors[i] for i, m2 in enumerate(m2_list)}\n",
    "\n",
    "# 3) Dibuja el catplot SIN leyenda\n",
    "g = sns.catplot(\n",
    "    data=viv,\n",
    "    x='estrato',\n",
    "    y='kwh_persona',\n",
    "    hue='m2',\n",
    "    palette=palette_dict,\n",
    "    col='clima',\n",
    "    kind='box',\n",
    "    order=estrato_order,\n",
    "    col_wrap=3,\n",
    "    height=4,\n",
    "    sharey=True,\n",
    "    whis=[25,75],\n",
    "    showfliers=False,\n",
    "    legend=False      # importante: no leyenda automática\n",
    ")\n",
    "\n",
    "# 4) Formatea ejes y títulos\n",
    "g.set_axis_labels(\"Estrato\", \"Consumo total mensual por persona (kWh/persona)\")\n",
    "g.set_titles(\"{col_name}\")\n",
    "for ax in g.axes.flat:\n",
    "    ax.tick_params(axis='x', rotation=45)\n",
    "\n",
    "# 5) Construye los patches manualmente\n",
    "patches = [\n",
    "    Patch(facecolor=palette_dict[m], label=str(int(m)))\n",
    "    for m in m2_list\n",
    "]\n",
    "\n",
    "# 6) Añade la leyenda centrada un poco a la izquierda\n",
    "g.fig.legend(\n",
    "    handles=patches,\n",
    "    title=\"m²\",\n",
    "    loc=\"upper center\",\n",
    "    bbox_to_anchor=(0.45, 1.05),  # ajusta este 0.45 para moverla más a la izquierda/derecha\n",
    "    ncol=len(m2_list),\n",
    "    frameon=False\n",
    ")\n",
    "\n",
    "# 7) Ajusta márgenes\n",
    "g.fig.subplots_adjust(top=0.88, right=0.92)\n",
    "\n",
    "plt.show()\n"
   ]
  },
  {
   "cell_type": "code",
   "execution_count": 12,
   "id": "450a35af-bb96-4363-955c-7c7210e40ce4",
   "metadata": {},
   "outputs": [
    {
     "data": {
      "image/png": "[encoded data removed]",
      "text/plain": [
       "<Figure size 1200x400 with 3 Axes>"
      ]
     },
     "metadata": {},
     "output_type": "display_data"
    }
   ],
   "source": [
    "#| label: fig-total\n",
    "#| fig-cap: Consumo total mensual de la vivienda para los diferentes climas y estratos socioeconómicos y sin uso de aire acondicionado.\n",
    "estrato_order = ['Bajo', 'Medio bajo', 'Medio alto', 'Alto']\n",
    "m2_list = sorted(viv['m2'].unique())\n",
    "\n",
    "# 2) Crea tu palette y un dict m2→color\n",
    "colors = sns.color_palette('Set2', n_colors=len(m2_list))\n",
    "palette_dict = {m2: colors[i] for i, m2 in enumerate(m2_list)}\n",
    "\n",
    "# 3) Dibuja el catplot SIN leyenda\n",
    "g = sns.catplot(\n",
    "    data=viv,\n",
    "    x='estrato',\n",
    "    y='kwh_m2persona',\n",
    "    hue='m2',\n",
    "    palette=palette_dict,\n",
    "    col='clima',\n",
    "    kind='box',\n",
    "    order=estrato_order,\n",
    "    col_wrap=3,\n",
    "    height=4,\n",
    "    sharey=True,\n",
    "    whis=[25,75],\n",
    "    showfliers=False,\n",
    "    legend=False      # importante: no leyenda automática\n",
    ")\n",
    "\n",
    "# 4) Formatea ejes y títulos\n",
    "g.set_axis_labels(\"Estrato\", \"Consumo total mensual por persona (kWh/persona)\")\n",
    "g.set_titles(\"{col_name}\")\n",
    "for ax in g.axes.flat:\n",
    "    ax.tick_params(axis='x', rotation=45)\n",
    "\n",
    "# 5) Construye los patches manualmente\n",
    "patches = [\n",
    "    Patch(facecolor=palette_dict[m], label=str(int(m)))\n",
    "    for m in m2_list\n",
    "]\n",
    "\n",
    "# 6) Añade la leyenda centrada un poco a la izquierda\n",
    "g.fig.legend(\n",
    "    handles=patches,\n",
    "    title=\"m²\",\n",
    "    loc=\"upper center\",\n",
    "    bbox_to_anchor=(0.45, 1.05),  # ajusta este 0.45 para moverla más a la izquierda/derecha\n",
    "    ncol=len(m2_list),\n",
    "    frameon=False\n",
    ")\n",
    "\n",
    "# 7) Ajusta márgenes\n",
    "g.fig.subplots_adjust(top=0.88, right=0.92)\n",
    "\n",
    "plt.show()\n"
   ]
  },
  {
   "cell_type": "code",
   "execution_count": 13,
   "id": "82f2cd3a-2b6e-4306-8382-7246c253a00e",
   "metadata": {},
   "outputs": [
    {
     "data": {
      "text/html": [
       "<div>\n",
       "<style scoped>\n",
       "    .dataframe tbody tr th:only-of-type {\n",
       "        vertical-align: middle;\n",
       "    }\n",
       "\n",
       "    .dataframe tbody tr th {\n",
       "        vertical-align: top;\n",
       "    }\n",
       "\n",
       "    .dataframe thead th {\n",
       "        text-align: right;\n",
       "    }\n",
       "</style>\n",
       "<table border=\"1\" class=\"dataframe\">\n",
       "  <thead>\n",
       "    <tr style=\"text-align: right;\">\n",
       "      <th></th>\n",
       "      <th>m2</th>\n",
       "      <th>clima</th>\n",
       "      <th>estrato</th>\n",
       "      <th>P25</th>\n",
       "      <th>Mediana</th>\n",
       "      <th>Media</th>\n",
       "      <th>P75</th>\n",
       "      <th>porcentaje</th>\n",
       "      <th>viviendas</th>\n",
       "      <th>etotal</th>\n",
       "    </tr>\n",
       "  </thead>\n",
       "  <tbody>\n",
       "    <tr>\n",
       "      <th>34</th>\n",
       "      <td>100.0</td>\n",
       "      <td>Cálido extremoso</td>\n",
       "      <td>Medio alto</td>\n",
       "      <td>86.873933</td>\n",
       "      <td>147.804603</td>\n",
       "      <td>243.424288</td>\n",
       "      <td>293.984727</td>\n",
       "      <td>0.876852</td>\n",
       "      <td>290783.0</td>\n",
       "      <td>7.078364e+07</td>\n",
       "    </tr>\n",
       "    <tr>\n",
       "      <th>46</th>\n",
       "      <td>150.0</td>\n",
       "      <td>Cálido extremoso</td>\n",
       "      <td>Medio alto</td>\n",
       "      <td>94.846591</td>\n",
       "      <td>151.786175</td>\n",
       "      <td>251.145952</td>\n",
       "      <td>287.886562</td>\n",
       "      <td>0.798133</td>\n",
       "      <td>264678.0</td>\n",
       "      <td>6.647281e+07</td>\n",
       "    </tr>\n",
       "    <tr>\n",
       "      <th>35</th>\n",
       "      <td>100.0</td>\n",
       "      <td>Cálido extremoso</td>\n",
       "      <td>Medio bajo</td>\n",
       "      <td>78.796723</td>\n",
       "      <td>140.344187</td>\n",
       "      <td>213.975672</td>\n",
       "      <td>235.234972</td>\n",
       "      <td>0.922202</td>\n",
       "      <td>305822.0</td>\n",
       "      <td>6.543847e+07</td>\n",
       "    </tr>\n",
       "    <tr>\n",
       "      <th>47</th>\n",
       "      <td>150.0</td>\n",
       "      <td>Cálido extremoso</td>\n",
       "      <td>Medio bajo</td>\n",
       "      <td>100.341870</td>\n",
       "      <td>168.944331</td>\n",
       "      <td>220.992653</td>\n",
       "      <td>294.218449</td>\n",
       "      <td>0.730483</td>\n",
       "      <td>242244.0</td>\n",
       "      <td>5.353414e+07</td>\n",
       "    </tr>\n",
       "    <tr>\n",
       "      <th>23</th>\n",
       "      <td>75.0</td>\n",
       "      <td>Cálido extremoso</td>\n",
       "      <td>Medio bajo</td>\n",
       "      <td>73.182369</td>\n",
       "      <td>125.177457</td>\n",
       "      <td>164.157037</td>\n",
       "      <td>208.670531</td>\n",
       "      <td>0.979861</td>\n",
       "      <td>324943.0</td>\n",
       "      <td>5.334168e+07</td>\n",
       "    </tr>\n",
       "    <tr>\n",
       "      <th>...</th>\n",
       "      <td>...</td>\n",
       "      <td>...</td>\n",
       "      <td>...</td>\n",
       "      <td>...</td>\n",
       "      <td>...</td>\n",
       "      <td>...</td>\n",
       "      <td>...</td>\n",
       "      <td>...</td>\n",
       "      <td>...</td>\n",
       "      <td>...</td>\n",
       "    </tr>\n",
       "    <tr>\n",
       "      <th>61</th>\n",
       "      <td>200.0</td>\n",
       "      <td>Templado</td>\n",
       "      <td>Medio alto</td>\n",
       "      <td>106.031510</td>\n",
       "      <td>147.642749</td>\n",
       "      <td>310.916287</td>\n",
       "      <td>333.449348</td>\n",
       "      <td>0.001435</td>\n",
       "      <td>476.0</td>\n",
       "      <td>1.479962e+05</td>\n",
       "    </tr>\n",
       "    <tr>\n",
       "      <th>14</th>\n",
       "      <td>55.0</td>\n",
       "      <td>Templado</td>\n",
       "      <td>Medio alto</td>\n",
       "      <td>29.046530</td>\n",
       "      <td>36.492774</td>\n",
       "      <td>46.495710</td>\n",
       "      <td>44.833859</td>\n",
       "      <td>0.008573</td>\n",
       "      <td>2843.0</td>\n",
       "      <td>1.321873e+05</td>\n",
       "    </tr>\n",
       "    <tr>\n",
       "      <th>0</th>\n",
       "      <td>30.0</td>\n",
       "      <td>Cálido extremoso</td>\n",
       "      <td>Alto</td>\n",
       "      <td>113.406372</td>\n",
       "      <td>113.406372</td>\n",
       "      <td>113.406372</td>\n",
       "      <td>113.406372</td>\n",
       "      <td>0.003353</td>\n",
       "      <td>1112.0</td>\n",
       "      <td>1.261079e+05</td>\n",
       "    </tr>\n",
       "    <tr>\n",
       "      <th>4</th>\n",
       "      <td>30.0</td>\n",
       "      <td>Templado</td>\n",
       "      <td>Medio alto</td>\n",
       "      <td>44.773249</td>\n",
       "      <td>44.773249</td>\n",
       "      <td>44.773249</td>\n",
       "      <td>44.773249</td>\n",
       "      <td>0.000645</td>\n",
       "      <td>214.0</td>\n",
       "      <td>9.581475e+03</td>\n",
       "    </tr>\n",
       "    <tr>\n",
       "      <th>67</th>\n",
       "      <td>NaN</td>\n",
       "      <td>NaN</td>\n",
       "      <td>NaN</td>\n",
       "      <td>NaN</td>\n",
       "      <td>NaN</td>\n",
       "      <td>NaN</td>\n",
       "      <td>NaN</td>\n",
       "      <td>0.097856</td>\n",
       "      <td>32451.0</td>\n",
       "      <td>NaN</td>\n",
       "    </tr>\n",
       "  </tbody>\n",
       "</table>\n",
       "<p>68 rows × 10 columns</p>\n",
       "</div>"
      ],
      "text/plain": [
       "       m2             clima     estrato         P25     Mediana       Media  \\\n",
       "34  100.0  Cálido extremoso  Medio alto   86.873933  147.804603  243.424288   \n",
       "46  150.0  Cálido extremoso  Medio alto   94.846591  151.786175  251.145952   \n",
       "35  100.0  Cálido extremoso  Medio bajo   78.796723  140.344187  213.975672   \n",
       "47  150.0  Cálido extremoso  Medio bajo  100.341870  168.944331  220.992653   \n",
       "23   75.0  Cálido extremoso  Medio bajo   73.182369  125.177457  164.157037   \n",
       "..    ...               ...         ...         ...         ...         ...   \n",
       "61  200.0          Templado  Medio alto  106.031510  147.642749  310.916287   \n",
       "14   55.0          Templado  Medio alto   29.046530   36.492774   46.495710   \n",
       "0    30.0  Cálido extremoso        Alto  113.406372  113.406372  113.406372   \n",
       "4    30.0          Templado  Medio alto   44.773249   44.773249   44.773249   \n",
       "67    NaN               NaN         NaN         NaN         NaN         NaN   \n",
       "\n",
       "           P75  porcentaje  viviendas        etotal  \n",
       "34  293.984727    0.876852   290783.0  7.078364e+07  \n",
       "46  287.886562    0.798133   264678.0  6.647281e+07  \n",
       "35  235.234972    0.922202   305822.0  6.543847e+07  \n",
       "47  294.218449    0.730483   242244.0  5.353414e+07  \n",
       "23  208.670531    0.979861   324943.0  5.334168e+07  \n",
       "..         ...         ...        ...           ...  \n",
       "61  333.449348    0.001435      476.0  1.479962e+05  \n",
       "14   44.833859    0.008573     2843.0  1.321873e+05  \n",
       "0   113.406372    0.003353     1112.0  1.261079e+05  \n",
       "4    44.773249    0.000645      214.0  9.581475e+03  \n",
       "67         NaN    0.097856    32451.0           NaN  \n",
       "\n",
       "[68 rows x 10 columns]"
      ]
     },
     "execution_count": 13,
     "metadata": {},
     "output_type": "execute_result"
    }
   ],
   "source": [
    "grouped_kwhmes[\"etotal\"] = grouped_kwhmes.Media*grouped_kwhmes.viviendas\n",
    "grouped_kwhmes.sort_values(by=\"etotal\",ascending=False)"
   ]
  },
  {
   "cell_type": "code",
   "execution_count": 14,
   "id": "74960c15-577a-4af9-bfe5-cd0b127968b4",
   "metadata": {},
   "outputs": [
    {
     "data": {
      "text/html": [
       "<div>\n",
       "<style scoped>\n",
       "    .dataframe tbody tr th:only-of-type {\n",
       "        vertical-align: middle;\n",
       "    }\n",
       "\n",
       "    .dataframe tbody tr th {\n",
       "        vertical-align: top;\n",
       "    }\n",
       "\n",
       "    .dataframe thead th {\n",
       "        text-align: right;\n",
       "    }\n",
       "</style>\n",
       "<table border=\"1\" class=\"dataframe\">\n",
       "  <thead>\n",
       "    <tr style=\"text-align: right;\">\n",
       "      <th></th>\n",
       "      <th>m2</th>\n",
       "      <th>clima</th>\n",
       "      <th>estrato</th>\n",
       "      <th>viviendas</th>\n",
       "      <th>etotal</th>\n",
       "    </tr>\n",
       "  </thead>\n",
       "  <tbody>\n",
       "    <tr>\n",
       "      <th>0</th>\n",
       "      <td>100.0</td>\n",
       "      <td>Cálido extremoso</td>\n",
       "      <td>Medio alto</td>\n",
       "      <td>290783.0</td>\n",
       "      <td>7.078364e+07</td>\n",
       "    </tr>\n",
       "    <tr>\n",
       "      <th>1</th>\n",
       "      <td>150.0</td>\n",
       "      <td>Cálido extremoso</td>\n",
       "      <td>Medio alto</td>\n",
       "      <td>264678.0</td>\n",
       "      <td>6.647281e+07</td>\n",
       "    </tr>\n",
       "    <tr>\n",
       "      <th>2</th>\n",
       "      <td>100.0</td>\n",
       "      <td>Cálido extremoso</td>\n",
       "      <td>Medio bajo</td>\n",
       "      <td>305822.0</td>\n",
       "      <td>6.543847e+07</td>\n",
       "    </tr>\n",
       "    <tr>\n",
       "      <th>3</th>\n",
       "      <td>150.0</td>\n",
       "      <td>Cálido extremoso</td>\n",
       "      <td>Medio bajo</td>\n",
       "      <td>242244.0</td>\n",
       "      <td>5.353414e+07</td>\n",
       "    </tr>\n",
       "    <tr>\n",
       "      <th>4</th>\n",
       "      <td>75.0</td>\n",
       "      <td>Cálido extremoso</td>\n",
       "      <td>Medio bajo</td>\n",
       "      <td>324943.0</td>\n",
       "      <td>5.334168e+07</td>\n",
       "    </tr>\n",
       "    <tr>\n",
       "      <th>...</th>\n",
       "      <td>...</td>\n",
       "      <td>...</td>\n",
       "      <td>...</td>\n",
       "      <td>...</td>\n",
       "      <td>...</td>\n",
       "    </tr>\n",
       "    <tr>\n",
       "      <th>63</th>\n",
       "      <td>200.0</td>\n",
       "      <td>Templado</td>\n",
       "      <td>Medio alto</td>\n",
       "      <td>476.0</td>\n",
       "      <td>1.479962e+05</td>\n",
       "    </tr>\n",
       "    <tr>\n",
       "      <th>64</th>\n",
       "      <td>55.0</td>\n",
       "      <td>Templado</td>\n",
       "      <td>Medio alto</td>\n",
       "      <td>2843.0</td>\n",
       "      <td>1.321873e+05</td>\n",
       "    </tr>\n",
       "    <tr>\n",
       "      <th>65</th>\n",
       "      <td>30.0</td>\n",
       "      <td>Cálido extremoso</td>\n",
       "      <td>Alto</td>\n",
       "      <td>1112.0</td>\n",
       "      <td>1.261079e+05</td>\n",
       "    </tr>\n",
       "    <tr>\n",
       "      <th>66</th>\n",
       "      <td>30.0</td>\n",
       "      <td>Templado</td>\n",
       "      <td>Medio alto</td>\n",
       "      <td>214.0</td>\n",
       "      <td>9.581475e+03</td>\n",
       "    </tr>\n",
       "    <tr>\n",
       "      <th>67</th>\n",
       "      <td>NaN</td>\n",
       "      <td>NaN</td>\n",
       "      <td>NaN</td>\n",
       "      <td>32451.0</td>\n",
       "      <td>NaN</td>\n",
       "    </tr>\n",
       "  </tbody>\n",
       "</table>\n",
       "<p>68 rows × 5 columns</p>\n",
       "</div>"
      ],
      "text/plain": [
       "       m2             clima     estrato  viviendas        etotal\n",
       "0   100.0  Cálido extremoso  Medio alto   290783.0  7.078364e+07\n",
       "1   150.0  Cálido extremoso  Medio alto   264678.0  6.647281e+07\n",
       "2   100.0  Cálido extremoso  Medio bajo   305822.0  6.543847e+07\n",
       "3   150.0  Cálido extremoso  Medio bajo   242244.0  5.353414e+07\n",
       "4    75.0  Cálido extremoso  Medio bajo   324943.0  5.334168e+07\n",
       "..    ...               ...         ...        ...           ...\n",
       "63  200.0          Templado  Medio alto      476.0  1.479962e+05\n",
       "64   55.0          Templado  Medio alto     2843.0  1.321873e+05\n",
       "65   30.0  Cálido extremoso        Alto     1112.0  1.261079e+05\n",
       "66   30.0          Templado  Medio alto      214.0  9.581475e+03\n",
       "67    NaN               NaN         NaN    32451.0           NaN\n",
       "\n",
       "[68 rows x 5 columns]"
      ]
     },
     "metadata": {},
     "output_type": "display_data"
    }
   ],
   "source": [
    "# Opción 1: Seleccionar las 4 columnas tras ordenar\n",
    "df_vis = (\n",
    "    grouped_kwhmes\n",
    "      .sort_values(by=\"etotal\", ascending=False)\n",
    "      [[\"m2\",\"clima\",\"estrato\",\"viviendas\",\"etotal\"]]\n",
    "      .reset_index(drop=True)\n",
    ")\n",
    "display(df_vis)\n"
   ]
  },
  {
   "cell_type": "code",
   "execution_count": 15,
   "id": "e02c4846-90b2-4b5b-a1c8-e69dfad0edd0",
   "metadata": {},
   "outputs": [
    {
     "data": {
      "image/png": "[encoded data removed]",
      "text/plain": [
       "<Figure size 800x800 with 1 Axes>"
      ]
     },
     "metadata": {},
     "output_type": "display_data"
    }
   ],
   "source": [
    "\n",
    "# Prepara Serie normalizada (ya la tienes)\n",
    "et = (\n",
    "    grouped_kwhmes\n",
    "      .sort_values(by=\"etotal\", ascending=False)\n",
    "      .set_index([\"m2\",\"clima\",\"estrato\"])[\"etotal\"]\n",
    "      .head(20)\n",
    ")\n",
    "et = et / et.max()\n",
    "\n",
    "# Grafica horizontal\n",
    "plt.figure(figsize=(8, 8))\n",
    "# Para que la barra más grande quede arriba, ordena de menor a mayor\n",
    "et.sort_values().plot(kind='barh')\n",
    "\n",
    "plt.xlabel(\"Energía total (etotal)\")\n",
    "plt.ylabel(\"m2, clima, estrato\")\n",
    "plt.grid(axis='x', linestyle='--', alpha=0.7)\n",
    "plt.tight_layout()\n",
    "plt.show()"
   ]
  },
  {
   "cell_type": "code",
   "execution_count": 16,
   "id": "3f64a040-9299-4159-b078-42dbd66c33f1",
   "metadata": {},
   "outputs": [
    {
     "data": {
      "text/html": [
       "<div>\n",
       "<style scoped>\n",
       "    .dataframe tbody tr th:only-of-type {\n",
       "        vertical-align: middle;\n",
       "    }\n",
       "\n",
       "    .dataframe tbody tr th {\n",
       "        vertical-align: top;\n",
       "    }\n",
       "\n",
       "    .dataframe thead th {\n",
       "        text-align: right;\n",
       "    }\n",
       "</style>\n",
       "<table border=\"1\" class=\"dataframe\">\n",
       "  <thead>\n",
       "    <tr style=\"text-align: right;\">\n",
       "      <th></th>\n",
       "      <th>m2</th>\n",
       "      <th>clima</th>\n",
       "      <th>estrato</th>\n",
       "      <th>P25</th>\n",
       "      <th>Mediana</th>\n",
       "      <th>Media</th>\n",
       "      <th>P75</th>\n",
       "      <th>porcentaje</th>\n",
       "      <th>viviendas</th>\n",
       "      <th>etotal</th>\n",
       "    </tr>\n",
       "  </thead>\n",
       "  <tbody>\n",
       "    <tr>\n",
       "      <th>0</th>\n",
       "      <td>30.0</td>\n",
       "      <td>Cálido extremoso</td>\n",
       "      <td>Alto</td>\n",
       "      <td>113.406372</td>\n",
       "      <td>113.406372</td>\n",
       "      <td>113.406372</td>\n",
       "      <td>113.406372</td>\n",
       "      <td>0.003353</td>\n",
       "      <td>1112.0</td>\n",
       "      <td>1.261079e+05</td>\n",
       "    </tr>\n",
       "    <tr>\n",
       "      <th>1</th>\n",
       "      <td>30.0</td>\n",
       "      <td>Cálido extremoso</td>\n",
       "      <td>Bajo</td>\n",
       "      <td>45.988595</td>\n",
       "      <td>93.305932</td>\n",
       "      <td>147.785627</td>\n",
       "      <td>184.058889</td>\n",
       "      <td>0.028499</td>\n",
       "      <td>9451.0</td>\n",
       "      <td>1.396722e+06</td>\n",
       "    </tr>\n",
       "    <tr>\n",
       "      <th>2</th>\n",
       "      <td>30.0</td>\n",
       "      <td>Cálido extremoso</td>\n",
       "      <td>Medio alto</td>\n",
       "      <td>66.532186</td>\n",
       "      <td>93.179372</td>\n",
       "      <td>140.895406</td>\n",
       "      <td>184.653085</td>\n",
       "      <td>0.046803</td>\n",
       "      <td>15521.0</td>\n",
       "      <td>2.186838e+06</td>\n",
       "    </tr>\n",
       "    <tr>\n",
       "      <th>3</th>\n",
       "      <td>30.0</td>\n",
       "      <td>Cálido extremoso</td>\n",
       "      <td>Medio bajo</td>\n",
       "      <td>94.982564</td>\n",
       "      <td>130.983028</td>\n",
       "      <td>144.411355</td>\n",
       "      <td>191.702393</td>\n",
       "      <td>0.119676</td>\n",
       "      <td>39687.0</td>\n",
       "      <td>5.731253e+06</td>\n",
       "    </tr>\n",
       "    <tr>\n",
       "      <th>4</th>\n",
       "      <td>30.0</td>\n",
       "      <td>Templado</td>\n",
       "      <td>Medio alto</td>\n",
       "      <td>44.773249</td>\n",
       "      <td>44.773249</td>\n",
       "      <td>44.773249</td>\n",
       "      <td>44.773249</td>\n",
       "      <td>0.000645</td>\n",
       "      <td>214.0</td>\n",
       "      <td>9.581475e+03</td>\n",
       "    </tr>\n",
       "    <tr>\n",
       "      <th>...</th>\n",
       "      <td>...</td>\n",
       "      <td>...</td>\n",
       "      <td>...</td>\n",
       "      <td>...</td>\n",
       "      <td>...</td>\n",
       "      <td>...</td>\n",
       "      <td>...</td>\n",
       "      <td>...</td>\n",
       "      <td>...</td>\n",
       "      <td>...</td>\n",
       "    </tr>\n",
       "    <tr>\n",
       "      <th>63</th>\n",
       "      <td>200.0</td>\n",
       "      <td>Tropical</td>\n",
       "      <td>Alto</td>\n",
       "      <td>131.376946</td>\n",
       "      <td>134.709449</td>\n",
       "      <td>166.664170</td>\n",
       "      <td>207.214358</td>\n",
       "      <td>0.027016</td>\n",
       "      <td>8959.0</td>\n",
       "      <td>1.493144e+06</td>\n",
       "    </tr>\n",
       "    <tr>\n",
       "      <th>64</th>\n",
       "      <td>200.0</td>\n",
       "      <td>Tropical</td>\n",
       "      <td>Bajo</td>\n",
       "      <td>56.916841</td>\n",
       "      <td>56.916841</td>\n",
       "      <td>141.655323</td>\n",
       "      <td>56.916841</td>\n",
       "      <td>0.037597</td>\n",
       "      <td>12468.0</td>\n",
       "      <td>1.766159e+06</td>\n",
       "    </tr>\n",
       "    <tr>\n",
       "      <th>65</th>\n",
       "      <td>200.0</td>\n",
       "      <td>Tropical</td>\n",
       "      <td>Medio alto</td>\n",
       "      <td>90.692130</td>\n",
       "      <td>107.001516</td>\n",
       "      <td>229.028534</td>\n",
       "      <td>274.889924</td>\n",
       "      <td>0.012427</td>\n",
       "      <td>4121.0</td>\n",
       "      <td>9.438266e+05</td>\n",
       "    </tr>\n",
       "    <tr>\n",
       "      <th>66</th>\n",
       "      <td>200.0</td>\n",
       "      <td>Tropical</td>\n",
       "      <td>Medio bajo</td>\n",
       "      <td>130.368154</td>\n",
       "      <td>139.241264</td>\n",
       "      <td>344.111116</td>\n",
       "      <td>277.763464</td>\n",
       "      <td>0.050618</td>\n",
       "      <td>16786.0</td>\n",
       "      <td>5.776249e+06</td>\n",
       "    </tr>\n",
       "    <tr>\n",
       "      <th>67</th>\n",
       "      <td>NaN</td>\n",
       "      <td>NaN</td>\n",
       "      <td>NaN</td>\n",
       "      <td>NaN</td>\n",
       "      <td>NaN</td>\n",
       "      <td>NaN</td>\n",
       "      <td>NaN</td>\n",
       "      <td>0.097856</td>\n",
       "      <td>32451.0</td>\n",
       "      <td>NaN</td>\n",
       "    </tr>\n",
       "  </tbody>\n",
       "</table>\n",
       "<p>68 rows × 10 columns</p>\n",
       "</div>"
      ],
      "text/plain": [
       "       m2             clima     estrato         P25     Mediana       Media  \\\n",
       "0    30.0  Cálido extremoso        Alto  113.406372  113.406372  113.406372   \n",
       "1    30.0  Cálido extremoso        Bajo   45.988595   93.305932  147.785627   \n",
       "2    30.0  Cálido extremoso  Medio alto   66.532186   93.179372  140.895406   \n",
       "3    30.0  Cálido extremoso  Medio bajo   94.982564  130.983028  144.411355   \n",
       "4    30.0          Templado  Medio alto   44.773249   44.773249   44.773249   \n",
       "..    ...               ...         ...         ...         ...         ...   \n",
       "63  200.0          Tropical        Alto  131.376946  134.709449  166.664170   \n",
       "64  200.0          Tropical        Bajo   56.916841   56.916841  141.655323   \n",
       "65  200.0          Tropical  Medio alto   90.692130  107.001516  229.028534   \n",
       "66  200.0          Tropical  Medio bajo  130.368154  139.241264  344.111116   \n",
       "67    NaN               NaN         NaN         NaN         NaN         NaN   \n",
       "\n",
       "           P75  porcentaje  viviendas        etotal  \n",
       "0   113.406372    0.003353     1112.0  1.261079e+05  \n",
       "1   184.058889    0.028499     9451.0  1.396722e+06  \n",
       "2   184.653085    0.046803    15521.0  2.186838e+06  \n",
       "3   191.702393    0.119676    39687.0  5.731253e+06  \n",
       "4    44.773249    0.000645      214.0  9.581475e+03  \n",
       "..         ...         ...        ...           ...  \n",
       "63  207.214358    0.027016     8959.0  1.493144e+06  \n",
       "64   56.916841    0.037597    12468.0  1.766159e+06  \n",
       "65  274.889924    0.012427     4121.0  9.438266e+05  \n",
       "66  277.763464    0.050618    16786.0  5.776249e+06  \n",
       "67         NaN    0.097856    32451.0           NaN  \n",
       "\n",
       "[68 rows x 10 columns]"
      ]
     },
     "execution_count": 16,
     "metadata": {},
     "output_type": "execute_result"
    }
   ],
   "source": [
    "grouped_kwhmes"
   ]
  },
  {
   "cell_type": "code",
   "execution_count": 19,
   "id": "69b5cf3e-64b3-4dd2-8d60-0419cba3b159",
   "metadata": {},
   "outputs": [
    {
     "data": {
      "application/vnd.plotly.v1+json": {
       "config": {
        "plotlyServerURL": "https://plot.ly"
       },
       "data": [
        {
         "customdata": [
          [
           100,
           "Medio alto",
           290783
          ],
          [
           150,
           "Medio alto",
           264678
          ],
          [
           100,
           "Medio bajo",
           305822
          ],
          [
           150,
           "Medio bajo",
           242244
          ],
          [
           75,
           "Medio bajo",
           324943
          ],
          [
           75,
           "Medio alto",
           192938
          ],
          [
           200,
           "Alto",
           109519.00000000001
          ],
          [
           100,
           "Alto",
           180475.99999999997
          ],
          [
           150,
           "Alto",
           165413
          ],
          [
           200,
           "Medio alto",
           135260
          ],
          [
           55,
           "Medio bajo",
           214275
          ],
          [
           200,
           "Medio bajo",
           86136
          ],
          [
           75,
           "Alto",
           81896.00000000001
          ],
          [
           55,
           "Medio alto",
           75815
          ],
          [
           100,
           "Bajo",
           34856.00000000001
          ],
          [
           55,
           "Alto",
           33228
          ],
          [
           55,
           "Bajo",
           28533
          ],
          [
           30,
           "Medio bajo",
           39687
          ],
          [
           150,
           "Bajo",
           26756
          ],
          [
           75,
           "Bajo",
           28201.000000000004
          ],
          [
           30,
           "Medio alto",
           15521
          ],
          [
           30,
           "Bajo",
           9451.000000000002
          ],
          [
           200,
           "Bajo",
           8105
          ],
          [
           30,
           "Alto",
           1112.0000000000002
          ]
         ],
         "hovertemplate": "Clima=Cálido extremoso<br>Energía total (etotal)=%{x}<br>Porcentaje (%)=%{y}<br>Número de viviendas=%{customdata[2]}<br>m2=%{customdata[0]}<br>estrato=%{customdata[1]}<extra></extra>",
         "legendgroup": "Cálido extremoso",
         "marker": {
          "color": "#636efa",
          "size": {
           "bdata": "AAAAAHy/EUEAAAAAmCcQQQAAAAB4qhJBAAAAACCSDUEAAAAAPNUTQQAAAABQjQdBAQAAAPC8+kD/////3wcGQQAAAAAoMQRBAAAAAOCCAEEAAAAAGCgKQQAAAACAB/VAAQAAAID+80AAAAAAcILyQAEAAAAABeFAAAAAAIA54EAAAAAAQN3bQAAAAADgYONAAAAAAAAh2kABAAAAQIrbQAAAAACAUM5AAQAAAIB1wkAAAAAAAKm/QAEAAAAAYJFA",
           "dtype": "f8"
          },
          "sizemode": "area",
          "sizeref": 90.26194444444444,
          "symbol": "circle"
         },
         "mode": "markers",
         "name": "Cálido extremoso",
         "orientation": "v",
         "showlegend": true,
         "type": "scatter",
         "x": {
          "bdata": "WQunckrgkEG6j4tCW7KPQZ0wxCAYNI9BnyV9Au6GiUF+9KuBb2+JQZVs8oArPIhBbKhpMuijg0FfovDjfJ6DQbGe5Yza8YJBTkWzXIrPgUHvXwciRGF/QYHXLdzWQ3VBeojsZfTFcEHMbU7ztRxsQV+2vNzJvVxBBGPcqQNDV0E0ry43EU1WQfljwlvt3FVBw1/CGnSsU0GADFQ0bQRPQVEgTc0qr0BBWJb49PFPNUH0Wx6IvSIzQbbhFy2+yf5A",
          "dtype": "f8"
         },
         "xaxis": "x",
         "y": {
          "bdata": "KGz0MCwP7D/xLgLsTYrpP4BVlNGtgu0/Qk12zx5g5z9uJYi9BVvvPz7jFvkenuI/MMhmn90i1T8AF+keRmrhP1ByFXBZ7N8/zXSPVp4a2j/wt+a6NK3kP6yHLpOcn9A/NXlLP0Oczz81QQnnY0PNPwxeNw1Y6Lo/yGkoJp2muT9xOFo6xga2P68wamkPo74/DKqCMpmntD/c26/cKcW1P6jQuDWc9qc//I2er+8unT+m2B0/7waZP4nMFaM2eGs/",
          "dtype": "f8"
         },
         "yaxis": "y"
        },
        {
         "customdata": [
          [
           100,
           "Medio bajo",
           85049
          ],
          [
           75,
           "Medio bajo",
           65770
          ],
          [
           150,
           "Medio bajo",
           55830
          ],
          [
           55,
           "Medio bajo",
           46710
          ],
          [
           200,
           "Medio bajo",
           16785.999999999996
          ],
          [
           150,
           "Medio alto",
           21244
          ],
          [
           30,
           "Medio bajo",
           16164
          ],
          [
           150,
           "Alto",
           15283
          ],
          [
           100,
           "Medio alto",
           11182
          ],
          [
           100,
           "Bajo",
           16909
          ],
          [
           100,
           "Alto",
           18981.000000000004
          ],
          [
           75,
           "Medio alto",
           20298
          ],
          [
           75,
           "Bajo",
           16181
          ],
          [
           75,
           "Alto",
           19059
          ],
          [
           150,
           "Bajo",
           10584
          ],
          [
           200,
           "Bajo",
           12468
          ],
          [
           55,
           "Medio alto",
           7152.000000000001
          ],
          [
           55,
           "Bajo",
           11655
          ],
          [
           200,
           "Alto",
           8959.000000000002
          ],
          [
           200,
           "Medio alto",
           4121
          ],
          [
           55,
           "Alto",
           3987
          ],
          [
           30,
           "Bajo",
           1416.9999999999998
          ],
          [
           30,
           "Alto",
           1372
          ],
          [
           30,
           "Medio alto",
           1515
          ]
         ],
         "hovertemplate": "Clima=Tropical<br>Energía total (etotal)=%{x}<br>Porcentaje (%)=%{y}<br>Número de viviendas=%{customdata[2]}<br>m2=%{customdata[0]}<br>estrato=%{customdata[1]}<extra></extra>",
         "legendgroup": "Tropical",
         "marker": {
          "color": "#EF553B",
          "size": {
           "bdata": "AAAAAJDD9EAAAAAAoA7wQAAAAADAQutAAAAAAMDO5kD/////f2TQQAAAAAAAv9RAAAAAAACSz0AAAAAAgNnNQAAAAAAA18VAAAAAAECD0EABAAAAQInSQAAAAACA0tNAAAAAAICaz0AAAAAAwJzSQAAAAAAArMRAAAAAAABayEABAAAAAPC7QAAAAACAw8ZAAQAAAIB/wUAAAAAAABmwQAAAAAAAJq9A//////8jlkAAAAAAAHCVQAAAAAAArJdA",
           "dtype": "f8"
          },
          "sizemode": "area",
          "sizeref": 90.26194444444444,
          "symbol": "circle"
         },
         "mode": "markers",
         "name": "Tropical",
         "orientation": "v",
         "showlegend": true,
         "type": "scatter",
         "x": {
          "bdata": "mgq3MuowckE4aFZNN+hnQYj/SJSSzGNBavpGUGhJY0FmX+NM3ghWQZIRZlfbYVVBZHAd+AKiTEFSZ2Pl4ItLQTN7/0SX50hBsPs/rvaSSEEWaJgM60NIQQ/ewy3DQUZBQkmCfmVCQEHafJg2fDlAQblT2a5+jjxBOr6HkA7zOkEVAEiQVzI4Qao0PUFQ9DdBSCRJTJjINkFEjxAupc0sQQlJ2KvlPR5BVMUDGlyxDUH2t9TbI3oGQbwMKuEo7QRB",
          "dtype": "f8"
         },
         "xaxis": "x",
         "y": {
          "bdata": "yM4/WOhp0D8IYu5G1GLJP5h5GLSkjMU/ucJEoXsHwj9cmMycmOqpPxSK7gxNZrA/AeT31MD0qD8bnFisipinPyJvWH2jQ6E/TenNHDYbqj+dhSIjKU6tP/UTVg2zVq8/VAwR8Xj7qD+SL9Jn/WytP8QCaxlIV6A/1ZXWu+w/oz/tmHOWmBWWPzzvmwOX/qE/eQaUrwOqmz8u+VheO3OJPxxc1lFhn4g/uScPqYGAcT/n74HON/JwPwECPRNhtnI/",
          "dtype": "f8"
         },
         "yaxis": "y"
        },
        {
         "customdata": [
          [
           100,
           "Medio bajo",
           19338
          ],
          [
           150,
           "Medio bajo",
           23251
          ],
          [
           75,
           "Medio bajo",
           23542.000000000004
          ],
          [
           150,
           "Alto",
           15019
          ],
          [
           200,
           "Medio bajo",
           7409
          ],
          [
           100,
           "Medio alto",
           9827
          ],
          [
           55,
           "Medio bajo",
           8953
          ],
          [
           200,
           "Alto",
           11771.000000000002
          ],
          [
           150,
           "Medio alto",
           6066
          ],
          [
           75,
           "Medio alto",
           4610
          ],
          [
           100,
           "Alto",
           3444
          ],
          [
           150,
           "Bajo",
           5463
          ],
          [
           75,
           "Alto",
           6267
          ],
          [
           75,
           "Bajo",
           3102.0000000000005
          ],
          [
           30,
           "Medio bajo",
           4109.999999999999
          ],
          [
           100,
           "Bajo",
           4157
          ],
          [
           200,
           "Medio alto",
           476.00000000000006
          ],
          [
           55,
           "Medio alto",
           2843
          ],
          [
           30,
           "Medio alto",
           214
          ]
         ],
         "hovertemplate": "Clima=Templado<br>Energía total (etotal)=%{x}<br>Porcentaje (%)=%{y}<br>Número de viviendas=%{customdata[2]}<br>m2=%{customdata[0]}<br>estrato=%{customdata[1]}<extra></extra>",
         "legendgroup": "Templado",
         "marker": {
          "color": "#00cc96",
          "size": {
           "bdata": "AAAAAIDi0kAAAAAAwLTWQAEAAACA/dZAAAAAAIBVzUAAAAAAAPG8QAAAAACAMcNAAAAAAIB8wUABAAAAgP3GQAAAAAAAsrdAAAAAAAACskAAAAAAAOiqQAAAAAAAV7VAAAAAAAB7uEABAAAAADyoQP//////DbBAAAAAAAA9sEABAAAAAMB9QAAAAAAANqZAAAAAAADAakA=",
           "dtype": "f8"
          },
          "sizemode": "area",
          "sizeref": 90.26194444444444,
          "symbol": "circle"
         },
         "mode": "markers",
         "name": "Templado",
         "orientation": "v",
         "showlegend": true,
         "type": "scatter",
         "x": {
          "bdata": "NMVRgSzbTUF7RogsffNKQcwlja6T8kZBTbkWkGTXQEGKObwRBBY8QVLc9XP++TNBWhcasoPgMUFAYd5uGa4xQVpLkK2RBS9BHQlEFTTMKkEbOaYFU5UfQZXmh3Ea6RxBEGaxZqXuFkGNHgvtFSIWQcB3y9ekXxJBaym7xF1gBEEfgt044RACQYHIA2zaIgBBvyZr1Ly2wkA=",
          "dtype": "f8"
         },
         "xaxis": "x",
         "y": {
          "bdata": "b9QycUPbrT8V/CQe7vKxP4MgzztwLLI/PIRoYTIwpz9WibecwOCWP/GyQj8pWJ4/eWKgfUWlmz+DIM87cCyiP/+lMEUfu5I/NmR6LFV4jD8vaZMA6ESFP5jECql03pA/zZuSzgJakz/dYRTCNSiDP92f21HXYYk/G6nEtSWsiT8iIw1YYoRXP7UT6j68joE/5CM7XkklRT8=",
          "dtype": "f8"
         },
         "yaxis": "y"
        }
       ],
       "layout": {
        "legend": {
         "itemsizing": "constant",
         "title": {
          "text": "Clima"
         },
         "tracegroupgap": 0
        },
        "template": {
         "data": {
          "bar": [
           {
            "error_x": {
             "color": "#2a3f5f"
            },
            "error_y": {
             "color": "#2a3f5f"
            },
            "marker": {
             "line": {
              "color": "#E5ECF6",
              "width": 0.5
             },
             "pattern": {
              "fillmode": "overlay",
              "size": 10,
              "solidity": 0.2
             }
            },
            "type": "bar"
           }
          ],
          "barpolar": [
           {
            "marker": {
             "line": {
              "color": "#E5ECF6",
              "width": 0.5
             },
             "pattern": {
              "fillmode": "overlay",
              "size": 10,
              "solidity": 0.2
             }
            },
            "type": "barpolar"
           }
          ],
          "carpet": [
           {
            "aaxis": {
             "endlinecolor": "#2a3f5f",
             "gridcolor": "white",
             "linecolor": "white",
             "minorgridcolor": "white",
             "startlinecolor": "#2a3f5f"
            },
            "baxis": {
             "endlinecolor": "#2a3f5f",
             "gridcolor": "white",
             "linecolor": "white",
             "minorgridcolor": "white",
             "startlinecolor": "#2a3f5f"
            },
            "type": "carpet"
           }
          ],
          "choropleth": [
           {
            "colorbar": {
             "outlinewidth": 0,
             "ticks": ""
            },
            "type": "choropleth"
           }
          ],
          "contour": [
           {
            "colorbar": {
             "outlinewidth": 0,
             "ticks": ""
            },
            "colorscale": [
             [
              0,
              "#0d0887"
             ],
             [
              0.1111111111111111,
              "#46039f"
             ],
             [
              0.2222222222222222,
              "#7201a8"
             ],
             [
              0.3333333333333333,
              "#9c179e"
             ],
             [
              0.4444444444444444,
              "#bd3786"
             ],
             [
              0.5555555555555556,
              "#d8576b"
             ],
             [
              0.6666666666666666,
              "#ed7953"
             ],
             [
              0.7777777777777778,
              "#fb9f3a"
             ],
             [
              0.8888888888888888,
              "#fdca26"
             ],
             [
              1,
              "#f0f921"
             ]
            ],
            "type": "contour"
           }
          ],
          "contourcarpet": [
           {
            "colorbar": {
             "outlinewidth": 0,
             "ticks": ""
            },
            "type": "contourcarpet"
           }
          ],
          "heatmap": [
           {
            "colorbar": {
             "outlinewidth": 0,
             "ticks": ""
            },
            "colorscale": [
             [
              0,
              "#0d0887"
             ],
             [
              0.1111111111111111,
              "#46039f"
             ],
             [
              0.2222222222222222,
              "#7201a8"
             ],
             [
              0.3333333333333333,
              "#9c179e"
             ],
             [
              0.4444444444444444,
              "#bd3786"
             ],
             [
              0.5555555555555556,
              "#d8576b"
             ],
             [
              0.6666666666666666,
              "#ed7953"
             ],
             [
              0.7777777777777778,
              "#fb9f3a"
             ],
             [
              0.8888888888888888,
              "#fdca26"
             ],
             [
              1,
              "#f0f921"
             ]
            ],
            "type": "heatmap"
           }
          ],
          "histogram": [
           {
            "marker": {
             "pattern": {
              "fillmode": "overlay",
              "size": 10,
              "solidity": 0.2
             }
            },
            "type": "histogram"
           }
          ],
          "histogram2d": [
           {
            "colorbar": {
             "outlinewidth": 0,
             "ticks": ""
            },
            "colorscale": [
             [
              0,
              "#0d0887"
             ],
             [
              0.1111111111111111,
              "#46039f"
             ],
             [
              0.2222222222222222,
              "#7201a8"
             ],
             [
              0.3333333333333333,
              "#9c179e"
             ],
             [
              0.4444444444444444,
              "#bd3786"
             ],
             [
              0.5555555555555556,
              "#d8576b"
             ],
             [
              0.6666666666666666,
              "#ed7953"
             ],
             [
              0.7777777777777778,
              "#fb9f3a"
             ],
             [
              0.8888888888888888,
              "#fdca26"
             ],
             [
              1,
              "#f0f921"
             ]
            ],
            "type": "histogram2d"
           }
          ],
          "histogram2dcontour": [
           {
            "colorbar": {
             "outlinewidth": 0,
             "ticks": ""
            },
            "colorscale": [
             [
              0,
              "#0d0887"
             ],
             [
              0.1111111111111111,
              "#46039f"
             ],
             [
              0.2222222222222222,
              "#7201a8"
             ],
             [
              0.3333333333333333,
              "#9c179e"
             ],
             [
              0.4444444444444444,
              "#bd3786"
             ],
             [
              0.5555555555555556,
              "#d8576b"
             ],
             [
              0.6666666666666666,
              "#ed7953"
             ],
             [
              0.7777777777777778,
              "#fb9f3a"
             ],
             [
              0.8888888888888888,
              "#fdca26"
             ],
             [
              1,
              "#f0f921"
             ]
            ],
            "type": "histogram2dcontour"
           }
          ],
          "mesh3d": [
           {
            "colorbar": {
             "outlinewidth": 0,
             "ticks": ""
            },
            "type": "mesh3d"
           }
          ],
          "parcoords": [
           {
            "line": {
             "colorbar": {
              "outlinewidth": 0,
              "ticks": ""
             }
            },
            "type": "parcoords"
           }
          ],
          "pie": [
           {
            "automargin": true,
            "type": "pie"
           }
          ],
          "scatter": [
           {
            "fillpattern": {
             "fillmode": "overlay",
             "size": 10,
             "solidity": 0.2
            },
            "type": "scatter"
           }
          ],
          "scatter3d": [
           {
            "line": {
             "colorbar": {
              "outlinewidth": 0,
              "ticks": ""
             }
            },
            "marker": {
             "colorbar": {
              "outlinewidth": 0,
              "ticks": ""
             }
            },
            "type": "scatter3d"
           }
          ],
          "scattercarpet": [
           {
            "marker": {
             "colorbar": {
              "outlinewidth": 0,
              "ticks": ""
             }
            },
            "type": "scattercarpet"
           }
          ],
          "scattergeo": [
           {
            "marker": {
             "colorbar": {
              "outlinewidth": 0,
              "ticks": ""
             }
            },
            "type": "scattergeo"
           }
          ],
          "scattergl": [
           {
            "marker": {
             "colorbar": {
              "outlinewidth": 0,
              "ticks": ""
             }
            },
            "type": "scattergl"
           }
          ],
          "scattermap": [
           {
            "marker": {
             "colorbar": {
              "outlinewidth": 0,
              "ticks": ""
             }
            },
            "type": "scattermap"
           }
          ],
          "scattermapbox": [
           {
            "marker": {
             "colorbar": {
              "outlinewidth": 0,
              "ticks": ""
             }
            },
            "type": "scattermapbox"
           }
          ],
          "scatterpolar": [
           {
            "marker": {
             "colorbar": {
              "outlinewidth": 0,
              "ticks": ""
             }
            },
            "type": "scatterpolar"
           }
          ],
          "scatterpolargl": [
           {
            "marker": {
             "colorbar": {
              "outlinewidth": 0,
              "ticks": ""
             }
            },
            "type": "scatterpolargl"
           }
          ],
          "scatterternary": [
           {
            "marker": {
             "colorbar": {
              "outlinewidth": 0,
              "ticks": ""
             }
            },
            "type": "scatterternary"
           }
          ],
          "surface": [
           {
            "colorbar": {
             "outlinewidth": 0,
             "ticks": ""
            },
            "colorscale": [
             [
              0,
              "#0d0887"
             ],
             [
              0.1111111111111111,
              "#46039f"
             ],
             [
              0.2222222222222222,
              "#7201a8"
             ],
             [
              0.3333333333333333,
              "#9c179e"
             ],
             [
              0.4444444444444444,
              "#bd3786"
             ],
             [
              0.5555555555555556,
              "#d8576b"
             ],
             [
              0.6666666666666666,
              "#ed7953"
             ],
             [
              0.7777777777777778,
              "#fb9f3a"
             ],
             [
              0.8888888888888888,
              "#fdca26"
             ],
             [
              1,
              "#f0f921"
             ]
            ],
            "type": "surface"
           }
          ],
          "table": [
           {
            "cells": {
             "fill": {
              "color": "#EBF0F8"
             },
             "line": {
              "color": "white"
             }
            },
            "header": {
             "fill": {
              "color": "#C8D4E3"
             },
             "line": {
              "color": "white"
             }
            },
            "type": "table"
           }
          ]
         },
         "layout": {
          "annotationdefaults": {
           "arrowcolor": "#2a3f5f",
           "arrowhead": 0,
           "arrowwidth": 1
          },
          "autotypenumbers": "strict",
          "coloraxis": {
           "colorbar": {
            "outlinewidth": 0,
            "ticks": ""
           }
          },
          "colorscale": {
           "diverging": [
            [
             0,
             "#8e0152"
            ],
            [
             0.1,
             "#c51b7d"
            ],
            [
             0.2,
             "#de77ae"
            ],
            [
             0.3,
             "#f1b6da"
            ],
            [
             0.4,
             "#fde0ef"
            ],
            [
             0.5,
             "#f7f7f7"
            ],
            [
             0.6,
             "#e6f5d0"
            ],
            [
             0.7,
             "#b8e186"
            ],
            [
             0.8,
             "#7fbc41"
            ],
            [
             0.9,
             "#4d9221"
            ],
            [
             1,
             "#276419"
            ]
           ],
           "sequential": [
            [
             0,
             "#0d0887"
            ],
            [
             0.1111111111111111,
             "#46039f"
            ],
            [
             0.2222222222222222,
             "#7201a8"
            ],
            [
             0.3333333333333333,
             "#9c179e"
            ],
            [
             0.4444444444444444,
             "#bd3786"
            ],
            [
             0.5555555555555556,
             "#d8576b"
            ],
            [
             0.6666666666666666,
             "#ed7953"
            ],
            [
             0.7777777777777778,
             "#fb9f3a"
            ],
            [
             0.8888888888888888,
             "#fdca26"
            ],
            [
             1,
             "#f0f921"
            ]
           ],
           "sequentialminus": [
            [
             0,
             "#0d0887"
            ],
            [
             0.1111111111111111,
             "#46039f"
            ],
            [
             0.2222222222222222,
             "#7201a8"
            ],
            [
             0.3333333333333333,
             "#9c179e"
            ],
            [
             0.4444444444444444,
             "#bd3786"
            ],
            [
             0.5555555555555556,
             "#d8576b"
            ],
            [
             0.6666666666666666,
             "#ed7953"
            ],
            [
             0.7777777777777778,
             "#fb9f3a"
            ],
            [
             0.8888888888888888,
             "#fdca26"
            ],
            [
             1,
             "#f0f921"
            ]
           ]
          },
          "colorway": [
           "#636efa",
           "#EF553B",
           "#00cc96",
           "#ab63fa",
           "#FFA15A",
           "#19d3f3",
           "#FF6692",
           "#B6E880",
           "#FF97FF",
           "#FECB52"
          ],
          "font": {
           "color": "#2a3f5f"
          },
          "geo": {
           "bgcolor": "white",
           "lakecolor": "white",
           "landcolor": "#E5ECF6",
           "showlakes": true,
           "showland": true,
           "subunitcolor": "white"
          },
          "hoverlabel": {
           "align": "left"
          },
          "hovermode": "closest",
          "mapbox": {
           "style": "light"
          },
          "paper_bgcolor": "white",
          "plot_bgcolor": "#E5ECF6",
          "polar": {
           "angularaxis": {
            "gridcolor": "white",
            "linecolor": "white",
            "ticks": ""
           },
           "bgcolor": "#E5ECF6",
           "radialaxis": {
            "gridcolor": "white",
            "linecolor": "white",
            "ticks": ""
           }
          },
          "scene": {
           "xaxis": {
            "backgroundcolor": "#E5ECF6",
            "gridcolor": "white",
            "gridwidth": 2,
            "linecolor": "white",
            "showbackground": true,
            "ticks": "",
            "zerolinecolor": "white"
           },
           "yaxis": {
            "backgroundcolor": "#E5ECF6",
            "gridcolor": "white",
            "gridwidth": 2,
            "linecolor": "white",
            "showbackground": true,
            "ticks": "",
            "zerolinecolor": "white"
           },
           "zaxis": {
            "backgroundcolor": "#E5ECF6",
            "gridcolor": "white",
            "gridwidth": 2,
            "linecolor": "white",
            "showbackground": true,
            "ticks": "",
            "zerolinecolor": "white"
           }
          },
          "shapedefaults": {
           "line": {
            "color": "#2a3f5f"
           }
          },
          "ternary": {
           "aaxis": {
            "gridcolor": "white",
            "linecolor": "white",
            "ticks": ""
           },
           "baxis": {
            "gridcolor": "white",
            "linecolor": "white",
            "ticks": ""
           },
           "bgcolor": "#E5ECF6",
           "caxis": {
            "gridcolor": "white",
            "linecolor": "white",
            "ticks": ""
           }
          },
          "title": {
           "x": 0.05
          },
          "xaxis": {
           "automargin": true,
           "gridcolor": "white",
           "linecolor": "white",
           "ticks": "",
           "title": {
            "standoff": 15
           },
           "zerolinecolor": "white",
           "zerolinewidth": 2
          },
          "yaxis": {
           "automargin": true,
           "gridcolor": "white",
           "linecolor": "white",
           "ticks": "",
           "title": {
            "standoff": 15
           },
           "zerolinecolor": "white",
           "zerolinewidth": 2
          }
         }
        },
        "title": {
         "text": "Top 10 grupos: Energía total vs Porcentaje (tamaño por viviendas)"
        },
        "xaxis": {
         "anchor": "y",
         "domain": [
          0,
          1
         ],
         "tickformat": ".2e",
         "title": {
          "text": "Energía total (etotal)"
         }
        },
        "yaxis": {
         "anchor": "x",
         "domain": [
          0,
          1
         ],
         "ticksuffix": "%",
         "title": {
          "text": "Porcentaje (%)"
         }
        }
       }
      },
      "image/png": "[encoded data removed]"
     },
     "metadata": {},
     "output_type": "display_data"
    }
   ],
   "source": [
    "\n",
    "# Ordenar y seleccionar top 10 grupos por etotal\n",
    "df_top10 = (\n",
    "    grouped_kwhmes\n",
    "    .sort_values(by='etotal', ascending=False)\n",
    "    # .head(30)\n",
    "    .reset_index()\n",
    ")\n",
    "\n",
    "# Crear gráfica de burbujas: etotal vs porcentaje, tamaño por viviendas, color por clima\n",
    "fig = px.scatter(\n",
    "    df_top10,\n",
    "    x='etotal',\n",
    "    y='porcentaje',\n",
    "    size='viviendas',\n",
    "    color='clima',\n",
    "    hover_data=['m2', 'estrato', 'viviendas', 'porcentaje', 'etotal'],\n",
    "    labels={\n",
    "        'etotal': 'Energía total (etotal)',\n",
    "        'porcentaje': 'Porcentaje (%)',\n",
    "        'viviendas': 'Número de viviendas',\n",
    "        'clima': 'Clima'\n",
    "    },\n",
    "    title='Top 10 grupos: Energía total vs Porcentaje (tamaño por viviendas)',\n",
    "    size_max=60\n",
    ")\n",
    "\n",
    "fig.update_layout(\n",
    "    xaxis=dict(tickformat=\".2e\"),\n",
    "    yaxis=dict(ticksuffix=\"%\")\n",
    ")\n",
    "\n",
    "fig.show()\n"
   ]
  },
  {
   "cell_type": "code",
   "execution_count": 20,
   "id": "daa17f81-e94c-4c4e-afa7-b9c109527534",
   "metadata": {},
   "outputs": [
    {
     "data": {
      "application/vnd.plotly.v1+json": {
       "config": {
        "plotlyServerURL": "https://plot.ly"
       },
       "data": [
        {
         "customdata": [
          [
           100,
           "Medio alto",
           290783,
           70783644.66312923
          ],
          [
           150,
           "Medio alto",
           264678,
           66472808.31814523
          ],
          [
           100,
           "Medio bajo",
           305822,
           65438468.09579585
          ],
          [
           150,
           "Medio bajo",
           242244,
           53534144.31110691
          ],
          [
           75,
           "Medio bajo",
           324943,
           53341680.208962426
          ],
          [
           75,
           "Medio alto",
           192938,
           50824560.11837117
          ],
          [
           200,
           "Alto",
           109519.00000000001,
           41188614.30159077
          ],
          [
           100,
           "Alto",
           180475.99999999997,
           41144220.4924972
          ],
          [
           150,
           "Alto",
           165413,
           39730001.612119086
          ],
          [
           200,
           "Medio alto",
           135260,
           37351755.58753453
          ],
          [
           55,
           "Medio bajo",
           214275,
           32904258.126800474
          ],
          [
           200,
           "Medio bajo",
           86136,
           22297965.76119185
          ],
          [
           75,
           "Alto",
           81896.00000000001,
           17588038.37024734
          ],
          [
           55,
           "Medio alto",
           75815,
           14738863.60332384
          ],
          [
           100,
           "Bajo",
           34856.00000000001,
           7534375.44901809
          ],
          [
           55,
           "Alto",
           33228,
           6097934.654076342
          ],
          [
           55,
           "Bajo",
           28533,
           5846084.862224389
          ],
          [
           30,
           "Medio bajo",
           39687,
           5731253.433739656
          ],
          [
           150,
           "Bajo",
           26756,
           5157328.418113652
          ],
          [
           75,
           "Bajo",
           28201.000000000004,
           4065498.4088149667
          ],
          [
           30,
           "Medio alto",
           15521,
           2186837.603916206
          ],
          [
           30,
           "Bajo",
           9451.000000000002,
           1396721.9569181409
          ],
          [
           200,
           "Bajo",
           8105,
           1254077.5317132445
          ],
          [
           30,
           "Alto",
           1112.0000000000002,
           126107.88600910347
          ]
         ],
         "hovertemplate": "Clima=Cálido extremoso<br>Media=%{x}<br>Porcentaje (%)=%{y}<br>Número de viviendas=%{customdata[2]}<br>m2=%{customdata[0]}<br>estrato=%{customdata[1]}<br>Energía total (etotal)=%{customdata[3]}<extra></extra>",
         "legendgroup": "Cálido extremoso",
         "marker": {
          "color": "#636efa",
          "size": {
           "bdata": "AAAAAHy/EUEAAAAAmCcQQQAAAAB4qhJBAAAAACCSDUEAAAAAPNUTQQAAAABQjQdBAQAAAPC8+kD/////3wcGQQAAAAAoMQRBAAAAAOCCAEEAAAAAGCgKQQAAAACAB/VAAQAAAID+80AAAAAAcILyQAEAAAAABeFAAAAAAIA54EAAAAAAQN3bQAAAAADgYONAAAAAAAAh2kABAAAAQIrbQAAAAACAUM5AAQAAAIB1wkAAAAAAAKm/QAEAAAAAYJFA",
           "dtype": "f8"
          },
          "sizemode": "area",
          "sizeref": 90.26194444444444,
          "symbol": "circle"
         },
         "mode": "markers",
         "name": "Cálido extremoso",
         "orientation": "v",
         "showlegend": true,
         "type": "scatter",
         "x": {
          "bdata": "ZTHkw5NtbkAsts2jq2RvQFSoZrU4v2pABsfl0MOfa0CiklRzBoVkQN/7hPzJdnBA9Yw4MGKBd0Dzs0N6PH9sQN/rqWX5BW5Al1zHg11CcUA5PiTA8jFjQHxj6KPoLXBAPhg5Q1fYakB+W+wA+0xoQNIudc0HBWtAirs5GZPwZkAxIH72bpxpQEW1UdEpDWJAfpdCgCEYaECjTiH+KgViQA91eyunnGFAysZg2iN5YkD4RJ/xUldjQJW7AQECWlxA",
          "dtype": "f8"
         },
         "xaxis": "x",
         "y": {
          "bdata": "KGz0MCwP7D/xLgLsTYrpP4BVlNGtgu0/Qk12zx5g5z9uJYi9BVvvPz7jFvkenuI/MMhmn90i1T8AF+keRmrhP1ByFXBZ7N8/zXSPVp4a2j/wt+a6NK3kP6yHLpOcn9A/NXlLP0Oczz81QQnnY0PNPwxeNw1Y6Lo/yGkoJp2muT9xOFo6xga2P68wamkPo74/DKqCMpmntD/c26/cKcW1P6jQuDWc9qc//I2er+8unT+m2B0/7waZP4nMFaM2eGs/",
          "dtype": "f8"
         },
         "yaxis": "y"
        },
        {
         "customdata": [
          [
           100,
           "Medio bajo",
           85049,
           19074723.169687845
          ],
          [
           75,
           "Medio bajo",
           65770,
           12534202.416797742
          ],
          [
           150,
           "Medio bajo",
           55830,
           10380436.63391091
          ],
          [
           55,
           "Medio bajo",
           46710,
           10111810.508664329
          ],
          [
           200,
           "Medio bajo",
           16785.999999999996,
           5776249.201377725
          ],
          [
           150,
           "Medio alto",
           21244,
           5605229.365604775
          ],
          [
           30,
           "Medio bajo",
           16164,
           3752965.938398408
          ],
          [
           150,
           "Alto",
           15283,
           3610561.792096057
          ],
          [
           100,
           "Medio alto",
           11182,
           3264302.539046669
          ],
          [
           100,
           "Bajo",
           16909,
           3220973.361327611
          ],
          [
           100,
           "Alto",
           18981.000000000004,
           3180502.09840108
          ],
          [
           75,
           "Medio alto",
           20298,
           2917254.357539899
          ],
          [
           75,
           "Bajo",
           16181,
           2131146.988351018
          ],
          [
           75,
           "Alto",
           19059,
           2126584.4265285553
          ],
          [
           150,
           "Bajo",
           10584,
           1871486.6830036475
          ],
          [
           200,
           "Bajo",
           12468,
           1766158.564571275
          ],
          [
           55,
           "Medio alto",
           7152.000000000001,
           1585751.5635986377
          ],
          [
           55,
           "Bajo",
           11655,
           1569872.2548401752
          ],
          [
           200,
           "Alto",
           8959.000000000002,
           1493144.2979910541
          ],
          [
           200,
           "Medio alto",
           4121,
           943826.58997009
          ],
          [
           55,
           "Alto",
           3987,
           495481.4178172504
          ],
          [
           30,
           "Bajo",
           1416.9999999999998,
           243243.51270250475
          ],
          [
           30,
           "Alto",
           1372,
           184132.48233932228
          ],
          [
           30,
           "Medio alto",
           1515,
           171429.10994348477
          ]
         ],
         "hovertemplate": "Clima=Tropical<br>Media=%{x}<br>Porcentaje (%)=%{y}<br>Número de viviendas=%{customdata[2]}<br>m2=%{customdata[0]}<br>estrato=%{customdata[1]}<br>Energía total (etotal)=%{customdata[3]}<extra></extra>",
         "legendgroup": "Tropical",
         "marker": {
          "color": "#EF553B",
          "size": {
           "bdata": "AAAAAJDD9EAAAAAAoA7wQAAAAADAQutAAAAAAMDO5kD/////f2TQQAAAAAAAv9RAAAAAAACSz0AAAAAAgNnNQAAAAAAA18VAAAAAAECD0EABAAAAQInSQAAAAACA0tNAAAAAAICaz0AAAAAAwJzSQAAAAAAArMRAAAAAAABayEABAAAAAPC7QAAAAACAw8ZAAQAAAIB/wUAAAAAAABmwQAAAAAAAJq9A//////8jlkAAAAAAAHCVQAAAAAAArJdA",
           "dtype": "f8"
          },
          "sizemode": "area",
          "sizeref": 90.26194444444444,
          "symbol": "circle"
         },
         "mode": "markers",
         "name": "Tropical",
         "orientation": "v",
         "showlegend": true,
         "type": "scatter",
         "x": {
          "bdata": "GjiNWe8IbEBDHRnycNJnQPJcp2K9PWdAVVrMXmEPa0CwSRUix4F1QOz85peZfXBAt7+U08YFbUC9+2DU5odtQHz2NMXLPnJA4kfgZaPPZ0CMUJ1C//FkQN9Zy6YU92FAQtHOup12YEDpYnOQDuVbQMeaDd1PGmZApwWBZ/i0YUAnHPHVFbdrQJCG4d0+1mBAJl0z4UDVZEAoRdPA6aBsQKQPDz6NEV9AOi2DMSZ1ZUCVgp+ZosZgQEM5ecnjSVxA",
          "dtype": "f8"
         },
         "xaxis": "x",
         "y": {
          "bdata": "yM4/WOhp0D8IYu5G1GLJP5h5GLSkjMU/ucJEoXsHwj9cmMycmOqpPxSK7gxNZrA/AeT31MD0qD8bnFisipinPyJvWH2jQ6E/TenNHDYbqj+dhSIjKU6tP/UTVg2zVq8/VAwR8Xj7qD+SL9Jn/WytP8QCaxlIV6A/1ZXWu+w/oz/tmHOWmBWWPzzvmwOX/qE/eQaUrwOqmz8u+VheO3OJPxxc1lFhn4g/uScPqYGAcT/n74HON/JwPwECPRNhtnI/",
          "dtype": "f8"
         },
         "yaxis": "y"
        },
        {
         "customdata": [
          [
           100,
           "Medio bajo",
           19338,
           3913305.0103079323
          ],
          [
           150,
           "Medio bajo",
           23251,
           3532538.3479087926
          ],
          [
           75,
           "Medio bajo",
           23542.000000000004,
           3007783.3636824843
          ],
          [
           150,
           "Alto",
           15019,
           2207433.1256934763
          ],
          [
           200,
           "Medio bajo",
           7409,
           1840644.069278332
          ],
          [
           100,
           "Medio alto",
           9827,
           1309182.4529702854
          ],
          [
           55,
           "Medio bajo",
           8953,
           1171587.6957106204
          ],
          [
           200,
           "Alto",
           11771.000000000002,
           1158681.4330807477
          ],
          [
           150,
           "Medio alto",
           6066,
           1016520.8389915035
          ],
          [
           75,
           "Medio alto",
           4610,
           878106.0415346954
          ],
          [
           100,
           "Alto",
           3444,
           517460.7555169032
          ],
          [
           150,
           "Bajo",
           5463,
           473670.61086998257
          ],
          [
           75,
           "Alto",
           6267,
           375721.35028609727
          ],
          [
           75,
           "Bajo",
           3102.0000000000005,
           362629.4814877294
          ],
          [
           30,
           "Medio bajo",
           4109.999999999999,
           301033.21073710546
          ],
          [
           100,
           "Bajo",
           4157,
           166923.72106010778
          ],
          [
           200,
           "Medio alto",
           476.00000000000006,
           147996.15276624353
          ],
          [
           55,
           "Medio alto",
           2843,
           132187.30274159092
          ],
          [
           30,
           "Medio alto",
           214,
           9581.475232499999
          ]
         ],
         "hovertemplate": "Clima=Templado<br>Media=%{x}<br>Porcentaje (%)=%{y}<br>Número de viviendas=%{customdata[2]}<br>m2=%{customdata[0]}<br>estrato=%{customdata[1]}<br>Energía total (etotal)=%{customdata[3]}<extra></extra>",
         "legendgroup": "Templado",
         "marker": {
          "color": "#00cc96",
          "size": {
           "bdata": "AAAAAIDi0kAAAAAAwLTWQAEAAACA/dZAAAAAAIBVzUAAAAAAAPG8QAAAAACAMcNAAAAAAIB8wUABAAAAgP3GQAAAAAAAsrdAAAAAAAACskAAAAAAAOiqQAAAAAAAV7VAAAAAAAB7uEABAAAAADyoQP//////DbBAAAAAAAA9sEABAAAAAMB9QAAAAAAANqZAAAAAAADAakA=",
           "dtype": "f8"
          },
          "sizemode": "area",
          "sizeref": 90.26194444444444,
          "symbol": "circle"
         },
         "mode": "markers",
         "name": "Templado",
         "orientation": "v",
         "showlegend": true,
         "type": "scatter",
         "x": {
          "bdata": "eOeApKFLaUAY3LN2x/1iQKkiW9HL8F9A8mSTtTtfYkCUGjCH3w1vQOT7t9cip2BAYQJYZYNbYECMFllI25tYQLnX9xp18mRA+xdxJlDPZ0CeiiBr/8diQJTLd04irVVAhQt4dub5TUB8O7SbtzldQM6DhCyfT1JAH2xXM9ITREDtp+UcqW5zQGWei2pzP0dAIHam0PliRkA=",
          "dtype": "f8"
         },
         "xaxis": "x",
         "y": {
          "bdata": "b9QycUPbrT8V/CQe7vKxP4MgzztwLLI/PIRoYTIwpz9WibecwOCWP/GyQj8pWJ4/eWKgfUWlmz+DIM87cCyiP/+lMEUfu5I/NmR6LFV4jD8vaZMA6ESFP5jECql03pA/zZuSzgJakz/dYRTCNSiDP92f21HXYYk/G6nEtSWsiT8iIw1YYoRXP7UT6j68joE/5CM7XkklRT8=",
          "dtype": "f8"
         },
         "yaxis": "y"
        }
       ],
       "layout": {
        "legend": {
         "itemsizing": "constant",
         "title": {
          "text": "Clima"
         },
         "tracegroupgap": 0
        },
        "template": {
         "data": {
          "bar": [
           {
            "error_x": {
             "color": "#2a3f5f"
            },
            "error_y": {
             "color": "#2a3f5f"
            },
            "marker": {
             "line": {
              "color": "#E5ECF6",
              "width": 0.5
             },
             "pattern": {
              "fillmode": "overlay",
              "size": 10,
              "solidity": 0.2
             }
            },
            "type": "bar"
           }
          ],
          "barpolar": [
           {
            "marker": {
             "line": {
              "color": "#E5ECF6",
              "width": 0.5
             },
             "pattern": {
              "fillmode": "overlay",
              "size": 10,
              "solidity": 0.2
             }
            },
            "type": "barpolar"
           }
          ],
          "carpet": [
           {
            "aaxis": {
             "endlinecolor": "#2a3f5f",
             "gridcolor": "white",
             "linecolor": "white",
             "minorgridcolor": "white",
             "startlinecolor": "#2a3f5f"
            },
            "baxis": {
             "endlinecolor": "#2a3f5f",
             "gridcolor": "white",
             "linecolor": "white",
             "minorgridcolor": "white",
             "startlinecolor": "#2a3f5f"
            },
            "type": "carpet"
           }
          ],
          "choropleth": [
           {
            "colorbar": {
             "outlinewidth": 0,
             "ticks": ""
            },
            "type": "choropleth"
           }
          ],
          "contour": [
           {
            "colorbar": {
             "outlinewidth": 0,
             "ticks": ""
            },
            "colorscale": [
             [
              0,
              "#0d0887"
             ],
             [
              0.1111111111111111,
              "#46039f"
             ],
             [
              0.2222222222222222,
              "#7201a8"
             ],
             [
              0.3333333333333333,
              "#9c179e"
             ],
             [
              0.4444444444444444,
              "#bd3786"
             ],
             [
              0.5555555555555556,
              "#d8576b"
             ],
             [
              0.6666666666666666,
              "#ed7953"
             ],
             [
              0.7777777777777778,
              "#fb9f3a"
             ],
             [
              0.8888888888888888,
              "#fdca26"
             ],
             [
              1,
              "#f0f921"
             ]
            ],
            "type": "contour"
           }
          ],
          "contourcarpet": [
           {
            "colorbar": {
             "outlinewidth": 0,
             "ticks": ""
            },
            "type": "contourcarpet"
           }
          ],
          "heatmap": [
           {
            "colorbar": {
             "outlinewidth": 0,
             "ticks": ""
            },
            "colorscale": [
             [
              0,
              "#0d0887"
             ],
             [
              0.1111111111111111,
              "#46039f"
             ],
             [
              0.2222222222222222,
              "#7201a8"
             ],
             [
              0.3333333333333333,
              "#9c179e"
             ],
             [
              0.4444444444444444,
              "#bd3786"
             ],
             [
              0.5555555555555556,
              "#d8576b"
             ],
             [
              0.6666666666666666,
              "#ed7953"
             ],
             [
              0.7777777777777778,
              "#fb9f3a"
             ],
             [
              0.8888888888888888,
              "#fdca26"
             ],
             [
              1,
              "#f0f921"
             ]
            ],
            "type": "heatmap"
           }
          ],
          "histogram": [
           {
            "marker": {
             "pattern": {
              "fillmode": "overlay",
              "size": 10,
              "solidity": 0.2
             }
            },
            "type": "histogram"
           }
          ],
          "histogram2d": [
           {
            "colorbar": {
             "outlinewidth": 0,
             "ticks": ""
            },
            "colorscale": [
             [
              0,
              "#0d0887"
             ],
             [
              0.1111111111111111,
              "#46039f"
             ],
             [
              0.2222222222222222,
              "#7201a8"
             ],
             [
              0.3333333333333333,
              "#9c179e"
             ],
             [
              0.4444444444444444,
              "#bd3786"
             ],
             [
              0.5555555555555556,
              "#d8576b"
             ],
             [
              0.6666666666666666,
              "#ed7953"
             ],
             [
              0.7777777777777778,
              "#fb9f3a"
             ],
             [
              0.8888888888888888,
              "#fdca26"
             ],
             [
              1,
              "#f0f921"
             ]
            ],
            "type": "histogram2d"
           }
          ],
          "histogram2dcontour": [
           {
            "colorbar": {
             "outlinewidth": 0,
             "ticks": ""
            },
            "colorscale": [
             [
              0,
              "#0d0887"
             ],
             [
              0.1111111111111111,
              "#46039f"
             ],
             [
              0.2222222222222222,
              "#7201a8"
             ],
             [
              0.3333333333333333,
              "#9c179e"
             ],
             [
              0.4444444444444444,
              "#bd3786"
             ],
             [
              0.5555555555555556,
              "#d8576b"
             ],
             [
              0.6666666666666666,
              "#ed7953"
             ],
             [
              0.7777777777777778,
              "#fb9f3a"
             ],
             [
              0.8888888888888888,
              "#fdca26"
             ],
             [
              1,
              "#f0f921"
             ]
            ],
            "type": "histogram2dcontour"
           }
          ],
          "mesh3d": [
           {
            "colorbar": {
             "outlinewidth": 0,
             "ticks": ""
            },
            "type": "mesh3d"
           }
          ],
          "parcoords": [
           {
            "line": {
             "colorbar": {
              "outlinewidth": 0,
              "ticks": ""
             }
            },
            "type": "parcoords"
           }
          ],
          "pie": [
           {
            "automargin": true,
            "type": "pie"
           }
          ],
          "scatter": [
           {
            "fillpattern": {
             "fillmode": "overlay",
             "size": 10,
             "solidity": 0.2
            },
            "type": "scatter"
           }
          ],
          "scatter3d": [
           {
            "line": {
             "colorbar": {
              "outlinewidth": 0,
              "ticks": ""
             }
            },
            "marker": {
             "colorbar": {
              "outlinewidth": 0,
              "ticks": ""
             }
            },
            "type": "scatter3d"
           }
          ],
          "scattercarpet": [
           {
            "marker": {
             "colorbar": {
              "outlinewidth": 0,
              "ticks": ""
             }
            },
            "type": "scattercarpet"
           }
          ],
          "scattergeo": [
           {
            "marker": {
             "colorbar": {
              "outlinewidth": 0,
              "ticks": ""
             }
            },
            "type": "scattergeo"
           }
          ],
          "scattergl": [
           {
            "marker": {
             "colorbar": {
              "outlinewidth": 0,
              "ticks": ""
             }
            },
            "type": "scattergl"
           }
          ],
          "scattermap": [
           {
            "marker": {
             "colorbar": {
              "outlinewidth": 0,
              "ticks": ""
             }
            },
            "type": "scattermap"
           }
          ],
          "scattermapbox": [
           {
            "marker": {
             "colorbar": {
              "outlinewidth": 0,
              "ticks": ""
             }
            },
            "type": "scattermapbox"
           }
          ],
          "scatterpolar": [
           {
            "marker": {
             "colorbar": {
              "outlinewidth": 0,
              "ticks": ""
             }
            },
            "type": "scatterpolar"
           }
          ],
          "scatterpolargl": [
           {
            "marker": {
             "colorbar": {
              "outlinewidth": 0,
              "ticks": ""
             }
            },
            "type": "scatterpolargl"
           }
          ],
          "scatterternary": [
           {
            "marker": {
             "colorbar": {
              "outlinewidth": 0,
              "ticks": ""
             }
            },
            "type": "scatterternary"
           }
          ],
          "surface": [
           {
            "colorbar": {
             "outlinewidth": 0,
             "ticks": ""
            },
            "colorscale": [
             [
              0,
              "#0d0887"
             ],
             [
              0.1111111111111111,
              "#46039f"
             ],
             [
              0.2222222222222222,
              "#7201a8"
             ],
             [
              0.3333333333333333,
              "#9c179e"
             ],
             [
              0.4444444444444444,
              "#bd3786"
             ],
             [
              0.5555555555555556,
              "#d8576b"
             ],
             [
              0.6666666666666666,
              "#ed7953"
             ],
             [
              0.7777777777777778,
              "#fb9f3a"
             ],
             [
              0.8888888888888888,
              "#fdca26"
             ],
             [
              1,
              "#f0f921"
             ]
            ],
            "type": "surface"
           }
          ],
          "table": [
           {
            "cells": {
             "fill": {
              "color": "#EBF0F8"
             },
             "line": {
              "color": "white"
             }
            },
            "header": {
             "fill": {
              "color": "#C8D4E3"
             },
             "line": {
              "color": "white"
             }
            },
            "type": "table"
           }
          ]
         },
         "layout": {
          "annotationdefaults": {
           "arrowcolor": "#2a3f5f",
           "arrowhead": 0,
           "arrowwidth": 1
          },
          "autotypenumbers": "strict",
          "coloraxis": {
           "colorbar": {
            "outlinewidth": 0,
            "ticks": ""
           }
          },
          "colorscale": {
           "diverging": [
            [
             0,
             "#8e0152"
            ],
            [
             0.1,
             "#c51b7d"
            ],
            [
             0.2,
             "#de77ae"
            ],
            [
             0.3,
             "#f1b6da"
            ],
            [
             0.4,
             "#fde0ef"
            ],
            [
             0.5,
             "#f7f7f7"
            ],
            [
             0.6,
             "#e6f5d0"
            ],
            [
             0.7,
             "#b8e186"
            ],
            [
             0.8,
             "#7fbc41"
            ],
            [
             0.9,
             "#4d9221"
            ],
            [
             1,
             "#276419"
            ]
           ],
           "sequential": [
            [
             0,
             "#0d0887"
            ],
            [
             0.1111111111111111,
             "#46039f"
            ],
            [
             0.2222222222222222,
             "#7201a8"
            ],
            [
             0.3333333333333333,
             "#9c179e"
            ],
            [
             0.4444444444444444,
             "#bd3786"
            ],
            [
             0.5555555555555556,
             "#d8576b"
            ],
            [
             0.6666666666666666,
             "#ed7953"
            ],
            [
             0.7777777777777778,
             "#fb9f3a"
            ],
            [
             0.8888888888888888,
             "#fdca26"
            ],
            [
             1,
             "#f0f921"
            ]
           ],
           "sequentialminus": [
            [
             0,
             "#0d0887"
            ],
            [
             0.1111111111111111,
             "#46039f"
            ],
            [
             0.2222222222222222,
             "#7201a8"
            ],
            [
             0.3333333333333333,
             "#9c179e"
            ],
            [
             0.4444444444444444,
             "#bd3786"
            ],
            [
             0.5555555555555556,
             "#d8576b"
            ],
            [
             0.6666666666666666,
             "#ed7953"
            ],
            [
             0.7777777777777778,
             "#fb9f3a"
            ],
            [
             0.8888888888888888,
             "#fdca26"
            ],
            [
             1,
             "#f0f921"
            ]
           ]
          },
          "colorway": [
           "#636efa",
           "#EF553B",
           "#00cc96",
           "#ab63fa",
           "#FFA15A",
           "#19d3f3",
           "#FF6692",
           "#B6E880",
           "#FF97FF",
           "#FECB52"
          ],
          "font": {
           "color": "#2a3f5f"
          },
          "geo": {
           "bgcolor": "white",
           "lakecolor": "white",
           "landcolor": "#E5ECF6",
           "showlakes": true,
           "showland": true,
           "subunitcolor": "white"
          },
          "hoverlabel": {
           "align": "left"
          },
          "hovermode": "closest",
          "mapbox": {
           "style": "light"
          },
          "paper_bgcolor": "white",
          "plot_bgcolor": "#E5ECF6",
          "polar": {
           "angularaxis": {
            "gridcolor": "white",
            "linecolor": "white",
            "ticks": ""
           },
           "bgcolor": "#E5ECF6",
           "radialaxis": {
            "gridcolor": "white",
            "linecolor": "white",
            "ticks": ""
           }
          },
          "scene": {
           "xaxis": {
            "backgroundcolor": "#E5ECF6",
            "gridcolor": "white",
            "gridwidth": 2,
            "linecolor": "white",
            "showbackground": true,
            "ticks": "",
            "zerolinecolor": "white"
           },
           "yaxis": {
            "backgroundcolor": "#E5ECF6",
            "gridcolor": "white",
            "gridwidth": 2,
            "linecolor": "white",
            "showbackground": true,
            "ticks": "",
            "zerolinecolor": "white"
           },
           "zaxis": {
            "backgroundcolor": "#E5ECF6",
            "gridcolor": "white",
            "gridwidth": 2,
            "linecolor": "white",
            "showbackground": true,
            "ticks": "",
            "zerolinecolor": "white"
           }
          },
          "shapedefaults": {
           "line": {
            "color": "#2a3f5f"
           }
          },
          "ternary": {
           "aaxis": {
            "gridcolor": "white",
            "linecolor": "white",
            "ticks": ""
           },
           "baxis": {
            "gridcolor": "white",
            "linecolor": "white",
            "ticks": ""
           },
           "bgcolor": "#E5ECF6",
           "caxis": {
            "gridcolor": "white",
            "linecolor": "white",
            "ticks": ""
           }
          },
          "title": {
           "x": 0.05
          },
          "xaxis": {
           "automargin": true,
           "gridcolor": "white",
           "linecolor": "white",
           "ticks": "",
           "title": {
            "standoff": 15
           },
           "zerolinecolor": "white",
           "zerolinewidth": 2
          },
          "yaxis": {
           "automargin": true,
           "gridcolor": "white",
           "linecolor": "white",
           "ticks": "",
           "title": {
            "standoff": 15
           },
           "zerolinecolor": "white",
           "zerolinewidth": 2
          }
         }
        },
        "title": {
         "text": "Top 10 grupos: Energía total vs Porcentaje (tamaño por viviendas)"
        },
        "xaxis": {
         "anchor": "y",
         "domain": [
          0,
          1
         ],
         "tickformat": ".2e",
         "title": {
          "text": "Media"
         }
        },
        "yaxis": {
         "anchor": "x",
         "domain": [
          0,
          1
         ],
         "ticksuffix": "%",
         "title": {
          "text": "Porcentaje (%)"
         }
        }
       }
      },
      "image/png": "[encoded data removed]"
     },
     "metadata": {},
     "output_type": "display_data"
    }
   ],
   "source": [
    "\n",
    "# Ordenar y seleccionar top 10 grupos por etotal\n",
    "df_top10 = (\n",
    "    grouped_kwhmes\n",
    "    .sort_values(by='etotal', ascending=False)\n",
    "    # .head(30)\n",
    "    .reset_index()\n",
    ")\n",
    "\n",
    "# Crear gráfica de burbujas: etotal vs porcentaje, tamaño por viviendas, color por clima\n",
    "fig = px.scatter(\n",
    "    df_top10,\n",
    "    x='Media',\n",
    "    y='porcentaje',\n",
    "    size='viviendas',\n",
    "    color='clima',\n",
    "    hover_data=['m2', 'estrato', 'viviendas', 'porcentaje', 'etotal'],\n",
    "    labels={\n",
    "        'etotal': 'Energía total (etotal)',\n",
    "        'porcentaje': 'Porcentaje (%)',\n",
    "        'viviendas': 'Número de viviendas',\n",
    "        'clima': 'Clima'\n",
    "    },\n",
    "    title='Top 10 grupos: Energía total vs Porcentaje (tamaño por viviendas)',\n",
    "    size_max=60\n",
    ")\n",
    "\n",
    "fig.update_layout(\n",
    "    xaxis=dict(tickformat=\".2e\"),\n",
    "    yaxis=dict(ticksuffix=\"%\")\n",
    ")\n",
    "\n",
    "fig.show()\n"
   ]
  },
  {
   "cell_type": "code",
   "execution_count": null,
   "id": "3a736fd7-c63f-4f25-a214-0849f4050a64",
   "metadata": {},
   "outputs": [],
   "source": []
  },
  {
   "cell_type": "code",
   "execution_count": null,
   "id": "e90b7a14-4e88-4a88-8d3a-8499446b86cc",
   "metadata": {},
   "outputs": [],
   "source": []
  }
 ],
 "metadata": {
  "kernelspec": {
   "display_name": "Python 3 (ipykernel)",
   "language": "python",
   "name": "python3"
  },
  "language_info": {
   "codemirror_mode": {
    "name": "ipython",
    "version": 3
   },
   "file_extension": ".py",
   "mimetype": "text/x-python",
   "name": "python",
   "nbconvert_exporter": "python",
   "pygments_lexer": "ipython3",
   "version": "3.10.17"
  }
 },
 "nbformat": 4,
 "nbformat_minor": 5
}
