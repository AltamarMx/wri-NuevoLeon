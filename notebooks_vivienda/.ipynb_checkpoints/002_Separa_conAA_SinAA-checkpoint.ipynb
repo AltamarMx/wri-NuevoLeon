{
 "cells": [
  {
   "cell_type": "code",
   "execution_count": null,
   "id": "2e6e2060-b263-43e0-94f7-a6a7efdd9407",
   "metadata": {},
   "outputs": [],
   "source": [
    "import pandas as pd\n",
    "import numpy as np\n",
    "\n",
    "total = 1_427_843\n",
    "total_ac = 625_781\n",
    "total_nac = 802_062"
   ]
  },
  {
   "cell_type": "code",
   "execution_count": null,
   "id": "57b81ff3-a088-4d09-ba3c-cad78ab13ce7",
   "metadata": {},
   "outputs": [],
   "source": [
    "f = '../data/002_intermediate/vivienda_energia_m2_estrato_clima.parquet'\n",
    "vivienda = pd.read_parquet(f)\n",
    "print(\"se tiran \",vivienda.m2.isna().sum())\n",
    "print(\"Iniciales \",vivienda.factor.sum())\n",
    "vivienda.dropna(inplace=True)\n",
    "print(\"Restan    \",vivienda.factor.sum())\n"
   ]
  },
  {
   "cell_type": "code",
   "execution_count": null,
   "id": "e491779e-28f6-4f05-9ac4-c36d581c8aec",
   "metadata": {},
   "outputs": [],
   "source": [
    "f = \"../data/001_raw/ENCEVI_2018/aireacond.csv\"\n",
    "aire = pd.read_csv(f,index_col=0)\n",
    "folios_con_ac = aire.index.unique()\n",
    "\n",
    "# 2. Subconjunto de viv con AC\n",
    "viv_con_ac = vivienda.loc[ vivienda.index.isin(folios_con_ac) ]\n",
    "\n",
    "# 3. Subconjunto de viv sin AC\n",
    "viv_sin_ac = vivienda.loc[ ~vivienda.index.isin(folios_con_ac) ]\n",
    "\n",
    "# 4. Comprobar tamaños\n",
    "print(\"Con AC:\", viv_con_ac.factor.sum())\n",
    "print(\"Sin AC:\", viv_sin_ac.factor.sum())"
   ]
  },
  {
   "cell_type": "code",
   "execution_count": null,
   "id": "ae39360e-ccf4-4b16-859f-eee674ab837b",
   "metadata": {},
   "outputs": [],
   "source": [
    "# viv_con_ac.to_parquet(\"../data/002_intermediate/vivienda_con_aa.parquet\")\n",
    "# viv_sin_ac.to_parquet(\"../data/002_intermediate/vivienda_sin_aa.parquet\")"
   ]
  },
  {
   "cell_type": "code",
   "execution_count": null,
   "id": "126e4c68-f288-4f96-908b-dd852126e32a",
   "metadata": {},
   "outputs": [],
   "source": [
    "ac_mean = np.average(viv_con_ac['kwh_mes'],weights=viv_con_ac['factor'])\n",
    "nac_mean = np.average(viv_sin_ac['kwh_mes'],weights=viv_sin_ac['factor'])"
   ]
  },
  {
   "cell_type": "code",
   "execution_count": null,
   "id": "05bb3bb7-6b55-4a37-8e37-b5f6838464ce",
   "metadata": {},
   "outputs": [],
   "source": [
    "ac_mean, nac_mean"
   ]
  },
  {
   "cell_type": "code",
   "execution_count": null,
   "id": "ca7b89f9-3fb1-476b-8984-5ffa489efa67",
   "metadata": {},
   "outputs": [],
   "source": [
    "ac_energia = ac_mean*total_ac\n",
    "nac_energia = nac_mean*total_nac\n",
    "ac_energia, nac_energia"
   ]
  },
  {
   "cell_type": "code",
   "execution_count": null,
   "id": "855988b3-75a7-4374-937e-c6f59e61ccb3",
   "metadata": {},
   "outputs": [],
   "source": [
    "total_energia = ac_energia + nac_energia\n",
    "total_energia"
   ]
  },
  {
   "cell_type": "code",
   "execution_count": null,
   "id": "1572c8a7-43f5-44c1-a5c7-2f1fea8a0085",
   "metadata": {},
   "outputs": [],
   "source": [
    "# Porcentaje de viviendas\n",
    "porc_ac = total_ac / total * 100\n",
    "porc_nac = total_nac / total * 100\n",
    "\n",
    "\n",
    "# Porcentaje del consumo\n",
    "porc_consumo_ac = ac_energia / total_energia * 100\n",
    "porc_consumo_nac = nac_energia / total_energia * 100\n",
    "\n",
    "# Crear tabla\n",
    "import pandas as pd\n",
    "\n",
    "tabla = pd.DataFrame({\n",
    "    'Tipo de vivienda': ['Con AC', 'Sin AC'],\n",
    "    'Viviendas (%)': [porc_ac, porc_nac],\n",
    "    'Consumo (%)': [porc_consumo_ac, porc_consumo_nac]\n",
    "})\n",
    "\n",
    "print(tabla)\n"
   ]
  },
  {
   "cell_type": "markdown",
   "id": "4945aed2-577d-4f3d-80f9-7e25ccc6cca6",
   "metadata": {},
   "source": [
    "## Calculo de con aire acondicionado"
   ]
  },
  {
   "cell_type": "code",
   "execution_count": null,
   "id": "9c8cb577-1bb7-4885-be70-b7caad6f0c2a",
   "metadata": {
    "scrolled": true
   },
   "outputs": [],
   "source": [
    "df = viv_con_ac[['m2','estrato','kwh_mes','factor']].copy()\n",
    "df = df.dropna(subset=['kwh_mes','factor'])\n",
    "df = df[df['factor'] > 0]\n",
    "\n",
    "# Consumo ponderado por registro (kWh/mes * peso)\n",
    "df['consumo_pond'] = df['kwh_mes'] * df['factor']\n",
    "\n",
    "# Agregado por m2 y estrato\n",
    "res = (\n",
    "    df.groupby(['m2','estrato'], as_index=False)\n",
    "      .agg(consumo_total_pond=('consumo_pond','sum'),\n",
    "           peso=('factor','sum'),\n",
    "           n_filas=('kwh_mes','size'))\n",
    ")\n",
    "\n",
    "# Porcentaje respecto al consumo total (suma ponderada global)\n",
    "total_consumo = res['consumo_total_pond'].sum()\n",
    "res['pct_consumo_total'] = 100 * res['consumo_total_pond'] / total_consumo\n",
    "\n",
    "# Orden y redondeo para presentación\n",
    "res = res.sort_values(['estrato','m2']).reset_index(drop=True)\n",
    "res['consumo_total_pond'] = res['consumo_total_pond'].round(2)\n",
    "res['pct_consumo_total'] = res['pct_consumo_total'].round(2)\n",
    "\n",
    "res\n"
   ]
  },
  {
   "cell_type": "code",
   "execution_count": null,
   "id": "a7913b05-0420-41d2-9321-b25fca73ba0c",
   "metadata": {},
   "outputs": [],
   "source": [
    "\n",
    "# totales dados\n",
    "etotal = 196530020.45050645\n",
    "total_viviendas = 951967\n",
    "\n",
    "# agrupación y cálculos\n",
    "resultado = (\n",
    "    viv_con_ac\n",
    "    .groupby(['m2', 'estrato'], as_index=False)\n",
    "    .apply(lambda g: pd.Series({\n",
    "        'consumo_total_pond': (g['kwh_mes'] * g['factor']).sum(),\n",
    "        'viviendas_pond': g['factor'].sum()\n",
    "    }))\n",
    "    .reset_index(drop=True)\n",
    ")\n",
    "\n",
    "# porcentajes\n",
    "resultado['pct_consumo_total'] = 100 * resultado['consumo_total_pond'] / etotal\n",
    "resultado['pct_viviendas'] = 100 * resultado['viviendas_pond'] / total_viviendas\n",
    "\n",
    "# ordenar\n",
    "resultado = resultado.sort_values('consumo_total_pond', ascending=False)\n",
    "\n",
    "print(resultado.columns)\n"
   ]
  },
  {
   "cell_type": "code",
   "execution_count": null,
   "id": "f3b05afe-204a-496e-8dc6-330dd533f059",
   "metadata": {
    "scrolled": true
   },
   "outputs": [],
   "source": [
    "cols = ['m2', 'estrato',  'pct_consumo_total', 'pct_viviendas']\n",
    "print(resultado[cols].round(1).to_markdown(index=False))\n"
   ]
  },
  {
   "cell_type": "code",
   "execution_count": null,
   "id": "e37c3cca-b2e9-433f-b789-20dc47df7327",
   "metadata": {},
   "outputs": [],
   "source": [
    "print(res[[\"m2\",\"estrato\",\"pct_consumo_total\"]].sort_values(by=\"pct_consumo_total\",ascending=False).round(1).to_markdown(index=False))"
   ]
  },
  {
   "cell_type": "markdown",
   "id": "b8a9697d-16c9-4a80-b101-f03600907465",
   "metadata": {},
   "source": [
    "## Calculo sin aire acondicionado"
   ]
  },
  {
   "cell_type": "code",
   "execution_count": null,
   "id": "23ed0ad0-97ad-4009-9f6e-412d288ac779",
   "metadata": {},
   "outputs": [],
   "source": [
    "df = viv_sin_ac[['m2','estrato','kwh_mes','factor']].copy()\n",
    "df = df.dropna(subset=['kwh_mes','factor'])\n",
    "df = df[df['factor'] > 0]\n",
    "\n",
    "# Consumo ponderado por registro (kWh/mes * peso)\n",
    "df['consumo_pond'] = df['kwh_mes'] * df['factor']\n",
    "\n",
    "# Agregado por m2 y estrato\n",
    "res = (\n",
    "    df.groupby(['m2','estrato'], as_index=False)\n",
    "      .agg(consumo_total_pond=('consumo_pond','sum'),\n",
    "           peso=('factor','sum'),\n",
    "           n_filas=('kwh_mes','size'))\n",
    ")\n",
    "\n",
    "# Porcentaje respecto al consumo total (suma ponderada global)\n",
    "total_consumo = res['consumo_total_pond'].sum()\n",
    "res['pct_consumo_total'] = 100 * res['consumo_total_pond'] / total_consumo\n",
    "\n",
    "# Orden y redondeo para presentación\n",
    "res = res.sort_values(['estrato','m2']).reset_index(drop=True)\n",
    "res['consumo_total_pond'] = res['consumo_total_pond'].round(2)\n",
    "res['pct_consumo_total'] = res['pct_consumo_total'].round(2)\n",
    "\n",
    "print(res[[\"m2\",\"estrato\",\"pct_consumo_total\"]].sort_values(by=\"pct_consumo_total\",ascending=False).to_markdown(index=False))"
   ]
  },
  {
   "cell_type": "code",
   "execution_count": null,
   "id": "6368486e-770b-49bf-a571-3a11e304aae8",
   "metadata": {},
   "outputs": [],
   "source": []
  }
 ],
 "metadata": {
  "kernelspec": {
   "display_name": "Python 3 (ipykernel)",
   "language": "python",
   "name": "python3"
  },
  "language_info": {
   "codemirror_mode": {
    "name": "ipython",
    "version": 3
   },
   "file_extension": ".py",
   "mimetype": "text/x-python",
   "name": "python",
   "nbconvert_exporter": "python",
   "pygments_lexer": "ipython3",
   "version": "3.10.17"
  }
 },
 "nbformat": 4,
 "nbformat_minor": 5
}
