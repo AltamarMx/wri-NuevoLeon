{
 "cells": [
  {
   "cell_type": "code",
   "execution_count": 3,
   "id": "18a2bdf9-0e25-4443-8c3e-e8127908fd73",
   "metadata": {},
   "outputs": [],
   "source": [
    "import pandas as pd"
   ]
  },
  {
   "cell_type": "code",
   "execution_count": 6,
   "id": "b64a91b4-b9ac-4e92-a7a5-1310e0c61eab",
   "metadata": {},
   "outputs": [
    {
     "data": {
      "text/plain": [
       "Index([        'Contraseña',       'Uso genérico',     'Uso específico',\n",
       "                'Municipio', 'Entidad Federativa',             'Zona T',\n",
       "                'Area (m2)',                 'AA',                 'TR',\n",
       "                   'Propio',  2022-01-01 00:00:00,  2022-02-01 00:00:00,\n",
       "        2022-03-01 00:00:00,  2022-04-01 00:00:00,  2022-05-01 00:00:00,\n",
       "        2022-06-01 00:00:00,  2022-07-01 00:00:00,  2022-08-01 00:00:00,\n",
       "        2022-09-01 00:00:00,  2022-10-01 00:00:00,  2022-11-01 00:00:00,\n",
       "        2022-12-01 00:00:00,  2023-01-01 00:00:00,  2023-02-01 00:00:00,\n",
       "        2023-03-01 00:00:00,  2023-04-01 00:00:00,  2023-05-01 00:00:00,\n",
       "        2023-06-01 00:00:00,  2023-07-01 00:00:00,  2023-08-01 00:00:00,\n",
       "        2023-09-01 00:00:00,  2023-10-01 00:00:00,  2023-11-01 00:00:00,\n",
       "        2023-12-01 00:00:00,  2024-01-01 00:00:00,  2024-02-01 00:00:00,\n",
       "        2024-03-01 00:00:00,  2024-04-01 00:00:00,  2024-05-01 00:00:00,\n",
       "        2024-06-01 00:00:00,  2024-07-01 00:00:00,  2024-08-01 00:00:00,\n",
       "        2024-09-01 00:00:00,  2024-10-01 00:00:00,  2024-11-01 00:00:00,\n",
       "        2024-12-01 00:00:00],\n",
       "      dtype='object')"
      ]
     },
     "execution_count": 6,
     "metadata": {},
     "output_type": "execute_result"
    }
   ],
   "source": [
    "f = '../data/001_raw/APF/consumos2022-2024APF.xlsx'\n",
    "apf = pd.read_excel(f)\n",
    "apf.columns"
   ]
  },
  {
   "cell_type": "code",
   "execution_count": 8,
   "id": "12af5788-1b28-4b86-a6b0-58653def62fc",
   "metadata": {},
   "outputs": [
    {
     "data": {
      "text/plain": [
       "array(['Educación y Cultura', 'Oficina Pública', 'Industria', 'Seguridad',\n",
       "       'Comunicaciones y Transporte', 'Infraestructura',\n",
       "       'Agrícola, Pecuario y Forestal', 'Salud', 'Comercio', 'Recreación',\n",
       "       'Habitacional', 'Alojamiento', 'Servicios Funerarios'],\n",
       "      dtype=object)"
      ]
     },
     "execution_count": 8,
     "metadata": {},
     "output_type": "execute_result"
    }
   ],
   "source": [
    "apf['Uso genérico'].unique()"
   ]
  },
  {
   "cell_type": "code",
   "execution_count": null,
   "id": "ea841881-6883-48c3-bf02-920e4869fd14",
   "metadata": {},
   "outputs": [],
   "source": []
  }
 ],
 "metadata": {
  "kernelspec": {
   "display_name": "Python 3 (ipykernel)",
   "language": "python",
   "name": "python3"
  },
  "language_info": {
   "codemirror_mode": {
    "name": "ipython",
    "version": 3
   },
   "file_extension": ".py",
   "mimetype": "text/x-python",
   "name": "python",
   "nbconvert_exporter": "python",
   "pygments_lexer": "ipython3",
   "version": "3.10.17"
  }
 },
 "nbformat": 4,
 "nbformat_minor": 5
}
