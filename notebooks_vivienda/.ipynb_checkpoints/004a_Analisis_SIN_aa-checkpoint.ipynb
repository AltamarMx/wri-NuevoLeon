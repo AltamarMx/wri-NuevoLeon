{
 "cells": [
  {
   "cell_type": "code",
   "execution_count": 1,
   "id": "a20d8b29-c405-4fc4-9f2d-ce7018cf23fa",
   "metadata": {},
   "outputs": [],
   "source": [
    "import pandas as pd\n",
    "import numpy as np\n",
    "from tabulate import tabulate\n",
    "import seaborn as sns\n",
    "from matplotlib.patches import Patch\n",
    "import matplotlib.pyplot as plt\n",
    "import plotly.express as px\n",
    "from textwrap import indent"
   ]
  },
  {
   "cell_type": "code",
   "execution_count": 2,
   "id": "1ca2456d-7d6c-4034-87ed-f0616d132804",
   "metadata": {},
   "outputs": [],
   "source": [
    "def box_summary(\n",
    "    df: pd.DataFrame,\n",
    "    value_col: str,\n",
    "    *,\n",
    "    group_cols=(\"clima\", \"estrato\", \"m2\"),\n",
    "    total_viviendas: int | None = None\n",
    ") -> pd.DataFrame:\n",
    "    \"\"\"\n",
    "    Resume la distribución de `value_col` para cada combinación de `group_cols`.\n",
    "\n",
    "    Parámetros\n",
    "    ----------\n",
    "    df : DataFrame ya *expandido* (cada fila cuenta 1 vez).\n",
    "    value_col : columna numérica a resumir (p.ej. 'kwh_mes', 'kwh_m2persona').\n",
    "    group_cols : tupla/lista de columnas de agrupamiento.\n",
    "    total_viviendas : total con que normalizar la columna 'n'; si es None,\n",
    "                      no se añade la columna 'pct_viv'.\n",
    "\n",
    "    Devuelve\n",
    "    --------\n",
    "    DataFrame con columnas:\n",
    "      group_cols + [n, minimo, Q1, mediana, Q3, maximo, media, (pct_viv)]\n",
    "    \"\"\"\n",
    "    grp = df.groupby(list(group_cols))[value_col]\n",
    "\n",
    "    resumen = (\n",
    "        grp.agg(\n",
    "            n       = \"size\",\n",
    "            minimo  = \"min\",\n",
    "            Q1      = lambda s: s.quantile(0.25),\n",
    "            mediana = \"median\",\n",
    "            Q3      = lambda s: s.quantile(0.75),\n",
    "            maximo  = \"max\",\n",
    "            media   = \"mean\",\n",
    "        )\n",
    "        .reset_index()\n",
    "    )\n",
    "\n",
    "    # Añade el porcentaje si se proporciona el total\n",
    "    if total_viviendas is not None:\n",
    "        resumen[\"pct_viv\"] = (resumen[\"n\"] / total_viviendas) * 100\n",
    "        resumen[\"pct_viv\"] = resumen[\"pct_viv\"].round(2)\n",
    "\n",
    "    return resumen\n",
    "\n",
    "def make_box_tables(\n",
    "    resumen: pd.DataFrame,\n",
    "    *,\n",
    "    climates: list[str] | None = None,\n",
    "    estrato_order: list[str] | None = None,\n",
    "    pct_col: str = \"porcentaje\",      # ← nombre de la columna a añadir\n",
    "    pct_name: str = \"%Viviendas\"      # ← nombre que aparecerá en la tabla\n",
    ") -> dict[tuple[str, str], pd.DataFrame]:\n",
    "    \"\"\"\n",
    "    Crea un diccionario de DataFrames con las estadísticas (P25, Mediana, Media,\n",
    "    P75) *más* el porcentaje de viviendas para cada combinación clima-estrato.\n",
    "\n",
    "    Parameters\n",
    "    ----------\n",
    "    resumen : DataFrame\n",
    "        Debe contener: clima, estrato, m2, Q1, mediana, media, Q3 y `pct_col`.\n",
    "    climates : lista explícita de climas a incluir (default: todos).\n",
    "    estrato_order : orden deseado de estratos (default: ['Bajo','Medio bajo',…]).\n",
    "    pct_col : nombre de la columna en `resumen` con el porcentaje.\n",
    "    pct_name : encabezado que se mostrará en la tabla para ese porcentaje.\n",
    "\n",
    "    Returns\n",
    "    -------\n",
    "    dict { (clima, estrato) : DataFrame }\n",
    "        Columnas por defecto:\n",
    "        ['m²', 'P25', 'Mediana', 'Media', 'P75', '%Viviendas']\n",
    "    \"\"\"\n",
    "    if climates is None:\n",
    "        climates = sorted(resumen[\"clima\"].unique())\n",
    "    if estrato_order is None:\n",
    "        estrato_order = [\"Bajo\", \"Medio bajo\", \"Medio alto\", \"Alto\"]\n",
    "\n",
    "    tables: dict[tuple[str, str], pd.DataFrame] = {}\n",
    "\n",
    "    for clima in climates:\n",
    "        df_clima = resumen[resumen[\"clima\"] == clima]\n",
    "        for estrato in estrato_order:\n",
    "            sub = df_clima[df_clima[\"estrato\"] == estrato].copy()\n",
    "            if sub.empty:\n",
    "                continue\n",
    "\n",
    "            tidy = (\n",
    "                sub[[\"m2\", \"Q1\", \"mediana\", \"media\", \"Q3\", pct_col]]\n",
    "                .rename(\n",
    "                    columns={\n",
    "                        \"m2\": \"m²\",\n",
    "                        \"Q1\": \"P25\",\n",
    "                        \"mediana\": \"Mediana\",\n",
    "                        \"media\": \"Media\",\n",
    "                        \"Q3\": \"P75\",\n",
    "                        pct_col: pct_name,\n",
    "                    }\n",
    "                )\n",
    "                .sort_values(\"m²\", kind=\"mergesort\")   # orden estable\n",
    "                .reset_index(drop=True)\n",
    "            )\n",
    "            tables[(clima, estrato)] = tidy\n",
    "\n",
    "    return tables\n",
    "\n",
    "\n",
    "\n",
    "# --- 2.  Función auxiliar: DataFrame → Markdown (sin índice, 2 decimales) ----\n",
    "def df_to_md(df: pd.DataFrame) -> str:\n",
    "    \"\"\"\n",
    "    Devuelve una cadena en formato GitHub-Markdown con 2 decimales\n",
    "    y sin columna índice.\n",
    "    \"\"\"\n",
    "    return df.round(2).to_markdown(index=False)"
   ]
  },
  {
   "cell_type": "code",
   "execution_count": 3,
   "id": "49bd9e57-3932-49f3-a66e-56f8bed150ba",
   "metadata": {},
   "outputs": [],
   "source": [
    "total_viviendas = 33_162_148"
   ]
  },
  {
   "cell_type": "code",
   "execution_count": 4,
   "id": "f45fa825-9800-4a65-92e5-e2bd71b70e82",
   "metadata": {},
   "outputs": [
    {
     "data": {
      "text/plain": [
       "Index(['clima', 'factor', 'personas', 'm2', 'estrato', 'kwh_mes', 'kwh_m2',\n",
       "       'kwh_persona', 'kwh_m2persona'],\n",
       "      dtype='object')"
      ]
     },
     "execution_count": 4,
     "metadata": {},
     "output_type": "execute_result"
    }
   ],
   "source": [
    "f =\"../data/002_intermediate/vivienda_sin_aa.parquet\"\n",
    "viv =pd.read_parquet(f)\n",
    "f = \"../data/002_intermediate/porcentajes_naa.parquet\"\n",
    "porcentajes_naa = pd.read_parquet(f)\n",
    "viv.factor.sum()\n",
    "viv.columns"
   ]
  },
  {
   "cell_type": "code",
   "execution_count": 5,
   "id": "b71d8aac-f8c2-4485-9e3e-f6acfd923397",
   "metadata": {},
   "outputs": [
    {
     "data": {
      "text/plain": [
       "np.float64(42.53378279356331)"
      ]
     },
     "execution_count": 5,
     "metadata": {},
     "output_type": "execute_result"
    }
   ],
   "source": [
    "viv.factor.sum()/total_viviendas*100"
   ]
  },
  {
   "cell_type": "code",
   "execution_count": 6,
   "id": "41139f49-0803-46de-926e-898540d08c30",
   "metadata": {},
   "outputs": [
    {
     "name": "stdout",
     "output_type": "stream",
     "text": [
      "ERROR! Session/line number was not unique in database. History logging moved to new session 596\n",
      "<class 'pandas.core.frame.DataFrame'>\n",
      "RangeIndex: 14118022 entries, 0 to 14118021\n",
      "Data columns (total 9 columns):\n",
      " #   Column         Dtype  \n",
      "---  ------         -----  \n",
      " 0   clima          object \n",
      " 1   factor         int64  \n",
      " 2   personas       int64  \n",
      " 3   m2             float64\n",
      " 4   estrato        object \n",
      " 5   kwh_mes        float64\n",
      " 6   kwh_m2         float64\n",
      " 7   kwh_persona    float64\n",
      " 8   kwh_m2persona  float64\n",
      "dtypes: float64(5), int64(2), object(2)\n",
      "memory usage: 969.4+ MB\n"
     ]
    }
   ],
   "source": [
    "viv_expandida = viv.loc[viv.index.repeat(viv[\"factor\"])].reset_index(drop=True)\n",
    "viv_expandida.info()"
   ]
  },
  {
   "cell_type": "code",
   "execution_count": 7,
   "id": "fcd22362-8e09-4974-b4a3-ebdc596a622d",
   "metadata": {},
   "outputs": [
    {
     "data": {
      "text/plain": [
       "<seaborn.axisgrid.FacetGrid at 0x133fd0a00>"
      ]
     },
     "execution_count": 7,
     "metadata": {},
     "output_type": "execute_result"
    },
    {
     "data": {
      "image/png": "[encoded data removed]",
      "text/plain": [
       "<Figure size 1289.5x400 with 3 Axes>"
      ]
     },
     "metadata": {},
     "output_type": "display_data"
    }
   ],
   "source": [
    "#| label: fig-mensual-sin-aa\n",
    "#| fig-cap: Consumo total mensual de la vivienda para los diferentes climas y estratos socioeconómicos y sin uso de aire acondicionado.\n",
    "\n",
    "m2_list = sorted(viv['m2'].unique())\n",
    "colors = sns.color_palette('Set2', n_colors=len(m2_list))\n",
    "palette_dict = {m2: colors[i] for i, m2 in enumerate(m2_list)}\n",
    "estrato_order = ['Bajo', 'Medio bajo', 'Medio alto', 'Alto']\n",
    "\n",
    "\n",
    "g = sns.catplot(\n",
    "    data=viv_expandida,\n",
    "    x='estrato',\n",
    "    y='kwh_mes',\n",
    "    hue='m2',\n",
    "    palette=palette_dict,\n",
    "    col='clima',\n",
    "    kind='box',\n",
    "    order=estrato_order,\n",
    "    col_wrap=3,\n",
    "    height=4,\n",
    "    sharey=True,\n",
    "    whis=[25, 75],\n",
    "    showfliers=False,\n",
    "    legend=True,\n",
    ")\n",
    "\n",
    "g.set_axis_labels(\"Estrato\", \"Consumo total mensual (kWh)\")"
   ]
  },
  {
   "cell_type": "code",
   "execution_count": 8,
   "id": "6a9d769c-1113-41c7-9452-e0b30fa7622d",
   "metadata": {},
   "outputs": [
    {
     "data": {
      "text/plain": [
       "Index(['clima', 'factor', 'personas', 'm2', 'estrato', 'kwh_mes', 'kwh_m2',\n",
       "       'kwh_persona', 'kwh_m2persona'],\n",
       "      dtype='object')"
      ]
     },
     "execution_count": 8,
     "metadata": {},
     "output_type": "execute_result"
    }
   ],
   "source": [
    "viv_expandida.columns"
   ]
  },
  {
   "cell_type": "code",
   "execution_count": 9,
   "id": "c1efe989-ba32-4f4d-9a00-485933725d5e",
   "metadata": {},
   "outputs": [
    {
     "data": {
      "text/plain": [
       "<seaborn.axisgrid.FacetGrid at 0x134db74f0>"
      ]
     },
     "execution_count": 9,
     "metadata": {},
     "output_type": "execute_result"
    },
    {
     "data": {
      "image/png": "[encoded data removed]",
      "text/plain": [
       "<Figure size 1289.5x400 with 3 Axes>"
      ]
     },
     "metadata": {},
     "output_type": "display_data"
    }
   ],
   "source": [
    "#| label: fig-mensual-personam2-sin-aa\n",
    "#| fig-cap: Consumo total mensual de la vivienda para los diferentes climas y estratos socioeconómicos y sin uso de aire acondicionado.\n",
    "\n",
    "m2_list = sorted(viv['m2'].unique())\n",
    "colors = sns.color_palette('Set2', n_colors=len(m2_list))\n",
    "palette_dict = {m2: colors[i] for i, m2 in enumerate(m2_list)}\n",
    "estrato_order = ['Bajo', 'Medio bajo', 'Medio alto', 'Alto']\n",
    "\n",
    "\n",
    "g = sns.catplot(\n",
    "    data=viv_expandida,\n",
    "    x='estrato',\n",
    "    y='kwh_m2persona',\n",
    "    hue='m2',\n",
    "    palette=palette_dict,\n",
    "    col='clima',\n",
    "    kind='box',\n",
    "    order=estrato_order,\n",
    "    col_wrap=3,\n",
    "    height=4,\n",
    "    sharey=True,\n",
    "    whis=[25, 75],\n",
    "    showfliers=False,\n",
    "    legend=True,\n",
    ")\n",
    "\n",
    "g.set_axis_labels(\"Estrato\", \"Consumo mensual (kWh/(persona m2))\")"
   ]
  },
  {
   "cell_type": "code",
   "execution_count": 10,
   "id": "86c388a3-b0b1-41c5-91af-ef01ec011a4a",
   "metadata": {},
   "outputs": [
    {
     "data": {
      "text/plain": [
       "Index(['clima', 'factor', 'personas', 'm2', 'estrato', 'kwh_mes', 'kwh_m2',\n",
       "       'kwh_persona', 'kwh_m2persona'],\n",
       "      dtype='object')"
      ]
     },
     "execution_count": 10,
     "metadata": {},
     "output_type": "execute_result"
    }
   ],
   "source": [
    "viv_expandida.columns"
   ]
  },
  {
   "cell_type": "code",
   "execution_count": 11,
   "id": "21959e5e-5368-4e12-891e-7019b21f9c55",
   "metadata": {},
   "outputs": [
    {
     "data": {
      "text/plain": [
       "(               clima     estrato     m2       n      minimo          Q1  \\\n",
       " 0   Cálido extremoso        Alto   30.0    1229  145.571776  145.571776   \n",
       " 1   Cálido extremoso        Alto   55.0    7126   12.388057   59.730411   \n",
       " 2   Cálido extremoso        Alto   75.0   36110   35.685196   48.703435   \n",
       " 3   Cálido extremoso        Alto  100.0   71256   10.763536   58.102477   \n",
       " 4   Cálido extremoso        Alto  150.0   49536   31.257106   73.679802   \n",
       " ..               ...         ...    ...     ...         ...         ...   \n",
       " 67          Tropical  Medio bajo   55.0  297002    7.839084   42.708645   \n",
       " 68          Tropical  Medio bajo   75.0  260584   12.003597   45.371782   \n",
       " 69          Tropical  Medio bajo  100.0  257920   12.248568   47.341210   \n",
       " 70          Tropical  Medio bajo  150.0  176378    9.806510   51.843619   \n",
       " 71          Tropical  Medio bajo  200.0   85664   11.268683   48.557980   \n",
       " \n",
       "        mediana          Q3       maximo       media  \n",
       " 0   145.571776  145.571776   145.571776  145.571776  \n",
       " 1   103.077720  132.315645   205.040754  107.930726  \n",
       " 2    80.131243  111.982483   363.000000  106.901201  \n",
       " 3   102.422142  171.595771   411.372234  127.979089  \n",
       " 4   110.302068  176.383498   459.131591  136.172468  \n",
       " ..         ...         ...          ...         ...  \n",
       " 67   68.289149  128.801180   587.690476  100.831593  \n",
       " 68   71.500631  119.567304   716.302768   97.883673  \n",
       " 69   73.731473  128.545477   525.065621  103.287282  \n",
       " 70   77.787295  151.504110  1167.974661  122.201690  \n",
       " 71   80.400526  137.058578   343.000000   98.307956  \n",
       " \n",
       " [72 rows x 10 columns],\n",
       "                clima     estrato     m2       n    minimo        Q1   mediana  \\\n",
       " 0   Cálido extremoso        Alto   30.0    1229  0.808732  0.808732  0.808732   \n",
       " 1   Cálido extremoso        Alto   55.0    7126  0.442967  0.855374  1.270251   \n",
       " 2   Cálido extremoso        Alto   75.0   36110  0.233264  0.368985  0.698638   \n",
       " 3   Cálido extremoso        Alto  100.0   71256  0.148298  0.388925  0.542994   \n",
       " 4   Cálido extremoso        Alto  150.0   49536  0.144320  0.277798  0.362310   \n",
       " ..               ...         ...    ...     ...       ...       ...       ...   \n",
       " 67          Tropical  Medio bajo   55.0  297002  0.073962  0.396634  0.695607   \n",
       " 68          Tropical  Medio bajo   75.0  260584  0.063500  0.332072  0.517103   \n",
       " 69          Tropical  Medio bajo  100.0  257920  0.050845  0.227798  0.393436   \n",
       " 70          Tropical  Medio bajo  150.0  176378  0.020303  0.158956  0.260924   \n",
       " 71          Tropical  Medio bajo  200.0   85664  0.045019  0.137735  0.182226   \n",
       " \n",
       "           Q3    maximo     media  \n",
       " 0   0.808732  0.808732  0.808732  \n",
       " 1   1.395767  1.933910  1.224095  \n",
       " 2   1.003724  2.794552  0.820839  \n",
       " 3   0.959881  3.312672  0.836650  \n",
       " 4   0.544142  1.242092  0.444720  \n",
       " ..       ...       ...       ...  \n",
       " 67  1.177316  6.478003  0.934343  \n",
       " 68  0.790411  3.774090  0.660222  \n",
       " 69  0.587362  2.621168  0.504344  \n",
       " 70  0.425385  1.997324  0.339080  \n",
       " 71  0.313873  0.889927  0.256958  \n",
       " \n",
       " [72 rows x 10 columns])"
      ]
     },
     "execution_count": 11,
     "metadata": {},
     "output_type": "execute_result"
    }
   ],
   "source": [
    "tabla_kwh = box_summary(viv_expandida, \"kwh_mes\",total_viviendas=None)\n",
    "tabla_kwhm2persona = box_summary(viv_expandida, \"kwh_m2persona\",total_viviendas=None)\n",
    "\n",
    "tabla_kwh, tabla_kwhm2persona"
   ]
  },
  {
   "cell_type": "code",
   "execution_count": 12,
   "id": "02a6ada0-4911-40dd-a46d-eb5ecb36fd77",
   "metadata": {
    "jupyter": {
     "source_hidden": true
    }
   },
   "outputs": [
    {
     "data": {
      "text/html": [
       "<div>\n",
       "<style scoped>\n",
       "    .dataframe tbody tr th:only-of-type {\n",
       "        vertical-align: middle;\n",
       "    }\n",
       "\n",
       "    .dataframe tbody tr th {\n",
       "        vertical-align: top;\n",
       "    }\n",
       "\n",
       "    .dataframe thead th {\n",
       "        text-align: right;\n",
       "    }\n",
       "</style>\n",
       "<table border=\"1\" class=\"dataframe\">\n",
       "  <thead>\n",
       "    <tr style=\"text-align: right;\">\n",
       "      <th></th>\n",
       "      <th>clima</th>\n",
       "      <th>estrato</th>\n",
       "      <th>m2</th>\n",
       "      <th>n</th>\n",
       "      <th>minimo</th>\n",
       "      <th>Q1</th>\n",
       "      <th>mediana</th>\n",
       "      <th>Q3</th>\n",
       "      <th>maximo</th>\n",
       "      <th>media</th>\n",
       "      <th>porcentaje</th>\n",
       "    </tr>\n",
       "  </thead>\n",
       "  <tbody>\n",
       "    <tr>\n",
       "      <th>0</th>\n",
       "      <td>Cálido extremoso</td>\n",
       "      <td>Alto</td>\n",
       "      <td>30.0</td>\n",
       "      <td>1229</td>\n",
       "      <td>145.571776</td>\n",
       "      <td>145.571776</td>\n",
       "      <td>145.571776</td>\n",
       "      <td>145.571776</td>\n",
       "      <td>145.571776</td>\n",
       "      <td>145.571776</td>\n",
       "      <td>0.006972</td>\n",
       "    </tr>\n",
       "    <tr>\n",
       "      <th>1</th>\n",
       "      <td>Cálido extremoso</td>\n",
       "      <td>Alto</td>\n",
       "      <td>55.0</td>\n",
       "      <td>7126</td>\n",
       "      <td>12.388057</td>\n",
       "      <td>59.730411</td>\n",
       "      <td>103.077720</td>\n",
       "      <td>132.315645</td>\n",
       "      <td>205.040754</td>\n",
       "      <td>107.930726</td>\n",
       "      <td>0.052702</td>\n",
       "    </tr>\n",
       "    <tr>\n",
       "      <th>2</th>\n",
       "      <td>Cálido extremoso</td>\n",
       "      <td>Alto</td>\n",
       "      <td>75.0</td>\n",
       "      <td>36110</td>\n",
       "      <td>35.685196</td>\n",
       "      <td>48.703435</td>\n",
       "      <td>80.131243</td>\n",
       "      <td>111.982483</td>\n",
       "      <td>363.000000</td>\n",
       "      <td>106.901201</td>\n",
       "      <td>0.122646</td>\n",
       "    </tr>\n",
       "    <tr>\n",
       "      <th>3</th>\n",
       "      <td>Cálido extremoso</td>\n",
       "      <td>Alto</td>\n",
       "      <td>100.0</td>\n",
       "      <td>71256</td>\n",
       "      <td>10.763536</td>\n",
       "      <td>58.102477</td>\n",
       "      <td>102.422142</td>\n",
       "      <td>171.595771</td>\n",
       "      <td>411.372234</td>\n",
       "      <td>127.979089</td>\n",
       "      <td>0.257670</td>\n",
       "    </tr>\n",
       "    <tr>\n",
       "      <th>4</th>\n",
       "      <td>Cálido extremoso</td>\n",
       "      <td>Alto</td>\n",
       "      <td>150.0</td>\n",
       "      <td>49536</td>\n",
       "      <td>31.257106</td>\n",
       "      <td>73.679802</td>\n",
       "      <td>110.302068</td>\n",
       "      <td>176.383498</td>\n",
       "      <td>459.131591</td>\n",
       "      <td>136.172468</td>\n",
       "      <td>0.197728</td>\n",
       "    </tr>\n",
       "    <tr>\n",
       "      <th>...</th>\n",
       "      <td>...</td>\n",
       "      <td>...</td>\n",
       "      <td>...</td>\n",
       "      <td>...</td>\n",
       "      <td>...</td>\n",
       "      <td>...</td>\n",
       "      <td>...</td>\n",
       "      <td>...</td>\n",
       "      <td>...</td>\n",
       "      <td>...</td>\n",
       "      <td>...</td>\n",
       "    </tr>\n",
       "    <tr>\n",
       "      <th>67</th>\n",
       "      <td>Tropical</td>\n",
       "      <td>Medio bajo</td>\n",
       "      <td>55.0</td>\n",
       "      <td>297002</td>\n",
       "      <td>7.839084</td>\n",
       "      <td>42.708645</td>\n",
       "      <td>68.289149</td>\n",
       "      <td>128.801180</td>\n",
       "      <td>587.690476</td>\n",
       "      <td>100.831593</td>\n",
       "      <td>1.400714</td>\n",
       "    </tr>\n",
       "    <tr>\n",
       "      <th>68</th>\n",
       "      <td>Tropical</td>\n",
       "      <td>Medio bajo</td>\n",
       "      <td>75.0</td>\n",
       "      <td>260584</td>\n",
       "      <td>12.003597</td>\n",
       "      <td>45.371782</td>\n",
       "      <td>71.500631</td>\n",
       "      <td>119.567304</td>\n",
       "      <td>716.302768</td>\n",
       "      <td>97.883673</td>\n",
       "      <td>1.052643</td>\n",
       "    </tr>\n",
       "    <tr>\n",
       "      <th>69</th>\n",
       "      <td>Tropical</td>\n",
       "      <td>Medio bajo</td>\n",
       "      <td>100.0</td>\n",
       "      <td>257920</td>\n",
       "      <td>12.248568</td>\n",
       "      <td>47.341210</td>\n",
       "      <td>73.731473</td>\n",
       "      <td>128.545477</td>\n",
       "      <td>525.065621</td>\n",
       "      <td>103.287282</td>\n",
       "      <td>1.065272</td>\n",
       "    </tr>\n",
       "    <tr>\n",
       "      <th>70</th>\n",
       "      <td>Tropical</td>\n",
       "      <td>Medio bajo</td>\n",
       "      <td>150.0</td>\n",
       "      <td>176378</td>\n",
       "      <td>9.806510</td>\n",
       "      <td>51.843619</td>\n",
       "      <td>77.787295</td>\n",
       "      <td>151.504110</td>\n",
       "      <td>1167.974661</td>\n",
       "      <td>122.201690</td>\n",
       "      <td>0.710397</td>\n",
       "    </tr>\n",
       "    <tr>\n",
       "      <th>71</th>\n",
       "      <td>Tropical</td>\n",
       "      <td>Medio bajo</td>\n",
       "      <td>200.0</td>\n",
       "      <td>85664</td>\n",
       "      <td>11.268683</td>\n",
       "      <td>48.557980</td>\n",
       "      <td>80.400526</td>\n",
       "      <td>137.058578</td>\n",
       "      <td>343.000000</td>\n",
       "      <td>98.307956</td>\n",
       "      <td>0.324258</td>\n",
       "    </tr>\n",
       "  </tbody>\n",
       "</table>\n",
       "<p>72 rows × 11 columns</p>\n",
       "</div>"
      ],
      "text/plain": [
       "               clima     estrato     m2       n      minimo          Q1  \\\n",
       "0   Cálido extremoso        Alto   30.0    1229  145.571776  145.571776   \n",
       "1   Cálido extremoso        Alto   55.0    7126   12.388057   59.730411   \n",
       "2   Cálido extremoso        Alto   75.0   36110   35.685196   48.703435   \n",
       "3   Cálido extremoso        Alto  100.0   71256   10.763536   58.102477   \n",
       "4   Cálido extremoso        Alto  150.0   49536   31.257106   73.679802   \n",
       "..               ...         ...    ...     ...         ...         ...   \n",
       "67          Tropical  Medio bajo   55.0  297002    7.839084   42.708645   \n",
       "68          Tropical  Medio bajo   75.0  260584   12.003597   45.371782   \n",
       "69          Tropical  Medio bajo  100.0  257920   12.248568   47.341210   \n",
       "70          Tropical  Medio bajo  150.0  176378    9.806510   51.843619   \n",
       "71          Tropical  Medio bajo  200.0   85664   11.268683   48.557980   \n",
       "\n",
       "       mediana          Q3       maximo       media  porcentaje  \n",
       "0   145.571776  145.571776   145.571776  145.571776    0.006972  \n",
       "1   103.077720  132.315645   205.040754  107.930726    0.052702  \n",
       "2    80.131243  111.982483   363.000000  106.901201    0.122646  \n",
       "3   102.422142  171.595771   411.372234  127.979089    0.257670  \n",
       "4   110.302068  176.383498   459.131591  136.172468    0.197728  \n",
       "..         ...         ...          ...         ...         ...  \n",
       "67   68.289149  128.801180   587.690476  100.831593    1.400714  \n",
       "68   71.500631  119.567304   716.302768   97.883673    1.052643  \n",
       "69   73.731473  128.545477   525.065621  103.287282    1.065272  \n",
       "70   77.787295  151.504110  1167.974661  122.201690    0.710397  \n",
       "71   80.400526  137.058578   343.000000   98.307956    0.324258  \n",
       "\n",
       "[72 rows x 11 columns]"
      ]
     },
     "execution_count": 12,
     "metadata": {},
     "output_type": "execute_result"
    }
   ],
   "source": [
    "# 1) -—  verifica que las tres llaves tengan el mismo tipo en ambos DataFrames\n",
    "for col in [\"clima\", \"estrato\"]:\n",
    "    porcentajes_naa[col] = porcentajes_naa[col].astype(str)\n",
    "    tabla_kwh[col]              = tabla_kwh[col].astype(str)\n",
    "\n",
    "# `m2` suele ser float (30.0, 55.0, …).  \n",
    "# Si en alguno viene como int, conviértelo a float para que la fusión encuentre coincidencias.\n",
    "tabla_kwh[\"m2\"]              = tabla_kwh[\"m2\"].astype(float)\n",
    "porcentajes_naa[\"m2\"] = porcentajes_naa[\"m2\"].astype(float)\n",
    "\n",
    "# 2) -—  selecciona solo la columna que quieres añadir\n",
    "cols_pct = porcentajes_naa[[\"clima\", \"estrato\", \"m2\", \"porcentaje\"]]\n",
    "\n",
    "# 3) -—  fusiona (left join) y conserva el orden original de `tabla_kwh`\n",
    "tabla_kwh = (\n",
    "    tabla_kwh\n",
    "    .merge(cols_pct, on=[\"clima\", \"estrato\", \"m2\"], how=\"left\")\n",
    "    .sort_values([\"clima\", \"estrato\", \"m2\"], ignore_index=True)\n",
    ")\n",
    "\n",
    "# 4) -—  (opcional) comprueba si hubo filas sin coincidencia\n",
    "missing = tabla_kwh[\"porcentaje\"].isna().sum()\n",
    "if missing:\n",
    "    print(f\"⚠️  {missing} filas no hallaron su 'porcentaje'. Revisa claves o tipos.\")\n",
    "\n",
    "# Resultado\n",
    "tabla_kwh\n"
   ]
  },
  {
   "cell_type": "code",
   "execution_count": 13,
   "id": "12b77c90-cbc1-46de-8fb6-2b4b47752031",
   "metadata": {},
   "outputs": [
    {
     "data": {
      "text/html": [
       "<div>\n",
       "<style scoped>\n",
       "    .dataframe tbody tr th:only-of-type {\n",
       "        vertical-align: middle;\n",
       "    }\n",
       "\n",
       "    .dataframe tbody tr th {\n",
       "        vertical-align: top;\n",
       "    }\n",
       "\n",
       "    .dataframe thead th {\n",
       "        text-align: right;\n",
       "    }\n",
       "</style>\n",
       "<table border=\"1\" class=\"dataframe\">\n",
       "  <thead>\n",
       "    <tr style=\"text-align: right;\">\n",
       "      <th></th>\n",
       "      <th>clima</th>\n",
       "      <th>estrato</th>\n",
       "      <th>m2</th>\n",
       "      <th>n</th>\n",
       "      <th>minimo</th>\n",
       "      <th>Q1</th>\n",
       "      <th>mediana</th>\n",
       "      <th>Q3</th>\n",
       "      <th>maximo</th>\n",
       "      <th>media</th>\n",
       "      <th>porcentaje</th>\n",
       "    </tr>\n",
       "  </thead>\n",
       "  <tbody>\n",
       "    <tr>\n",
       "      <th>0</th>\n",
       "      <td>Cálido extremoso</td>\n",
       "      <td>Alto</td>\n",
       "      <td>30.0</td>\n",
       "      <td>1229</td>\n",
       "      <td>0.808732</td>\n",
       "      <td>0.808732</td>\n",
       "      <td>0.808732</td>\n",
       "      <td>0.808732</td>\n",
       "      <td>0.808732</td>\n",
       "      <td>0.808732</td>\n",
       "      <td>0.006972</td>\n",
       "    </tr>\n",
       "    <tr>\n",
       "      <th>1</th>\n",
       "      <td>Cálido extremoso</td>\n",
       "      <td>Alto</td>\n",
       "      <td>55.0</td>\n",
       "      <td>7126</td>\n",
       "      <td>0.442967</td>\n",
       "      <td>0.855374</td>\n",
       "      <td>1.270251</td>\n",
       "      <td>1.395767</td>\n",
       "      <td>1.933910</td>\n",
       "      <td>1.224095</td>\n",
       "      <td>0.052702</td>\n",
       "    </tr>\n",
       "    <tr>\n",
       "      <th>2</th>\n",
       "      <td>Cálido extremoso</td>\n",
       "      <td>Alto</td>\n",
       "      <td>75.0</td>\n",
       "      <td>36110</td>\n",
       "      <td>0.233264</td>\n",
       "      <td>0.368985</td>\n",
       "      <td>0.698638</td>\n",
       "      <td>1.003724</td>\n",
       "      <td>2.794552</td>\n",
       "      <td>0.820839</td>\n",
       "      <td>0.122646</td>\n",
       "    </tr>\n",
       "    <tr>\n",
       "      <th>3</th>\n",
       "      <td>Cálido extremoso</td>\n",
       "      <td>Alto</td>\n",
       "      <td>100.0</td>\n",
       "      <td>71256</td>\n",
       "      <td>0.148298</td>\n",
       "      <td>0.388925</td>\n",
       "      <td>0.542994</td>\n",
       "      <td>0.959881</td>\n",
       "      <td>3.312672</td>\n",
       "      <td>0.836650</td>\n",
       "      <td>0.257670</td>\n",
       "    </tr>\n",
       "    <tr>\n",
       "      <th>4</th>\n",
       "      <td>Cálido extremoso</td>\n",
       "      <td>Alto</td>\n",
       "      <td>150.0</td>\n",
       "      <td>49536</td>\n",
       "      <td>0.144320</td>\n",
       "      <td>0.277798</td>\n",
       "      <td>0.362310</td>\n",
       "      <td>0.544142</td>\n",
       "      <td>1.242092</td>\n",
       "      <td>0.444720</td>\n",
       "      <td>0.197728</td>\n",
       "    </tr>\n",
       "    <tr>\n",
       "      <th>...</th>\n",
       "      <td>...</td>\n",
       "      <td>...</td>\n",
       "      <td>...</td>\n",
       "      <td>...</td>\n",
       "      <td>...</td>\n",
       "      <td>...</td>\n",
       "      <td>...</td>\n",
       "      <td>...</td>\n",
       "      <td>...</td>\n",
       "      <td>...</td>\n",
       "      <td>...</td>\n",
       "    </tr>\n",
       "    <tr>\n",
       "      <th>67</th>\n",
       "      <td>Tropical</td>\n",
       "      <td>Medio bajo</td>\n",
       "      <td>55.0</td>\n",
       "      <td>297002</td>\n",
       "      <td>0.073962</td>\n",
       "      <td>0.396634</td>\n",
       "      <td>0.695607</td>\n",
       "      <td>1.177316</td>\n",
       "      <td>6.478003</td>\n",
       "      <td>0.934343</td>\n",
       "      <td>1.400714</td>\n",
       "    </tr>\n",
       "    <tr>\n",
       "      <th>68</th>\n",
       "      <td>Tropical</td>\n",
       "      <td>Medio bajo</td>\n",
       "      <td>75.0</td>\n",
       "      <td>260584</td>\n",
       "      <td>0.063500</td>\n",
       "      <td>0.332072</td>\n",
       "      <td>0.517103</td>\n",
       "      <td>0.790411</td>\n",
       "      <td>3.774090</td>\n",
       "      <td>0.660222</td>\n",
       "      <td>1.052643</td>\n",
       "    </tr>\n",
       "    <tr>\n",
       "      <th>69</th>\n",
       "      <td>Tropical</td>\n",
       "      <td>Medio bajo</td>\n",
       "      <td>100.0</td>\n",
       "      <td>257920</td>\n",
       "      <td>0.050845</td>\n",
       "      <td>0.227798</td>\n",
       "      <td>0.393436</td>\n",
       "      <td>0.587362</td>\n",
       "      <td>2.621168</td>\n",
       "      <td>0.504344</td>\n",
       "      <td>1.065272</td>\n",
       "    </tr>\n",
       "    <tr>\n",
       "      <th>70</th>\n",
       "      <td>Tropical</td>\n",
       "      <td>Medio bajo</td>\n",
       "      <td>150.0</td>\n",
       "      <td>176378</td>\n",
       "      <td>0.020303</td>\n",
       "      <td>0.158956</td>\n",
       "      <td>0.260924</td>\n",
       "      <td>0.425385</td>\n",
       "      <td>1.997324</td>\n",
       "      <td>0.339080</td>\n",
       "      <td>0.710397</td>\n",
       "    </tr>\n",
       "    <tr>\n",
       "      <th>71</th>\n",
       "      <td>Tropical</td>\n",
       "      <td>Medio bajo</td>\n",
       "      <td>200.0</td>\n",
       "      <td>85664</td>\n",
       "      <td>0.045019</td>\n",
       "      <td>0.137735</td>\n",
       "      <td>0.182226</td>\n",
       "      <td>0.313873</td>\n",
       "      <td>0.889927</td>\n",
       "      <td>0.256958</td>\n",
       "      <td>0.324258</td>\n",
       "    </tr>\n",
       "  </tbody>\n",
       "</table>\n",
       "<p>72 rows × 11 columns</p>\n",
       "</div>"
      ],
      "text/plain": [
       "               clima     estrato     m2       n    minimo        Q1   mediana  \\\n",
       "0   Cálido extremoso        Alto   30.0    1229  0.808732  0.808732  0.808732   \n",
       "1   Cálido extremoso        Alto   55.0    7126  0.442967  0.855374  1.270251   \n",
       "2   Cálido extremoso        Alto   75.0   36110  0.233264  0.368985  0.698638   \n",
       "3   Cálido extremoso        Alto  100.0   71256  0.148298  0.388925  0.542994   \n",
       "4   Cálido extremoso        Alto  150.0   49536  0.144320  0.277798  0.362310   \n",
       "..               ...         ...    ...     ...       ...       ...       ...   \n",
       "67          Tropical  Medio bajo   55.0  297002  0.073962  0.396634  0.695607   \n",
       "68          Tropical  Medio bajo   75.0  260584  0.063500  0.332072  0.517103   \n",
       "69          Tropical  Medio bajo  100.0  257920  0.050845  0.227798  0.393436   \n",
       "70          Tropical  Medio bajo  150.0  176378  0.020303  0.158956  0.260924   \n",
       "71          Tropical  Medio bajo  200.0   85664  0.045019  0.137735  0.182226   \n",
       "\n",
       "          Q3    maximo     media  porcentaje  \n",
       "0   0.808732  0.808732  0.808732    0.006972  \n",
       "1   1.395767  1.933910  1.224095    0.052702  \n",
       "2   1.003724  2.794552  0.820839    0.122646  \n",
       "3   0.959881  3.312672  0.836650    0.257670  \n",
       "4   0.544142  1.242092  0.444720    0.197728  \n",
       "..       ...       ...       ...         ...  \n",
       "67  1.177316  6.478003  0.934343    1.400714  \n",
       "68  0.790411  3.774090  0.660222    1.052643  \n",
       "69  0.587362  2.621168  0.504344    1.065272  \n",
       "70  0.425385  1.997324  0.339080    0.710397  \n",
       "71  0.313873  0.889927  0.256958    0.324258  \n",
       "\n",
       "[72 rows x 11 columns]"
      ]
     },
     "execution_count": 13,
     "metadata": {},
     "output_type": "execute_result"
    }
   ],
   "source": [
    "# 1) -—  verifica que las tres llaves tengan el mismo tipo en ambos DataFrames\n",
    "for col in [\"clima\", \"estrato\"]:\n",
    "    porcentajes_naa[col] = porcentajes_naa[col].astype(str)\n",
    "    tabla_kwhm2persona[col]              = tabla_kwhm2persona[col].astype(str)\n",
    "\n",
    "# `m2` suele ser float (30.0, 55.0, …).  \n",
    "# Si en alguno viene como int, conviértelo a float para que la fusión encuentre coincidencias.\n",
    "tabla_kwhm2persona[\"m2\"]              = tabla_kwhm2persona[\"m2\"].astype(float)\n",
    "porcentajes_naa[\"m2\"] = porcentajes_naa[\"m2\"].astype(float)\n",
    "\n",
    "# 2) -—  selecciona solo la columna que quieres añadir\n",
    "cols_pct = porcentajes_naa[[\"clima\", \"estrato\", \"m2\", \"porcentaje\"]]\n",
    "\n",
    "# 3) -—  fusiona (left join) y conserva el orden original de `tabla_kwh`\n",
    "tabla_kwhm2persona = (\n",
    "    tabla_kwhm2persona\n",
    "    .merge(cols_pct, on=[\"clima\", \"estrato\", \"m2\"], how=\"left\")\n",
    "    .sort_values([\"clima\", \"estrato\", \"m2\"], ignore_index=True)\n",
    ")\n",
    "\n",
    "# 4) -—  (opcional) comprueba si hubo filas sin coincidencia\n",
    "missing = tabla_kwhm2persona[\"porcentaje\"].isna().sum()\n",
    "if missing:\n",
    "    print(f\"⚠️  {missing} filas no hallaron su 'porcentaje'. Revisa claves o tipos.\")\n",
    "\n",
    "# Resultado\n",
    "tabla_kwhm2persona\n"
   ]
  },
  {
   "cell_type": "code",
   "execution_count": null,
   "id": "dbcb7117-c517-436f-9161-699aaf30eca7",
   "metadata": {},
   "outputs": [],
   "source": []
  },
  {
   "cell_type": "code",
   "execution_count": 14,
   "id": "628f3dca-3d4b-4aea-bb83-760cd3e71e45",
   "metadata": {},
   "outputs": [
    {
     "name": "stdout",
     "output_type": "stream",
     "text": [
      "|   m² |   P25 |   Mediana |   Media |    P75 |   %Viviendas |\n",
      "|-----:|------:|----------:|--------:|-------:|-------------:|\n",
      "|   30 | 31.51 |     59.44 |  109.61 | 176.09 |         0.17 |\n",
      "|   55 | 31.78 |     50.42 |   60.75 |  77.65 |         0.24 |\n",
      "|   75 | 32.49 |     55.04 |   76.37 |  97.51 |         0.21 |\n",
      "|  100 | 51.64 |     78.07 |   78.24 |  92.06 |         0.2  |\n",
      "|  150 | 50.23 |     82.14 |   89.46 | 114.49 |         0.09 |\n",
      "|  200 | 30.94 |     55.08 |  151.74 | 289.86 |         0.05 |\n",
      "\n",
      ": Estadísticas ponderadas de consumo total mensual (kWh) para clima **Cálido extremoso**, estrato socioeconómico **Bajo** {#tbl-cálido-extremoso-bajo}\n",
      "\n",
      "\n",
      "|   m² |   P25 |   Mediana |   Media |    P75 |   %Viviendas |\n",
      "|-----:|------:|----------:|--------:|-------:|-------------:|\n",
      "|   30 | 40.01 |     76.26 |   99.01 | 110.11 |         0.52 |\n",
      "|   55 | 51.66 |     83.28 |  123.95 | 142.74 |         1.04 |\n",
      "|   75 | 49.12 |     78.44 |  108.26 | 132.86 |         1.25 |\n",
      "|  100 | 52.63 |     86.84 |  119.02 | 153.24 |         1.09 |\n",
      "|  150 | 59.33 |     88.9  |  115.36 | 138.74 |         0.81 |\n",
      "|  200 | 68.11 |     97.01 |  154.48 | 183.47 |         0.35 |\n",
      "\n",
      ": Estadísticas ponderadas de consumo total mensual (kWh) para clima **Cálido extremoso**, estrato socioeconómico **Medio bajo** {#tbl-cálido-extremoso-medio-bajo}\n",
      "\n",
      "\n",
      "|   m² |   P25 |   Mediana |   Media |    P75 |   %Viviendas |\n",
      "|-----:|------:|----------:|--------:|-------:|-------------:|\n",
      "|   30 | 25.2  |     58.06 |  116.63 | 168.97 |         0.11 |\n",
      "|   55 | 56.45 |     76.87 |  123.61 | 176.09 |         0.29 |\n",
      "|   75 | 64.45 |     82.85 |  111.62 | 117.51 |         0.54 |\n",
      "|  100 | 57.04 |     80.02 |  115.86 | 146.77 |         0.65 |\n",
      "|  150 | 57.37 |     86.18 |  118.12 | 118.89 |         0.5  |\n",
      "|  200 | 61.47 |     96.13 |  162.89 | 178.52 |         0.29 |\n",
      "\n",
      ": Estadísticas ponderadas de consumo total mensual (kWh) para clima **Cálido extremoso**, estrato socioeconómico **Medio alto** {#tbl-cálido-extremoso-medio-alto}\n",
      "\n",
      "\n",
      "|   m² |    P25 |   Mediana |   Media |    P75 |   %Viviendas |\n",
      "|-----:|-------:|----------:|--------:|-------:|-------------:|\n",
      "|   30 | 145.57 |    145.57 |  145.57 | 145.57 |         0.01 |\n",
      "|   55 |  59.73 |    103.08 |  107.93 | 132.32 |         0.05 |\n",
      "|   75 |  48.7  |     80.13 |  106.9  | 111.98 |         0.12 |\n",
      "|  100 |  58.1  |    102.42 |  127.98 | 171.6  |         0.26 |\n",
      "|  150 |  73.68 |    110.3  |  136.17 | 176.38 |         0.2  |\n",
      "|  200 |  48.13 |     87.9  |  116.16 | 119.73 |         0.09 |\n",
      "\n",
      ": Estadísticas ponderadas de consumo total mensual (kWh) para clima **Cálido extremoso**, estrato socioeconómico **Alto** {#tbl-cálido-extremoso-alto}\n",
      "\n",
      "\n",
      "|   m² |   P25 |   Mediana |   Media |   P75 |   %Viviendas |\n",
      "|-----:|------:|----------:|--------:|------:|-------------:|\n",
      "|   30 | 24.24 |     42.24 |   60.23 | 73.79 |         1.01 |\n",
      "|   55 | 25.74 |     41.63 |   54.53 | 65.48 |         1.46 |\n",
      "|   75 | 26.73 |     45.02 |   66.55 | 76    |         1.09 |\n",
      "|  100 | 35.55 |     52.74 |   65.7  | 72.84 |         0.83 |\n",
      "|  150 | 35.8  |     51.96 |   78.37 | 78.1  |         0.55 |\n",
      "|  200 | 36.71 |     50.96 |   79.07 | 70.24 |         0.2  |\n",
      "\n",
      ": Estadísticas ponderadas de consumo total mensual (kWh) para clima **Templado**, estrato socioeconómico **Bajo** {#tbl-templado-bajo}\n",
      "\n",
      "\n",
      "|   m² |   P25 |   Mediana |   Media |    P75 |   %Viviendas |\n",
      "|-----:|------:|----------:|--------:|-------:|-------------:|\n",
      "|   30 | 35.62 |     62.37 |   89.14 | 120.96 |         2.84 |\n",
      "|   55 | 34.99 |     56.13 |   78.76 |  99.56 |         4.76 |\n",
      "|   75 | 38.32 |     61.01 |   80.42 | 100.81 |         4.46 |\n",
      "|  100 | 39.99 |     62.65 |   95.56 | 133.35 |         4.66 |\n",
      "|  150 | 42.2  |     64.66 |   96.05 | 125.49 |         3.48 |\n",
      "|  200 | 42.09 |     68.96 |  100.03 | 133.84 |         1.92 |\n",
      "\n",
      ": Estadísticas ponderadas de consumo total mensual (kWh) para clima **Templado**, estrato socioeconómico **Medio bajo** {#tbl-templado-medio-bajo}\n",
      "\n",
      "\n",
      "|   m² |   P25 |   Mediana |   Media |    P75 |   %Viviendas |\n",
      "|-----:|------:|----------:|--------:|-------:|-------------:|\n",
      "|   30 | 46.66 |     73.32 |   83.68 | 136.09 |         0.42 |\n",
      "|   55 | 47.67 |     64.65 |  106.14 | 154.98 |         1.04 |\n",
      "|   75 | 46.47 |     67.96 |   98.89 | 149.42 |         2.5  |\n",
      "|  100 | 47.93 |     71.47 |   97.72 | 146.64 |         2.11 |\n",
      "|  150 | 50.15 |     81.59 |  109.48 | 152.26 |         1.76 |\n",
      "|  200 | 48.6  |     77.77 |  118.11 | 157.31 |         0.92 |\n",
      "\n",
      ": Estadísticas ponderadas de consumo total mensual (kWh) para clima **Templado**, estrato socioeconómico **Medio alto** {#tbl-templado-medio-alto}\n",
      "\n",
      "\n",
      "|   m² |   P25 |   Mediana |   Media |    P75 |   %Viviendas |\n",
      "|-----:|------:|----------:|--------:|-------:|-------------:|\n",
      "|   30 | 46.92 |    127.01 |  137.65 | 216.51 |         0.1  |\n",
      "|   55 | 57.48 |    124.74 |  133.66 | 165.05 |         0.36 |\n",
      "|   75 | 46.06 |     81.13 |  104.49 | 149.45 |         1    |\n",
      "|  100 | 45.1  |     74.8  |   99.56 | 149.95 |         0.89 |\n",
      "|  150 | 62.74 |     94.52 |  134.68 | 190.86 |         1.14 |\n",
      "|  200 | 53.19 |     88.46 |  135.48 | 209.53 |         0.63 |\n",
      "\n",
      ": Estadísticas ponderadas de consumo total mensual (kWh) para clima **Templado**, estrato socioeconómico **Alto** {#tbl-templado-alto}\n",
      "\n",
      "\n",
      "|   m² |   P25 |   Mediana |   Media |   P75 |   %Viviendas |\n",
      "|-----:|------:|----------:|--------:|------:|-------------:|\n",
      "|   30 | 20.84 |     40.01 |   65.86 | 78.35 |         1.35 |\n",
      "|   55 | 27.17 |     45.69 |   68.11 | 78.07 |         2    |\n",
      "|   75 | 28.53 |     48.51 |   66.86 | 78.28 |         1.24 |\n",
      "|  100 | 28.91 |     55.55 |   70.02 | 84.31 |         1.2  |\n",
      "|  150 | 38.94 |     58.82 |   81.97 | 96.56 |         0.59 |\n",
      "|  200 | 29.16 |     56.72 |  105.57 | 85.59 |         0.27 |\n",
      "\n",
      ": Estadísticas ponderadas de consumo total mensual (kWh) para clima **Tropical**, estrato socioeconómico **Bajo** {#tbl-tropical-bajo}\n",
      "\n",
      "\n",
      "|   m² |   P25 |   Mediana |   Media |    P75 |   %Viviendas |\n",
      "|-----:|------:|----------:|--------:|-------:|-------------:|\n",
      "|   30 | 37.65 |     69.62 |   97.87 | 150.71 |         0.98 |\n",
      "|   55 | 42.71 |     68.29 |  100.83 | 128.8  |         1.4  |\n",
      "|   75 | 45.37 |     71.5  |   97.88 | 119.57 |         1.05 |\n",
      "|  100 | 47.34 |     73.73 |  103.29 | 128.55 |         1.07 |\n",
      "|  150 | 51.84 |     77.79 |  122.2  | 151.5  |         0.71 |\n",
      "|  200 | 48.56 |     80.4  |   98.31 | 137.06 |         0.32 |\n",
      "\n",
      ": Estadísticas ponderadas de consumo total mensual (kWh) para clima **Tropical**, estrato socioeconómico **Medio bajo** {#tbl-tropical-medio-bajo}\n",
      "\n",
      "\n",
      "|   m² |   P25 |   Mediana |   Media |    P75 |   %Viviendas |\n",
      "|-----:|------:|----------:|--------:|-------:|-------------:|\n",
      "|   30 | 43.81 |     52.06 |   97.63 | 160.21 |         0.09 |\n",
      "|   55 | 47.71 |     75.34 |   99.77 | 121.27 |         0.11 |\n",
      "|   75 | 54.82 |     78.28 |   97.42 |  94.9  |         0.13 |\n",
      "|  100 | 75.75 |    113.57 |  112.9  | 144.34 |         0.15 |\n",
      "|  150 | 57.03 |    102.5  |  125.92 | 216.75 |         0.08 |\n",
      "|  200 | 46.71 |     65.75 |  124.03 | 162.85 |         0.04 |\n",
      "\n",
      ": Estadísticas ponderadas de consumo total mensual (kWh) para clima **Tropical**, estrato socioeconómico **Medio alto** {#tbl-tropical-medio-alto}\n",
      "\n",
      "\n",
      "|   m² |    P25 |   Mediana |   Media |    P75 |   %Viviendas |\n",
      "|-----:|-------:|----------:|--------:|-------:|-------------:|\n",
      "|   30 | 204.3  |    204.3  |  204.3  | 204.3  |         0.01 |\n",
      "|   55 |  88.31 |     88.31 |  122.88 |  88.5  |         0.05 |\n",
      "|   75 |  89.61 |    211.29 |  192.61 | 291.91 |         0.03 |\n",
      "|  100 |  86.78 |    128.18 |  146.56 | 170.37 |         0.03 |\n",
      "|  150 |  74.36 |     97.05 |  172.01 | 152.31 |         0.02 |\n",
      "|  200 |  67.45 |     67.45 |   67.45 |  67.45 |         0    |\n",
      "\n",
      ": Estadísticas ponderadas de consumo total mensual (kWh) para clima **Tropical**, estrato socioeconómico **Alto** {#tbl-tropical-alto}\n",
      "\n",
      "\n"
     ]
    }
   ],
   "source": [
    "tabla_markdown_kwh = make_box_tables(tabla_kwh)\n",
    "\n",
    "# --- 3.  Imprime cada tabla + caption en Markdown puro -----------------------\n",
    "for (clima, estrato), tbl in tabla_markdown_kwh.items():\n",
    "    md_table = df_to_md(tbl)\n",
    "    \n",
    "    # Etiqueta (anchor) compatible con Quarto\n",
    "    anchor = f\"tbl-{clima.lower().replace(' ', '-')}-{estrato.lower().replace(' ', '-')}\"\n",
    "    \n",
    "    # Muestra la tabla\n",
    "    print(md_table)\n",
    "    print()  # línea en blanco\n",
    "    # Caption estilo Quarto (empieza con \":\")\n",
    "    caption = (\n",
    "        f\": Estadísticas ponderadas de consumo total mensual (kWh) \"\n",
    "        f\"para clima **{clima}**, estrato socioeconómico **{estrato}** \"\n",
    "        f\"{{#{anchor}}}\"\n",
    "    )\n",
    "    print(caption)\n",
    "    print(\"\\n\")   # separador entre tablas"
   ]
  },
  {
   "cell_type": "code",
   "execution_count": 15,
   "id": "7e08766b-2ee5-4af3-ad1f-290a600a5890",
   "metadata": {},
   "outputs": [
    {
     "name": "stdout",
     "output_type": "stream",
     "text": [
      "|   m² |   P25 |   Mediana |   Media |   P75 |   %Viviendas |\n",
      "|-----:|------:|----------:|--------:|------:|-------------:|\n",
      "|   30 |  0.55 |      1.14 |    2.15 |  1.5  |         0.17 |\n",
      "|   55 |  0.44 |      0.58 |    0.75 |  0.86 |         0.24 |\n",
      "|   75 |  0.3  |      0.49 |    0.58 |  0.64 |         0.21 |\n",
      "|  100 |  0.27 |      0.45 |    0.49 |  0.57 |         0.2  |\n",
      "|  150 |  0.21 |      0.38 |    0.43 |  0.53 |         0.09 |\n",
      "|  200 |  0.11 |      0.31 |    0.33 |  0.57 |         0.05 |\n",
      "\n",
      ": Estadísticas ponderadas de consumo total mensual por metro cuadrado y personas  (kWh/(m2 personas)) para clima **Cálido extremoso**, estrato socioeconómico **Bajo** {#tbl-cálido-extremoso-bajo}\n",
      "\n",
      "\n",
      "|   m² |   P25 |   Mediana |   Media |   P75 |   %Viviendas |\n",
      "|-----:|------:|----------:|--------:|------:|-------------:|\n",
      "|   30 |  0.96 |      1.29 |    2.45 |  2.54 |         0.52 |\n",
      "|   55 |  0.49 |      0.8  |    1.25 |  1.54 |         1.04 |\n",
      "|   75 |  0.39 |      0.6  |    0.77 |  0.9  |         1.25 |\n",
      "|  100 |  0.31 |      0.44 |    0.63 |  0.68 |         1.09 |\n",
      "|  150 |  0.19 |      0.3  |    0.38 |  0.46 |         0.81 |\n",
      "|  200 |  0.16 |      0.23 |    0.3  |  0.38 |         0.35 |\n",
      "\n",
      ": Estadísticas ponderadas de consumo total mensual por metro cuadrado y personas  (kWh/(m2 personas)) para clima **Cálido extremoso**, estrato socioeconómico **Medio bajo** {#tbl-cálido-extremoso-medio-bajo}\n",
      "\n",
      "\n",
      "|   m² |   P25 |   Mediana |   Media |   P75 |   %Viviendas |\n",
      "|-----:|------:|----------:|--------:|------:|-------------:|\n",
      "|   30 |  0.78 |      1.57 |    4.89 |  2.5  |         0.11 |\n",
      "|   55 |  0.58 |      0.86 |    1.1  |  1.38 |         0.29 |\n",
      "|   75 |  0.47 |      0.61 |    0.92 |  1.13 |         0.54 |\n",
      "|  100 |  0.31 |      0.46 |    0.66 |  0.81 |         0.65 |\n",
      "|  150 |  0.25 |      0.35 |    0.46 |  0.58 |         0.5  |\n",
      "|  200 |  0.19 |      0.29 |    0.45 |  0.43 |         0.29 |\n",
      "\n",
      ": Estadísticas ponderadas de consumo total mensual por metro cuadrado y personas  (kWh/(m2 personas)) para clima **Cálido extremoso**, estrato socioeconómico **Medio alto** {#tbl-cálido-extremoso-medio-alto}\n",
      "\n",
      "\n",
      "|   m² |   P25 |   Mediana |   Media |   P75 |   %Viviendas |\n",
      "|-----:|------:|----------:|--------:|------:|-------------:|\n",
      "|   30 |  0.81 |      0.81 |    0.81 |  0.81 |         0.01 |\n",
      "|   55 |  0.86 |      1.27 |    1.22 |  1.4  |         0.05 |\n",
      "|   75 |  0.37 |      0.7  |    0.82 |  1    |         0.12 |\n",
      "|  100 |  0.39 |      0.54 |    0.84 |  0.96 |         0.26 |\n",
      "|  150 |  0.28 |      0.36 |    0.44 |  0.54 |         0.2  |\n",
      "|  200 |  0.23 |      0.25 |    0.37 |  0.44 |         0.09 |\n",
      "\n",
      ": Estadísticas ponderadas de consumo total mensual por metro cuadrado y personas  (kWh/(m2 personas)) para clima **Cálido extremoso**, estrato socioeconómico **Alto** {#tbl-cálido-extremoso-alto}\n",
      "\n",
      "\n",
      "|   m² |   P25 |   Mediana |   Media |   P75 |   %Viviendas |\n",
      "|-----:|------:|----------:|--------:|------:|-------------:|\n",
      "|   30 |  0.43 |      0.9  |    1.05 |  1.38 |         1.01 |\n",
      "|   55 |  0.22 |      0.37 |    0.48 |  0.63 |         1.46 |\n",
      "|   75 |  0.17 |      0.29 |    0.38 |  0.43 |         1.09 |\n",
      "|  100 |  0.14 |      0.24 |    0.29 |  0.36 |         0.83 |\n",
      "|  150 |  0.09 |      0.17 |    0.23 |  0.26 |         0.55 |\n",
      "|  200 |  0.1  |      0.16 |    0.18 |  0.24 |         0.2  |\n",
      "\n",
      ": Estadísticas ponderadas de consumo total mensual por metro cuadrado y personas  (kWh/(m2 personas)) para clima **Templado**, estrato socioeconómico **Bajo** {#tbl-templado-bajo}\n",
      "\n",
      "\n",
      "|   m² |   P25 |   Mediana |   Media |   P75 |   %Viviendas |\n",
      "|-----:|------:|----------:|--------:|------:|-------------:|\n",
      "|   30 |  0.69 |      1    |    1.38 |  1.43 |         2.84 |\n",
      "|   55 |  0.34 |      0.54 |    0.74 |  0.86 |         4.76 |\n",
      "|   75 |  0.26 |      0.4  |    0.51 |  0.63 |         4.46 |\n",
      "|  100 |  0.2  |      0.3  |    0.39 |  0.47 |         4.66 |\n",
      "|  150 |  0.14 |      0.22 |    0.28 |  0.35 |         3.48 |\n",
      "|  200 |  0.1  |      0.16 |    0.21 |  0.25 |         1.92 |\n",
      "\n",
      ": Estadísticas ponderadas de consumo total mensual por metro cuadrado y personas  (kWh/(m2 personas)) para clima **Templado**, estrato socioeconómico **Medio bajo** {#tbl-templado-medio-bajo}\n",
      "\n",
      "\n",
      "|   m² |   P25 |   Mediana |   Media |   P75 |   %Viviendas |\n",
      "|-----:|------:|----------:|--------:|------:|-------------:|\n",
      "|   30 |  0.85 |      1.68 |    1.82 |  2.58 |         0.42 |\n",
      "|   55 |  0.47 |      0.71 |    1.01 |  1.11 |         1.04 |\n",
      "|   75 |  0.35 |      0.51 |    0.66 |  0.78 |         2.5  |\n",
      "|  100 |  0.26 |      0.37 |    0.45 |  0.55 |         2.11 |\n",
      "|  150 |  0.18 |      0.28 |    0.34 |  0.41 |         1.76 |\n",
      "|  200 |  0.13 |      0.2  |    0.24 |  0.29 |         0.92 |\n",
      "\n",
      ": Estadísticas ponderadas de consumo total mensual por metro cuadrado y personas  (kWh/(m2 personas)) para clima **Templado**, estrato socioeconómico **Medio alto** {#tbl-templado-medio-alto}\n",
      "\n",
      "\n",
      "|   m² |   P25 |   Mediana |   Media |   P75 |   %Viviendas |\n",
      "|-----:|------:|----------:|--------:|------:|-------------:|\n",
      "|   30 |  1.64 |      2.54 |    2.37 |  2.56 |         0.1  |\n",
      "|   55 |  0.56 |      0.8  |    0.95 |  1.2  |         0.36 |\n",
      "|   75 |  0.39 |      0.6  |    0.71 |  0.81 |         1    |\n",
      "|  100 |  0.3  |      0.45 |    0.56 |  0.75 |         0.89 |\n",
      "|  150 |  0.24 |      0.34 |    0.44 |  0.44 |         1.14 |\n",
      "|  200 |  0.18 |      0.28 |    0.36 |  0.43 |         0.63 |\n",
      "\n",
      ": Estadísticas ponderadas de consumo total mensual por metro cuadrado y personas  (kWh/(m2 personas)) para clima **Templado**, estrato socioeconómico **Alto** {#tbl-templado-alto}\n",
      "\n",
      "\n",
      "|   m² |   P25 |   Mediana |   Media |   P75 |   %Viviendas |\n",
      "|-----:|------:|----------:|--------:|------:|-------------:|\n",
      "|   30 |  0.42 |      0.79 |    1.07 |  1.46 |         1.35 |\n",
      "|   55 |  0.23 |      0.47 |    0.62 |  0.82 |         2    |\n",
      "|   75 |  0.18 |      0.32 |    0.44 |  0.56 |         1.24 |\n",
      "|  100 |  0.17 |      0.26 |    0.35 |  0.43 |         1.2  |\n",
      "|  150 |  0.14 |      0.2  |    0.27 |  0.31 |         0.59 |\n",
      "|  200 |  0.09 |      0.14 |    0.19 |  0.22 |         0.27 |\n",
      "\n",
      ": Estadísticas ponderadas de consumo total mensual por metro cuadrado y personas  (kWh/(m2 personas)) para clima **Tropical**, estrato socioeconómico **Bajo** {#tbl-tropical-bajo}\n",
      "\n",
      "\n",
      "|   m² |   P25 |   Mediana |   Media |   P75 |   %Viviendas |\n",
      "|-----:|------:|----------:|--------:|------:|-------------:|\n",
      "|   30 |  0.72 |      1.26 |    1.81 |  2.35 |         0.98 |\n",
      "|   55 |  0.4  |      0.7  |    0.93 |  1.18 |         1.4  |\n",
      "|   75 |  0.33 |      0.52 |    0.66 |  0.79 |         1.05 |\n",
      "|  100 |  0.23 |      0.39 |    0.5  |  0.59 |         1.07 |\n",
      "|  150 |  0.16 |      0.26 |    0.34 |  0.43 |         0.71 |\n",
      "|  200 |  0.14 |      0.18 |    0.26 |  0.31 |         0.32 |\n",
      "\n",
      ": Estadísticas ponderadas de consumo total mensual por metro cuadrado y personas  (kWh/(m2 personas)) para clima **Tropical**, estrato socioeconómico **Medio bajo** {#tbl-tropical-medio-bajo}\n",
      "\n",
      "\n",
      "|   m² |   P25 |   Mediana |   Media |   P75 |   %Viviendas |\n",
      "|-----:|------:|----------:|--------:|------:|-------------:|\n",
      "|   30 |  0.75 |      1.38 |    2.28 |  3.36 |         0.09 |\n",
      "|   55 |  0.71 |      0.99 |    1.27 |  1.54 |         0.11 |\n",
      "|   75 |  0.39 |      0.63 |    0.71 |  1    |         0.13 |\n",
      "|  100 |  0.33 |      0.51 |    0.56 |  0.73 |         0.15 |\n",
      "|  150 |  0.17 |      0.3  |    0.3  |  0.37 |         0.08 |\n",
      "|  200 |  0.15 |      0.18 |    0.24 |  0.28 |         0.04 |\n",
      "\n",
      ": Estadísticas ponderadas de consumo total mensual por metro cuadrado y personas  (kWh/(m2 personas)) para clima **Tropical**, estrato socioeconómico **Medio alto** {#tbl-tropical-medio-alto}\n",
      "\n",
      "\n",
      "|   m² |   P25 |   Mediana |   Media |   P75 |   %Viviendas |\n",
      "|-----:|------:|----------:|--------:|------:|-------------:|\n",
      "|   30 |  2.35 |      2.35 |    2.35 |  2.35 |         0.01 |\n",
      "|   55 |  0.8  |      0.8  |    1.02 |  0.95 |         0.05 |\n",
      "|   75 |  0.97 |      1.27 |    1.65 |  1.63 |         0.03 |\n",
      "|  100 |  0.58 |      0.67 |    0.96 |  1.16 |         0.03 |\n",
      "|  150 |  0.28 |      0.32 |    0.6  |  0.69 |         0.02 |\n",
      "|  200 |  0.22 |      0.22 |    0.22 |  0.22 |         0    |\n",
      "\n",
      ": Estadísticas ponderadas de consumo total mensual por metro cuadrado y personas  (kWh/(m2 personas)) para clima **Tropical**, estrato socioeconómico **Alto** {#tbl-tropical-alto}\n",
      "\n",
      "\n"
     ]
    }
   ],
   "source": [
    "tabla_markdown_kwhm2persona = make_box_tables(tabla_kwhm2persona)\n",
    "\n",
    "# --- 3.  Imprime cada tabla + caption en Markdown puro -----------------------\n",
    "for (clima, estrato), tbl in tabla_markdown_kwhm2persona.items():\n",
    "    md_table = df_to_md(tbl)\n",
    "    \n",
    "    # Etiqueta (anchor) compatible con Quarto\n",
    "    anchor = f\"tbl-{clima.lower().replace(' ', '-')}-{estrato.lower().replace(' ', '-')}\"\n",
    "    \n",
    "    # Muestra la tabla\n",
    "    print(md_table)\n",
    "    print()  # línea en blanco\n",
    "    # Caption estilo Quarto (empieza con \":\")\n",
    "    caption = (\n",
    "        f\": Estadísticas ponderadas de consumo total mensual por metro cuadrado y personas  (kWh/(m2 personas)) \"\n",
    "        f\"para clima **{clima}**, estrato socioeconómico **{estrato}** \"\n",
    "        f\"{{#{anchor}}}\"\n",
    "    )\n",
    "    print(caption)\n",
    "    print(\"\\n\")   # separador entre tablas"
   ]
  },
  {
   "cell_type": "code",
   "execution_count": 16,
   "id": "1a93746a-63f7-4fb3-8c3d-ce6722eb74b2",
   "metadata": {},
   "outputs": [],
   "source": [
    "tabla_kwh['etotal'] = tabla_kwh.media*tabla_kwh.porcentaje*total_viviendas*1000 # Ya son Wh"
   ]
  },
  {
   "cell_type": "code",
   "execution_count": 17,
   "id": "82f2cd3a-2b6e-4306-8382-7246c253a00e",
   "metadata": {},
   "outputs": [
    {
     "data": {
      "text/html": [
       "<div>\n",
       "<style scoped>\n",
       "    .dataframe tbody tr th:only-of-type {\n",
       "        vertical-align: middle;\n",
       "    }\n",
       "\n",
       "    .dataframe tbody tr th {\n",
       "        vertical-align: top;\n",
       "    }\n",
       "\n",
       "    .dataframe thead th {\n",
       "        text-align: right;\n",
       "    }\n",
       "</style>\n",
       "<table border=\"1\" class=\"dataframe\">\n",
       "  <thead>\n",
       "    <tr style=\"text-align: right;\">\n",
       "      <th></th>\n",
       "      <th>clima</th>\n",
       "      <th>estrato</th>\n",
       "      <th>m2</th>\n",
       "      <th>n</th>\n",
       "      <th>minimo</th>\n",
       "      <th>Q1</th>\n",
       "      <th>mediana</th>\n",
       "      <th>Q3</th>\n",
       "      <th>maximo</th>\n",
       "      <th>media</th>\n",
       "      <th>porcentaje</th>\n",
       "      <th>etotal</th>\n",
       "    </tr>\n",
       "  </thead>\n",
       "  <tbody>\n",
       "    <tr>\n",
       "      <th>45</th>\n",
       "      <td>Templado</td>\n",
       "      <td>Medio bajo</td>\n",
       "      <td>100.0</td>\n",
       "      <td>1105701</td>\n",
       "      <td>6.772973</td>\n",
       "      <td>39.987684</td>\n",
       "      <td>62.653053</td>\n",
       "      <td>133.353017</td>\n",
       "      <td>1453.649179</td>\n",
       "      <td>95.556219</td>\n",
       "      <td>4.657829</td>\n",
       "      <td>1.475996e+13</td>\n",
       "    </tr>\n",
       "    <tr>\n",
       "      <th>43</th>\n",
       "      <td>Templado</td>\n",
       "      <td>Medio bajo</td>\n",
       "      <td>55.0</td>\n",
       "      <td>974342</td>\n",
       "      <td>10.580676</td>\n",
       "      <td>34.993695</td>\n",
       "      <td>56.126339</td>\n",
       "      <td>99.563031</td>\n",
       "      <td>1754.926727</td>\n",
       "      <td>78.762017</td>\n",
       "      <td>4.756881</td>\n",
       "      <td>1.242458e+13</td>\n",
       "    </tr>\n",
       "    <tr>\n",
       "      <th>44</th>\n",
       "      <td>Templado</td>\n",
       "      <td>Medio bajo</td>\n",
       "      <td>75.0</td>\n",
       "      <td>1028846</td>\n",
       "      <td>8.127568</td>\n",
       "      <td>38.317890</td>\n",
       "      <td>61.010659</td>\n",
       "      <td>100.808139</td>\n",
       "      <td>579.395075</td>\n",
       "      <td>80.421089</td>\n",
       "      <td>4.455236</td>\n",
       "      <td>1.188183e+13</td>\n",
       "    </tr>\n",
       "    <tr>\n",
       "      <th>46</th>\n",
       "      <td>Templado</td>\n",
       "      <td>Medio bajo</td>\n",
       "      <td>150.0</td>\n",
       "      <td>852871</td>\n",
       "      <td>5.924723</td>\n",
       "      <td>42.199268</td>\n",
       "      <td>64.657005</td>\n",
       "      <td>125.487583</td>\n",
       "      <td>1152.985368</td>\n",
       "      <td>96.048565</td>\n",
       "      <td>3.483251</td>\n",
       "      <td>1.109477e+13</td>\n",
       "    </tr>\n",
       "    <tr>\n",
       "      <th>42</th>\n",
       "      <td>Templado</td>\n",
       "      <td>Medio bajo</td>\n",
       "      <td>30.0</td>\n",
       "      <td>367377</td>\n",
       "      <td>11.017510</td>\n",
       "      <td>35.622178</td>\n",
       "      <td>62.369247</td>\n",
       "      <td>120.955992</td>\n",
       "      <td>905.804034</td>\n",
       "      <td>89.138309</td>\n",
       "      <td>2.841960</td>\n",
       "      <td>8.400884e+12</td>\n",
       "    </tr>\n",
       "    <tr>\n",
       "      <th>...</th>\n",
       "      <td>...</td>\n",
       "      <td>...</td>\n",
       "      <td>...</td>\n",
       "      <td>...</td>\n",
       "      <td>...</td>\n",
       "      <td>...</td>\n",
       "      <td>...</td>\n",
       "      <td>...</td>\n",
       "      <td>...</td>\n",
       "      <td>...</td>\n",
       "      <td>...</td>\n",
       "      <td>...</td>\n",
       "    </tr>\n",
       "    <tr>\n",
       "      <th>50</th>\n",
       "      <td>Tropical</td>\n",
       "      <td>Alto</td>\n",
       "      <td>75.0</td>\n",
       "      <td>5156</td>\n",
       "      <td>32.906003</td>\n",
       "      <td>89.607370</td>\n",
       "      <td>211.292049</td>\n",
       "      <td>291.909976</td>\n",
       "      <td>367.761905</td>\n",
       "      <td>192.606894</td>\n",
       "      <td>0.025080</td>\n",
       "      <td>1.601912e+11</td>\n",
       "    </tr>\n",
       "    <tr>\n",
       "      <th>52</th>\n",
       "      <td>Tropical</td>\n",
       "      <td>Alto</td>\n",
       "      <td>150.0</td>\n",
       "      <td>6588</td>\n",
       "      <td>53.025756</td>\n",
       "      <td>74.361564</td>\n",
       "      <td>97.051357</td>\n",
       "      <td>152.305557</td>\n",
       "      <td>756.125981</td>\n",
       "      <td>172.012232</td>\n",
       "      <td>0.023563</td>\n",
       "      <td>1.344104e+11</td>\n",
       "    </tr>\n",
       "    <tr>\n",
       "      <th>48</th>\n",
       "      <td>Tropical</td>\n",
       "      <td>Alto</td>\n",
       "      <td>30.0</td>\n",
       "      <td>2327</td>\n",
       "      <td>204.298197</td>\n",
       "      <td>204.298197</td>\n",
       "      <td>204.298197</td>\n",
       "      <td>204.298197</td>\n",
       "      <td>204.298197</td>\n",
       "      <td>204.298197</td>\n",
       "      <td>0.010844</td>\n",
       "      <td>7.346563e+10</td>\n",
       "    </tr>\n",
       "    <tr>\n",
       "      <th>0</th>\n",
       "      <td>Cálido extremoso</td>\n",
       "      <td>Alto</td>\n",
       "      <td>30.0</td>\n",
       "      <td>1229</td>\n",
       "      <td>145.571776</td>\n",
       "      <td>145.571776</td>\n",
       "      <td>145.571776</td>\n",
       "      <td>145.571776</td>\n",
       "      <td>145.571776</td>\n",
       "      <td>145.571776</td>\n",
       "      <td>0.006972</td>\n",
       "      <td>3.365619e+10</td>\n",
       "    </tr>\n",
       "    <tr>\n",
       "      <th>53</th>\n",
       "      <td>Tropical</td>\n",
       "      <td>Alto</td>\n",
       "      <td>200.0</td>\n",
       "      <td>824</td>\n",
       "      <td>67.450314</td>\n",
       "      <td>67.450314</td>\n",
       "      <td>67.450314</td>\n",
       "      <td>67.450314</td>\n",
       "      <td>67.450314</td>\n",
       "      <td>67.450314</td>\n",
       "      <td>0.004716</td>\n",
       "      <td>1.054923e+10</td>\n",
       "    </tr>\n",
       "  </tbody>\n",
       "</table>\n",
       "<p>72 rows × 12 columns</p>\n",
       "</div>"
      ],
      "text/plain": [
       "               clima     estrato     m2        n      minimo          Q1  \\\n",
       "45          Templado  Medio bajo  100.0  1105701    6.772973   39.987684   \n",
       "43          Templado  Medio bajo   55.0   974342   10.580676   34.993695   \n",
       "44          Templado  Medio bajo   75.0  1028846    8.127568   38.317890   \n",
       "46          Templado  Medio bajo  150.0   852871    5.924723   42.199268   \n",
       "42          Templado  Medio bajo   30.0   367377   11.017510   35.622178   \n",
       "..               ...         ...    ...      ...         ...         ...   \n",
       "50          Tropical        Alto   75.0     5156   32.906003   89.607370   \n",
       "52          Tropical        Alto  150.0     6588   53.025756   74.361564   \n",
       "48          Tropical        Alto   30.0     2327  204.298197  204.298197   \n",
       "0   Cálido extremoso        Alto   30.0     1229  145.571776  145.571776   \n",
       "53          Tropical        Alto  200.0      824   67.450314   67.450314   \n",
       "\n",
       "       mediana          Q3       maximo       media  porcentaje        etotal  \n",
       "45   62.653053  133.353017  1453.649179   95.556219    4.657829  1.475996e+13  \n",
       "43   56.126339   99.563031  1754.926727   78.762017    4.756881  1.242458e+13  \n",
       "44   61.010659  100.808139   579.395075   80.421089    4.455236  1.188183e+13  \n",
       "46   64.657005  125.487583  1152.985368   96.048565    3.483251  1.109477e+13  \n",
       "42   62.369247  120.955992   905.804034   89.138309    2.841960  8.400884e+12  \n",
       "..         ...         ...          ...         ...         ...           ...  \n",
       "50  211.292049  291.909976   367.761905  192.606894    0.025080  1.601912e+11  \n",
       "52   97.051357  152.305557   756.125981  172.012232    0.023563  1.344104e+11  \n",
       "48  204.298197  204.298197   204.298197  204.298197    0.010844  7.346563e+10  \n",
       "0   145.571776  145.571776   145.571776  145.571776    0.006972  3.365619e+10  \n",
       "53   67.450314   67.450314    67.450314   67.450314    0.004716  1.054923e+10  \n",
       "\n",
       "[72 rows x 12 columns]"
      ]
     },
     "execution_count": 17,
     "metadata": {},
     "output_type": "execute_result"
    }
   ],
   "source": [
    "tabla_kwh.sort_values(by=\"etotal\",ascending=False)"
   ]
  },
  {
   "cell_type": "code",
   "execution_count": 18,
   "id": "74960c15-577a-4af9-bfe5-cd0b127968b4",
   "metadata": {},
   "outputs": [
    {
     "data": {
      "text/html": [
       "<div>\n",
       "<style scoped>\n",
       "    .dataframe tbody tr th:only-of-type {\n",
       "        vertical-align: middle;\n",
       "    }\n",
       "\n",
       "    .dataframe tbody tr th {\n",
       "        vertical-align: top;\n",
       "    }\n",
       "\n",
       "    .dataframe thead th {\n",
       "        text-align: right;\n",
       "    }\n",
       "</style>\n",
       "<table border=\"1\" class=\"dataframe\">\n",
       "  <thead>\n",
       "    <tr style=\"text-align: right;\">\n",
       "      <th></th>\n",
       "      <th>m2</th>\n",
       "      <th>clima</th>\n",
       "      <th>estrato</th>\n",
       "      <th>porcentaje</th>\n",
       "      <th>etotal</th>\n",
       "    </tr>\n",
       "  </thead>\n",
       "  <tbody>\n",
       "    <tr>\n",
       "      <th>0</th>\n",
       "      <td>100.0</td>\n",
       "      <td>Templado</td>\n",
       "      <td>Medio bajo</td>\n",
       "      <td>4.657829</td>\n",
       "      <td>1.475996e+13</td>\n",
       "    </tr>\n",
       "    <tr>\n",
       "      <th>1</th>\n",
       "      <td>55.0</td>\n",
       "      <td>Templado</td>\n",
       "      <td>Medio bajo</td>\n",
       "      <td>4.756881</td>\n",
       "      <td>1.242458e+13</td>\n",
       "    </tr>\n",
       "    <tr>\n",
       "      <th>2</th>\n",
       "      <td>75.0</td>\n",
       "      <td>Templado</td>\n",
       "      <td>Medio bajo</td>\n",
       "      <td>4.455236</td>\n",
       "      <td>1.188183e+13</td>\n",
       "    </tr>\n",
       "    <tr>\n",
       "      <th>3</th>\n",
       "      <td>150.0</td>\n",
       "      <td>Templado</td>\n",
       "      <td>Medio bajo</td>\n",
       "      <td>3.483251</td>\n",
       "      <td>1.109477e+13</td>\n",
       "    </tr>\n",
       "    <tr>\n",
       "      <th>4</th>\n",
       "      <td>30.0</td>\n",
       "      <td>Templado</td>\n",
       "      <td>Medio bajo</td>\n",
       "      <td>2.841960</td>\n",
       "      <td>8.400884e+12</td>\n",
       "    </tr>\n",
       "    <tr>\n",
       "      <th>...</th>\n",
       "      <td>...</td>\n",
       "      <td>...</td>\n",
       "      <td>...</td>\n",
       "      <td>...</td>\n",
       "      <td>...</td>\n",
       "    </tr>\n",
       "    <tr>\n",
       "      <th>67</th>\n",
       "      <td>75.0</td>\n",
       "      <td>Tropical</td>\n",
       "      <td>Alto</td>\n",
       "      <td>0.025080</td>\n",
       "      <td>1.601912e+11</td>\n",
       "    </tr>\n",
       "    <tr>\n",
       "      <th>68</th>\n",
       "      <td>150.0</td>\n",
       "      <td>Tropical</td>\n",
       "      <td>Alto</td>\n",
       "      <td>0.023563</td>\n",
       "      <td>1.344104e+11</td>\n",
       "    </tr>\n",
       "    <tr>\n",
       "      <th>69</th>\n",
       "      <td>30.0</td>\n",
       "      <td>Tropical</td>\n",
       "      <td>Alto</td>\n",
       "      <td>0.010844</td>\n",
       "      <td>7.346563e+10</td>\n",
       "    </tr>\n",
       "    <tr>\n",
       "      <th>70</th>\n",
       "      <td>30.0</td>\n",
       "      <td>Cálido extremoso</td>\n",
       "      <td>Alto</td>\n",
       "      <td>0.006972</td>\n",
       "      <td>3.365619e+10</td>\n",
       "    </tr>\n",
       "    <tr>\n",
       "      <th>71</th>\n",
       "      <td>200.0</td>\n",
       "      <td>Tropical</td>\n",
       "      <td>Alto</td>\n",
       "      <td>0.004716</td>\n",
       "      <td>1.054923e+10</td>\n",
       "    </tr>\n",
       "  </tbody>\n",
       "</table>\n",
       "<p>72 rows × 5 columns</p>\n",
       "</div>"
      ],
      "text/plain": [
       "       m2             clima     estrato  porcentaje        etotal\n",
       "0   100.0          Templado  Medio bajo    4.657829  1.475996e+13\n",
       "1    55.0          Templado  Medio bajo    4.756881  1.242458e+13\n",
       "2    75.0          Templado  Medio bajo    4.455236  1.188183e+13\n",
       "3   150.0          Templado  Medio bajo    3.483251  1.109477e+13\n",
       "4    30.0          Templado  Medio bajo    2.841960  8.400884e+12\n",
       "..    ...               ...         ...         ...           ...\n",
       "67   75.0          Tropical        Alto    0.025080  1.601912e+11\n",
       "68  150.0          Tropical        Alto    0.023563  1.344104e+11\n",
       "69   30.0          Tropical        Alto    0.010844  7.346563e+10\n",
       "70   30.0  Cálido extremoso        Alto    0.006972  3.365619e+10\n",
       "71  200.0          Tropical        Alto    0.004716  1.054923e+10\n",
       "\n",
       "[72 rows x 5 columns]"
      ]
     },
     "execution_count": 18,
     "metadata": {},
     "output_type": "execute_result"
    }
   ],
   "source": [
    "# Opción 1: Seleccionar las 4 columnas tras ordenar\n",
    "df_vis = (\n",
    "    tabla_kwh\n",
    "      .sort_values(by=\"etotal\", ascending=False)\n",
    "      [[\"m2\",\"clima\",\"estrato\",\"porcentaje\",\"etotal\"]]\n",
    "      .reset_index(drop=True)\n",
    ")\n",
    "df_vis\n"
   ]
  },
  {
   "cell_type": "code",
   "execution_count": 19,
   "id": "e02c4846-90b2-4b5b-a1c8-e69dfad0edd0",
   "metadata": {},
   "outputs": [
    {
     "data": {
      "image/png": "[encoded data removed]",
      "text/plain": [
       "<Figure size 800x400 with 1 Axes>"
      ]
     },
     "metadata": {},
     "output_type": "display_data"
    }
   ],
   "source": [
    "\n",
    "# Prepara Serie normalizada (ya la tienes)\n",
    "et = (\n",
    "    tabla_kwh\n",
    "      .sort_values(by=\"etotal\", ascending=False)\n",
    "      .set_index([\"m2\",\"clima\",\"estrato\"])[\"etotal\"]\n",
    "      .head(20)\n",
    ")\n",
    "# et = et / et.max()\n",
    "\n",
    "# Grafica horizontal\n",
    "plt.figure(figsize=(8, 4))\n",
    "# Para que la barra más grande quede arriba, ordena de menor a mayor\n",
    "et.sort_values().plot(kind='barh')\n",
    "\n",
    "plt.xlabel(\"Energía total (etotal)\")\n",
    "plt.ylabel(\"m2, clima, estrato\")\n",
    "plt.grid(axis='x', linestyle='--', alpha=0.7)\n",
    "plt.tight_layout()\n",
    "plt.show()"
   ]
  },
  {
   "cell_type": "code",
   "execution_count": 20,
   "id": "5b24dc59-9f21-4e1a-8f05-16f8a89f0da2",
   "metadata": {},
   "outputs": [
    {
     "data": {
      "text/plain": [
       "Index(['clima', 'estrato', 'm2', 'n', 'minimo', 'Q1', 'mediana', 'Q3',\n",
       "       'maximo', 'media', 'porcentaje', 'etotal'],\n",
       "      dtype='object')"
      ]
     },
     "execution_count": 20,
     "metadata": {},
     "output_type": "execute_result"
    }
   ],
   "source": [
    "tabla_kwh.columns"
   ]
  },
  {
   "cell_type": "code",
   "execution_count": 21,
   "id": "22d5d848-ae9d-42d7-91d3-ced8014086eb",
   "metadata": {},
   "outputs": [
    {
     "data": {
      "text/plain": [
       "array(['Cálido extremoso', 'Templado', 'Tropical'], dtype=object)"
      ]
     },
     "execution_count": 21,
     "metadata": {},
     "output_type": "execute_result"
    }
   ],
   "source": [
    "tabla_kwh.clima.unique()"
   ]
  },
  {
   "cell_type": "code",
   "execution_count": 23,
   "id": "69b5cf3e-64b3-4dd2-8d60-0419cba3b159",
   "metadata": {},
   "outputs": [
    {
     "data": {
      "application/vnd.plotly.v1+json": {
       "config": {
        "plotlyServerURL": "https://plot.ly"
       },
       "data": [
        {
         "customdata": [
          [
           "Alto",
           0.006971804118358076,
           33656194657.44
          ],
          [
           "Alto",
           0.052701652498505225,
           188630529319.11392
          ],
          [
           "Alto",
           0.12264585514786316,
           434788564090.68134
          ],
          [
           "Alto",
           0.2576702811892644,
           1093568518630.2478
          ],
          [
           "Alto",
           0.19772844629967878,
           892896489297.1023
          ],
          [
           "Alto",
           0.09103752869084356,
           350700367190.4824
          ],
          [
           "Bajo",
           0.16636437422569852,
           604719877073.3059
          ],
          [
           "Bajo",
           0.2410971689771121,
           485740926092.3852
          ],
          [
           "Bajo",
           0.21203994385405917,
           537021818967.8457
          ],
          [
           "Bajo",
           0.1998573795641947,
           518558166712.9168
          ],
          [
           "Bajo",
           0.09110085390126116,
           270273886751.21362
          ],
          [
           "Bajo",
           0.04744867552005377,
           238755186473.70734
          ],
          [
           "Medio alto",
           0.10646174065684767,
           411757165464.3051
          ],
          [
           "Medio alto",
           0.2940822771793914,
           1205503840927.8572
          ],
          [
           "Medio alto",
           0.5367444834996816,
           1986834762859.7231
          ],
          [
           "Medio alto",
           0.6517822669388001,
           2504296922080.164
          ],
          [
           "Medio alto",
           0.5048888871734123,
           1977669617780.356
          ],
          [
           "Medio alto",
           0.28512326764840445,
           1540180205369.792
          ],
          [
           "Medio bajo",
           0.5243990829544576,
           1721765245494.0396
          ],
          [
           "Medio bajo",
           1.0425621404258856,
           4285513711108.5127
          ],
          [
           "Medio bajo",
           1.247226205009398,
           4477614277239.746
          ],
          [
           "Medio bajo",
           1.0919678664964647,
           4309872742377.6445
          ],
          [
           "Medio bajo",
           0.8062656254956705,
           3084564159126.113
          ],
          [
           "Medio bajo",
           0.34805043388624884,
           1782967563846.5696
          ]
         ],
         "hovertemplate": "Clima=Cálido extremoso<br>x=%{x}<br>m2=%{y}<br>Porcentaje (%)=%{customdata[1]}<br>estrato=%{customdata[0]}<br>Energía total (TWh)=%{customdata[2]}<extra></extra>",
         "legendgroup": "Cálido extremoso",
         "marker": {
          "color": "red",
          "size": {
           "bdata": "hWHraneOfD+wO9oDtvuqP0ab2QC4Zb8/GPq2fat90D8kSixtKk/JP96Sb0g8Trc/rWpChW1LxT/cGvWjRdzOPw5BJvgfJMs/ONaLNu2UyT9cwiS0YlK3Pze9MVsxS6g/GXplnhNBuz94ZbR4PtLSP78QXsQCLeE/K60TfGbb5D+owVC9DCjgPzI6eKl1P9I/6u/qleDH4D+91JKjVa7wP0OsE3ej9PM/0ikuTLN48T+LkqyR7czpP2eauVN1RtY/",
           "dtype": "f8"
          },
          "sizemode": "area",
          "sizeref": 0.0013213559025187392,
          "symbol": "circle"
         },
         "mode": "markers",
         "name": "Cálido extremoso",
         "orientation": "v",
         "showlegend": true,
         "type": "scatter",
         "x": {
          "bdata": "dRi5fmI7oT8n9DmRCyXIPwZv3GmT09s/uTv3s0F/8T8M0Yeom5LsP+PP8fPfcdY/8avof91Z4z+mUPkbYRbfPxCStmFIL+E/12HjSweY4D8VyyPYKkzRP43V06qHj84/wQXkuTpa2j/vzD9lvknzP2WdkD8Tyv8/TXYe08wIBEAajarliKT/PzkowP+TpPg/u5TMtlmM+z8mFc+0XSQRQLljk7cT6RFAOry5R089EUAW4k75L60IQATMCP8Ih/w/",
          "dtype": "f8"
         },
         "xaxis": "x",
         "y": {
          "bdata": "AAAAAAAAPkAAAAAAAIBLQAAAAAAAwFJAAAAAAAAAWUAAAAAAAMBiQAAAAAAAAGlAAAAAAAAAPkAAAAAAAIBLQAAAAAAAwFJAAAAAAAAAWUAAAAAAAMBiQAAAAAAAAGlAAAAAAAAAPkAAAAAAAIBLQAAAAAAAwFJAAAAAAAAAWUAAAAAAAMBiQAAAAAAAAGlAAAAAAAAAPkAAAAAAAIBLQAAAAAAAwFJAAAAAAAAAWUAAAAAAAMBiQAAAAAAAAGlA",
          "dtype": "f8"
         },
         "yaxis": "y"
        },
        {
         "customdata": [
          [
           "Alto",
           0.10104894290924701,
           461254436078.81396
          ],
          [
           "Alto",
           0.35700642793102544,
           1582422004832.8362
          ],
          [
           "Alto",
           1.0028572334940427,
           3474862498602.1377
          ],
          [
           "Alto",
           0.8897101599088214,
           2937450664875.152
          ],
          [
           "Alto",
           1.1387290111605557,
           5085741145353.014
          ],
          [
           "Alto",
           0.6295400406511665,
           2828330417220.1875
          ],
          [
           "Bajo",
           1.006819582374459,
           2011056638780.2532
          ],
          [
           "Bajo",
           1.462408285494655,
           2644348320613.977
          ],
          [
           "Bajo",
           1.0891152165414617,
           2403550207620.3755
          ],
          [
           "Bajo",
           0.8294305905636752,
           1807227846987.5251
          ],
          [
           "Bajo",
           0.5528713037527002,
           1436904729510.1326
          ],
          [
           "Bajo",
           0.19733040211991093,
           517434326882.35114
          ],
          [
           "Medio alto",
           0.4242457394496882,
           1177316218165.0266
          ],
          [
           "Medio alto",
           1.036660833912206,
           3648950576554.0317
          ],
          [
           "Medio alto",
           2.4969522480871866,
           8188333272055.303
          ],
          [
           "Medio alto",
           2.1122123934794574,
           6844907246198.218
          ],
          [
           "Medio alto",
           1.7587612237904493,
           6385388877651.869
          ],
          [
           "Medio alto",
           0.9202087874404276,
           3604170666435.0264
          ],
          [
           "Medio bajo",
           2.8419600563871796,
           8400884454602.128
          ],
          [
           "Medio bajo",
           4.756881249067461,
           12424582209205.637
          ],
          [
           "Medio bajo",
           4.45523613247248,
           11881829941982.28
          ],
          [
           "Medio bajo",
           4.657828558029474,
           14759957663353.713
          ],
          [
           "Medio bajo",
           3.4832514468001285,
           11094771444346.797
          ],
          [
           "Medio bajo",
           1.9154700111705674,
           6353941512231.699
          ]
         ],
         "hovertemplate": "Clima=Templado<br>x=%{x}<br>m2=%{y}<br>Porcentaje (%)=%{customdata[1]}<br>estrato=%{customdata[0]}<br>Energía total (TWh)=%{customdata[2]}<extra></extra>",
         "legendgroup": "Templado",
         "marker": {
          "color": "blue",
          "size": {
           "bdata": "tjAX8VfeuT/4Oxt9MdnWP4mfxga0C/A/MUb3cIF47D9cDl/pOzjyPxHRwycxJeQ/tFS02e4b8D9mlfk6Bmb3P9DxyRMEbfE/BLyYBbKK6j+qeBApH7HhPyhHzmMfQsk/AdcZmtcm2z/3JqurKZbwP0iqqRnC+QNA6pmBnM/lAEBZchrP4iP8P+uM8bJZcu0/IMXVjVW8BkAvzc7gCwcTQBK1s2sp0hFAGnI8z52hEkCIAj7vst0LQDck5+HDpf4/",
           "dtype": "f8"
          },
          "sizemode": "area",
          "sizeref": 0.0013213559025187392,
          "symbol": "circle"
         },
         "mode": "markers",
         "name": "Templado",
         "orientation": "v",
         "showlegend": true,
         "type": "scatter",
         "x": {
          "bdata": "u/qFUzGF3T8CpXO8mVH5P4W+rLWEzAtAkwRaIuZ/B0Di2dyGzFcUQCLxobJroAZAD7jv3KQWAEAMKKIXoCcFQC0wAIh4OgNA6rUzv2fq/D+Aa0vQj/32P/gy+W7SjuA/Zxvhh0nW8j/HKPj/DDENQNBz+DdtYCBAj0x6XS9hG0AXB8dho4oZQORTLG5X1QxAXPsrukDNIEDXAN7WYtkoQBrl0jZ/wydAxuW8KxmFLUDcIPzhhTAmQIDtzqRvahlA",
          "dtype": "f8"
         },
         "xaxis": "x",
         "y": {
          "bdata": "AAAAAAAAPkAAAAAAAIBLQAAAAAAAwFJAAAAAAAAAWUAAAAAAAMBiQAAAAAAAAGlAAAAAAAAAPkAAAAAAAIBLQAAAAAAAwFJAAAAAAAAAWUAAAAAAAMBiQAAAAAAAAGlAAAAAAAAAPkAAAAAAAIBLQAAAAAAAwFJAAAAAAAAAWUAAAAAAAMBiQAAAAAAAAGlAAAAAAAAAPkAAAAAAAIBLQAAAAAAAwFJAAAAAAAAAWUAAAAAAAMBiQAAAAAAAAGlA",
          "dtype": "f8"
         },
         "yaxis": "y"
        },
        {
         "customdata": [
          [
           "Alto",
           0.01084368841246351,
           73465631675.99998
          ],
          [
           "Alto",
           0.05320523869563576,
           216808842334.2596
          ],
          [
           "Alto",
           0.025079798811584824,
           160191153822.33313
          ],
          [
           "Alto",
           0.03343571110049928,
           162503813804.9041
          ],
          [
           "Alto",
           0.02356300924777249,
           134410358142.99068
          ],
          [
           "Alto",
           0.004716220433006933,
           10549229078.32
          ],
          [
           "Bajo",
           1.3478017165836182,
           2943585360784.71
          ],
          [
           "Bajo",
           2.0006997134202527,
           4518645405233.603
          ],
          [
           "Bajo",
           1.23775757830886,
           2744193808936.852
          ],
          [
           "Bajo",
           1.199874025048076,
           2786038511813.12
          ],
          [
           "Bajo",
           0.585712964069758,
           1592067714231.7732
          ],
          [
           "Bajo",
           0.2700699604862749,
           945480310514.4529
          ],
          [
           "Medio alto",
           0.0874400536418811,
           283104283548.72723
          ],
          [
           "Medio alto",
           0.10920884859448791,
           361333711537.2962
          ],
          [
           "Medio alto",
           0.13051928964311962,
           421651525081.20807
          ],
          [
           "Medio alto",
           0.1535998210972341,
           575073846187.6226
          ],
          [
           "Medio alto",
           0.08102912995865044,
           338368209832.1644
          ],
          [
           "Medio alto",
           0.042816888700936986,
           176108162803.96387
          ],
          [
           "Medio bajo",
           0.983977274330963,
           3193456403867.035
          ],
          [
           "Medio bajo",
           1.4007144531168487,
           4683698068844.703
          ],
          [
           "Medio bajo",
           1.0526429108271274,
           3416913482501.691
          ],
          [
           "Medio bajo",
           1.0652717670761254,
           3648798825424.4683
          ],
          [
           "Medio bajo",
           0.7103972878958263,
           2878864083944.14
          ],
          [
           "Medio bajo",
           0.3242582476864888,
           1057115279108.8105
          ]
         ],
         "hovertemplate": "Clima=Tropical<br>x=%{x}<br>m2=%{y}<br>Porcentaje (%)=%{customdata[1]}<br>estrato=%{customdata[0]}<br>Energía total (TWh)=%{customdata[2]}<extra></extra>",
         "legendgroup": "Tropical",
         "marker": {
          "color": "green",
          "size": {
           "bdata": "N97LODc1hj/w5ViQtz2rPxt7vs6Erpk/hOpjS3weoT/vRnXI5iCYPyXvU8hQUXM/QoJjiJiQ9T9uDfLZbgEAQEVn8+PazfM/BGwOG68y8z8OuzAdKb7iP4Hq+oPTSNE//prAqnhitj8LqyVxHPW7PzvWQSjbtMA/c1wksCipwz/aGzI3U760P/q9X2EY7KU/U0eo6L187z8EvvKOU2n2P23mxReg1/A//BqPaFoL8T/dv9UXk7vmPyRkUaqlwNQ/",
           "dtype": "f8"
          },
          "sizemode": "area",
          "sizeref": 0.0013213559025187392,
          "symbol": "circle"
         },
         "mode": "markers",
         "name": "Tropical",
         "orientation": "v",
         "showlegend": true,
         "type": "scatter",
         "x": {
          "bdata": "uqttxaTOsj8ClqdjZMDLPypBY8skgcQ/FTjiyuzMxD+e4DvOWzTBP/p7HY/VmoU/AXBMe3aMB0DEy/bHFxMSQNYnOuIb9AVAJRItj85JBkB7Sdr+G3n5P+58lexfQe4/PcHMbWEe0j/WrX9uFyDXP2gRoq1W/No/DiVFRAFn4j+2Dc8i06fVPxOd5le2isY/SHz+3jKMCUD9GrhYG7wSQJDZZLzWVQtA6QxHcL0wDUBHWpHk6QcHQPH8/bXx6fA/",
          "dtype": "f8"
         },
         "xaxis": "x",
         "y": {
          "bdata": "AAAAAAAAPkAAAAAAAIBLQAAAAAAAwFJAAAAAAAAAWUAAAAAAAMBiQAAAAAAAAGlAAAAAAAAAPkAAAAAAAIBLQAAAAAAAwFJAAAAAAAAAWUAAAAAAAMBiQAAAAAAAAGlAAAAAAAAAPkAAAAAAAIBLQAAAAAAAwFJAAAAAAAAAWUAAAAAAAMBiQAAAAAAAAGlAAAAAAAAAPkAAAAAAAIBLQAAAAAAAwFJAAAAAAAAAWUAAAAAAAMBiQAAAAAAAAGlA",
          "dtype": "f8"
         },
         "yaxis": "y"
        }
       ],
       "layout": {
        "height": 600,
        "legend": {
         "itemsizing": "constant",
         "title": {
          "text": "Clima"
         },
         "tracegroupgap": 0
        },
        "template": {
         "data": {
          "bar": [
           {
            "error_x": {
             "color": "#2a3f5f"
            },
            "error_y": {
             "color": "#2a3f5f"
            },
            "marker": {
             "line": {
              "color": "#E5ECF6",
              "width": 0.5
             },
             "pattern": {
              "fillmode": "overlay",
              "size": 10,
              "solidity": 0.2
             }
            },
            "type": "bar"
           }
          ],
          "barpolar": [
           {
            "marker": {
             "line": {
              "color": "#E5ECF6",
              "width": 0.5
             },
             "pattern": {
              "fillmode": "overlay",
              "size": 10,
              "solidity": 0.2
             }
            },
            "type": "barpolar"
           }
          ],
          "carpet": [
           {
            "aaxis": {
             "endlinecolor": "#2a3f5f",
             "gridcolor": "white",
             "linecolor": "white",
             "minorgridcolor": "white",
             "startlinecolor": "#2a3f5f"
            },
            "baxis": {
             "endlinecolor": "#2a3f5f",
             "gridcolor": "white",
             "linecolor": "white",
             "minorgridcolor": "white",
             "startlinecolor": "#2a3f5f"
            },
            "type": "carpet"
           }
          ],
          "choropleth": [
           {
            "colorbar": {
             "outlinewidth": 0,
             "ticks": ""
            },
            "type": "choropleth"
           }
          ],
          "contour": [
           {
            "colorbar": {
             "outlinewidth": 0,
             "ticks": ""
            },
            "colorscale": [
             [
              0,
              "#0d0887"
             ],
             [
              0.1111111111111111,
              "#46039f"
             ],
             [
              0.2222222222222222,
              "#7201a8"
             ],
             [
              0.3333333333333333,
              "#9c179e"
             ],
             [
              0.4444444444444444,
              "#bd3786"
             ],
             [
              0.5555555555555556,
              "#d8576b"
             ],
             [
              0.6666666666666666,
              "#ed7953"
             ],
             [
              0.7777777777777778,
              "#fb9f3a"
             ],
             [
              0.8888888888888888,
              "#fdca26"
             ],
             [
              1,
              "#f0f921"
             ]
            ],
            "type": "contour"
           }
          ],
          "contourcarpet": [
           {
            "colorbar": {
             "outlinewidth": 0,
             "ticks": ""
            },
            "type": "contourcarpet"
           }
          ],
          "heatmap": [
           {
            "colorbar": {
             "outlinewidth": 0,
             "ticks": ""
            },
            "colorscale": [
             [
              0,
              "#0d0887"
             ],
             [
              0.1111111111111111,
              "#46039f"
             ],
             [
              0.2222222222222222,
              "#7201a8"
             ],
             [
              0.3333333333333333,
              "#9c179e"
             ],
             [
              0.4444444444444444,
              "#bd3786"
             ],
             [
              0.5555555555555556,
              "#d8576b"
             ],
             [
              0.6666666666666666,
              "#ed7953"
             ],
             [
              0.7777777777777778,
              "#fb9f3a"
             ],
             [
              0.8888888888888888,
              "#fdca26"
             ],
             [
              1,
              "#f0f921"
             ]
            ],
            "type": "heatmap"
           }
          ],
          "histogram": [
           {
            "marker": {
             "pattern": {
              "fillmode": "overlay",
              "size": 10,
              "solidity": 0.2
             }
            },
            "type": "histogram"
           }
          ],
          "histogram2d": [
           {
            "colorbar": {
             "outlinewidth": 0,
             "ticks": ""
            },
            "colorscale": [
             [
              0,
              "#0d0887"
             ],
             [
              0.1111111111111111,
              "#46039f"
             ],
             [
              0.2222222222222222,
              "#7201a8"
             ],
             [
              0.3333333333333333,
              "#9c179e"
             ],
             [
              0.4444444444444444,
              "#bd3786"
             ],
             [
              0.5555555555555556,
              "#d8576b"
             ],
             [
              0.6666666666666666,
              "#ed7953"
             ],
             [
              0.7777777777777778,
              "#fb9f3a"
             ],
             [
              0.8888888888888888,
              "#fdca26"
             ],
             [
              1,
              "#f0f921"
             ]
            ],
            "type": "histogram2d"
           }
          ],
          "histogram2dcontour": [
           {
            "colorbar": {
             "outlinewidth": 0,
             "ticks": ""
            },
            "colorscale": [
             [
              0,
              "#0d0887"
             ],
             [
              0.1111111111111111,
              "#46039f"
             ],
             [
              0.2222222222222222,
              "#7201a8"
             ],
             [
              0.3333333333333333,
              "#9c179e"
             ],
             [
              0.4444444444444444,
              "#bd3786"
             ],
             [
              0.5555555555555556,
              "#d8576b"
             ],
             [
              0.6666666666666666,
              "#ed7953"
             ],
             [
              0.7777777777777778,
              "#fb9f3a"
             ],
             [
              0.8888888888888888,
              "#fdca26"
             ],
             [
              1,
              "#f0f921"
             ]
            ],
            "type": "histogram2dcontour"
           }
          ],
          "mesh3d": [
           {
            "colorbar": {
             "outlinewidth": 0,
             "ticks": ""
            },
            "type": "mesh3d"
           }
          ],
          "parcoords": [
           {
            "line": {
             "colorbar": {
              "outlinewidth": 0,
              "ticks": ""
             }
            },
            "type": "parcoords"
           }
          ],
          "pie": [
           {
            "automargin": true,
            "type": "pie"
           }
          ],
          "scatter": [
           {
            "fillpattern": {
             "fillmode": "overlay",
             "size": 10,
             "solidity": 0.2
            },
            "type": "scatter"
           }
          ],
          "scatter3d": [
           {
            "line": {
             "colorbar": {
              "outlinewidth": 0,
              "ticks": ""
             }
            },
            "marker": {
             "colorbar": {
              "outlinewidth": 0,
              "ticks": ""
             }
            },
            "type": "scatter3d"
           }
          ],
          "scattercarpet": [
           {
            "marker": {
             "colorbar": {
              "outlinewidth": 0,
              "ticks": ""
             }
            },
            "type": "scattercarpet"
           }
          ],
          "scattergeo": [
           {
            "marker": {
             "colorbar": {
              "outlinewidth": 0,
              "ticks": ""
             }
            },
            "type": "scattergeo"
           }
          ],
          "scattergl": [
           {
            "marker": {
             "colorbar": {
              "outlinewidth": 0,
              "ticks": ""
             }
            },
            "type": "scattergl"
           }
          ],
          "scattermap": [
           {
            "marker": {
             "colorbar": {
              "outlinewidth": 0,
              "ticks": ""
             }
            },
            "type": "scattermap"
           }
          ],
          "scattermapbox": [
           {
            "marker": {
             "colorbar": {
              "outlinewidth": 0,
              "ticks": ""
             }
            },
            "type": "scattermapbox"
           }
          ],
          "scatterpolar": [
           {
            "marker": {
             "colorbar": {
              "outlinewidth": 0,
              "ticks": ""
             }
            },
            "type": "scatterpolar"
           }
          ],
          "scatterpolargl": [
           {
            "marker": {
             "colorbar": {
              "outlinewidth": 0,
              "ticks": ""
             }
            },
            "type": "scatterpolargl"
           }
          ],
          "scatterternary": [
           {
            "marker": {
             "colorbar": {
              "outlinewidth": 0,
              "ticks": ""
             }
            },
            "type": "scatterternary"
           }
          ],
          "surface": [
           {
            "colorbar": {
             "outlinewidth": 0,
             "ticks": ""
            },
            "colorscale": [
             [
              0,
              "#0d0887"
             ],
             [
              0.1111111111111111,
              "#46039f"
             ],
             [
              0.2222222222222222,
              "#7201a8"
             ],
             [
              0.3333333333333333,
              "#9c179e"
             ],
             [
              0.4444444444444444,
              "#bd3786"
             ],
             [
              0.5555555555555556,
              "#d8576b"
             ],
             [
              0.6666666666666666,
              "#ed7953"
             ],
             [
              0.7777777777777778,
              "#fb9f3a"
             ],
             [
              0.8888888888888888,
              "#fdca26"
             ],
             [
              1,
              "#f0f921"
             ]
            ],
            "type": "surface"
           }
          ],
          "table": [
           {
            "cells": {
             "fill": {
              "color": "#EBF0F8"
             },
             "line": {
              "color": "white"
             }
            },
            "header": {
             "fill": {
              "color": "#C8D4E3"
             },
             "line": {
              "color": "white"
             }
            },
            "type": "table"
           }
          ]
         },
         "layout": {
          "annotationdefaults": {
           "arrowcolor": "#2a3f5f",
           "arrowhead": 0,
           "arrowwidth": 1
          },
          "autotypenumbers": "strict",
          "coloraxis": {
           "colorbar": {
            "outlinewidth": 0,
            "ticks": ""
           }
          },
          "colorscale": {
           "diverging": [
            [
             0,
             "#8e0152"
            ],
            [
             0.1,
             "#c51b7d"
            ],
            [
             0.2,
             "#de77ae"
            ],
            [
             0.3,
             "#f1b6da"
            ],
            [
             0.4,
             "#fde0ef"
            ],
            [
             0.5,
             "#f7f7f7"
            ],
            [
             0.6,
             "#e6f5d0"
            ],
            [
             0.7,
             "#b8e186"
            ],
            [
             0.8,
             "#7fbc41"
            ],
            [
             0.9,
             "#4d9221"
            ],
            [
             1,
             "#276419"
            ]
           ],
           "sequential": [
            [
             0,
             "#0d0887"
            ],
            [
             0.1111111111111111,
             "#46039f"
            ],
            [
             0.2222222222222222,
             "#7201a8"
            ],
            [
             0.3333333333333333,
             "#9c179e"
            ],
            [
             0.4444444444444444,
             "#bd3786"
            ],
            [
             0.5555555555555556,
             "#d8576b"
            ],
            [
             0.6666666666666666,
             "#ed7953"
            ],
            [
             0.7777777777777778,
             "#fb9f3a"
            ],
            [
             0.8888888888888888,
             "#fdca26"
            ],
            [
             1,
             "#f0f921"
            ]
           ],
           "sequentialminus": [
            [
             0,
             "#0d0887"
            ],
            [
             0.1111111111111111,
             "#46039f"
            ],
            [
             0.2222222222222222,
             "#7201a8"
            ],
            [
             0.3333333333333333,
             "#9c179e"
            ],
            [
             0.4444444444444444,
             "#bd3786"
            ],
            [
             0.5555555555555556,
             "#d8576b"
            ],
            [
             0.6666666666666666,
             "#ed7953"
            ],
            [
             0.7777777777777778,
             "#fb9f3a"
            ],
            [
             0.8888888888888888,
             "#fdca26"
            ],
            [
             1,
             "#f0f921"
            ]
           ]
          },
          "colorway": [
           "#636efa",
           "#EF553B",
           "#00cc96",
           "#ab63fa",
           "#FFA15A",
           "#19d3f3",
           "#FF6692",
           "#B6E880",
           "#FF97FF",
           "#FECB52"
          ],
          "font": {
           "color": "#2a3f5f"
          },
          "geo": {
           "bgcolor": "white",
           "lakecolor": "white",
           "landcolor": "#E5ECF6",
           "showlakes": true,
           "showland": true,
           "subunitcolor": "white"
          },
          "hoverlabel": {
           "align": "left"
          },
          "hovermode": "closest",
          "mapbox": {
           "style": "light"
          },
          "paper_bgcolor": "white",
          "plot_bgcolor": "#E5ECF6",
          "polar": {
           "angularaxis": {
            "gridcolor": "white",
            "linecolor": "white",
            "ticks": ""
           },
           "bgcolor": "#E5ECF6",
           "radialaxis": {
            "gridcolor": "white",
            "linecolor": "white",
            "ticks": ""
           }
          },
          "scene": {
           "xaxis": {
            "backgroundcolor": "#E5ECF6",
            "gridcolor": "white",
            "gridwidth": 2,
            "linecolor": "white",
            "showbackground": true,
            "ticks": "",
            "zerolinecolor": "white"
           },
           "yaxis": {
            "backgroundcolor": "#E5ECF6",
            "gridcolor": "white",
            "gridwidth": 2,
            "linecolor": "white",
            "showbackground": true,
            "ticks": "",
            "zerolinecolor": "white"
           },
           "zaxis": {
            "backgroundcolor": "#E5ECF6",
            "gridcolor": "white",
            "gridwidth": 2,
            "linecolor": "white",
            "showbackground": true,
            "ticks": "",
            "zerolinecolor": "white"
           }
          },
          "shapedefaults": {
           "line": {
            "color": "#2a3f5f"
           }
          },
          "ternary": {
           "aaxis": {
            "gridcolor": "white",
            "linecolor": "white",
            "ticks": ""
           },
           "baxis": {
            "gridcolor": "white",
            "linecolor": "white",
            "ticks": ""
           },
           "bgcolor": "#E5ECF6",
           "caxis": {
            "gridcolor": "white",
            "linecolor": "white",
            "ticks": ""
           }
          },
          "title": {
           "x": 0.05
          },
          "xaxis": {
           "automargin": true,
           "gridcolor": "white",
           "linecolor": "white",
           "ticks": "",
           "title": {
            "standoff": 15
           },
           "zerolinecolor": "white",
           "zerolinewidth": 2
          },
          "yaxis": {
           "automargin": true,
           "gridcolor": "white",
           "linecolor": "white",
           "ticks": "",
           "title": {
            "standoff": 15
           },
           "zerolinecolor": "white",
           "zerolinewidth": 2
          }
         }
        },
        "title": {
         "text": "Energía total por mes"
        },
        "xaxis": {
         "anchor": "y",
         "domain": [
          0,
          1
         ],
         "tickformat": ".2e",
         "title": {
          "text": "Energía total (TWh)"
         }
        },
        "yaxis": {
         "anchor": "x",
         "domain": [
          0,
          1
         ],
         "tickmode": "array",
         "ticktext": [
          "30 m²",
          "55 m²",
          "75 m²",
          "100 m²",
          "150 m²",
          "200 m²"
         ],
         "tickvals": [
          30,
          55,
          75,
          100,
          150,
          200
         ],
         "title": {
          "text": "m2"
         }
        }
       }
      },
      "image/png": "[encoded data removed]"
     },
     "metadata": {},
     "output_type": "display_data"
    }
   ],
   "source": [
    "\n",
    "color_map = {\n",
    "    \"Cálido extremoso\": \"red\",\n",
    "    \"Tropical\"         : \"green\",\n",
    "    \"Templado\"         : \"blue\",\n",
    "}\n",
    "# Crear gráfica de burbujas: etotal vs porcentaje, tamaño por viviendas, color por clima\n",
    "fig = px.scatter(\n",
    "    tabla_kwh,\n",
    "    x=tabla_kwh['etotal']/1e12,\n",
    "    y='m2',\n",
    "    size='porcentaje',\n",
    "    color='clima',    \n",
    "    color_discrete_map=color_map,   # ← aquí asignas tus colores\n",
    "    hover_data=['m2', 'estrato',  'porcentaje', 'etotal'],\n",
    "    labels={\n",
    "        'etotal': 'Energía total (TWh)',\n",
    "        'porcentaje': 'Porcentaje (%)',\n",
    "        'clima': 'Clima'\n",
    "    },\n",
    "    title='Energía total por mes',\n",
    "    size_max=60\n",
    ")\n",
    "\n",
    "fig.update_layout(\n",
    "    xaxis=dict(tickformat=\".2e\"),\n",
    "    yaxis=dict(\n",
    "        tickmode=\"array\",\n",
    "        tickvals=[30, 55, 75, 100, 150, 200],\n",
    "        # opcional: si quieres texto distinto al valor numérico:\n",
    "        ticktext=[\"30 m²\",\"55 m²\",\"75 m²\",\"100 m²\",\"150 m²\",\"200 m²\"]\n",
    "    ),\n",
    "    height=600,\n",
    "    xaxis_title=\"Energía total (TWh)\",\n",
    ")\n",
    "\n",
    "fig.show()\n"
   ]
  },
  {
   "cell_type": "code",
   "execution_count": null,
   "id": "a9d9f673-3488-4bf1-8fd2-581568e2273b",
   "metadata": {},
   "outputs": [],
   "source": []
  },
  {
   "cell_type": "code",
   "execution_count": null,
   "id": "53b44547-9433-45dd-ba7d-e551eec87468",
   "metadata": {},
   "outputs": [],
   "source": []
  }
 ],
 "metadata": {
  "kernelspec": {
   "display_name": "Python 3 (ipykernel)",
   "language": "python",
   "name": "python3"
  },
  "language_info": {
   "codemirror_mode": {
    "name": "ipython",
    "version": 3
   },
   "file_extension": ".py",
   "mimetype": "text/x-python",
   "name": "python",
   "nbconvert_exporter": "python",
   "pygments_lexer": "ipython3",
   "version": "3.10.17"
  }
 },
 "nbformat": 4,
 "nbformat_minor": 5
}
