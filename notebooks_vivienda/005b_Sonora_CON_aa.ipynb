{
 "cells": [
  {
   "cell_type": "code",
   "execution_count": 1,
   "id": "a20d8b29-c405-4fc4-9f2d-ce7018cf23fa",
   "metadata": {},
   "outputs": [],
   "source": [
    "import pandas as pd\n",
    "import numpy as np\n",
    "from tabulate import tabulate\n",
    "import seaborn as sns\n",
    "from matplotlib.patches import Patch\n",
    "import matplotlib.pyplot as plt\n",
    "import plotly.express as px\n"
   ]
  },
  {
   "cell_type": "code",
   "execution_count": 2,
   "id": "49bd9e57-3932-49f3-a66e-56f8bed150ba",
   "metadata": {},
   "outputs": [],
   "source": [
    "total_viviendas = 33_162_148"
   ]
  },
  {
   "cell_type": "code",
   "execution_count": 3,
   "id": "5d91ee21-3603-4306-bdbb-a042c0f75416",
   "metadata": {},
   "outputs": [],
   "source": [
    "f = '../data/001_raw/ENCEVI_2018/vivienda.csv'\n",
    "entidad = pd.read_csv(f,usecols=['folio','entidad'],index_col=0)"
   ]
  },
  {
   "cell_type": "code",
   "execution_count": 4,
   "id": "f45fa825-9800-4a65-92e5-e2bd71b70e82",
   "metadata": {},
   "outputs": [
    {
     "data": {
      "text/html": [
       "<div>\n",
       "<style scoped>\n",
       "    .dataframe tbody tr th:only-of-type {\n",
       "        vertical-align: middle;\n",
       "    }\n",
       "\n",
       "    .dataframe tbody tr th {\n",
       "        vertical-align: top;\n",
       "    }\n",
       "\n",
       "    .dataframe thead th {\n",
       "        text-align: right;\n",
       "    }\n",
       "</style>\n",
       "<table border=\"1\" class=\"dataframe\">\n",
       "  <thead>\n",
       "    <tr style=\"text-align: right;\">\n",
       "      <th></th>\n",
       "      <th>clima</th>\n",
       "      <th>factor</th>\n",
       "      <th>personas</th>\n",
       "      <th>m2</th>\n",
       "      <th>estrato</th>\n",
       "      <th>kwh_mes</th>\n",
       "      <th>kwh_m2</th>\n",
       "      <th>kwh_persona</th>\n",
       "      <th>kwh_m2persona</th>\n",
       "    </tr>\n",
       "    <tr>\n",
       "      <th>folio</th>\n",
       "      <th></th>\n",
       "      <th></th>\n",
       "      <th></th>\n",
       "      <th></th>\n",
       "      <th></th>\n",
       "      <th></th>\n",
       "      <th></th>\n",
       "      <th></th>\n",
       "      <th></th>\n",
       "    </tr>\n",
       "  </thead>\n",
       "  <tbody>\n",
       "    <tr>\n",
       "      <th>22570</th>\n",
       "      <td>Cálido extremoso</td>\n",
       "      <td>945</td>\n",
       "      <td>1</td>\n",
       "      <td>100.0</td>\n",
       "      <td>Medio alto</td>\n",
       "      <td>105.825989</td>\n",
       "      <td>1.022985</td>\n",
       "      <td>102.298456</td>\n",
       "      <td>1.022985</td>\n",
       "    </tr>\n",
       "    <tr>\n",
       "      <th>22571</th>\n",
       "      <td>Cálido extremoso</td>\n",
       "      <td>945</td>\n",
       "      <td>2</td>\n",
       "      <td>150.0</td>\n",
       "      <td>Medio alto</td>\n",
       "      <td>1183.100599</td>\n",
       "      <td>7.624426</td>\n",
       "      <td>571.831956</td>\n",
       "      <td>3.812213</td>\n",
       "    </tr>\n",
       "    <tr>\n",
       "      <th>22572</th>\n",
       "      <td>Cálido extremoso</td>\n",
       "      <td>945</td>\n",
       "      <td>2</td>\n",
       "      <td>200.0</td>\n",
       "      <td>Medio alto</td>\n",
       "      <td>259.916011</td>\n",
       "      <td>1.256261</td>\n",
       "      <td>125.626072</td>\n",
       "      <td>0.628130</td>\n",
       "    </tr>\n",
       "    <tr>\n",
       "      <th>22577</th>\n",
       "      <td>Cálido extremoso</td>\n",
       "      <td>1044</td>\n",
       "      <td>1</td>\n",
       "      <td>150.0</td>\n",
       "      <td>Medio alto</td>\n",
       "      <td>39.444723</td>\n",
       "      <td>0.622350</td>\n",
       "      <td>93.352510</td>\n",
       "      <td>0.622350</td>\n",
       "    </tr>\n",
       "    <tr>\n",
       "      <th>22578</th>\n",
       "      <td>Cálido extremoso</td>\n",
       "      <td>1044</td>\n",
       "      <td>3</td>\n",
       "      <td>200.0</td>\n",
       "      <td>Medio alto</td>\n",
       "      <td>127.276477</td>\n",
       "      <td>1.293978</td>\n",
       "      <td>86.265168</td>\n",
       "      <td>0.431326</td>\n",
       "    </tr>\n",
       "    <tr>\n",
       "      <th>...</th>\n",
       "      <td>...</td>\n",
       "      <td>...</td>\n",
       "      <td>...</td>\n",
       "      <td>...</td>\n",
       "      <td>...</td>\n",
       "      <td>...</td>\n",
       "      <td>...</td>\n",
       "      <td>...</td>\n",
       "      <td>...</td>\n",
       "    </tr>\n",
       "    <tr>\n",
       "      <th>23449</th>\n",
       "      <td>Cálido extremoso</td>\n",
       "      <td>795</td>\n",
       "      <td>3</td>\n",
       "      <td>150.0</td>\n",
       "      <td>Medio bajo</td>\n",
       "      <td>51.626658</td>\n",
       "      <td>0.676883</td>\n",
       "      <td>33.844142</td>\n",
       "      <td>0.225628</td>\n",
       "    </tr>\n",
       "    <tr>\n",
       "      <th>23450</th>\n",
       "      <td>Cálido extremoso</td>\n",
       "      <td>795</td>\n",
       "      <td>3</td>\n",
       "      <td>55.0</td>\n",
       "      <td>Medio bajo</td>\n",
       "      <td>117.842885</td>\n",
       "      <td>4.213776</td>\n",
       "      <td>77.252558</td>\n",
       "      <td>1.404592</td>\n",
       "    </tr>\n",
       "    <tr>\n",
       "      <th>23451</th>\n",
       "      <td>Cálido extremoso</td>\n",
       "      <td>795</td>\n",
       "      <td>2</td>\n",
       "      <td>75.0</td>\n",
       "      <td>Medio bajo</td>\n",
       "      <td>46.712113</td>\n",
       "      <td>1.224895</td>\n",
       "      <td>45.933577</td>\n",
       "      <td>0.612448</td>\n",
       "    </tr>\n",
       "    <tr>\n",
       "      <th>23455</th>\n",
       "      <td>Cálido extremoso</td>\n",
       "      <td>795</td>\n",
       "      <td>2</td>\n",
       "      <td>100.0</td>\n",
       "      <td>Medio bajo</td>\n",
       "      <td>148.634450</td>\n",
       "      <td>2.923144</td>\n",
       "      <td>146.157209</td>\n",
       "      <td>1.461572</td>\n",
       "    </tr>\n",
       "    <tr>\n",
       "      <th>23456</th>\n",
       "      <td>Cálido extremoso</td>\n",
       "      <td>795</td>\n",
       "      <td>1</td>\n",
       "      <td>75.0</td>\n",
       "      <td>Medio bajo</td>\n",
       "      <td>104.380224</td>\n",
       "      <td>2.876255</td>\n",
       "      <td>215.719129</td>\n",
       "      <td>2.876255</td>\n",
       "    </tr>\n",
       "  </tbody>\n",
       "</table>\n",
       "<p>479 rows × 9 columns</p>\n",
       "</div>"
      ],
      "text/plain": [
       "                  clima  factor  personas     m2     estrato      kwh_mes  \\\n",
       "folio                                                                       \n",
       "22570  Cálido extremoso     945         1  100.0  Medio alto   105.825989   \n",
       "22571  Cálido extremoso     945         2  150.0  Medio alto  1183.100599   \n",
       "22572  Cálido extremoso     945         2  200.0  Medio alto   259.916011   \n",
       "22577  Cálido extremoso    1044         1  150.0  Medio alto    39.444723   \n",
       "22578  Cálido extremoso    1044         3  200.0  Medio alto   127.276477   \n",
       "...                 ...     ...       ...    ...         ...          ...   \n",
       "23449  Cálido extremoso     795         3  150.0  Medio bajo    51.626658   \n",
       "23450  Cálido extremoso     795         3   55.0  Medio bajo   117.842885   \n",
       "23451  Cálido extremoso     795         2   75.0  Medio bajo    46.712113   \n",
       "23455  Cálido extremoso     795         2  100.0  Medio bajo   148.634450   \n",
       "23456  Cálido extremoso     795         1   75.0  Medio bajo   104.380224   \n",
       "\n",
       "         kwh_m2  kwh_persona  kwh_m2persona  \n",
       "folio                                        \n",
       "22570  1.022985   102.298456       1.022985  \n",
       "22571  7.624426   571.831956       3.812213  \n",
       "22572  1.256261   125.626072       0.628130  \n",
       "22577  0.622350    93.352510       0.622350  \n",
       "22578  1.293978    86.265168       0.431326  \n",
       "...         ...          ...            ...  \n",
       "23449  0.676883    33.844142       0.225628  \n",
       "23450  4.213776    77.252558       1.404592  \n",
       "23451  1.224895    45.933577       0.612448  \n",
       "23455  2.923144   146.157209       1.461572  \n",
       "23456  2.876255   215.719129       2.876255  \n",
       "\n",
       "[479 rows x 9 columns]"
      ]
     },
     "execution_count": 4,
     "metadata": {},
     "output_type": "execute_result"
    }
   ],
   "source": [
    "f =\"../data/002_intermediate/vivienda_con_aa.parquet\"\n",
    "viv =pd.read_parquet(f)\n",
    "viv.factor.sum()\n",
    "\n",
    "viv = viv.join(entidad,how='inner')\n",
    "viv = viv[viv['entidad']==26]\n",
    "del viv['entidad']\n",
    "viv"
   ]
  },
  {
   "cell_type": "code",
   "execution_count": 5,
   "id": "b71d8aac-f8c2-4485-9e3e-f6acfd923397",
   "metadata": {},
   "outputs": [
    {
     "data": {
      "text/plain": [
       "np.int64(479503)"
      ]
     },
     "execution_count": 5,
     "metadata": {},
     "output_type": "execute_result"
    }
   ],
   "source": [
    "viv.factor.sum()"
   ]
  },
  {
   "cell_type": "code",
   "execution_count": 6,
   "id": "3cfb7873-988f-493a-a302-3de19c10d581",
   "metadata": {},
   "outputs": [],
   "source": [
    "\n",
    "# --- 1) Función para calcular cuantiles ponderados ---\n",
    "def cuantil_ponderado(valores, percentiles, pesos):\n",
    "    v = np.array(valores)\n",
    "    w = np.array(pesos)\n",
    "    orden = np.argsort(v)\n",
    "    v_ord, w_ord = v[orden], w[orden]\n",
    "    cumw = np.cumsum(w_ord)\n",
    "    cumw_norm = cumw / cumw[-1]\n",
    "    return np.interp(percentiles, cumw_norm, v_ord)\n",
    "\n",
    "# --- 2) Estadísticos ponderados sobre kwh_mes ---\n",
    "def estadisticas_kwh_mes(df):\n",
    "    vals = df['kwh_mes'].values\n",
    "    wts  = df['factor'].values\n",
    "    return pd.Series({\n",
    "        'P25':     cuantil_ponderado(vals, [0.25], wts)[0],\n",
    "        'Mediana': cuantil_ponderado(vals, [0.50], wts)[0],\n",
    "        'Media':   np.average(vals, weights=wts),\n",
    "        'P75':     cuantil_ponderado(vals, [0.75], wts)[0]\n",
    "    })\n",
    "\n",
    "\n",
    "# --- 2) Estadísticos ponderados sobre kwh_mes ---\n",
    "def estadisticas_kwh_mes_persona(df):\n",
    "    vals = df['kwh_persona'].values\n",
    "    wts  = df['factor'].values\n",
    "    return pd.Series({\n",
    "        'P25':     cuantil_ponderado(vals, [0.25], wts)[0],\n",
    "        'Mediana': cuantil_ponderado(vals, [0.50], wts)[0],\n",
    "        'Media':   np.average(vals, weights=wts),\n",
    "        'P75':     cuantil_ponderado(vals, [0.75], wts)[0]\n",
    "    })\n",
    "# --- 2) Estadísticos ponderados sobre kwh_mes ---\n",
    "def estadisticas_kwh_mes_persona_area(df):\n",
    "    vals = df['kwh_m2persona'].values\n",
    "    wts  = df['factor'].values\n",
    "    return pd.Series({\n",
    "        'P25':     cuantil_ponderado(vals, [0.25], wts)[0],\n",
    "        'Mediana': cuantil_ponderado(vals, [0.50], wts)[0],\n",
    "        'Media':   np.average(vals, weights=wts),\n",
    "        'P75':     cuantil_ponderado(vals, [0.75], wts)[0]\n",
    "    })"
   ]
  },
  {
   "cell_type": "code",
   "execution_count": 7,
   "id": "674c8db8-c921-4b30-8667-a27b8026bb38",
   "metadata": {},
   "outputs": [],
   "source": [
    "f = \"../data/002_intermediate/porcentajes_aa.parquet\"\n",
    "porcentajes_aa = pd.read_parquet(f)"
   ]
  },
  {
   "cell_type": "code",
   "execution_count": 8,
   "id": "98bcfaf2-4069-428a-844d-e7b5561adb12",
   "metadata": {},
   "outputs": [
    {
     "name": "stdout",
     "output_type": "stream",
     "text": [
      "|     m² |    P25 |   Mediana |   Media |    P75 |   porcentaje |\n",
      "|-------:|-------:|----------:|--------:|-------:|-------------:|\n",
      "|  30.00 |  39.09 |     44.91 |  100.10 |  99.95 |         0.03 |\n",
      "|  55.00 | 106.46 |    149.23 |  212.90 | 258.63 |         0.01 |\n",
      "|  75.00 |  75.10 |    119.66 |  129.24 | 157.00 |         0.05 |\n",
      "| 100.00 | 174.76 |    200.88 |  269.78 | 269.90 |         0.65 |\n",
      "| 150.00 |  98.13 |    134.82 |  218.76 | 214.20 |         0.04 |\n",
      "| 200.00 | 285.98 |    285.98 |  285.98 | 285.98 |         0.09 |\n",
      ": Estadísticas ponderadas de consumo total mensual (KWh) para clima **Cálido extremoso**, estrato socioeconómico **Bajo** {#tbl-calido-extremoso-bajo}\n",
      "\n",
      "|     m² |    P25 |   Mediana |   Media |    P75 |   porcentaje |\n",
      "|-------:|-------:|----------:|--------:|-------:|-------------:|\n",
      "|  30.00 |  43.46 |    113.62 |  137.93 | 176.68 |         0.12 |\n",
      "|  55.00 |  62.83 |    139.55 |  181.48 | 233.37 |         0.00 |\n",
      "|  75.00 |  74.26 |    139.22 |  177.95 | 257.05 |         0.09 |\n",
      "| 100.00 |  85.84 |    157.20 |  219.87 | 238.82 |         0.03 |\n",
      "| 150.00 |  99.62 |    145.38 |  248.36 | 380.97 |         0.14 |\n",
      "| 200.00 | 171.61 |    278.32 |  372.87 | 476.70 |         0.98 |\n",
      ": Estadísticas ponderadas de consumo total mensual (KWh) para clima **Cálido extremoso**, estrato socioeconómico **Medio bajo** {#tbl-calido-extremoso-medio-bajo}\n",
      "\n",
      "|     m² |    P25 |   Mediana |   Media |    P75 |   porcentaje |\n",
      "|-------:|-------:|----------:|--------:|-------:|-------------:|\n",
      "|  30.00 | 215.33 |    221.50 |  243.72 | 243.28 |         0.05 |\n",
      "|  55.00 |  90.79 |    188.94 |  251.98 | 370.74 |         0.00 |\n",
      "|  75.00 | 139.67 |    235.12 |  307.51 | 311.87 |         0.10 |\n",
      "| 100.00 | 108.54 |    154.32 |  247.72 | 284.83 |         0.01 |\n",
      "| 150.00 |  91.42 |    151.58 |  247.98 | 280.73 |         0.02 |\n",
      "| 200.00 | 118.11 |    153.21 |  273.68 | 249.64 |         0.58 |\n",
      ": Estadísticas ponderadas de consumo total mensual (KWh) para clima **Cálido extremoso**, estrato socioeconómico **Medio alto** {#tbl-calido-extremoso-medio-alto}\n",
      "\n",
      "|     m² |    P25 |   Mediana |   Media |    P75 |   porcentaje |\n",
      "|-------:|-------:|----------:|--------:|-------:|-------------:|\n",
      "|  30.00 | 113.41 |    113.41 |  113.41 | 113.41 |         0.00 |\n",
      "|  55.00 |  88.87 |     89.92 |  156.12 | 189.42 |         0.00 |\n",
      "|  75.00 | 134.52 |    202.61 |  264.23 | 344.97 |         0.00 |\n",
      "| 100.00 | 110.96 |    172.72 |  346.76 | 252.71 |         0.23 |\n",
      "| 150.00 | 109.50 |    200.52 |  228.74 | 263.87 |         0.01 |\n",
      "| 200.00 | 148.18 |    222.39 |  497.54 | 655.22 |         0.25 |\n",
      ": Estadísticas ponderadas de consumo total mensual (KWh) para clima **Cálido extremoso**, estrato socioeconómico **Alto** {#tbl-calido-extremoso-alto}\n",
      "\n"
     ]
    },
    {
     "name": "stderr",
     "output_type": "stream",
     "text": [
      "/var/folders/tc/1tpm30d53_9458mzx73ydg_w0000gn/T/ipykernel_9550/2173147482.py:11: FutureWarning: DataFrameGroupBy.apply operated on the grouping columns. This behavior is deprecated, and in a future version of pandas the grouping columns will be excluded from the operation. Either pass `include_groups=False` to exclude the groupings or explicitly select the grouping columns after groupby to silence this warning.\n",
      "  .apply(estadisticas_kwh_mes)\n"
     ]
    }
   ],
   "source": [
    "\n",
    "# --- 3) Filtrado inicial ---\n",
    "tamanos  = [30, 55, 75, 100, 150, 200]\n",
    "estratos = ['Bajo', 'Medio bajo', 'Medio alto', 'Alto']\n",
    "\n",
    "viv_tab = viv[viv['m2'].isin(tamanos)].copy()\n",
    "\n",
    "# --- 4) Agrupar y calcular estadísticas ---\n",
    "grouped = (\n",
    "    viv_tab\n",
    "    .groupby(['m2','clima','estrato'], observed=True)\n",
    "    .apply(estadisticas_kwh_mes)\n",
    "    .reset_index()\n",
    ")\n",
    "grouped =  pd.concat([grouped,porcentajes_aa[[\"porcentaje\",\"viviendas\"]]],axis=1)\n",
    "grouped_kwhmes = grouped.copy()\n",
    "\n",
    "# --- 5) Generar tablas Markdown ---\n",
    "for clima in grouped['clima'].unique():\n",
    "    for estrato in estratos:\n",
    "        sub = grouped[\n",
    "            (grouped['clima']==clima) &\n",
    "            (grouped['estrato']==estrato)\n",
    "        ]\n",
    "        if sub.empty:\n",
    "            continue\n",
    "\n",
    "        # 6) Pivot: m2 en filas, percentiles en columnas en el orden correcto\n",
    "        tabla = (\n",
    "            sub\n",
    "            .set_index('m2')[['P25','Mediana','Media','P75',\"porcentaje\"]]\n",
    "            .reindex(tamanos)\n",
    "            .rename_axis('m²')\n",
    "            .round(2)\n",
    "            .reset_index()\n",
    "        )\n",
    "\n",
    "        # 7) Generar slug y etiqueta Quarto\n",
    "        slug_clima   = clima.lower().replace(' ','-').replace('í','i').replace('á','a')\n",
    "        slug_estrato = estrato.lower().replace(' ','-')\n",
    "        etiqueta     = f\"tbl-{slug_clima}-{slug_estrato}\"\n",
    "\n",
    "        # 8) Imprimir en Markdown\n",
    "        print(tabulate(\n",
    "            tabla,\n",
    "            headers=tabla.columns,\n",
    "            tablefmt='pipe',\n",
    "            floatfmt='.2f',\n",
    "            showindex=False\n",
    "        ))\n",
    "        print(\n",
    "            f\": Estadísticas ponderadas de consumo total mensual (KWh) para clima **{clima}**, \"\n",
    "            f\"estrato socioeconómico **{estrato}** {{#{etiqueta}}}\\n\"\n",
    "        )"
   ]
  },
  {
   "cell_type": "code",
   "execution_count": 10,
   "id": "11359251-aaff-43b4-85dc-af8034e31188",
   "metadata": {},
   "outputs": [
    {
     "name": "stdout",
     "output_type": "stream",
     "text": [
      "|     m² |    P25 |   Mediana |   Media |    P75 |\n",
      "|-------:|-------:|----------:|--------:|-------:|\n",
      "|  30.00 |  19.87 |     22.89 |   51.57 |  51.49 |\n",
      "|  55.00 |  48.49 |     72.87 |  100.17 | 109.92 |\n",
      "|  75.00 |  59.85 |     67.96 |   89.83 | 102.76 |\n",
      "| 100.00 |  87.44 |    108.64 |  168.79 | 212.88 |\n",
      "| 150.00 |  85.86 |    101.99 |  188.53 | 129.76 |\n",
      "| 200.00 | 193.83 |    193.83 |  193.83 | 193.83 |\n",
      ": Estadísticas ponderadas de consumo total mensual (KWh) para clima **Cálido extremoso**, estrato socioeconómico **Bajo** {#tbl-calido-extremoso-bajo}\n",
      "\n",
      "|     m² |   P25 |   Mediana |   Media |    P75 |\n",
      "|-------:|------:|----------:|--------:|-------:|\n",
      "|  30.00 | 37.48 |     54.39 |   57.77 |  64.48 |\n",
      "|  55.00 | 41.65 |     54.97 |   86.01 |  92.69 |\n",
      "|  75.00 | 35.06 |     64.15 |   95.90 | 128.30 |\n",
      "| 100.00 | 43.33 |     73.15 |   98.61 | 128.09 |\n",
      "| 150.00 | 50.44 |     72.43 |  103.54 | 124.72 |\n",
      "| 200.00 | 55.54 |    133.41 |  124.49 | 164.34 |\n",
      ": Estadísticas ponderadas de consumo total mensual (KWh) para clima **Cálido extremoso**, estrato socioeconómico **Medio bajo** {#tbl-calido-extremoso-medio-bajo}\n",
      "\n",
      "|     m² |   P25 |   Mediana |   Media |    P75 |\n",
      "|-------:|------:|----------:|--------:|-------:|\n",
      "|  30.00 | 43.07 |     44.08 |   47.74 |  47.66 |\n",
      "|  55.00 | 59.04 |     87.57 |  109.04 | 118.07 |\n",
      "|  75.00 | 60.28 |     93.71 |  125.97 | 134.44 |\n",
      "| 100.00 | 68.50 |    104.43 |  125.47 | 162.94 |\n",
      "| 150.00 | 53.43 |     88.27 |  117.60 | 142.70 |\n",
      "| 200.00 | 62.46 |     86.08 |  111.69 | 124.91 |\n",
      ": Estadísticas ponderadas de consumo total mensual (KWh) para clima **Cálido extremoso**, estrato socioeconómico **Medio alto** {#tbl-calido-extremoso-medio-alto}\n",
      "\n",
      "|     m² |    P25 |   Mediana |   Media |    P75 |\n",
      "|-------:|-------:|----------:|--------:|-------:|\n",
      "|  30.00 | 219.25 |    219.25 |  219.25 | 219.25 |\n",
      "|  55.00 |  36.06 |     44.40 |   58.14 |  59.05 |\n",
      "|  75.00 |  73.11 |    108.53 |  142.98 | 196.19 |\n",
      "| 100.00 |  39.02 |     72.24 |  100.55 | 103.24 |\n",
      "| 150.00 |  40.65 |     91.73 |  126.65 | 168.94 |\n",
      "| 200.00 |  84.83 |    196.55 |  223.01 | 264.36 |\n",
      ": Estadísticas ponderadas de consumo total mensual (KWh) para clima **Cálido extremoso**, estrato socioeconómico **Alto** {#tbl-calido-extremoso-alto}\n",
      "\n"
     ]
    },
    {
     "name": "stderr",
     "output_type": "stream",
     "text": [
      "/var/folders/tc/1tpm30d53_9458mzx73ydg_w0000gn/T/ipykernel_9550/954292148.py:11: FutureWarning: DataFrameGroupBy.apply operated on the grouping columns. This behavior is deprecated, and in a future version of pandas the grouping columns will be excluded from the operation. Either pass `include_groups=False` to exclude the groupings or explicitly select the grouping columns after groupby to silence this warning.\n",
      "  .apply(estadisticas_kwh_mes_persona)\n"
     ]
    }
   ],
   "source": [
    "\n",
    "# --- 3) Filtrado inicial ---\n",
    "tamanos  = [30, 55, 75, 100, 150, 200]\n",
    "estratos = ['Bajo', 'Medio bajo', 'Medio alto', 'Alto']\n",
    "\n",
    "viv_tab = viv[viv['m2'].isin(tamanos)].copy()\n",
    "\n",
    "# --- 4) Agrupar y calcular estadísticas ---\n",
    "grouped = (\n",
    "    viv_tab\n",
    "    .groupby(['m2','clima','estrato'], observed=True)\n",
    "    .apply(estadisticas_kwh_mes_persona)\n",
    "    .reset_index()\n",
    ")\n",
    "\n",
    "\n",
    "grouped =  pd.concat([grouped,porcentajes_aa[[\"porcentaje\",\"viviendas\"]]],axis=1)\n",
    "grouped_kwhmespersona = grouped.copy()\n",
    "\n",
    "# --- 5) Generar tablas Markdown ---\n",
    "for clima in grouped['clima'].unique():\n",
    "    for estrato in estratos:\n",
    "        sub = grouped[\n",
    "            (grouped['clima']==clima) &\n",
    "            (grouped['estrato']==estrato)\n",
    "        ]\n",
    "        if sub.empty:\n",
    "            continue\n",
    "\n",
    "        # 6) Pivot: m2 en filas, percentiles en columnas en el orden correcto\n",
    "        tabla = (\n",
    "            sub\n",
    "            .set_index('m2')[['P25','Mediana','Media','P75']]\n",
    "            .reindex(tamanos)\n",
    "            .rename_axis('m²')\n",
    "            .round(2)\n",
    "            .reset_index()\n",
    "        )\n",
    "\n",
    "        # 7) Generar slug y etiqueta Quarto\n",
    "        slug_clima   = clima.lower().replace(' ','-').replace('í','i').replace('á','a')\n",
    "        slug_estrato = estrato.lower().replace(' ','-')\n",
    "        etiqueta     = f\"tbl-{slug_clima}-{slug_estrato}\"\n",
    "\n",
    "        # 8) Imprimir en Markdown\n",
    "        print(tabulate(\n",
    "            tabla,\n",
    "            headers=tabla.columns,\n",
    "            tablefmt='pipe',\n",
    "            floatfmt='.2f',\n",
    "            showindex=False\n",
    "        ))\n",
    "        print(\n",
    "            f\": Estadísticas ponderadas de consumo total mensual (KWh) para clima **{clima}**, \"\n",
    "            f\"estrato socioeconómico **{estrato}** {{#{etiqueta}}}\\n\"\n",
    "        )"
   ]
  },
  {
   "cell_type": "code",
   "execution_count": 11,
   "id": "60b1bc80-a7a1-4d1f-9326-3a38a0153775",
   "metadata": {
    "scrolled": true
   },
   "outputs": [
    {
     "name": "stdout",
     "output_type": "stream",
     "text": [
      "|     m² |   P25 |   Mediana |   Media |   P75 |\n",
      "|-------:|------:|----------:|--------:|------:|\n",
      "|  30.00 |  0.66 |      0.76 |    1.72 |  1.72 |\n",
      "|  55.00 |  0.88 |      1.32 |    1.82 |  2.00 |\n",
      "|  75.00 |  0.80 |      0.91 |    1.20 |  1.37 |\n",
      "| 100.00 |  0.87 |      1.09 |    1.69 |  2.13 |\n",
      "| 150.00 |  0.57 |      0.68 |    1.26 |  0.87 |\n",
      "| 200.00 |  0.97 |      0.97 |    0.97 |  0.97 |\n",
      ": Estadísticas ponderadas de consumo total mensual (KWh) para clima **Cálido extremoso**, estrato socioeconómico **Bajo** {#tbl-calido-extremoso-bajo}\n",
      "\n",
      "|     m² |   P25 |   Mediana |   Media |   P75 |\n",
      "|-------:|------:|----------:|--------:|------:|\n",
      "|  30.00 |  1.25 |      1.81 |    1.93 |  2.15 |\n",
      "|  55.00 |  0.76 |      1.00 |    1.56 |  1.69 |\n",
      "|  75.00 |  0.47 |      0.86 |    1.28 |  1.71 |\n",
      "| 100.00 |  0.43 |      0.73 |    0.99 |  1.28 |\n",
      "| 150.00 |  0.34 |      0.48 |    0.69 |  0.83 |\n",
      "| 200.00 |  0.28 |      0.67 |    0.62 |  0.82 |\n",
      ": Estadísticas ponderadas de consumo total mensual (KWh) para clima **Cálido extremoso**, estrato socioeconómico **Medio bajo** {#tbl-calido-extremoso-medio-bajo}\n",
      "\n",
      "|     m² |   P25 |   Mediana |   Media |   P75 |\n",
      "|-------:|------:|----------:|--------:|------:|\n",
      "|  30.00 |  1.44 |      1.47 |    1.59 |  1.59 |\n",
      "|  55.00 |  1.07 |      1.59 |    1.98 |  2.15 |\n",
      "|  75.00 |  0.80 |      1.25 |    1.68 |  1.79 |\n",
      "| 100.00 |  0.69 |      1.04 |    1.25 |  1.63 |\n",
      "| 150.00 |  0.36 |      0.59 |    0.78 |  0.95 |\n",
      "| 200.00 |  0.31 |      0.43 |    0.56 |  0.62 |\n",
      ": Estadísticas ponderadas de consumo total mensual (KWh) para clima **Cálido extremoso**, estrato socioeconómico **Medio alto** {#tbl-calido-extremoso-medio-alto}\n",
      "\n",
      "|     m² |   P25 |   Mediana |   Media |   P75 |\n",
      "|-------:|------:|----------:|--------:|------:|\n",
      "|  30.00 |  7.31 |      7.31 |    7.31 |  7.31 |\n",
      "|  55.00 |  0.66 |      0.81 |    1.06 |  1.07 |\n",
      "|  75.00 |  0.97 |      1.45 |    1.91 |  2.62 |\n",
      "| 100.00 |  0.39 |      0.72 |    1.01 |  1.03 |\n",
      "| 150.00 |  0.27 |      0.61 |    0.84 |  1.13 |\n",
      "| 200.00 |  0.42 |      0.98 |    1.12 |  1.32 |\n",
      ": Estadísticas ponderadas de consumo total mensual (KWh) para clima **Cálido extremoso**, estrato socioeconómico **Alto** {#tbl-calido-extremoso-alto}\n",
      "\n"
     ]
    },
    {
     "name": "stderr",
     "output_type": "stream",
     "text": [
      "/var/folders/tc/1tpm30d53_9458mzx73ydg_w0000gn/T/ipykernel_9550/12594808.py:11: FutureWarning: DataFrameGroupBy.apply operated on the grouping columns. This behavior is deprecated, and in a future version of pandas the grouping columns will be excluded from the operation. Either pass `include_groups=False` to exclude the groupings or explicitly select the grouping columns after groupby to silence this warning.\n",
      "  .apply(estadisticas_kwh_mes_persona_area)\n"
     ]
    }
   ],
   "source": [
    "\n",
    "# --- 3) Filtrado inicial ---\n",
    "tamanos  = [30, 55, 75, 100, 150, 200]\n",
    "estratos = ['Bajo', 'Medio bajo', 'Medio alto', 'Alto']\n",
    "\n",
    "viv_tab = viv[viv['m2'].isin(tamanos)].copy()\n",
    "\n",
    "# --- 4) Agrupar y calcular estadísticas ---\n",
    "grouped = (\n",
    "    viv_tab\n",
    "    .groupby(['m2','clima','estrato'], observed=True)\n",
    "    .apply(estadisticas_kwh_mes_persona_area)\n",
    "    .reset_index()\n",
    ")\n",
    "\n",
    "\n",
    "grouped =  pd.concat([grouped,porcentajes_aa[[\"porcentaje\",\"viviendas\"]]],axis=1)\n",
    "grouped_kwhmespersonaarea = grouped.copy()\n",
    "\n",
    "# --- 5) Generar tablas Markdown ---\n",
    "for clima in grouped['clima'].unique():\n",
    "    for estrato in estratos:\n",
    "        sub = grouped[\n",
    "            (grouped['clima']==clima) &\n",
    "            (grouped['estrato']==estrato)\n",
    "        ]\n",
    "        if sub.empty:\n",
    "            continue\n",
    "\n",
    "        # 6) Pivot: m2 en filas, percentiles en columnas en el orden correcto\n",
    "        tabla = (\n",
    "            sub\n",
    "            .set_index('m2')[['P25','Mediana','Media','P75']]\n",
    "            .reindex(tamanos)\n",
    "            .rename_axis('m²')\n",
    "            .round(2)\n",
    "            .reset_index()\n",
    "        )\n",
    "\n",
    "        # 7) Generar slug y etiqueta Quarto\n",
    "        slug_clima   = clima.lower().replace(' ','-').replace('í','i').replace('á','a')\n",
    "        slug_estrato = estrato.lower().replace(' ','-')\n",
    "        etiqueta     = f\"tbl-{slug_clima}-{slug_estrato}\"\n",
    "\n",
    "        # 8) Imprimir en Markdown\n",
    "        print(tabulate(\n",
    "            tabla,\n",
    "            headers=tabla.columns,\n",
    "            tablefmt='pipe',\n",
    "            floatfmt='.2f',\n",
    "            showindex=False\n",
    "        ))\n",
    "        print(\n",
    "            f\": Estadísticas ponderadas de consumo total mensual (KWh) para clima **{clima}**, \"\n",
    "            f\"estrato socioeconómico **{estrato}** {{#{etiqueta}}}\\n\"\n",
    "        )"
   ]
  },
  {
   "cell_type": "code",
   "execution_count": 12,
   "id": "68201781-73e9-4a1c-97f5-e0b6cf4f50a3",
   "metadata": {},
   "outputs": [
    {
     "data": {
      "image/png": "[encoded data removed]",
      "text/plain": [
       "<Figure size 1200x400 with 1 Axes>"
      ]
     },
     "metadata": {},
     "output_type": "display_data"
    }
   ],
   "source": [
    "#| label: fig-total\n",
    "#| fig-cap: Consumo total mensual de la vivienda para los diferentes climas y estratos socioeconómicos y sin uso de aire acondicionado.\n",
    "estrato_order = ['Bajo', 'Medio bajo', 'Medio alto', 'Alto']\n",
    "m2_list = sorted(viv['m2'].unique())\n",
    "\n",
    "# 2) Crea tu palette y un dict m2→color\n",
    "colors = sns.color_palette('Set2', n_colors=len(m2_list))\n",
    "palette_dict = {m2: colors[i] for i, m2 in enumerate(m2_list)}\n",
    "\n",
    "# 3) Dibuja el catplot SIN leyenda\n",
    "g = sns.catplot(\n",
    "    data=viv,\n",
    "    x='estrato',\n",
    "    y='kwh_mes',\n",
    "    hue='m2',\n",
    "    palette=palette_dict,\n",
    "    col='clima',\n",
    "    kind='box',\n",
    "    order=estrato_order,\n",
    "    col_wrap=3,\n",
    "    height=4,\n",
    "    sharey=True,\n",
    "    whis=[25,75],\n",
    "    showfliers=False,\n",
    "    legend=False      # importante: no leyenda automática\n",
    ")\n",
    "\n",
    "# 4) Formatea ejes y títulos\n",
    "g.set_axis_labels(\"Estrato\", \"Consumo total mensual (kWh)\")\n",
    "g.set_titles(\"{col_name}\")\n",
    "for ax in g.axes.flat:\n",
    "    ax.tick_params(axis='x', rotation=45)\n",
    "\n",
    "# 5) Construye los patches manualmente\n",
    "patches = [\n",
    "    Patch(facecolor=palette_dict[m], label=str(int(m)))\n",
    "    for m in m2_list\n",
    "]\n",
    "\n",
    "# 6) Añade la leyenda centrada un poco a la izquierda\n",
    "g.fig.legend(\n",
    "    handles=patches,\n",
    "    title=\"m²\",\n",
    "    loc=\"upper center\",\n",
    "    bbox_to_anchor=(0.45, 1.05),  # ajusta este 0.45 para moverla más a la izquierda/derecha\n",
    "    ncol=len(m2_list),\n",
    "    frameon=False\n",
    ")\n",
    "\n",
    "# 7) Ajusta márgenes\n",
    "g.fig.subplots_adjust(top=0.88, right=0.92)\n",
    "\n",
    "plt.show()\n"
   ]
  },
  {
   "cell_type": "code",
   "execution_count": 13,
   "id": "ff7e9a17-6f82-4712-ae83-de04a14e16a5",
   "metadata": {},
   "outputs": [
    {
     "data": {
      "image/png": "[encoded data removed]",
      "text/plain": [
       "<Figure size 1200x400 with 1 Axes>"
      ]
     },
     "metadata": {},
     "output_type": "display_data"
    }
   ],
   "source": [
    "#| label: fig-total\n",
    "#| fig-cap: Consumo total mensual de la vivienda para los diferentes climas y estratos socioeconómicos y sin uso de aire acondicionado.\n",
    "estrato_order = ['Bajo', 'Medio bajo', 'Medio alto', 'Alto']\n",
    "m2_list = sorted(viv['m2'].unique())\n",
    "\n",
    "# 2) Crea tu palette y un dict m2→color\n",
    "colors = sns.color_palette('Set2', n_colors=len(m2_list))\n",
    "palette_dict = {m2: colors[i] for i, m2 in enumerate(m2_list)}\n",
    "\n",
    "# 3) Dibuja el catplot SIN leyenda\n",
    "g = sns.catplot(\n",
    "    data=viv,\n",
    "    x='estrato',\n",
    "    y='kwh_persona',\n",
    "    hue='m2',\n",
    "    palette=palette_dict,\n",
    "    col='clima',\n",
    "    kind='box',\n",
    "    order=estrato_order,\n",
    "    col_wrap=3,\n",
    "    height=4,\n",
    "    sharey=True,\n",
    "    whis=[25,75],\n",
    "    showfliers=False,\n",
    "    legend=False      # importante: no leyenda automática\n",
    ")\n",
    "\n",
    "# 4) Formatea ejes y títulos\n",
    "g.set_axis_labels(\"Estrato\", \"Consumo total mensual por persona (kWh/persona)\")\n",
    "g.set_titles(\"{col_name}\")\n",
    "for ax in g.axes.flat:\n",
    "    ax.tick_params(axis='x', rotation=45)\n",
    "\n",
    "# 5) Construye los patches manualmente\n",
    "patches = [\n",
    "    Patch(facecolor=palette_dict[m], label=str(int(m)))\n",
    "    for m in m2_list\n",
    "]\n",
    "\n",
    "# 6) Añade la leyenda centrada un poco a la izquierda\n",
    "g.fig.legend(\n",
    "    handles=patches,\n",
    "    title=\"m²\",\n",
    "    loc=\"upper center\",\n",
    "    bbox_to_anchor=(0.45, 1.05),  # ajusta este 0.45 para moverla más a la izquierda/derecha\n",
    "    ncol=len(m2_list),\n",
    "    frameon=False\n",
    ")\n",
    "\n",
    "# 7) Ajusta márgenes\n",
    "g.fig.subplots_adjust(top=0.88, right=0.92)\n",
    "\n",
    "plt.show()\n"
   ]
  },
  {
   "cell_type": "code",
   "execution_count": 14,
   "id": "450a35af-bb96-4363-955c-7c7210e40ce4",
   "metadata": {},
   "outputs": [
    {
     "data": {
      "image/png": "[encoded data removed]",
      "text/plain": [
       "<Figure size 1200x400 with 1 Axes>"
      ]
     },
     "metadata": {},
     "output_type": "display_data"
    }
   ],
   "source": [
    "#| label: fig-total\n",
    "#| fig-cap: Consumo total mensual de la vivienda para los diferentes climas y estratos socioeconómicos y sin uso de aire acondicionado.\n",
    "estrato_order = ['Bajo', 'Medio bajo', 'Medio alto', 'Alto']\n",
    "m2_list = sorted(viv['m2'].unique())\n",
    "\n",
    "# 2) Crea tu palette y un dict m2→color\n",
    "colors = sns.color_palette('Set2', n_colors=len(m2_list))\n",
    "palette_dict = {m2: colors[i] for i, m2 in enumerate(m2_list)}\n",
    "\n",
    "# 3) Dibuja el catplot SIN leyenda\n",
    "g = sns.catplot(\n",
    "    data=viv,\n",
    "    x='estrato',\n",
    "    y='kwh_m2persona',\n",
    "    hue='m2',\n",
    "    palette=palette_dict,\n",
    "    col='clima',\n",
    "    kind='box',\n",
    "    order=estrato_order,\n",
    "    col_wrap=3,\n",
    "    height=4,\n",
    "    sharey=True,\n",
    "    whis=[25,75],\n",
    "    showfliers=False,\n",
    "    legend=False      # importante: no leyenda automática\n",
    ")\n",
    "\n",
    "# 4) Formatea ejes y títulos\n",
    "g.set_axis_labels(\"Estrato\", \"Consumo total mensual por persona (kWh/persona)\")\n",
    "g.set_titles(\"{col_name}\")\n",
    "for ax in g.axes.flat:\n",
    "    ax.tick_params(axis='x', rotation=45)\n",
    "\n",
    "# 5) Construye los patches manualmente\n",
    "patches = [\n",
    "    Patch(facecolor=palette_dict[m], label=str(int(m)))\n",
    "    for m in m2_list\n",
    "]\n",
    "\n",
    "# 6) Añade la leyenda centrada un poco a la izquierda\n",
    "g.fig.legend(\n",
    "    handles=patches,\n",
    "    title=\"m²\",\n",
    "    loc=\"upper center\",\n",
    "    bbox_to_anchor=(0.45, 1.05),  # ajusta este 0.45 para moverla más a la izquierda/derecha\n",
    "    ncol=len(m2_list),\n",
    "    frameon=False\n",
    ")\n",
    "\n",
    "# 7) Ajusta márgenes\n",
    "g.fig.subplots_adjust(top=0.88, right=0.92)\n",
    "\n",
    "plt.show()\n"
   ]
  },
  {
   "cell_type": "code",
   "execution_count": 15,
   "id": "82f2cd3a-2b6e-4306-8382-7246c253a00e",
   "metadata": {},
   "outputs": [
    {
     "data": {
      "text/html": [
       "<div>\n",
       "<style scoped>\n",
       "    .dataframe tbody tr th:only-of-type {\n",
       "        vertical-align: middle;\n",
       "    }\n",
       "\n",
       "    .dataframe tbody tr th {\n",
       "        vertical-align: top;\n",
       "    }\n",
       "\n",
       "    .dataframe thead th {\n",
       "        text-align: right;\n",
       "    }\n",
       "</style>\n",
       "<table border=\"1\" class=\"dataframe\">\n",
       "  <thead>\n",
       "    <tr style=\"text-align: right;\">\n",
       "      <th></th>\n",
       "      <th>m2</th>\n",
       "      <th>clima</th>\n",
       "      <th>estrato</th>\n",
       "      <th>P25</th>\n",
       "      <th>Mediana</th>\n",
       "      <th>Media</th>\n",
       "      <th>P75</th>\n",
       "      <th>porcentaje</th>\n",
       "      <th>viviendas</th>\n",
       "      <th>etotal</th>\n",
       "    </tr>\n",
       "  </thead>\n",
       "  <tbody>\n",
       "    <tr>\n",
       "      <th>23</th>\n",
       "      <td>200.0</td>\n",
       "      <td>Cálido extremoso</td>\n",
       "      <td>Medio bajo</td>\n",
       "      <td>171.608069</td>\n",
       "      <td>278.320763</td>\n",
       "      <td>372.867685</td>\n",
       "      <td>476.703829</td>\n",
       "      <td>0.979861</td>\n",
       "      <td>324943.0</td>\n",
       "      <td>1.211607e+08</td>\n",
       "    </tr>\n",
       "    <tr>\n",
       "      <th>13</th>\n",
       "      <td>100.0</td>\n",
       "      <td>Cálido extremoso</td>\n",
       "      <td>Bajo</td>\n",
       "      <td>174.760831</td>\n",
       "      <td>200.884083</td>\n",
       "      <td>269.781142</td>\n",
       "      <td>269.900685</td>\n",
       "      <td>0.646143</td>\n",
       "      <td>214275.0</td>\n",
       "      <td>5.780735e+07</td>\n",
       "    </tr>\n",
       "    <tr>\n",
       "      <th>22</th>\n",
       "      <td>200.0</td>\n",
       "      <td>Cálido extremoso</td>\n",
       "      <td>Medio alto</td>\n",
       "      <td>118.107749</td>\n",
       "      <td>153.205399</td>\n",
       "      <td>273.682504</td>\n",
       "      <td>249.636361</td>\n",
       "      <td>0.581802</td>\n",
       "      <td>192938.0</td>\n",
       "      <td>5.280375e+07</td>\n",
       "    </tr>\n",
       "    <tr>\n",
       "      <th>20</th>\n",
       "      <td>200.0</td>\n",
       "      <td>Cálido extremoso</td>\n",
       "      <td>Alto</td>\n",
       "      <td>148.178912</td>\n",
       "      <td>222.390271</td>\n",
       "      <td>497.541986</td>\n",
       "      <td>655.216571</td>\n",
       "      <td>0.246956</td>\n",
       "      <td>81896.0</td>\n",
       "      <td>4.074670e+07</td>\n",
       "    </tr>\n",
       "    <tr>\n",
       "      <th>12</th>\n",
       "      <td>100.0</td>\n",
       "      <td>Cálido extremoso</td>\n",
       "      <td>Alto</td>\n",
       "      <td>110.963603</td>\n",
       "      <td>172.724213</td>\n",
       "      <td>346.764933</td>\n",
       "      <td>252.708732</td>\n",
       "      <td>0.228619</td>\n",
       "      <td>75815.0</td>\n",
       "      <td>2.628998e+07</td>\n",
       "    </tr>\n",
       "    <tr>\n",
       "      <th>...</th>\n",
       "      <td>...</td>\n",
       "      <td>...</td>\n",
       "      <td>...</td>\n",
       "      <td>...</td>\n",
       "      <td>...</td>\n",
       "      <td>...</td>\n",
       "      <td>...</td>\n",
       "      <td>...</td>\n",
       "      <td>...</td>\n",
       "      <td>...</td>\n",
       "    </tr>\n",
       "    <tr>\n",
       "      <th>63</th>\n",
       "      <td>NaN</td>\n",
       "      <td>NaN</td>\n",
       "      <td>NaN</td>\n",
       "      <td>NaN</td>\n",
       "      <td>NaN</td>\n",
       "      <td>NaN</td>\n",
       "      <td>NaN</td>\n",
       "      <td>0.027016</td>\n",
       "      <td>8959.0</td>\n",
       "      <td>NaN</td>\n",
       "    </tr>\n",
       "    <tr>\n",
       "      <th>64</th>\n",
       "      <td>NaN</td>\n",
       "      <td>NaN</td>\n",
       "      <td>NaN</td>\n",
       "      <td>NaN</td>\n",
       "      <td>NaN</td>\n",
       "      <td>NaN</td>\n",
       "      <td>NaN</td>\n",
       "      <td>0.037597</td>\n",
       "      <td>12468.0</td>\n",
       "      <td>NaN</td>\n",
       "    </tr>\n",
       "    <tr>\n",
       "      <th>65</th>\n",
       "      <td>NaN</td>\n",
       "      <td>NaN</td>\n",
       "      <td>NaN</td>\n",
       "      <td>NaN</td>\n",
       "      <td>NaN</td>\n",
       "      <td>NaN</td>\n",
       "      <td>NaN</td>\n",
       "      <td>0.012427</td>\n",
       "      <td>4121.0</td>\n",
       "      <td>NaN</td>\n",
       "    </tr>\n",
       "    <tr>\n",
       "      <th>66</th>\n",
       "      <td>NaN</td>\n",
       "      <td>NaN</td>\n",
       "      <td>NaN</td>\n",
       "      <td>NaN</td>\n",
       "      <td>NaN</td>\n",
       "      <td>NaN</td>\n",
       "      <td>NaN</td>\n",
       "      <td>0.050618</td>\n",
       "      <td>16786.0</td>\n",
       "      <td>NaN</td>\n",
       "    </tr>\n",
       "    <tr>\n",
       "      <th>67</th>\n",
       "      <td>NaN</td>\n",
       "      <td>NaN</td>\n",
       "      <td>NaN</td>\n",
       "      <td>NaN</td>\n",
       "      <td>NaN</td>\n",
       "      <td>NaN</td>\n",
       "      <td>NaN</td>\n",
       "      <td>0.097856</td>\n",
       "      <td>32451.0</td>\n",
       "      <td>NaN</td>\n",
       "    </tr>\n",
       "  </tbody>\n",
       "</table>\n",
       "<p>68 rows × 10 columns</p>\n",
       "</div>"
      ],
      "text/plain": [
       "       m2             clima     estrato         P25     Mediana       Media  \\\n",
       "23  200.0  Cálido extremoso  Medio bajo  171.608069  278.320763  372.867685   \n",
       "13  100.0  Cálido extremoso        Bajo  174.760831  200.884083  269.781142   \n",
       "22  200.0  Cálido extremoso  Medio alto  118.107749  153.205399  273.682504   \n",
       "20  200.0  Cálido extremoso        Alto  148.178912  222.390271  497.541986   \n",
       "12  100.0  Cálido extremoso        Alto  110.963603  172.724213  346.764933   \n",
       "..    ...               ...         ...         ...         ...         ...   \n",
       "63    NaN               NaN         NaN         NaN         NaN         NaN   \n",
       "64    NaN               NaN         NaN         NaN         NaN         NaN   \n",
       "65    NaN               NaN         NaN         NaN         NaN         NaN   \n",
       "66    NaN               NaN         NaN         NaN         NaN         NaN   \n",
       "67    NaN               NaN         NaN         NaN         NaN         NaN   \n",
       "\n",
       "           P75  porcentaje  viviendas        etotal  \n",
       "23  476.703829    0.979861   324943.0  1.211607e+08  \n",
       "13  269.900685    0.646143   214275.0  5.780735e+07  \n",
       "22  249.636361    0.581802   192938.0  5.280375e+07  \n",
       "20  655.216571    0.246956    81896.0  4.074670e+07  \n",
       "12  252.708732    0.228619    75815.0  2.628998e+07  \n",
       "..         ...         ...        ...           ...  \n",
       "63         NaN    0.027016     8959.0           NaN  \n",
       "64         NaN    0.037597    12468.0           NaN  \n",
       "65         NaN    0.012427     4121.0           NaN  \n",
       "66         NaN    0.050618    16786.0           NaN  \n",
       "67         NaN    0.097856    32451.0           NaN  \n",
       "\n",
       "[68 rows x 10 columns]"
      ]
     },
     "execution_count": 15,
     "metadata": {},
     "output_type": "execute_result"
    }
   ],
   "source": [
    "grouped_kwhmes[\"etotal\"] = grouped_kwhmes.Media*grouped_kwhmes.viviendas\n",
    "grouped_kwhmes.sort_values(by=\"etotal\",ascending=False)"
   ]
  },
  {
   "cell_type": "code",
   "execution_count": 16,
   "id": "74960c15-577a-4af9-bfe5-cd0b127968b4",
   "metadata": {},
   "outputs": [
    {
     "data": {
      "text/html": [
       "<div>\n",
       "<style scoped>\n",
       "    .dataframe tbody tr th:only-of-type {\n",
       "        vertical-align: middle;\n",
       "    }\n",
       "\n",
       "    .dataframe tbody tr th {\n",
       "        vertical-align: top;\n",
       "    }\n",
       "\n",
       "    .dataframe thead th {\n",
       "        text-align: right;\n",
       "    }\n",
       "</style>\n",
       "<table border=\"1\" class=\"dataframe\">\n",
       "  <thead>\n",
       "    <tr style=\"text-align: right;\">\n",
       "      <th></th>\n",
       "      <th>m2</th>\n",
       "      <th>clima</th>\n",
       "      <th>estrato</th>\n",
       "      <th>viviendas</th>\n",
       "      <th>etotal</th>\n",
       "    </tr>\n",
       "  </thead>\n",
       "  <tbody>\n",
       "    <tr>\n",
       "      <th>0</th>\n",
       "      <td>200.0</td>\n",
       "      <td>Cálido extremoso</td>\n",
       "      <td>Medio bajo</td>\n",
       "      <td>324943.0</td>\n",
       "      <td>1.211607e+08</td>\n",
       "    </tr>\n",
       "    <tr>\n",
       "      <th>1</th>\n",
       "      <td>100.0</td>\n",
       "      <td>Cálido extremoso</td>\n",
       "      <td>Bajo</td>\n",
       "      <td>214275.0</td>\n",
       "      <td>5.780735e+07</td>\n",
       "    </tr>\n",
       "    <tr>\n",
       "      <th>2</th>\n",
       "      <td>200.0</td>\n",
       "      <td>Cálido extremoso</td>\n",
       "      <td>Medio alto</td>\n",
       "      <td>192938.0</td>\n",
       "      <td>5.280375e+07</td>\n",
       "    </tr>\n",
       "    <tr>\n",
       "      <th>3</th>\n",
       "      <td>200.0</td>\n",
       "      <td>Cálido extremoso</td>\n",
       "      <td>Alto</td>\n",
       "      <td>81896.0</td>\n",
       "      <td>4.074670e+07</td>\n",
       "    </tr>\n",
       "    <tr>\n",
       "      <th>4</th>\n",
       "      <td>100.0</td>\n",
       "      <td>Cálido extremoso</td>\n",
       "      <td>Alto</td>\n",
       "      <td>75815.0</td>\n",
       "      <td>2.628998e+07</td>\n",
       "    </tr>\n",
       "    <tr>\n",
       "      <th>...</th>\n",
       "      <td>...</td>\n",
       "      <td>...</td>\n",
       "      <td>...</td>\n",
       "      <td>...</td>\n",
       "      <td>...</td>\n",
       "    </tr>\n",
       "    <tr>\n",
       "      <th>63</th>\n",
       "      <td>NaN</td>\n",
       "      <td>NaN</td>\n",
       "      <td>NaN</td>\n",
       "      <td>8959.0</td>\n",
       "      <td>NaN</td>\n",
       "    </tr>\n",
       "    <tr>\n",
       "      <th>64</th>\n",
       "      <td>NaN</td>\n",
       "      <td>NaN</td>\n",
       "      <td>NaN</td>\n",
       "      <td>12468.0</td>\n",
       "      <td>NaN</td>\n",
       "    </tr>\n",
       "    <tr>\n",
       "      <th>65</th>\n",
       "      <td>NaN</td>\n",
       "      <td>NaN</td>\n",
       "      <td>NaN</td>\n",
       "      <td>4121.0</td>\n",
       "      <td>NaN</td>\n",
       "    </tr>\n",
       "    <tr>\n",
       "      <th>66</th>\n",
       "      <td>NaN</td>\n",
       "      <td>NaN</td>\n",
       "      <td>NaN</td>\n",
       "      <td>16786.0</td>\n",
       "      <td>NaN</td>\n",
       "    </tr>\n",
       "    <tr>\n",
       "      <th>67</th>\n",
       "      <td>NaN</td>\n",
       "      <td>NaN</td>\n",
       "      <td>NaN</td>\n",
       "      <td>32451.0</td>\n",
       "      <td>NaN</td>\n",
       "    </tr>\n",
       "  </tbody>\n",
       "</table>\n",
       "<p>68 rows × 5 columns</p>\n",
       "</div>"
      ],
      "text/plain": [
       "       m2             clima     estrato  viviendas        etotal\n",
       "0   200.0  Cálido extremoso  Medio bajo   324943.0  1.211607e+08\n",
       "1   100.0  Cálido extremoso        Bajo   214275.0  5.780735e+07\n",
       "2   200.0  Cálido extremoso  Medio alto   192938.0  5.280375e+07\n",
       "3   200.0  Cálido extremoso        Alto    81896.0  4.074670e+07\n",
       "4   100.0  Cálido extremoso        Alto    75815.0  2.628998e+07\n",
       "..    ...               ...         ...        ...           ...\n",
       "63    NaN               NaN         NaN     8959.0           NaN\n",
       "64    NaN               NaN         NaN    12468.0           NaN\n",
       "65    NaN               NaN         NaN     4121.0           NaN\n",
       "66    NaN               NaN         NaN    16786.0           NaN\n",
       "67    NaN               NaN         NaN    32451.0           NaN\n",
       "\n",
       "[68 rows x 5 columns]"
      ]
     },
     "metadata": {},
     "output_type": "display_data"
    }
   ],
   "source": [
    "# Opción 1: Seleccionar las 4 columnas tras ordenar\n",
    "df_vis = (\n",
    "    grouped_kwhmes\n",
    "      .sort_values(by=\"etotal\", ascending=False)\n",
    "      [[\"m2\",\"clima\",\"estrato\",\"viviendas\",\"etotal\"]]\n",
    "      .reset_index(drop=True)\n",
    ")\n",
    "display(df_vis)\n"
   ]
  },
  {
   "cell_type": "code",
   "execution_count": 17,
   "id": "e02c4846-90b2-4b5b-a1c8-e69dfad0edd0",
   "metadata": {},
   "outputs": [
    {
     "data": {
      "image/png": "[encoded data removed]",
      "text/plain": [
       "<Figure size 800x800 with 1 Axes>"
      ]
     },
     "metadata": {},
     "output_type": "display_data"
    }
   ],
   "source": [
    "\n",
    "# Prepara Serie normalizada (ya la tienes)\n",
    "et = (\n",
    "    grouped_kwhmes\n",
    "      .sort_values(by=\"etotal\", ascending=False)\n",
    "      .set_index([\"m2\",\"clima\",\"estrato\"])[\"etotal\"]\n",
    "      .head(20)\n",
    ")\n",
    "et = et / et.max()\n",
    "\n",
    "# Grafica horizontal\n",
    "plt.figure(figsize=(8, 8))\n",
    "# Para que la barra más grande quede arriba, ordena de menor a mayor\n",
    "et.sort_values().plot(kind='barh')\n",
    "\n",
    "plt.xlabel(\"Energía total (etotal)\")\n",
    "plt.ylabel(\"m2, clima, estrato\")\n",
    "plt.grid(axis='x', linestyle='--', alpha=0.7)\n",
    "plt.tight_layout()\n",
    "plt.show()"
   ]
  },
  {
   "cell_type": "code",
   "execution_count": 18,
   "id": "3f64a040-9299-4159-b078-42dbd66c33f1",
   "metadata": {},
   "outputs": [
    {
     "data": {
      "text/html": [
       "<div>\n",
       "<style scoped>\n",
       "    .dataframe tbody tr th:only-of-type {\n",
       "        vertical-align: middle;\n",
       "    }\n",
       "\n",
       "    .dataframe tbody tr th {\n",
       "        vertical-align: top;\n",
       "    }\n",
       "\n",
       "    .dataframe thead th {\n",
       "        text-align: right;\n",
       "    }\n",
       "</style>\n",
       "<table border=\"1\" class=\"dataframe\">\n",
       "  <thead>\n",
       "    <tr style=\"text-align: right;\">\n",
       "      <th></th>\n",
       "      <th>m2</th>\n",
       "      <th>clima</th>\n",
       "      <th>estrato</th>\n",
       "      <th>P25</th>\n",
       "      <th>Mediana</th>\n",
       "      <th>Media</th>\n",
       "      <th>P75</th>\n",
       "      <th>porcentaje</th>\n",
       "      <th>viviendas</th>\n",
       "      <th>etotal</th>\n",
       "    </tr>\n",
       "  </thead>\n",
       "  <tbody>\n",
       "    <tr>\n",
       "      <th>0</th>\n",
       "      <td>30.0</td>\n",
       "      <td>Cálido extremoso</td>\n",
       "      <td>Alto</td>\n",
       "      <td>113.406372</td>\n",
       "      <td>113.406372</td>\n",
       "      <td>113.406372</td>\n",
       "      <td>113.406372</td>\n",
       "      <td>0.003353</td>\n",
       "      <td>1112.0</td>\n",
       "      <td>1.261079e+05</td>\n",
       "    </tr>\n",
       "    <tr>\n",
       "      <th>1</th>\n",
       "      <td>30.0</td>\n",
       "      <td>Cálido extremoso</td>\n",
       "      <td>Bajo</td>\n",
       "      <td>39.089615</td>\n",
       "      <td>44.909086</td>\n",
       "      <td>100.104134</td>\n",
       "      <td>99.950312</td>\n",
       "      <td>0.028499</td>\n",
       "      <td>9451.0</td>\n",
       "      <td>9.460842e+05</td>\n",
       "    </tr>\n",
       "    <tr>\n",
       "      <th>2</th>\n",
       "      <td>30.0</td>\n",
       "      <td>Cálido extremoso</td>\n",
       "      <td>Medio alto</td>\n",
       "      <td>215.326552</td>\n",
       "      <td>221.499585</td>\n",
       "      <td>243.721437</td>\n",
       "      <td>243.284128</td>\n",
       "      <td>0.046803</td>\n",
       "      <td>15521.0</td>\n",
       "      <td>3.782800e+06</td>\n",
       "    </tr>\n",
       "    <tr>\n",
       "      <th>3</th>\n",
       "      <td>30.0</td>\n",
       "      <td>Cálido extremoso</td>\n",
       "      <td>Medio bajo</td>\n",
       "      <td>43.458311</td>\n",
       "      <td>113.617599</td>\n",
       "      <td>137.926904</td>\n",
       "      <td>176.676295</td>\n",
       "      <td>0.119676</td>\n",
       "      <td>39687.0</td>\n",
       "      <td>5.473905e+06</td>\n",
       "    </tr>\n",
       "    <tr>\n",
       "      <th>4</th>\n",
       "      <td>55.0</td>\n",
       "      <td>Cálido extremoso</td>\n",
       "      <td>Alto</td>\n",
       "      <td>88.872908</td>\n",
       "      <td>89.923539</td>\n",
       "      <td>156.116456</td>\n",
       "      <td>189.422913</td>\n",
       "      <td>0.000645</td>\n",
       "      <td>214.0</td>\n",
       "      <td>3.340892e+04</td>\n",
       "    </tr>\n",
       "    <tr>\n",
       "      <th>...</th>\n",
       "      <td>...</td>\n",
       "      <td>...</td>\n",
       "      <td>...</td>\n",
       "      <td>...</td>\n",
       "      <td>...</td>\n",
       "      <td>...</td>\n",
       "      <td>...</td>\n",
       "      <td>...</td>\n",
       "      <td>...</td>\n",
       "      <td>...</td>\n",
       "    </tr>\n",
       "    <tr>\n",
       "      <th>63</th>\n",
       "      <td>NaN</td>\n",
       "      <td>NaN</td>\n",
       "      <td>NaN</td>\n",
       "      <td>NaN</td>\n",
       "      <td>NaN</td>\n",
       "      <td>NaN</td>\n",
       "      <td>NaN</td>\n",
       "      <td>0.027016</td>\n",
       "      <td>8959.0</td>\n",
       "      <td>NaN</td>\n",
       "    </tr>\n",
       "    <tr>\n",
       "      <th>64</th>\n",
       "      <td>NaN</td>\n",
       "      <td>NaN</td>\n",
       "      <td>NaN</td>\n",
       "      <td>NaN</td>\n",
       "      <td>NaN</td>\n",
       "      <td>NaN</td>\n",
       "      <td>NaN</td>\n",
       "      <td>0.037597</td>\n",
       "      <td>12468.0</td>\n",
       "      <td>NaN</td>\n",
       "    </tr>\n",
       "    <tr>\n",
       "      <th>65</th>\n",
       "      <td>NaN</td>\n",
       "      <td>NaN</td>\n",
       "      <td>NaN</td>\n",
       "      <td>NaN</td>\n",
       "      <td>NaN</td>\n",
       "      <td>NaN</td>\n",
       "      <td>NaN</td>\n",
       "      <td>0.012427</td>\n",
       "      <td>4121.0</td>\n",
       "      <td>NaN</td>\n",
       "    </tr>\n",
       "    <tr>\n",
       "      <th>66</th>\n",
       "      <td>NaN</td>\n",
       "      <td>NaN</td>\n",
       "      <td>NaN</td>\n",
       "      <td>NaN</td>\n",
       "      <td>NaN</td>\n",
       "      <td>NaN</td>\n",
       "      <td>NaN</td>\n",
       "      <td>0.050618</td>\n",
       "      <td>16786.0</td>\n",
       "      <td>NaN</td>\n",
       "    </tr>\n",
       "    <tr>\n",
       "      <th>67</th>\n",
       "      <td>NaN</td>\n",
       "      <td>NaN</td>\n",
       "      <td>NaN</td>\n",
       "      <td>NaN</td>\n",
       "      <td>NaN</td>\n",
       "      <td>NaN</td>\n",
       "      <td>NaN</td>\n",
       "      <td>0.097856</td>\n",
       "      <td>32451.0</td>\n",
       "      <td>NaN</td>\n",
       "    </tr>\n",
       "  </tbody>\n",
       "</table>\n",
       "<p>68 rows × 10 columns</p>\n",
       "</div>"
      ],
      "text/plain": [
       "      m2             clima     estrato         P25     Mediana       Media  \\\n",
       "0   30.0  Cálido extremoso        Alto  113.406372  113.406372  113.406372   \n",
       "1   30.0  Cálido extremoso        Bajo   39.089615   44.909086  100.104134   \n",
       "2   30.0  Cálido extremoso  Medio alto  215.326552  221.499585  243.721437   \n",
       "3   30.0  Cálido extremoso  Medio bajo   43.458311  113.617599  137.926904   \n",
       "4   55.0  Cálido extremoso        Alto   88.872908   89.923539  156.116456   \n",
       "..   ...               ...         ...         ...         ...         ...   \n",
       "63   NaN               NaN         NaN         NaN         NaN         NaN   \n",
       "64   NaN               NaN         NaN         NaN         NaN         NaN   \n",
       "65   NaN               NaN         NaN         NaN         NaN         NaN   \n",
       "66   NaN               NaN         NaN         NaN         NaN         NaN   \n",
       "67   NaN               NaN         NaN         NaN         NaN         NaN   \n",
       "\n",
       "           P75  porcentaje  viviendas        etotal  \n",
       "0   113.406372    0.003353     1112.0  1.261079e+05  \n",
       "1    99.950312    0.028499     9451.0  9.460842e+05  \n",
       "2   243.284128    0.046803    15521.0  3.782800e+06  \n",
       "3   176.676295    0.119676    39687.0  5.473905e+06  \n",
       "4   189.422913    0.000645      214.0  3.340892e+04  \n",
       "..         ...         ...        ...           ...  \n",
       "63         NaN    0.027016     8959.0           NaN  \n",
       "64         NaN    0.037597    12468.0           NaN  \n",
       "65         NaN    0.012427     4121.0           NaN  \n",
       "66         NaN    0.050618    16786.0           NaN  \n",
       "67         NaN    0.097856    32451.0           NaN  \n",
       "\n",
       "[68 rows x 10 columns]"
      ]
     },
     "execution_count": 18,
     "metadata": {},
     "output_type": "execute_result"
    }
   ],
   "source": [
    "grouped_kwhmes"
   ]
  },
  {
   "cell_type": "code",
   "execution_count": 19,
   "id": "69b5cf3e-64b3-4dd2-8d60-0419cba3b159",
   "metadata": {},
   "outputs": [
    {
     "data": {
      "application/vnd.plotly.v1+json": {
       "config": {
        "plotlyServerURL": "https://plot.ly"
       },
       "data": [
        {
         "customdata": [
          [
           200,
           "Medio bajo",
           324943
          ],
          [
           100,
           "Bajo",
           214275
          ],
          [
           200,
           "Medio alto",
           192938
          ],
          [
           200,
           "Alto",
           81896.00000000001
          ],
          [
           100,
           "Alto",
           75815
          ],
          [
           150,
           "Medio bajo",
           46710
          ],
          [
           75,
           "Medio alto",
           33228
          ],
          [
           200,
           "Bajo",
           28201.000000000004
          ],
          [
           30,
           "Medio bajo",
           39687
          ],
          [
           75,
           "Medio bajo",
           28533
          ],
          [
           30,
           "Medio alto",
           15521
          ],
          [
           150,
           "Bajo",
           11655
          ],
          [
           75,
           "Bajo",
           16164
          ],
          [
           100,
           "Medio bajo",
           8953
          ],
          [
           150,
           "Medio alto",
           7152.000000000001
          ],
          [
           30,
           "Bajo",
           9451.000000000002
          ],
          [
           150,
           "Alto",
           3987
          ],
          [
           55,
           "Bajo",
           4109.999999999999
          ],
          [
           100,
           "Medio alto",
           2843
          ],
          [
           75,
           "Alto",
           1515
          ],
          [
           55,
           "Medio alto",
           1372
          ],
          [
           55,
           "Medio bajo",
           1416.9999999999998
          ],
          [
           30,
           "Alto",
           1112.0000000000002
          ],
          [
           55,
           "Alto",
           214
          ]
         ],
         "hovertemplate": "Clima=Cálido extremoso<br>Energía total (etotal)=%{x}<br>Porcentaje (%)=%{y}<br>Número de viviendas=%{customdata[2]}<br>m2=%{customdata[0]}<br>estrato=%{customdata[1]}<extra></extra>",
         "legendgroup": "Cálido extremoso",
         "marker": {
          "color": "#636efa",
          "size": {
           "bdata": "AAAAADzVE0EAAAAAGCgKQQAAAABQjQdBAQAAAID+80AAAAAAcILyQAAAAADAzuZAAAAAAIA54EABAAAAQIrbQAAAAADgYONAAAAAAEDd20AAAAAAgFDOQAAAAACAw8ZAAAAAAACSz0AAAAAAgHzBQAEAAAAA8LtAAQAAAIB1wkAAAAAAACavQP//////DbBAAAAAAAA2pkAAAAAAAKyXQAAAAAAAcJVA//////8jlkABAAAAAGCRQAAAAAAAwGpA",
           "dtype": "f8"
          },
          "sizemode": "area",
          "sizeref": 90.26194444444444,
          "symbol": "circle"
         },
         "mode": "markers",
         "name": "Cálido extremoso",
         "orientation": "v",
         "showlegend": true,
         "type": "scatter",
         "x": {
          "bdata": "m4KLoBDjnEHukkvSj5CLQaqPKFfFLYlB++cPVPZtg0GuVOT2cxJ5QcMzMkR3IGZBpWEMaSd9Y0EEfkjw1MNeQTPzyUKc4VRBrBxmboVeU0H5wQg2SNxMQbRsMJW4c0NBwVYYvy7gP0H8MRaahAk+QZIFrcDXDztBk579WEjfLEEy9hoN+9QrQcEIKsMztCpBKcgPrRR+JUF/u39j2m4YQVkt4wDmGRVBuhv7ZjZkD0G24Rctvsn+QGnwDH0dUOBA",
          "dtype": "f8"
         },
         "xaxis": "x",
         "y": {
          "bdata": "biWIvQVb7z/wt+a6NK3kPz7jFvkenuI/NXlLP0Oczz81QQnnY0PNP7nCRKF7B8I/yGkoJp2muT/c26/cKcW1P68wamkPo74/cThaOsYGtj+o0Lg1nPanPzzvmwOX/qE/AeT31MD0qD95YqB9RaWbP+2Yc5aYFZY//I2er+8unT8cXNZRYZ+IP92f21HXYYk/tRPqPryOgT8BAj0TYbZyP+fvgc438nA/uScPqYGAcT+JzBWjNnhrP+QjO15JJUU/",
          "dtype": "f8"
         },
         "yaxis": "y"
        }
       ],
       "layout": {
        "legend": {
         "itemsizing": "constant",
         "title": {
          "text": "Clima"
         },
         "tracegroupgap": 0
        },
        "template": {
         "data": {
          "bar": [
           {
            "error_x": {
             "color": "#2a3f5f"
            },
            "error_y": {
             "color": "#2a3f5f"
            },
            "marker": {
             "line": {
              "color": "#E5ECF6",
              "width": 0.5
             },
             "pattern": {
              "fillmode": "overlay",
              "size": 10,
              "solidity": 0.2
             }
            },
            "type": "bar"
           }
          ],
          "barpolar": [
           {
            "marker": {
             "line": {
              "color": "#E5ECF6",
              "width": 0.5
             },
             "pattern": {
              "fillmode": "overlay",
              "size": 10,
              "solidity": 0.2
             }
            },
            "type": "barpolar"
           }
          ],
          "carpet": [
           {
            "aaxis": {
             "endlinecolor": "#2a3f5f",
             "gridcolor": "white",
             "linecolor": "white",
             "minorgridcolor": "white",
             "startlinecolor": "#2a3f5f"
            },
            "baxis": {
             "endlinecolor": "#2a3f5f",
             "gridcolor": "white",
             "linecolor": "white",
             "minorgridcolor": "white",
             "startlinecolor": "#2a3f5f"
            },
            "type": "carpet"
           }
          ],
          "choropleth": [
           {
            "colorbar": {
             "outlinewidth": 0,
             "ticks": ""
            },
            "type": "choropleth"
           }
          ],
          "contour": [
           {
            "colorbar": {
             "outlinewidth": 0,
             "ticks": ""
            },
            "colorscale": [
             [
              0,
              "#0d0887"
             ],
             [
              0.1111111111111111,
              "#46039f"
             ],
             [
              0.2222222222222222,
              "#7201a8"
             ],
             [
              0.3333333333333333,
              "#9c179e"
             ],
             [
              0.4444444444444444,
              "#bd3786"
             ],
             [
              0.5555555555555556,
              "#d8576b"
             ],
             [
              0.6666666666666666,
              "#ed7953"
             ],
             [
              0.7777777777777778,
              "#fb9f3a"
             ],
             [
              0.8888888888888888,
              "#fdca26"
             ],
             [
              1,
              "#f0f921"
             ]
            ],
            "type": "contour"
           }
          ],
          "contourcarpet": [
           {
            "colorbar": {
             "outlinewidth": 0,
             "ticks": ""
            },
            "type": "contourcarpet"
           }
          ],
          "heatmap": [
           {
            "colorbar": {
             "outlinewidth": 0,
             "ticks": ""
            },
            "colorscale": [
             [
              0,
              "#0d0887"
             ],
             [
              0.1111111111111111,
              "#46039f"
             ],
             [
              0.2222222222222222,
              "#7201a8"
             ],
             [
              0.3333333333333333,
              "#9c179e"
             ],
             [
              0.4444444444444444,
              "#bd3786"
             ],
             [
              0.5555555555555556,
              "#d8576b"
             ],
             [
              0.6666666666666666,
              "#ed7953"
             ],
             [
              0.7777777777777778,
              "#fb9f3a"
             ],
             [
              0.8888888888888888,
              "#fdca26"
             ],
             [
              1,
              "#f0f921"
             ]
            ],
            "type": "heatmap"
           }
          ],
          "histogram": [
           {
            "marker": {
             "pattern": {
              "fillmode": "overlay",
              "size": 10,
              "solidity": 0.2
             }
            },
            "type": "histogram"
           }
          ],
          "histogram2d": [
           {
            "colorbar": {
             "outlinewidth": 0,
             "ticks": ""
            },
            "colorscale": [
             [
              0,
              "#0d0887"
             ],
             [
              0.1111111111111111,
              "#46039f"
             ],
             [
              0.2222222222222222,
              "#7201a8"
             ],
             [
              0.3333333333333333,
              "#9c179e"
             ],
             [
              0.4444444444444444,
              "#bd3786"
             ],
             [
              0.5555555555555556,
              "#d8576b"
             ],
             [
              0.6666666666666666,
              "#ed7953"
             ],
             [
              0.7777777777777778,
              "#fb9f3a"
             ],
             [
              0.8888888888888888,
              "#fdca26"
             ],
             [
              1,
              "#f0f921"
             ]
            ],
            "type": "histogram2d"
           }
          ],
          "histogram2dcontour": [
           {
            "colorbar": {
             "outlinewidth": 0,
             "ticks": ""
            },
            "colorscale": [
             [
              0,
              "#0d0887"
             ],
             [
              0.1111111111111111,
              "#46039f"
             ],
             [
              0.2222222222222222,
              "#7201a8"
             ],
             [
              0.3333333333333333,
              "#9c179e"
             ],
             [
              0.4444444444444444,
              "#bd3786"
             ],
             [
              0.5555555555555556,
              "#d8576b"
             ],
             [
              0.6666666666666666,
              "#ed7953"
             ],
             [
              0.7777777777777778,
              "#fb9f3a"
             ],
             [
              0.8888888888888888,
              "#fdca26"
             ],
             [
              1,
              "#f0f921"
             ]
            ],
            "type": "histogram2dcontour"
           }
          ],
          "mesh3d": [
           {
            "colorbar": {
             "outlinewidth": 0,
             "ticks": ""
            },
            "type": "mesh3d"
           }
          ],
          "parcoords": [
           {
            "line": {
             "colorbar": {
              "outlinewidth": 0,
              "ticks": ""
             }
            },
            "type": "parcoords"
           }
          ],
          "pie": [
           {
            "automargin": true,
            "type": "pie"
           }
          ],
          "scatter": [
           {
            "fillpattern": {
             "fillmode": "overlay",
             "size": 10,
             "solidity": 0.2
            },
            "type": "scatter"
           }
          ],
          "scatter3d": [
           {
            "line": {
             "colorbar": {
              "outlinewidth": 0,
              "ticks": ""
             }
            },
            "marker": {
             "colorbar": {
              "outlinewidth": 0,
              "ticks": ""
             }
            },
            "type": "scatter3d"
           }
          ],
          "scattercarpet": [
           {
            "marker": {
             "colorbar": {
              "outlinewidth": 0,
              "ticks": ""
             }
            },
            "type": "scattercarpet"
           }
          ],
          "scattergeo": [
           {
            "marker": {
             "colorbar": {
              "outlinewidth": 0,
              "ticks": ""
             }
            },
            "type": "scattergeo"
           }
          ],
          "scattergl": [
           {
            "marker": {
             "colorbar": {
              "outlinewidth": 0,
              "ticks": ""
             }
            },
            "type": "scattergl"
           }
          ],
          "scattermap": [
           {
            "marker": {
             "colorbar": {
              "outlinewidth": 0,
              "ticks": ""
             }
            },
            "type": "scattermap"
           }
          ],
          "scattermapbox": [
           {
            "marker": {
             "colorbar": {
              "outlinewidth": 0,
              "ticks": ""
             }
            },
            "type": "scattermapbox"
           }
          ],
          "scatterpolar": [
           {
            "marker": {
             "colorbar": {
              "outlinewidth": 0,
              "ticks": ""
             }
            },
            "type": "scatterpolar"
           }
          ],
          "scatterpolargl": [
           {
            "marker": {
             "colorbar": {
              "outlinewidth": 0,
              "ticks": ""
             }
            },
            "type": "scatterpolargl"
           }
          ],
          "scatterternary": [
           {
            "marker": {
             "colorbar": {
              "outlinewidth": 0,
              "ticks": ""
             }
            },
            "type": "scatterternary"
           }
          ],
          "surface": [
           {
            "colorbar": {
             "outlinewidth": 0,
             "ticks": ""
            },
            "colorscale": [
             [
              0,
              "#0d0887"
             ],
             [
              0.1111111111111111,
              "#46039f"
             ],
             [
              0.2222222222222222,
              "#7201a8"
             ],
             [
              0.3333333333333333,
              "#9c179e"
             ],
             [
              0.4444444444444444,
              "#bd3786"
             ],
             [
              0.5555555555555556,
              "#d8576b"
             ],
             [
              0.6666666666666666,
              "#ed7953"
             ],
             [
              0.7777777777777778,
              "#fb9f3a"
             ],
             [
              0.8888888888888888,
              "#fdca26"
             ],
             [
              1,
              "#f0f921"
             ]
            ],
            "type": "surface"
           }
          ],
          "table": [
           {
            "cells": {
             "fill": {
              "color": "#EBF0F8"
             },
             "line": {
              "color": "white"
             }
            },
            "header": {
             "fill": {
              "color": "#C8D4E3"
             },
             "line": {
              "color": "white"
             }
            },
            "type": "table"
           }
          ]
         },
         "layout": {
          "annotationdefaults": {
           "arrowcolor": "#2a3f5f",
           "arrowhead": 0,
           "arrowwidth": 1
          },
          "autotypenumbers": "strict",
          "coloraxis": {
           "colorbar": {
            "outlinewidth": 0,
            "ticks": ""
           }
          },
          "colorscale": {
           "diverging": [
            [
             0,
             "#8e0152"
            ],
            [
             0.1,
             "#c51b7d"
            ],
            [
             0.2,
             "#de77ae"
            ],
            [
             0.3,
             "#f1b6da"
            ],
            [
             0.4,
             "#fde0ef"
            ],
            [
             0.5,
             "#f7f7f7"
            ],
            [
             0.6,
             "#e6f5d0"
            ],
            [
             0.7,
             "#b8e186"
            ],
            [
             0.8,
             "#7fbc41"
            ],
            [
             0.9,
             "#4d9221"
            ],
            [
             1,
             "#276419"
            ]
           ],
           "sequential": [
            [
             0,
             "#0d0887"
            ],
            [
             0.1111111111111111,
             "#46039f"
            ],
            [
             0.2222222222222222,
             "#7201a8"
            ],
            [
             0.3333333333333333,
             "#9c179e"
            ],
            [
             0.4444444444444444,
             "#bd3786"
            ],
            [
             0.5555555555555556,
             "#d8576b"
            ],
            [
             0.6666666666666666,
             "#ed7953"
            ],
            [
             0.7777777777777778,
             "#fb9f3a"
            ],
            [
             0.8888888888888888,
             "#fdca26"
            ],
            [
             1,
             "#f0f921"
            ]
           ],
           "sequentialminus": [
            [
             0,
             "#0d0887"
            ],
            [
             0.1111111111111111,
             "#46039f"
            ],
            [
             0.2222222222222222,
             "#7201a8"
            ],
            [
             0.3333333333333333,
             "#9c179e"
            ],
            [
             0.4444444444444444,
             "#bd3786"
            ],
            [
             0.5555555555555556,
             "#d8576b"
            ],
            [
             0.6666666666666666,
             "#ed7953"
            ],
            [
             0.7777777777777778,
             "#fb9f3a"
            ],
            [
             0.8888888888888888,
             "#fdca26"
            ],
            [
             1,
             "#f0f921"
            ]
           ]
          },
          "colorway": [
           "#636efa",
           "#EF553B",
           "#00cc96",
           "#ab63fa",
           "#FFA15A",
           "#19d3f3",
           "#FF6692",
           "#B6E880",
           "#FF97FF",
           "#FECB52"
          ],
          "font": {
           "color": "#2a3f5f"
          },
          "geo": {
           "bgcolor": "white",
           "lakecolor": "white",
           "landcolor": "#E5ECF6",
           "showlakes": true,
           "showland": true,
           "subunitcolor": "white"
          },
          "hoverlabel": {
           "align": "left"
          },
          "hovermode": "closest",
          "mapbox": {
           "style": "light"
          },
          "paper_bgcolor": "white",
          "plot_bgcolor": "#E5ECF6",
          "polar": {
           "angularaxis": {
            "gridcolor": "white",
            "linecolor": "white",
            "ticks": ""
           },
           "bgcolor": "#E5ECF6",
           "radialaxis": {
            "gridcolor": "white",
            "linecolor": "white",
            "ticks": ""
           }
          },
          "scene": {
           "xaxis": {
            "backgroundcolor": "#E5ECF6",
            "gridcolor": "white",
            "gridwidth": 2,
            "linecolor": "white",
            "showbackground": true,
            "ticks": "",
            "zerolinecolor": "white"
           },
           "yaxis": {
            "backgroundcolor": "#E5ECF6",
            "gridcolor": "white",
            "gridwidth": 2,
            "linecolor": "white",
            "showbackground": true,
            "ticks": "",
            "zerolinecolor": "white"
           },
           "zaxis": {
            "backgroundcolor": "#E5ECF6",
            "gridcolor": "white",
            "gridwidth": 2,
            "linecolor": "white",
            "showbackground": true,
            "ticks": "",
            "zerolinecolor": "white"
           }
          },
          "shapedefaults": {
           "line": {
            "color": "#2a3f5f"
           }
          },
          "ternary": {
           "aaxis": {
            "gridcolor": "white",
            "linecolor": "white",
            "ticks": ""
           },
           "baxis": {
            "gridcolor": "white",
            "linecolor": "white",
            "ticks": ""
           },
           "bgcolor": "#E5ECF6",
           "caxis": {
            "gridcolor": "white",
            "linecolor": "white",
            "ticks": ""
           }
          },
          "title": {
           "x": 0.05
          },
          "xaxis": {
           "automargin": true,
           "gridcolor": "white",
           "linecolor": "white",
           "ticks": "",
           "title": {
            "standoff": 15
           },
           "zerolinecolor": "white",
           "zerolinewidth": 2
          },
          "yaxis": {
           "automargin": true,
           "gridcolor": "white",
           "linecolor": "white",
           "ticks": "",
           "title": {
            "standoff": 15
           },
           "zerolinecolor": "white",
           "zerolinewidth": 2
          }
         }
        },
        "title": {
         "text": "Top 10 grupos: Energía total vs Porcentaje (tamaño por viviendas)"
        },
        "xaxis": {
         "anchor": "y",
         "domain": [
          0,
          1
         ],
         "tickformat": ".2e",
         "title": {
          "text": "Energía total (etotal)"
         }
        },
        "yaxis": {
         "anchor": "x",
         "domain": [
          0,
          1
         ],
         "ticksuffix": "%",
         "title": {
          "text": "Porcentaje (%)"
         }
        }
       }
      },
      "image/png": "[encoded data removed]"
     },
     "metadata": {},
     "output_type": "display_data"
    }
   ],
   "source": [
    "\n",
    "# Ordenar y seleccionar top 10 grupos por etotal\n",
    "df_top10 = (\n",
    "    grouped_kwhmes\n",
    "    .sort_values(by='etotal', ascending=False)\n",
    "    # .head(30)\n",
    "    .reset_index()\n",
    ")\n",
    "\n",
    "# Crear gráfica de burbujas: etotal vs porcentaje, tamaño por viviendas, color por clima\n",
    "fig = px.scatter(\n",
    "    df_top10,\n",
    "    x='etotal',\n",
    "    y='porcentaje',\n",
    "    size='viviendas',\n",
    "    color='clima',\n",
    "    hover_data=['m2', 'estrato', 'viviendas', 'porcentaje', 'etotal'],\n",
    "    labels={\n",
    "        'etotal': 'Energía total (etotal)',\n",
    "        'porcentaje': 'Porcentaje (%)',\n",
    "        'viviendas': 'Número de viviendas',\n",
    "        'clima': 'Clima'\n",
    "    },\n",
    "    title='Top 10 grupos: Energía total vs Porcentaje (tamaño por viviendas)',\n",
    "    size_max=60\n",
    ")\n",
    "\n",
    "fig.update_layout(\n",
    "    xaxis=dict(tickformat=\".2e\"),\n",
    "    yaxis=dict(ticksuffix=\"%\")\n",
    ")\n",
    "\n",
    "fig.show()\n"
   ]
  },
  {
   "cell_type": "code",
   "execution_count": 20,
   "id": "daa17f81-e94c-4c4e-afa7-b9c109527534",
   "metadata": {},
   "outputs": [
    {
     "data": {
      "application/vnd.plotly.v1+json": {
       "config": {
        "plotlyServerURL": "https://plot.ly"
       },
       "data": [
        {
         "customdata": [
          [
           200,
           "Medio bajo",
           324943,
           121160744.13624041
          ],
          [
           100,
           "Bajo",
           214275,
           57807354.28690134
          ],
          [
           200,
           "Medio alto",
           192938,
           52803754.89480527
          ],
          [
           200,
           "Alto",
           81896.00000000001,
           40746698.50776669
          ],
          [
           100,
           "Alto",
           75815,
           26289983.43074482
          ],
          [
           150,
           "Medio bajo",
           46710,
           11600826.131128198
          ],
          [
           75,
           "Medio alto",
           33228,
           10217787.282761404
          ],
          [
           200,
           "Bajo",
           28201.000000000004,
           8064851.754424576
          ],
          [
           30,
           "Medio bajo",
           39687,
           5473905.04357605
          ],
          [
           75,
           "Medio bajo",
           28533,
           5077525.724982422
          ],
          [
           30,
           "Medio alto",
           15521,
           3782800.422142264
          ],
          [
           150,
           "Bajo",
           11655,
           2549617.165540302
          ],
          [
           75,
           "Bajo",
           16164,
           2089006.7464651319
          ],
          [
           100,
           "Medio bajo",
           8953,
           1968516.6019011727
          ],
          [
           150,
           "Medio alto",
           7152.000000000001,
           1773527.7526401025
          ],
          [
           30,
           "Bajo",
           9451.000000000002,
           946084.1738099627
          ],
          [
           150,
           "Alto",
           3987,
           911997.5255963264
          ],
          [
           55,
           "Bajo",
           4109.999999999999,
           875033.8811800705
          ],
          [
           100,
           "Medio alto",
           2843,
           704266.3380110312
          ],
          [
           75,
           "Alto",
           1515,
           400310.59716694796
          ],
          [
           55,
           "Medio alto",
           1372,
           345721.500866612
          ],
          [
           55,
           "Medio bajo",
           1416.9999999999998,
           257158.8002836386
          ],
          [
           30,
           "Alto",
           1112.0000000000002,
           126107.88600910347
          ],
          [
           55,
           "Alto",
           214,
           33408.92151495891
          ]
         ],
         "hovertemplate": "Clima=Cálido extremoso<br>Media=%{x}<br>Porcentaje (%)=%{y}<br>Número de viviendas=%{customdata[2]}<br>m2=%{customdata[0]}<br>estrato=%{customdata[1]}<br>Energía total (etotal)=%{customdata[3]}<extra></extra>",
         "legendgroup": "Cálido extremoso",
         "marker": {
          "color": "#636efa",
          "size": {
           "bdata": "AAAAADzVE0EAAAAAGCgKQQAAAABQjQdBAQAAAID+80AAAAAAcILyQAAAAADAzuZAAAAAAIA54EABAAAAQIrbQAAAAADgYONAAAAAAEDd20AAAAAAgFDOQAAAAACAw8ZAAAAAAACSz0AAAAAAgHzBQAEAAAAA8LtAAQAAAIB1wkAAAAAAACavQP//////DbBAAAAAAAA2pkAAAAAAAKyXQAAAAAAAcJVA//////8jlkABAAAAAGCRQAAAAAAAwGpA",
           "dtype": "f8"
          },
          "sizemode": "area",
          "sizeref": 90.26194444444444,
          "symbol": "circle"
         },
         "mode": "markers",
         "name": "Cálido extremoso",
         "orientation": "v",
         "showlegend": true,
         "type": "scatter",
         "x": {
          "bdata": "G0SRCeJNd0DtRCuPf9xwQGtG+ojrGnFARy/M+asYf0CI098qPax1QEyswe94C29AfhqD2hU4c0AsMFbho99xQPkR0TKpPWFAXYvl5nw+ZkDYDdcCFnduQB2ISGM8WGtANEIZlJ8nYEBtD0TK6XtrQIYHgkk//25A/6UmI6oGWUB6JAn7xJdsQFXGAnbqnGpArO74kAX3bkCG6Zjis4NwQIcyQal5f29A5g2SpGWvZkCVuwEBAlpcQLe4QQG6g2NA",
          "dtype": "f8"
         },
         "xaxis": "x",
         "y": {
          "bdata": "biWIvQVb7z/wt+a6NK3kPz7jFvkenuI/NXlLP0Oczz81QQnnY0PNP7nCRKF7B8I/yGkoJp2muT/c26/cKcW1P68wamkPo74/cThaOsYGtj+o0Lg1nPanPzzvmwOX/qE/AeT31MD0qD95YqB9RaWbP+2Yc5aYFZY//I2er+8unT8cXNZRYZ+IP92f21HXYYk/tRPqPryOgT8BAj0TYbZyP+fvgc438nA/uScPqYGAcT+JzBWjNnhrP+QjO15JJUU/",
          "dtype": "f8"
         },
         "yaxis": "y"
        }
       ],
       "layout": {
        "legend": {
         "itemsizing": "constant",
         "title": {
          "text": "Clima"
         },
         "tracegroupgap": 0
        },
        "template": {
         "data": {
          "bar": [
           {
            "error_x": {
             "color": "#2a3f5f"
            },
            "error_y": {
             "color": "#2a3f5f"
            },
            "marker": {
             "line": {
              "color": "#E5ECF6",
              "width": 0.5
             },
             "pattern": {
              "fillmode": "overlay",
              "size": 10,
              "solidity": 0.2
             }
            },
            "type": "bar"
           }
          ],
          "barpolar": [
           {
            "marker": {
             "line": {
              "color": "#E5ECF6",
              "width": 0.5
             },
             "pattern": {
              "fillmode": "overlay",
              "size": 10,
              "solidity": 0.2
             }
            },
            "type": "barpolar"
           }
          ],
          "carpet": [
           {
            "aaxis": {
             "endlinecolor": "#2a3f5f",
             "gridcolor": "white",
             "linecolor": "white",
             "minorgridcolor": "white",
             "startlinecolor": "#2a3f5f"
            },
            "baxis": {
             "endlinecolor": "#2a3f5f",
             "gridcolor": "white",
             "linecolor": "white",
             "minorgridcolor": "white",
             "startlinecolor": "#2a3f5f"
            },
            "type": "carpet"
           }
          ],
          "choropleth": [
           {
            "colorbar": {
             "outlinewidth": 0,
             "ticks": ""
            },
            "type": "choropleth"
           }
          ],
          "contour": [
           {
            "colorbar": {
             "outlinewidth": 0,
             "ticks": ""
            },
            "colorscale": [
             [
              0,
              "#0d0887"
             ],
             [
              0.1111111111111111,
              "#46039f"
             ],
             [
              0.2222222222222222,
              "#7201a8"
             ],
             [
              0.3333333333333333,
              "#9c179e"
             ],
             [
              0.4444444444444444,
              "#bd3786"
             ],
             [
              0.5555555555555556,
              "#d8576b"
             ],
             [
              0.6666666666666666,
              "#ed7953"
             ],
             [
              0.7777777777777778,
              "#fb9f3a"
             ],
             [
              0.8888888888888888,
              "#fdca26"
             ],
             [
              1,
              "#f0f921"
             ]
            ],
            "type": "contour"
           }
          ],
          "contourcarpet": [
           {
            "colorbar": {
             "outlinewidth": 0,
             "ticks": ""
            },
            "type": "contourcarpet"
           }
          ],
          "heatmap": [
           {
            "colorbar": {
             "outlinewidth": 0,
             "ticks": ""
            },
            "colorscale": [
             [
              0,
              "#0d0887"
             ],
             [
              0.1111111111111111,
              "#46039f"
             ],
             [
              0.2222222222222222,
              "#7201a8"
             ],
             [
              0.3333333333333333,
              "#9c179e"
             ],
             [
              0.4444444444444444,
              "#bd3786"
             ],
             [
              0.5555555555555556,
              "#d8576b"
             ],
             [
              0.6666666666666666,
              "#ed7953"
             ],
             [
              0.7777777777777778,
              "#fb9f3a"
             ],
             [
              0.8888888888888888,
              "#fdca26"
             ],
             [
              1,
              "#f0f921"
             ]
            ],
            "type": "heatmap"
           }
          ],
          "histogram": [
           {
            "marker": {
             "pattern": {
              "fillmode": "overlay",
              "size": 10,
              "solidity": 0.2
             }
            },
            "type": "histogram"
           }
          ],
          "histogram2d": [
           {
            "colorbar": {
             "outlinewidth": 0,
             "ticks": ""
            },
            "colorscale": [
             [
              0,
              "#0d0887"
             ],
             [
              0.1111111111111111,
              "#46039f"
             ],
             [
              0.2222222222222222,
              "#7201a8"
             ],
             [
              0.3333333333333333,
              "#9c179e"
             ],
             [
              0.4444444444444444,
              "#bd3786"
             ],
             [
              0.5555555555555556,
              "#d8576b"
             ],
             [
              0.6666666666666666,
              "#ed7953"
             ],
             [
              0.7777777777777778,
              "#fb9f3a"
             ],
             [
              0.8888888888888888,
              "#fdca26"
             ],
             [
              1,
              "#f0f921"
             ]
            ],
            "type": "histogram2d"
           }
          ],
          "histogram2dcontour": [
           {
            "colorbar": {
             "outlinewidth": 0,
             "ticks": ""
            },
            "colorscale": [
             [
              0,
              "#0d0887"
             ],
             [
              0.1111111111111111,
              "#46039f"
             ],
             [
              0.2222222222222222,
              "#7201a8"
             ],
             [
              0.3333333333333333,
              "#9c179e"
             ],
             [
              0.4444444444444444,
              "#bd3786"
             ],
             [
              0.5555555555555556,
              "#d8576b"
             ],
             [
              0.6666666666666666,
              "#ed7953"
             ],
             [
              0.7777777777777778,
              "#fb9f3a"
             ],
             [
              0.8888888888888888,
              "#fdca26"
             ],
             [
              1,
              "#f0f921"
             ]
            ],
            "type": "histogram2dcontour"
           }
          ],
          "mesh3d": [
           {
            "colorbar": {
             "outlinewidth": 0,
             "ticks": ""
            },
            "type": "mesh3d"
           }
          ],
          "parcoords": [
           {
            "line": {
             "colorbar": {
              "outlinewidth": 0,
              "ticks": ""
             }
            },
            "type": "parcoords"
           }
          ],
          "pie": [
           {
            "automargin": true,
            "type": "pie"
           }
          ],
          "scatter": [
           {
            "fillpattern": {
             "fillmode": "overlay",
             "size": 10,
             "solidity": 0.2
            },
            "type": "scatter"
           }
          ],
          "scatter3d": [
           {
            "line": {
             "colorbar": {
              "outlinewidth": 0,
              "ticks": ""
             }
            },
            "marker": {
             "colorbar": {
              "outlinewidth": 0,
              "ticks": ""
             }
            },
            "type": "scatter3d"
           }
          ],
          "scattercarpet": [
           {
            "marker": {
             "colorbar": {
              "outlinewidth": 0,
              "ticks": ""
             }
            },
            "type": "scattercarpet"
           }
          ],
          "scattergeo": [
           {
            "marker": {
             "colorbar": {
              "outlinewidth": 0,
              "ticks": ""
             }
            },
            "type": "scattergeo"
           }
          ],
          "scattergl": [
           {
            "marker": {
             "colorbar": {
              "outlinewidth": 0,
              "ticks": ""
             }
            },
            "type": "scattergl"
           }
          ],
          "scattermap": [
           {
            "marker": {
             "colorbar": {
              "outlinewidth": 0,
              "ticks": ""
             }
            },
            "type": "scattermap"
           }
          ],
          "scattermapbox": [
           {
            "marker": {
             "colorbar": {
              "outlinewidth": 0,
              "ticks": ""
             }
            },
            "type": "scattermapbox"
           }
          ],
          "scatterpolar": [
           {
            "marker": {
             "colorbar": {
              "outlinewidth": 0,
              "ticks": ""
             }
            },
            "type": "scatterpolar"
           }
          ],
          "scatterpolargl": [
           {
            "marker": {
             "colorbar": {
              "outlinewidth": 0,
              "ticks": ""
             }
            },
            "type": "scatterpolargl"
           }
          ],
          "scatterternary": [
           {
            "marker": {
             "colorbar": {
              "outlinewidth": 0,
              "ticks": ""
             }
            },
            "type": "scatterternary"
           }
          ],
          "surface": [
           {
            "colorbar": {
             "outlinewidth": 0,
             "ticks": ""
            },
            "colorscale": [
             [
              0,
              "#0d0887"
             ],
             [
              0.1111111111111111,
              "#46039f"
             ],
             [
              0.2222222222222222,
              "#7201a8"
             ],
             [
              0.3333333333333333,
              "#9c179e"
             ],
             [
              0.4444444444444444,
              "#bd3786"
             ],
             [
              0.5555555555555556,
              "#d8576b"
             ],
             [
              0.6666666666666666,
              "#ed7953"
             ],
             [
              0.7777777777777778,
              "#fb9f3a"
             ],
             [
              0.8888888888888888,
              "#fdca26"
             ],
             [
              1,
              "#f0f921"
             ]
            ],
            "type": "surface"
           }
          ],
          "table": [
           {
            "cells": {
             "fill": {
              "color": "#EBF0F8"
             },
             "line": {
              "color": "white"
             }
            },
            "header": {
             "fill": {
              "color": "#C8D4E3"
             },
             "line": {
              "color": "white"
             }
            },
            "type": "table"
           }
          ]
         },
         "layout": {
          "annotationdefaults": {
           "arrowcolor": "#2a3f5f",
           "arrowhead": 0,
           "arrowwidth": 1
          },
          "autotypenumbers": "strict",
          "coloraxis": {
           "colorbar": {
            "outlinewidth": 0,
            "ticks": ""
           }
          },
          "colorscale": {
           "diverging": [
            [
             0,
             "#8e0152"
            ],
            [
             0.1,
             "#c51b7d"
            ],
            [
             0.2,
             "#de77ae"
            ],
            [
             0.3,
             "#f1b6da"
            ],
            [
             0.4,
             "#fde0ef"
            ],
            [
             0.5,
             "#f7f7f7"
            ],
            [
             0.6,
             "#e6f5d0"
            ],
            [
             0.7,
             "#b8e186"
            ],
            [
             0.8,
             "#7fbc41"
            ],
            [
             0.9,
             "#4d9221"
            ],
            [
             1,
             "#276419"
            ]
           ],
           "sequential": [
            [
             0,
             "#0d0887"
            ],
            [
             0.1111111111111111,
             "#46039f"
            ],
            [
             0.2222222222222222,
             "#7201a8"
            ],
            [
             0.3333333333333333,
             "#9c179e"
            ],
            [
             0.4444444444444444,
             "#bd3786"
            ],
            [
             0.5555555555555556,
             "#d8576b"
            ],
            [
             0.6666666666666666,
             "#ed7953"
            ],
            [
             0.7777777777777778,
             "#fb9f3a"
            ],
            [
             0.8888888888888888,
             "#fdca26"
            ],
            [
             1,
             "#f0f921"
            ]
           ],
           "sequentialminus": [
            [
             0,
             "#0d0887"
            ],
            [
             0.1111111111111111,
             "#46039f"
            ],
            [
             0.2222222222222222,
             "#7201a8"
            ],
            [
             0.3333333333333333,
             "#9c179e"
            ],
            [
             0.4444444444444444,
             "#bd3786"
            ],
            [
             0.5555555555555556,
             "#d8576b"
            ],
            [
             0.6666666666666666,
             "#ed7953"
            ],
            [
             0.7777777777777778,
             "#fb9f3a"
            ],
            [
             0.8888888888888888,
             "#fdca26"
            ],
            [
             1,
             "#f0f921"
            ]
           ]
          },
          "colorway": [
           "#636efa",
           "#EF553B",
           "#00cc96",
           "#ab63fa",
           "#FFA15A",
           "#19d3f3",
           "#FF6692",
           "#B6E880",
           "#FF97FF",
           "#FECB52"
          ],
          "font": {
           "color": "#2a3f5f"
          },
          "geo": {
           "bgcolor": "white",
           "lakecolor": "white",
           "landcolor": "#E5ECF6",
           "showlakes": true,
           "showland": true,
           "subunitcolor": "white"
          },
          "hoverlabel": {
           "align": "left"
          },
          "hovermode": "closest",
          "mapbox": {
           "style": "light"
          },
          "paper_bgcolor": "white",
          "plot_bgcolor": "#E5ECF6",
          "polar": {
           "angularaxis": {
            "gridcolor": "white",
            "linecolor": "white",
            "ticks": ""
           },
           "bgcolor": "#E5ECF6",
           "radialaxis": {
            "gridcolor": "white",
            "linecolor": "white",
            "ticks": ""
           }
          },
          "scene": {
           "xaxis": {
            "backgroundcolor": "#E5ECF6",
            "gridcolor": "white",
            "gridwidth": 2,
            "linecolor": "white",
            "showbackground": true,
            "ticks": "",
            "zerolinecolor": "white"
           },
           "yaxis": {
            "backgroundcolor": "#E5ECF6",
            "gridcolor": "white",
            "gridwidth": 2,
            "linecolor": "white",
            "showbackground": true,
            "ticks": "",
            "zerolinecolor": "white"
           },
           "zaxis": {
            "backgroundcolor": "#E5ECF6",
            "gridcolor": "white",
            "gridwidth": 2,
            "linecolor": "white",
            "showbackground": true,
            "ticks": "",
            "zerolinecolor": "white"
           }
          },
          "shapedefaults": {
           "line": {
            "color": "#2a3f5f"
           }
          },
          "ternary": {
           "aaxis": {
            "gridcolor": "white",
            "linecolor": "white",
            "ticks": ""
           },
           "baxis": {
            "gridcolor": "white",
            "linecolor": "white",
            "ticks": ""
           },
           "bgcolor": "#E5ECF6",
           "caxis": {
            "gridcolor": "white",
            "linecolor": "white",
            "ticks": ""
           }
          },
          "title": {
           "x": 0.05
          },
          "xaxis": {
           "automargin": true,
           "gridcolor": "white",
           "linecolor": "white",
           "ticks": "",
           "title": {
            "standoff": 15
           },
           "zerolinecolor": "white",
           "zerolinewidth": 2
          },
          "yaxis": {
           "automargin": true,
           "gridcolor": "white",
           "linecolor": "white",
           "ticks": "",
           "title": {
            "standoff": 15
           },
           "zerolinecolor": "white",
           "zerolinewidth": 2
          }
         }
        },
        "title": {
         "text": "Top 10 grupos: Energía total vs Porcentaje (tamaño por viviendas)"
        },
        "xaxis": {
         "anchor": "y",
         "domain": [
          0,
          1
         ],
         "tickformat": ".2e",
         "title": {
          "text": "Media"
         }
        },
        "yaxis": {
         "anchor": "x",
         "domain": [
          0,
          1
         ],
         "ticksuffix": "%",
         "title": {
          "text": "Porcentaje (%)"
         }
        }
       }
      },
      "image/png": "[encoded data removed]"
     },
     "metadata": {},
     "output_type": "display_data"
    }
   ],
   "source": [
    "\n",
    "# Ordenar y seleccionar top 10 grupos por etotal\n",
    "df_top10 = (\n",
    "    grouped_kwhmes\n",
    "    .sort_values(by='etotal', ascending=False)\n",
    "    # .head(30)\n",
    "    .reset_index()\n",
    ")\n",
    "\n",
    "# Crear gráfica de burbujas: etotal vs porcentaje, tamaño por viviendas, color por clima\n",
    "fig = px.scatter(\n",
    "    df_top10,\n",
    "    x='Media',\n",
    "    y='porcentaje',\n",
    "    size='viviendas',\n",
    "    color='clima',\n",
    "    hover_data=['m2', 'estrato', 'viviendas', 'porcentaje', 'etotal'],\n",
    "    labels={\n",
    "        'etotal': 'Energía total (etotal)',\n",
    "        'porcentaje': 'Porcentaje (%)',\n",
    "        'viviendas': 'Número de viviendas',\n",
    "        'clima': 'Clima'\n",
    "    },\n",
    "    title='Top 10 grupos: Energía total vs Porcentaje (tamaño por viviendas)',\n",
    "    size_max=60\n",
    ")\n",
    "\n",
    "fig.update_layout(\n",
    "    xaxis=dict(tickformat=\".2e\"),\n",
    "    yaxis=dict(ticksuffix=\"%\")\n",
    ")\n",
    "\n",
    "fig.show()\n"
   ]
  },
  {
   "cell_type": "code",
   "execution_count": null,
   "id": "3a736fd7-c63f-4f25-a214-0849f4050a64",
   "metadata": {},
   "outputs": [],
   "source": []
  },
  {
   "cell_type": "code",
   "execution_count": null,
   "id": "e90b7a14-4e88-4a88-8d3a-8499446b86cc",
   "metadata": {},
   "outputs": [],
   "source": []
  },
  {
   "cell_type": "code",
   "execution_count": null,
   "id": "926acdc2-fe89-4ef1-b79e-db81fe3423a1",
   "metadata": {},
   "outputs": [],
   "source": []
  },
  {
   "cell_type": "code",
   "execution_count": null,
   "id": "74065f44-f764-45c0-b96b-7d0818668327",
   "metadata": {},
   "outputs": [],
   "source": []
  }
 ],
 "metadata": {
  "kernelspec": {
   "display_name": "Python 3 (ipykernel)",
   "language": "python",
   "name": "python3"
  },
  "language_info": {
   "codemirror_mode": {
    "name": "ipython",
    "version": 3
   },
   "file_extension": ".py",
   "mimetype": "text/x-python",
   "name": "python",
   "nbconvert_exporter": "python",
   "pygments_lexer": "ipython3",
   "version": "3.10.17"
  }
 },
 "nbformat": 4,
 "nbformat_minor": 5
}
