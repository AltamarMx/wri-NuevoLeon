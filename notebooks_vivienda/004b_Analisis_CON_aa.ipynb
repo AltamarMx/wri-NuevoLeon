{
 "cells": [
  {
   "cell_type": "code",
   "execution_count": 1,
   "id": "a20d8b29-c405-4fc4-9f2d-ce7018cf23fa",
   "metadata": {},
   "outputs": [],
   "source": [
    "import pandas as pd\n",
    "import numpy as np\n",
    "from tabulate import tabulate\n",
    "import seaborn as sns\n",
    "from matplotlib.patches import Patch\n",
    "import matplotlib.pyplot as plt\n",
    "import plotly.express as px\n",
    "from textwrap import indent"
   ]
  },
  {
   "cell_type": "code",
   "execution_count": 2,
   "id": "1ca2456d-7d6c-4034-87ed-f0616d132804",
   "metadata": {},
   "outputs": [],
   "source": [
    "def box_summary(\n",
    "    df: pd.DataFrame,\n",
    "    value_col: str,\n",
    "    *,\n",
    "    group_cols=(\"clima\", \"estrato\", \"m2\"),\n",
    "    total_viviendas: int | None = None\n",
    ") -> pd.DataFrame:\n",
    "    \"\"\"\n",
    "    Resume la distribución de `value_col` para cada combinación de `group_cols`.\n",
    "\n",
    "    Parámetros\n",
    "    ----------\n",
    "    df : DataFrame ya *expandido* (cada fila cuenta 1 vez).\n",
    "    value_col : columna numérica a resumir (p.ej. 'kwh_mes', 'kwh_m2persona').\n",
    "    group_cols : tupla/lista de columnas de agrupamiento.\n",
    "    total_viviendas : total con que normalizar la columna 'n'; si es None,\n",
    "                      no se añade la columna 'pct_viv'.\n",
    "\n",
    "    Devuelve\n",
    "    --------\n",
    "    DataFrame con columnas:\n",
    "      group_cols + [n, minimo, Q1, mediana, Q3, maximo, media, (pct_viv)]\n",
    "    \"\"\"\n",
    "    grp = df.groupby(list(group_cols))[value_col]\n",
    "\n",
    "    resumen = (\n",
    "        grp.agg(\n",
    "            n       = \"size\",\n",
    "            minimo  = \"min\",\n",
    "            Q1      = lambda s: s.quantile(0.25),\n",
    "            mediana = \"median\",\n",
    "            Q3      = lambda s: s.quantile(0.75),\n",
    "            maximo  = \"max\",\n",
    "            media   = \"mean\",\n",
    "        )\n",
    "        .reset_index()\n",
    "    )\n",
    "\n",
    "    # Añade el porcentaje si se proporciona el total\n",
    "    if total_viviendas is not None:\n",
    "        resumen[\"pct_viv\"] = (resumen[\"n\"] / total_viviendas) * 100\n",
    "        resumen[\"pct_viv\"] = resumen[\"pct_viv\"].round(2)\n",
    "\n",
    "    return resumen\n",
    "\n",
    "def make_box_tables(\n",
    "    resumen: pd.DataFrame,\n",
    "    *,\n",
    "    climates: list[str] | None = None,\n",
    "    estrato_order: list[str] | None = None,\n",
    "    pct_col: str = \"porcentaje\",      # ← nombre de la columna a añadir\n",
    "    pct_name: str = \"%Viviendas\"      # ← nombre que aparecerá en la tabla\n",
    ") -> dict[tuple[str, str], pd.DataFrame]:\n",
    "    \"\"\"\n",
    "    Crea un diccionario de DataFrames con las estadísticas (P25, Mediana, Media,\n",
    "    P75) *más* el porcentaje de viviendas para cada combinación clima-estrato.\n",
    "\n",
    "    Parameters\n",
    "    ----------\n",
    "    resumen : DataFrame\n",
    "        Debe contener: clima, estrato, m2, Q1, mediana, media, Q3 y `pct_col`.\n",
    "    climates : lista explícita de climas a incluir (default: todos).\n",
    "    estrato_order : orden deseado de estratos (default: ['Bajo','Medio bajo',…]).\n",
    "    pct_col : nombre de la columna en `resumen` con el porcentaje.\n",
    "    pct_name : encabezado que se mostrará en la tabla para ese porcentaje.\n",
    "\n",
    "    Returns\n",
    "    -------\n",
    "    dict { (clima, estrato) : DataFrame }\n",
    "        Columnas por defecto:\n",
    "        ['m²', 'P25', 'Mediana', 'Media', 'P75', '%Viviendas']\n",
    "    \"\"\"\n",
    "    if climates is None:\n",
    "        climates = sorted(resumen[\"clima\"].unique())\n",
    "    if estrato_order is None:\n",
    "        estrato_order = [\"Bajo\", \"Medio bajo\", \"Medio alto\", \"Alto\"]\n",
    "\n",
    "    tables: dict[tuple[str, str], pd.DataFrame] = {}\n",
    "\n",
    "    for clima in climates:\n",
    "        df_clima = resumen[resumen[\"clima\"] == clima]\n",
    "        for estrato in estrato_order:\n",
    "            sub = df_clima[df_clima[\"estrato\"] == estrato].copy()\n",
    "            if sub.empty:\n",
    "                continue\n",
    "\n",
    "            tidy = (\n",
    "                sub[[\"m2\", \"Q1\", \"mediana\", \"media\", \"Q3\", pct_col]]\n",
    "                .rename(\n",
    "                    columns={\n",
    "                        \"m2\": \"m²\",\n",
    "                        \"Q1\": \"P25\",\n",
    "                        \"mediana\": \"Mediana\",\n",
    "                        \"media\": \"Media\",\n",
    "                        \"Q3\": \"P75\",\n",
    "                        pct_col: pct_name,\n",
    "                    }\n",
    "                )\n",
    "                .sort_values(\"m²\", kind=\"mergesort\")   # orden estable\n",
    "                .reset_index(drop=True)\n",
    "            )\n",
    "            tables[(clima, estrato)] = tidy\n",
    "\n",
    "    return tables\n",
    "\n",
    "\n",
    "\n",
    "# --- 2.  Función auxiliar: DataFrame → Markdown (sin índice, 2 decimales) ----\n",
    "def df_to_md(df: pd.DataFrame) -> str:\n",
    "    \"\"\"\n",
    "    Devuelve una cadena en formato GitHub-Markdown con 2 decimales\n",
    "    y sin columna índice.\n",
    "    \"\"\"\n",
    "    return df.round(2).to_markdown(index=False)"
   ]
  },
  {
   "cell_type": "code",
   "execution_count": 3,
   "id": "49bd9e57-3932-49f3-a66e-56f8bed150ba",
   "metadata": {},
   "outputs": [],
   "source": [
    "total_viviendas = 33_162_148"
   ]
  },
  {
   "cell_type": "code",
   "execution_count": 4,
   "id": "f45fa825-9800-4a65-92e5-e2bd71b70e82",
   "metadata": {},
   "outputs": [
    {
     "data": {
      "text/plain": [
       "Index(['clima', 'factor', 'personas', 'm2', 'estrato', 'kwh_mes', 'kwh_m2',\n",
       "       'kwh_persona', 'kwh_m2persona'],\n",
       "      dtype='object')"
      ]
     },
     "execution_count": 4,
     "metadata": {},
     "output_type": "execute_result"
    }
   ],
   "source": [
    "f =\"../data/002_intermediate/vivienda_con_aa.parquet\"\n",
    "viv =pd.read_parquet(f)\n",
    "f = \"../data/002_intermediate/porcentajes_aa.parquet\"\n",
    "porcentajes_aa = pd.read_parquet(f)\n",
    "viv.factor.sum()\n",
    "viv.columns"
   ]
  },
  {
   "cell_type": "code",
   "execution_count": 5,
   "id": "b71d8aac-f8c2-4485-9e3e-f6acfd923397",
   "metadata": {},
   "outputs": [
    {
     "data": {
      "text/plain": [
       "np.float64(7.767168761203286)"
      ]
     },
     "execution_count": 5,
     "metadata": {},
     "output_type": "execute_result"
    }
   ],
   "source": [
    "viv.factor.sum()/total_viviendas*100"
   ]
  },
  {
   "cell_type": "code",
   "execution_count": 6,
   "id": "41139f49-0803-46de-926e-898540d08c30",
   "metadata": {},
   "outputs": [
    {
     "name": "stdout",
     "output_type": "stream",
     "text": [
      "<class 'pandas.core.frame.DataFrame'>\n",
      "RangeIndex: 2579752 entries, 0 to 2579751\n",
      "Data columns (total 9 columns):\n",
      " #   Column         Dtype  \n",
      "---  ------         -----  \n",
      " 0   clima          object \n",
      " 1   factor         int64  \n",
      " 2   personas       int64  \n",
      " 3   m2             float64\n",
      " 4   estrato        object \n",
      " 5   kwh_mes        float64\n",
      " 6   kwh_m2         float64\n",
      " 7   kwh_persona    float64\n",
      " 8   kwh_m2persona  float64\n",
      "dtypes: float64(5), int64(2), object(2)\n",
      "memory usage: 177.1+ MB\n"
     ]
    }
   ],
   "source": [
    "viv_expandida = viv.loc[viv.index.repeat(viv[\"factor\"])].reset_index(drop=True)\n",
    "viv_expandida.info()"
   ]
  },
  {
   "cell_type": "code",
   "execution_count": 7,
   "id": "fcd22362-8e09-4974-b4a3-ebdc596a622d",
   "metadata": {},
   "outputs": [
    {
     "data": {
      "text/plain": [
       "<seaborn.axisgrid.FacetGrid at 0x1394a8c40>"
      ]
     },
     "execution_count": 7,
     "metadata": {},
     "output_type": "execute_result"
    },
    {
     "data": {
      "image/png": "[encoded data removed]",
      "text/plain": [
       "<Figure size 1289.5x400 with 3 Axes>"
      ]
     },
     "metadata": {},
     "output_type": "display_data"
    }
   ],
   "source": [
    "#| label: fig-mensual-con-aa\n",
    "#| fig-cap: Consumo total mensual de la vivienda para los diferentes climas y estratos socioeconómicos y con uso de aire acondicionado.\n",
    "\n",
    "m2_list = sorted(viv['m2'].unique())\n",
    "colors = sns.color_palette('Set2', n_colors=len(m2_list))\n",
    "palette_dict = {m2: colors[i] for i, m2 in enumerate(m2_list)}\n",
    "estrato_order = ['Bajo', 'Medio bajo', 'Medio alto', 'Alto']\n",
    "\n",
    "\n",
    "g = sns.catplot(\n",
    "    data=viv_expandida,\n",
    "    x='estrato',\n",
    "    y='kwh_mes',\n",
    "    hue='m2',\n",
    "    palette=palette_dict,\n",
    "    col='clima',\n",
    "    kind='box',\n",
    "    order=estrato_order,\n",
    "    col_wrap=3,\n",
    "    height=4,\n",
    "    sharey=True,\n",
    "    whis=[25, 75],\n",
    "    showfliers=False,\n",
    "    legend=True,\n",
    ")\n",
    "\n",
    "g.set_axis_labels(\"Estrato\", \"Consumo total mensual (kWh)\")"
   ]
  },
  {
   "cell_type": "code",
   "execution_count": 8,
   "id": "6a9d769c-1113-41c7-9452-e0b30fa7622d",
   "metadata": {},
   "outputs": [
    {
     "data": {
      "text/plain": [
       "Index(['clima', 'factor', 'personas', 'm2', 'estrato', 'kwh_mes', 'kwh_m2',\n",
       "       'kwh_persona', 'kwh_m2persona'],\n",
       "      dtype='object')"
      ]
     },
     "execution_count": 8,
     "metadata": {},
     "output_type": "execute_result"
    }
   ],
   "source": [
    "viv_expandida.columns"
   ]
  },
  {
   "cell_type": "code",
   "execution_count": 9,
   "id": "c1efe989-ba32-4f4d-9a00-485933725d5e",
   "metadata": {},
   "outputs": [
    {
     "data": {
      "text/plain": [
       "<seaborn.axisgrid.FacetGrid at 0x1394a9090>"
      ]
     },
     "execution_count": 9,
     "metadata": {},
     "output_type": "execute_result"
    },
    {
     "data": {
      "image/png": "[encoded data removed]",
      "text/plain": [
       "<Figure size 1289.5x400 with 3 Axes>"
      ]
     },
     "metadata": {},
     "output_type": "display_data"
    }
   ],
   "source": [
    "#| label: fig-mensual-personam2-con-aa\n",
    "#| fig-cap: Consumo total mensual de la vivienda para los diferentes climas y estratos socioeconómicos y con uso de aire acondicionado.\n",
    "\n",
    "m2_list = sorted(viv['m2'].unique())\n",
    "colors = sns.color_palette('Set2', n_colors=len(m2_list))\n",
    "palette_dict = {m2: colors[i] for i, m2 in enumerate(m2_list)}\n",
    "estrato_order = ['Bajo', 'Medio bajo', 'Medio alto', 'Alto']\n",
    "\n",
    "\n",
    "g = sns.catplot(\n",
    "    data=viv_expandida,\n",
    "    x='estrato',\n",
    "    y='kwh_m2persona',\n",
    "    hue='m2',\n",
    "    palette=palette_dict,\n",
    "    col='clima',\n",
    "    kind='box',\n",
    "    order=estrato_order,\n",
    "    col_wrap=3,\n",
    "    height=4,\n",
    "    sharey=True,\n",
    "    whis=[25, 75],\n",
    "    showfliers=False,\n",
    "    legend=True,\n",
    ")\n",
    "\n",
    "g.set_axis_labels(\"Estrato\", \"Consumo mensual (kWh/(persona m2))\")"
   ]
  },
  {
   "cell_type": "code",
   "execution_count": 10,
   "id": "86c388a3-b0b1-41c5-91af-ef01ec011a4a",
   "metadata": {},
   "outputs": [
    {
     "data": {
      "text/plain": [
       "Index(['clima', 'factor', 'personas', 'm2', 'estrato', 'kwh_mes', 'kwh_m2',\n",
       "       'kwh_persona', 'kwh_m2persona'],\n",
       "      dtype='object')"
      ]
     },
     "execution_count": 10,
     "metadata": {},
     "output_type": "execute_result"
    }
   ],
   "source": [
    "viv_expandida.columns"
   ]
  },
  {
   "cell_type": "code",
   "execution_count": 11,
   "id": "21959e5e-5368-4e12-891e-7019b21f9c55",
   "metadata": {},
   "outputs": [
    {
     "data": {
      "text/plain": [
       "(               clima     estrato     m2       n      minimo          Q1  \\\n",
       " 0   Cálido extremoso        Alto   30.0    1112  113.406372  113.406372   \n",
       " 1   Cálido extremoso        Alto   55.0   22920   23.286239   89.994737   \n",
       " 2   Cálido extremoso        Alto   75.0   62949   33.080437  105.613214   \n",
       " 3   Cálido extremoso        Alto  100.0  131985   27.721713   84.435883   \n",
       " 4   Cálido extremoso        Alto  150.0  122692   23.442830   98.441493   \n",
       " ..               ...         ...    ...     ...         ...         ...   \n",
       " 62          Tropical  Medio bajo   55.0   23681   46.592573  117.444049   \n",
       " 63          Tropical  Medio bajo   75.0   41012   16.901924   84.862989   \n",
       " 64          Tropical  Medio bajo  100.0   43611   36.970128   86.148283   \n",
       " 65          Tropical  Medio bajo  150.0   33887   41.806807  114.073086   \n",
       " 66          Tropical  Medio bajo  200.0   16216   57.790531  131.026945   \n",
       " \n",
       "        mediana          Q3       maximo       media  \n",
       " 0   113.406372  113.406372   113.406372  113.406372  \n",
       " 1   119.894162  262.401298  1002.080887  183.517956  \n",
       " 2   194.541341  310.173033   711.965532  214.760652  \n",
       " 3   140.492612  233.031890  1843.269231  227.976133  \n",
       " 4   145.068902  289.864958  2156.843891  240.186694  \n",
       " ..         ...         ...          ...         ...  \n",
       " 62  175.689376  305.804034   559.119048  216.480636  \n",
       " 63  151.456674  230.374042   799.000138  190.576287  \n",
       " 64  172.644540  304.370726  1247.245631  224.279218  \n",
       " 65  179.636159  211.222628   508.884783  185.929368  \n",
       " 66  148.484524  470.631001  2452.657664  344.111116  \n",
       " \n",
       " [67 rows x 10 columns],\n",
       "                clima     estrato     m2       n    minimo        Q1   mediana  \\\n",
       " 0   Cálido extremoso        Alto   30.0    1112  7.308411  7.308411  7.308411   \n",
       " 1   Cálido extremoso        Alto   55.0   22920  0.208165  0.820833  1.158520   \n",
       " 2   Cálido extremoso        Alto   75.0   62949  0.423379  0.761820  1.253182   \n",
       " 3   Cálido extremoso        Alto  100.0  131985  0.151324  0.489503  0.770586   \n",
       " 4   Cálido extremoso        Alto  150.0  122692  0.192197  0.343757  0.519284   \n",
       " ..               ...         ...    ...     ...       ...       ...       ...   \n",
       " 62          Tropical  Medio bajo   55.0   23681  0.338855  1.103262  1.341628   \n",
       " 63          Tropical  Medio bajo   75.0   41012  0.093148  0.639619  0.793511   \n",
       " 64          Tropical  Medio bajo  100.0   43611  0.195149  0.447372  0.706268   \n",
       " 65          Tropical  Medio bajo  150.0   33887  0.155231  0.356100  0.605222   \n",
       " 66          Tropical  Medio bajo  200.0   16216  0.106542  0.288953  0.405266   \n",
       " \n",
       "           Q3    maximo     media  \n",
       " 0   7.308411  7.308411  7.308411  \n",
       " 1   2.104828  4.741619  1.622827  \n",
       " 2   1.640554  3.472421  1.390613  \n",
       " 3   1.080933  6.508201  0.996402  \n",
       " 4   0.858524  3.594740  0.726137  \n",
       " ..       ...       ...       ...  \n",
       " 62  2.359913  6.836837  1.835924  \n",
       " 63  1.314984  4.379134  1.113279  \n",
       " 64  1.140850  4.068299  0.911757  \n",
       " 65  0.901987  2.804271  0.850123  \n",
       " 66  0.655135  6.336032  0.693936  \n",
       " \n",
       " [67 rows x 10 columns])"
      ]
     },
     "execution_count": 11,
     "metadata": {},
     "output_type": "execute_result"
    }
   ],
   "source": [
    "tabla_kwh = box_summary(viv_expandida, \"kwh_mes\",total_viviendas=None)\n",
    "tabla_kwhm2persona = box_summary(viv_expandida, \"kwh_m2persona\",total_viviendas=None)\n",
    "\n",
    "tabla_kwh, tabla_kwhm2persona"
   ]
  },
  {
   "cell_type": "code",
   "execution_count": 12,
   "id": "12b77c90-cbc1-46de-8fb6-2b4b47752031",
   "metadata": {},
   "outputs": [
    {
     "data": {
      "text/html": [
       "<div>\n",
       "<style scoped>\n",
       "    .dataframe tbody tr th:only-of-type {\n",
       "        vertical-align: middle;\n",
       "    }\n",
       "\n",
       "    .dataframe tbody tr th {\n",
       "        vertical-align: top;\n",
       "    }\n",
       "\n",
       "    .dataframe thead th {\n",
       "        text-align: right;\n",
       "    }\n",
       "</style>\n",
       "<table border=\"1\" class=\"dataframe\">\n",
       "  <thead>\n",
       "    <tr style=\"text-align: right;\">\n",
       "      <th></th>\n",
       "      <th>clima</th>\n",
       "      <th>estrato</th>\n",
       "      <th>m2</th>\n",
       "      <th>n</th>\n",
       "      <th>minimo</th>\n",
       "      <th>Q1</th>\n",
       "      <th>mediana</th>\n",
       "      <th>Q3</th>\n",
       "      <th>maximo</th>\n",
       "      <th>media</th>\n",
       "      <th>porcentaje</th>\n",
       "    </tr>\n",
       "  </thead>\n",
       "  <tbody>\n",
       "    <tr>\n",
       "      <th>0</th>\n",
       "      <td>Cálido extremoso</td>\n",
       "      <td>Alto</td>\n",
       "      <td>30.0</td>\n",
       "      <td>1112</td>\n",
       "      <td>113.406372</td>\n",
       "      <td>113.406372</td>\n",
       "      <td>113.406372</td>\n",
       "      <td>113.406372</td>\n",
       "      <td>113.406372</td>\n",
       "      <td>113.406372</td>\n",
       "      <td>0.003353</td>\n",
       "    </tr>\n",
       "    <tr>\n",
       "      <th>1</th>\n",
       "      <td>Cálido extremoso</td>\n",
       "      <td>Alto</td>\n",
       "      <td>55.0</td>\n",
       "      <td>22920</td>\n",
       "      <td>23.286239</td>\n",
       "      <td>89.994737</td>\n",
       "      <td>119.894162</td>\n",
       "      <td>262.401298</td>\n",
       "      <td>1002.080887</td>\n",
       "      <td>183.517956</td>\n",
       "      <td>0.100199</td>\n",
       "    </tr>\n",
       "    <tr>\n",
       "      <th>2</th>\n",
       "      <td>Cálido extremoso</td>\n",
       "      <td>Alto</td>\n",
       "      <td>75.0</td>\n",
       "      <td>62949</td>\n",
       "      <td>33.080437</td>\n",
       "      <td>105.613214</td>\n",
       "      <td>194.541341</td>\n",
       "      <td>310.173033</td>\n",
       "      <td>711.965532</td>\n",
       "      <td>214.760652</td>\n",
       "      <td>0.246956</td>\n",
       "    </tr>\n",
       "    <tr>\n",
       "      <th>3</th>\n",
       "      <td>Cálido extremoso</td>\n",
       "      <td>Alto</td>\n",
       "      <td>100.0</td>\n",
       "      <td>131985</td>\n",
       "      <td>27.721713</td>\n",
       "      <td>84.435883</td>\n",
       "      <td>140.492612</td>\n",
       "      <td>233.031890</td>\n",
       "      <td>1843.269231</td>\n",
       "      <td>227.976133</td>\n",
       "      <td>0.544223</td>\n",
       "    </tr>\n",
       "    <tr>\n",
       "      <th>4</th>\n",
       "      <td>Cálido extremoso</td>\n",
       "      <td>Alto</td>\n",
       "      <td>150.0</td>\n",
       "      <td>122692</td>\n",
       "      <td>23.442830</td>\n",
       "      <td>98.441493</td>\n",
       "      <td>145.068902</td>\n",
       "      <td>289.864958</td>\n",
       "      <td>2156.843891</td>\n",
       "      <td>240.186694</td>\n",
       "      <td>0.498801</td>\n",
       "    </tr>\n",
       "    <tr>\n",
       "      <th>...</th>\n",
       "      <td>...</td>\n",
       "      <td>...</td>\n",
       "      <td>...</td>\n",
       "      <td>...</td>\n",
       "      <td>...</td>\n",
       "      <td>...</td>\n",
       "      <td>...</td>\n",
       "      <td>...</td>\n",
       "      <td>...</td>\n",
       "      <td>...</td>\n",
       "      <td>...</td>\n",
       "    </tr>\n",
       "    <tr>\n",
       "      <th>62</th>\n",
       "      <td>Tropical</td>\n",
       "      <td>Medio bajo</td>\n",
       "      <td>55.0</td>\n",
       "      <td>23681</td>\n",
       "      <td>46.592573</td>\n",
       "      <td>117.444049</td>\n",
       "      <td>175.689376</td>\n",
       "      <td>305.804034</td>\n",
       "      <td>559.119048</td>\n",
       "      <td>216.480636</td>\n",
       "      <td>0.140853</td>\n",
       "    </tr>\n",
       "    <tr>\n",
       "      <th>63</th>\n",
       "      <td>Tropical</td>\n",
       "      <td>Medio bajo</td>\n",
       "      <td>75.0</td>\n",
       "      <td>41012</td>\n",
       "      <td>16.901924</td>\n",
       "      <td>84.862989</td>\n",
       "      <td>151.456674</td>\n",
       "      <td>230.374042</td>\n",
       "      <td>799.000138</td>\n",
       "      <td>190.576287</td>\n",
       "      <td>0.198329</td>\n",
       "    </tr>\n",
       "    <tr>\n",
       "      <th>64</th>\n",
       "      <td>Tropical</td>\n",
       "      <td>Medio bajo</td>\n",
       "      <td>100.0</td>\n",
       "      <td>43611</td>\n",
       "      <td>36.970128</td>\n",
       "      <td>86.148283</td>\n",
       "      <td>172.644540</td>\n",
       "      <td>304.370726</td>\n",
       "      <td>1247.245631</td>\n",
       "      <td>224.279218</td>\n",
       "      <td>0.256464</td>\n",
       "    </tr>\n",
       "    <tr>\n",
       "      <th>65</th>\n",
       "      <td>Tropical</td>\n",
       "      <td>Medio bajo</td>\n",
       "      <td>150.0</td>\n",
       "      <td>33887</td>\n",
       "      <td>41.806807</td>\n",
       "      <td>114.073086</td>\n",
       "      <td>179.636159</td>\n",
       "      <td>211.222628</td>\n",
       "      <td>508.884783</td>\n",
       "      <td>185.929368</td>\n",
       "      <td>0.168355</td>\n",
       "    </tr>\n",
       "    <tr>\n",
       "      <th>66</th>\n",
       "      <td>Tropical</td>\n",
       "      <td>Medio bajo</td>\n",
       "      <td>200.0</td>\n",
       "      <td>16216</td>\n",
       "      <td>57.790531</td>\n",
       "      <td>131.026945</td>\n",
       "      <td>148.484524</td>\n",
       "      <td>470.631001</td>\n",
       "      <td>2452.657664</td>\n",
       "      <td>344.111116</td>\n",
       "      <td>0.097856</td>\n",
       "    </tr>\n",
       "  </tbody>\n",
       "</table>\n",
       "<p>67 rows × 11 columns</p>\n",
       "</div>"
      ],
      "text/plain": [
       "               clima     estrato     m2       n      minimo          Q1  \\\n",
       "0   Cálido extremoso        Alto   30.0    1112  113.406372  113.406372   \n",
       "1   Cálido extremoso        Alto   55.0   22920   23.286239   89.994737   \n",
       "2   Cálido extremoso        Alto   75.0   62949   33.080437  105.613214   \n",
       "3   Cálido extremoso        Alto  100.0  131985   27.721713   84.435883   \n",
       "4   Cálido extremoso        Alto  150.0  122692   23.442830   98.441493   \n",
       "..               ...         ...    ...     ...         ...         ...   \n",
       "62          Tropical  Medio bajo   55.0   23681   46.592573  117.444049   \n",
       "63          Tropical  Medio bajo   75.0   41012   16.901924   84.862989   \n",
       "64          Tropical  Medio bajo  100.0   43611   36.970128   86.148283   \n",
       "65          Tropical  Medio bajo  150.0   33887   41.806807  114.073086   \n",
       "66          Tropical  Medio bajo  200.0   16216   57.790531  131.026945   \n",
       "\n",
       "       mediana          Q3       maximo       media  porcentaje  \n",
       "0   113.406372  113.406372   113.406372  113.406372    0.003353  \n",
       "1   119.894162  262.401298  1002.080887  183.517956    0.100199  \n",
       "2   194.541341  310.173033   711.965532  214.760652    0.246956  \n",
       "3   140.492612  233.031890  1843.269231  227.976133    0.544223  \n",
       "4   145.068902  289.864958  2156.843891  240.186694    0.498801  \n",
       "..         ...         ...          ...         ...         ...  \n",
       "62  175.689376  305.804034   559.119048  216.480636    0.140853  \n",
       "63  151.456674  230.374042   799.000138  190.576287    0.198329  \n",
       "64  172.644540  304.370726  1247.245631  224.279218    0.256464  \n",
       "65  179.636159  211.222628   508.884783  185.929368    0.168355  \n",
       "66  148.484524  470.631001  2452.657664  344.111116    0.097856  \n",
       "\n",
       "[67 rows x 11 columns]"
      ]
     },
     "execution_count": 12,
     "metadata": {},
     "output_type": "execute_result"
    }
   ],
   "source": [
    "# 1) -—  verifica que las tres llaves tengan el mismo tipo en ambos DataFrames\n",
    "for col in [\"clima\", \"estrato\"]:\n",
    "    porcentajes_aa[col] = porcentajes_aa[col].astype(str)\n",
    "    tabla_kwh[col]              = tabla_kwh[col].astype(str)\n",
    "\n",
    "# `m2` suele ser float (30.0, 55.0, …).  \n",
    "# Si en alguno viene como int, conviértelo a float para que la fusión encuentre coincidencias.\n",
    "tabla_kwh[\"m2\"]              = tabla_kwh[\"m2\"].astype(float)\n",
    "porcentajes_aa[\"m2\"] = porcentajes_aa[\"m2\"].astype(float)\n",
    "\n",
    "# 2) -—  selecciona solo la columna que quieres añadir\n",
    "cols_pct = porcentajes_aa[[\"clima\", \"estrato\", \"m2\", \"porcentaje\"]]\n",
    "\n",
    "# 3) -—  fusiona (left join) y conserva el orden original de `tabla_kwh`\n",
    "tabla_kwh = (\n",
    "    tabla_kwh\n",
    "    .merge(cols_pct, on=[\"clima\", \"estrato\", \"m2\"], how=\"left\")\n",
    "    .sort_values([\"clima\", \"estrato\", \"m2\"], ignore_index=True)\n",
    ")\n",
    "\n",
    "# 4) -—  (opcional) comprueba si hubo filas sin coincidencia\n",
    "missing = tabla_kwh[\"porcentaje\"].isna().sum()\n",
    "if missing:\n",
    "    print(f\"⚠️  {missing} filas no hallaron su 'porcentaje'. Revisa claves o tipos.\")\n",
    "\n",
    "# Resultado\n",
    "tabla_kwh\n"
   ]
  },
  {
   "cell_type": "code",
   "execution_count": 13,
   "id": "982f5a87-00f4-4be3-92d8-437dd28b25c9",
   "metadata": {},
   "outputs": [
    {
     "data": {
      "text/html": [
       "<div>\n",
       "<style scoped>\n",
       "    .dataframe tbody tr th:only-of-type {\n",
       "        vertical-align: middle;\n",
       "    }\n",
       "\n",
       "    .dataframe tbody tr th {\n",
       "        vertical-align: top;\n",
       "    }\n",
       "\n",
       "    .dataframe thead th {\n",
       "        text-align: right;\n",
       "    }\n",
       "</style>\n",
       "<table border=\"1\" class=\"dataframe\">\n",
       "  <thead>\n",
       "    <tr style=\"text-align: right;\">\n",
       "      <th></th>\n",
       "      <th>clima</th>\n",
       "      <th>estrato</th>\n",
       "      <th>m2</th>\n",
       "      <th>n</th>\n",
       "      <th>minimo</th>\n",
       "      <th>Q1</th>\n",
       "      <th>mediana</th>\n",
       "      <th>Q3</th>\n",
       "      <th>maximo</th>\n",
       "      <th>media</th>\n",
       "      <th>porcentaje</th>\n",
       "    </tr>\n",
       "  </thead>\n",
       "  <tbody>\n",
       "    <tr>\n",
       "      <th>0</th>\n",
       "      <td>Cálido extremoso</td>\n",
       "      <td>Alto</td>\n",
       "      <td>30.0</td>\n",
       "      <td>1112</td>\n",
       "      <td>7.308411</td>\n",
       "      <td>7.308411</td>\n",
       "      <td>7.308411</td>\n",
       "      <td>7.308411</td>\n",
       "      <td>7.308411</td>\n",
       "      <td>7.308411</td>\n",
       "      <td>0.003353</td>\n",
       "    </tr>\n",
       "    <tr>\n",
       "      <th>1</th>\n",
       "      <td>Cálido extremoso</td>\n",
       "      <td>Alto</td>\n",
       "      <td>55.0</td>\n",
       "      <td>22920</td>\n",
       "      <td>0.208165</td>\n",
       "      <td>0.820833</td>\n",
       "      <td>1.158520</td>\n",
       "      <td>2.104828</td>\n",
       "      <td>4.741619</td>\n",
       "      <td>1.622827</td>\n",
       "      <td>0.100199</td>\n",
       "    </tr>\n",
       "    <tr>\n",
       "      <th>2</th>\n",
       "      <td>Cálido extremoso</td>\n",
       "      <td>Alto</td>\n",
       "      <td>75.0</td>\n",
       "      <td>62949</td>\n",
       "      <td>0.423379</td>\n",
       "      <td>0.761820</td>\n",
       "      <td>1.253182</td>\n",
       "      <td>1.640554</td>\n",
       "      <td>3.472421</td>\n",
       "      <td>1.390613</td>\n",
       "      <td>0.246956</td>\n",
       "    </tr>\n",
       "    <tr>\n",
       "      <th>3</th>\n",
       "      <td>Cálido extremoso</td>\n",
       "      <td>Alto</td>\n",
       "      <td>100.0</td>\n",
       "      <td>131985</td>\n",
       "      <td>0.151324</td>\n",
       "      <td>0.489503</td>\n",
       "      <td>0.770586</td>\n",
       "      <td>1.080933</td>\n",
       "      <td>6.508201</td>\n",
       "      <td>0.996402</td>\n",
       "      <td>0.544223</td>\n",
       "    </tr>\n",
       "    <tr>\n",
       "      <th>4</th>\n",
       "      <td>Cálido extremoso</td>\n",
       "      <td>Alto</td>\n",
       "      <td>150.0</td>\n",
       "      <td>122692</td>\n",
       "      <td>0.192197</td>\n",
       "      <td>0.343757</td>\n",
       "      <td>0.519284</td>\n",
       "      <td>0.858524</td>\n",
       "      <td>3.594740</td>\n",
       "      <td>0.726137</td>\n",
       "      <td>0.498801</td>\n",
       "    </tr>\n",
       "    <tr>\n",
       "      <th>...</th>\n",
       "      <td>...</td>\n",
       "      <td>...</td>\n",
       "      <td>...</td>\n",
       "      <td>...</td>\n",
       "      <td>...</td>\n",
       "      <td>...</td>\n",
       "      <td>...</td>\n",
       "      <td>...</td>\n",
       "      <td>...</td>\n",
       "      <td>...</td>\n",
       "      <td>...</td>\n",
       "    </tr>\n",
       "    <tr>\n",
       "      <th>62</th>\n",
       "      <td>Tropical</td>\n",
       "      <td>Medio bajo</td>\n",
       "      <td>55.0</td>\n",
       "      <td>23681</td>\n",
       "      <td>0.338855</td>\n",
       "      <td>1.103262</td>\n",
       "      <td>1.341628</td>\n",
       "      <td>2.359913</td>\n",
       "      <td>6.836837</td>\n",
       "      <td>1.835924</td>\n",
       "      <td>0.140853</td>\n",
       "    </tr>\n",
       "    <tr>\n",
       "      <th>63</th>\n",
       "      <td>Tropical</td>\n",
       "      <td>Medio bajo</td>\n",
       "      <td>75.0</td>\n",
       "      <td>41012</td>\n",
       "      <td>0.093148</td>\n",
       "      <td>0.639619</td>\n",
       "      <td>0.793511</td>\n",
       "      <td>1.314984</td>\n",
       "      <td>4.379134</td>\n",
       "      <td>1.113279</td>\n",
       "      <td>0.198329</td>\n",
       "    </tr>\n",
       "    <tr>\n",
       "      <th>64</th>\n",
       "      <td>Tropical</td>\n",
       "      <td>Medio bajo</td>\n",
       "      <td>100.0</td>\n",
       "      <td>43611</td>\n",
       "      <td>0.195149</td>\n",
       "      <td>0.447372</td>\n",
       "      <td>0.706268</td>\n",
       "      <td>1.140850</td>\n",
       "      <td>4.068299</td>\n",
       "      <td>0.911757</td>\n",
       "      <td>0.256464</td>\n",
       "    </tr>\n",
       "    <tr>\n",
       "      <th>65</th>\n",
       "      <td>Tropical</td>\n",
       "      <td>Medio bajo</td>\n",
       "      <td>150.0</td>\n",
       "      <td>33887</td>\n",
       "      <td>0.155231</td>\n",
       "      <td>0.356100</td>\n",
       "      <td>0.605222</td>\n",
       "      <td>0.901987</td>\n",
       "      <td>2.804271</td>\n",
       "      <td>0.850123</td>\n",
       "      <td>0.168355</td>\n",
       "    </tr>\n",
       "    <tr>\n",
       "      <th>66</th>\n",
       "      <td>Tropical</td>\n",
       "      <td>Medio bajo</td>\n",
       "      <td>200.0</td>\n",
       "      <td>16216</td>\n",
       "      <td>0.106542</td>\n",
       "      <td>0.288953</td>\n",
       "      <td>0.405266</td>\n",
       "      <td>0.655135</td>\n",
       "      <td>6.336032</td>\n",
       "      <td>0.693936</td>\n",
       "      <td>0.097856</td>\n",
       "    </tr>\n",
       "  </tbody>\n",
       "</table>\n",
       "<p>67 rows × 11 columns</p>\n",
       "</div>"
      ],
      "text/plain": [
       "               clima     estrato     m2       n    minimo        Q1   mediana  \\\n",
       "0   Cálido extremoso        Alto   30.0    1112  7.308411  7.308411  7.308411   \n",
       "1   Cálido extremoso        Alto   55.0   22920  0.208165  0.820833  1.158520   \n",
       "2   Cálido extremoso        Alto   75.0   62949  0.423379  0.761820  1.253182   \n",
       "3   Cálido extremoso        Alto  100.0  131985  0.151324  0.489503  0.770586   \n",
       "4   Cálido extremoso        Alto  150.0  122692  0.192197  0.343757  0.519284   \n",
       "..               ...         ...    ...     ...       ...       ...       ...   \n",
       "62          Tropical  Medio bajo   55.0   23681  0.338855  1.103262  1.341628   \n",
       "63          Tropical  Medio bajo   75.0   41012  0.093148  0.639619  0.793511   \n",
       "64          Tropical  Medio bajo  100.0   43611  0.195149  0.447372  0.706268   \n",
       "65          Tropical  Medio bajo  150.0   33887  0.155231  0.356100  0.605222   \n",
       "66          Tropical  Medio bajo  200.0   16216  0.106542  0.288953  0.405266   \n",
       "\n",
       "          Q3    maximo     media  porcentaje  \n",
       "0   7.308411  7.308411  7.308411    0.003353  \n",
       "1   2.104828  4.741619  1.622827    0.100199  \n",
       "2   1.640554  3.472421  1.390613    0.246956  \n",
       "3   1.080933  6.508201  0.996402    0.544223  \n",
       "4   0.858524  3.594740  0.726137    0.498801  \n",
       "..       ...       ...       ...         ...  \n",
       "62  2.359913  6.836837  1.835924    0.140853  \n",
       "63  1.314984  4.379134  1.113279    0.198329  \n",
       "64  1.140850  4.068299  0.911757    0.256464  \n",
       "65  0.901987  2.804271  0.850123    0.168355  \n",
       "66  0.655135  6.336032  0.693936    0.097856  \n",
       "\n",
       "[67 rows x 11 columns]"
      ]
     },
     "execution_count": 13,
     "metadata": {},
     "output_type": "execute_result"
    }
   ],
   "source": [
    "# 1) -—  verifica que las tres llaves tengan el mismo tipo en ambos DataFrames\n",
    "for col in [\"clima\", \"estrato\"]:\n",
    "    porcentajes_aa[col] = porcentajes_aa[col].astype(str)\n",
    "    tabla_kwhm2persona[col]              = tabla_kwhm2persona[col].astype(str)\n",
    "\n",
    "# `m2` suele ser float (30.0, 55.0, …).  \n",
    "# Si en alguno viene como int, conviértelo a float para que la fusión encuentre coincidencias.\n",
    "tabla_kwhm2persona[\"m2\"]              = tabla_kwhm2persona[\"m2\"].astype(float)\n",
    "porcentajes_aa[\"m2\"] = porcentajes_aa[\"m2\"].astype(float)\n",
    "\n",
    "# 2) -—  selecciona solo la columna que quieres añadir\n",
    "cols_pct = porcentajes_aa[[\"clima\", \"estrato\", \"m2\", \"porcentaje\"]]\n",
    "\n",
    "# 3) -—  fusiona (left join) y conserva el orden original de `tabla_kwh`\n",
    "tabla_kwhm2persona = (\n",
    "    tabla_kwhm2persona\n",
    "    .merge(cols_pct, on=[\"clima\", \"estrato\", \"m2\"], how=\"left\")\n",
    "    .sort_values([\"clima\", \"estrato\", \"m2\"], ignore_index=True)\n",
    ")\n",
    "\n",
    "# 4) -—  (opcional) comprueba si hubo filas sin coincidencia\n",
    "missing = tabla_kwhm2persona[\"porcentaje\"].isna().sum()\n",
    "if missing:\n",
    "    print(f\"⚠️  {missing} filas no hallaron su 'porcentaje'. Revisa claves o tipos.\")\n",
    "\n",
    "# Resultado\n",
    "tabla_kwhm2persona\n"
   ]
  },
  {
   "cell_type": "code",
   "execution_count": 14,
   "id": "628f3dca-3d4b-4aea-bb83-760cd3e71e45",
   "metadata": {
    "scrolled": true
   },
   "outputs": [
    {
     "name": "stdout",
     "output_type": "stream",
     "text": [
      "|   m² |    P25 |   Mediana |   Media |    P75 |   %Viviendas |\n",
      "|-----:|-------:|----------:|--------:|-------:|-------------:|\n",
      "|   30 |  48.04 |     95.8  |  147.79 | 225.17 |         0.03 |\n",
      "|   55 |  58.14 |    148.97 |  204.89 | 346.01 |         0.09 |\n",
      "|   75 |  66.98 |    111.18 |  144.16 | 163.19 |         0.09 |\n",
      "|  100 | 126.9  |    182.55 |  216.16 | 253.58 |         0.11 |\n",
      "|  150 |  95.88 |    148.96 |  192.75 | 207.2  |         0.08 |\n",
      "|  200 |  96.88 |    129.77 |  154.73 | 178.78 |         0.02 |\n",
      "\n",
      ": Estadísticas ponderadas de consumo total mensual (kWh) para clima **Cálido extremoso**, estrato socioeconómico **Bajo** {#tbl-cálido-extremoso-bajo}\n",
      "\n",
      "\n",
      "|   m² |    P25 |   Mediana |   Media |    P75 |   %Viviendas |\n",
      "|-----:|-------:|----------:|--------:|-------:|-------------:|\n",
      "|   30 |  97.42 |    131.42 |  144.41 | 203.65 |         0.12 |\n",
      "|   55 |  65.95 |    111.29 |  153.56 | 217.43 |         0.65 |\n",
      "|   75 |  73.52 |    125.41 |  164.16 | 210.29 |         0.98 |\n",
      "|  100 |  81.87 |    142.53 |  212.84 | 235.02 |         0.92 |\n",
      "|  150 | 101.05 |    169.19 |  220.99 | 296.83 |         0.73 |\n",
      "|  200 |  93.1  |    145.65 |  258.87 | 319.71 |         0.26 |\n",
      "\n",
      ": Estadísticas ponderadas de consumo total mensual (kWh) para clima **Cálido extremoso**, estrato socioeconómico **Medio bajo** {#tbl-cálido-extremoso-medio-bajo}\n",
      "\n",
      "\n",
      "|   m² |    P25 |   Mediana |   Media |    P75 |   %Viviendas |\n",
      "|-----:|-------:|----------:|--------:|-------:|-------------:|\n",
      "|   30 |  67.8  |     98.38 |  140.9  | 215.33 |         0.05 |\n",
      "|   55 |  71.51 |     98.12 |  194.41 | 269.55 |         0.23 |\n",
      "|   75 |  98.51 |    196.48 |  263.42 | 299.26 |         0.58 |\n",
      "|  100 |  86.88 |    147.83 |  243.42 | 296.6  |         0.88 |\n",
      "|  150 |  94.85 |    152.16 |  251.15 | 289.86 |         0.8  |\n",
      "|  200 | 109.68 |    172.96 |  276.15 | 315.92 |         0.41 |\n",
      "\n",
      ": Estadísticas ponderadas de consumo total mensual (kWh) para clima **Cálido extremoso**, estrato socioeconómico **Medio alto** {#tbl-cálido-extremoso-medio-alto}\n",
      "\n",
      "\n",
      "|   m² |    P25 |   Mediana |   Media |    P75 |   %Viviendas |\n",
      "|-----:|-------:|----------:|--------:|-------:|-------------:|\n",
      "|   30 | 113.41 |    113.41 |  113.41 | 113.41 |         0    |\n",
      "|   55 |  89.99 |    119.89 |  183.52 | 262.4  |         0.1  |\n",
      "|   75 | 105.61 |    194.54 |  214.76 | 310.17 |         0.25 |\n",
      "|  100 |  84.44 |    140.49 |  227.98 | 233.03 |         0.54 |\n",
      "|  150 |  98.44 |    145.07 |  240.19 | 289.86 |         0.5  |\n",
      "|  200 | 143.08 |    238.99 |  376.09 | 485.86 |         0.33 |\n",
      "\n",
      ": Estadísticas ponderadas de consumo total mensual (kWh) para clima **Cálido extremoso**, estrato socioeconómico **Alto** {#tbl-cálido-extremoso-alto}\n",
      "\n",
      "\n",
      "|   m² |    P25 |   Mediana |   Media |    P75 |   %Viviendas |\n",
      "|-----:|-------:|----------:|--------:|-------:|-------------:|\n",
      "|   75 | 101.34 |    114.49 |  116.9  | 141.18 |         0.01 |\n",
      "|  100 |  19.46 |     19.46 |   40.15 |  74.63 |         0.01 |\n",
      "|  150 |  63.67 |     72.18 |   86.71 |  72.18 |         0.02 |\n",
      "\n",
      ": Estadísticas ponderadas de consumo total mensual (kWh) para clima **Templado**, estrato socioeconómico **Bajo** {#tbl-templado-bajo}\n",
      "\n",
      "\n",
      "|   m² |   P25 |   Mediana |   Media |    P75 |   %Viviendas |\n",
      "|-----:|------:|----------:|--------:|-------:|-------------:|\n",
      "|   30 | 54.9  |     78.19 |   73.24 |  83.6  |         0.01 |\n",
      "|   55 | 66.3  |     69.26 |  130.86 | 110.84 |         0.03 |\n",
      "|   75 | 53.17 |     99.89 |  127.76 | 166.98 |         0.07 |\n",
      "|  100 | 97.68 |    166.74 |  202.36 | 215.9  |         0.06 |\n",
      "|  150 | 54.53 |    122.55 |  151.93 | 205.75 |         0.07 |\n",
      "|  200 | 99.46 |    107.88 |  248.43 | 309.84 |         0.03 |\n",
      "\n",
      ": Estadísticas ponderadas de consumo total mensual (kWh) para clima **Templado**, estrato socioeconómico **Medio bajo** {#tbl-templado-medio-bajo}\n",
      "\n",
      "\n",
      "|   m² |    P25 |   Mediana |   Media |    P75 |   %Viviendas |\n",
      "|-----:|-------:|----------:|--------:|-------:|-------------:|\n",
      "|   30 |  44.77 |     44.77 |   44.77 |  44.77 |         0    |\n",
      "|   55 |  29.05 |     53.17 |   46.5  |  53.17 |         0.01 |\n",
      "|   75 | 122.92 |    166.98 |  190.48 | 180.72 |         0.01 |\n",
      "|  100 |  56.94 |     90.79 |  133.22 | 169.97 |         0.03 |\n",
      "|  150 | 108.75 |    167.9  |  167.58 | 190.21 |         0.02 |\n",
      "|  200 | 126.52 |    150.48 |  310.92 | 745.9  |         0.02 |\n",
      "\n",
      ": Estadísticas ponderadas de consumo total mensual (kWh) para clima **Templado**, estrato socioeconómico **Medio alto** {#tbl-templado-medio-alto}\n",
      "\n",
      "\n",
      "|   m² |   P25 |   Mediana |   Media |    P75 |   %Viviendas |\n",
      "|-----:|------:|----------:|--------:|-------:|-------------:|\n",
      "|   75 | 53.4  |     53.4  |   59.95 |  85.08 |         0.02 |\n",
      "|  100 | 79.34 |    100.93 |  150.25 | 241.72 |         0.01 |\n",
      "|  150 | 97.63 |    118.23 |  146.98 | 154.74 |         0.05 |\n",
      "|  200 | 37.07 |     77.44 |   98.44 | 153.57 |         0.04 |\n",
      "\n",
      ": Estadísticas ponderadas de consumo total mensual (kWh) para clima **Templado**, estrato socioeconómico **Alto** {#tbl-templado-alto}\n",
      "\n",
      "\n",
      "|   m² |    P25 |   Mediana |   Media |    P75 |   %Viviendas |\n",
      "|-----:|-------:|----------:|--------:|-------:|-------------:|\n",
      "|   30 | 136.27 |    176.28 |  171.66 | 208.34 |         0    |\n",
      "|   55 |  64.27 |    151.94 |  134.7  | 202.83 |         0.04 |\n",
      "|   75 |  67.25 |     82.31 |  131.71 | 201.5  |         0.05 |\n",
      "|  100 |  59.13 |    136.09 |  190.49 | 236.19 |         0.05 |\n",
      "|  150 |  82.56 |    166.3  |  176.82 | 284.67 |         0.03 |\n",
      "|  200 |  56.92 |     56.92 |  141.66 |  56.92 |         0.01 |\n",
      "\n",
      ": Estadísticas ponderadas de consumo total mensual (kWh) para clima **Tropical**, estrato socioeconómico **Bajo** {#tbl-tropical-bajo}\n",
      "\n",
      "\n",
      "|   m² |    P25 |   Mediana |   Media |    P75 |   %Viviendas |\n",
      "|-----:|-------:|----------:|--------:|-------:|-------------:|\n",
      "|   30 |  92.36 |    202.83 |  232.18 | 369.89 |         0.05 |\n",
      "|   55 | 117.44 |    175.69 |  216.48 | 305.8  |         0.14 |\n",
      "|   75 |  84.86 |    151.46 |  190.58 | 230.37 |         0.2  |\n",
      "|  100 |  86.15 |    172.64 |  224.28 | 304.37 |         0.26 |\n",
      "|  150 | 114.07 |    179.64 |  185.93 | 211.22 |         0.17 |\n",
      "|  200 | 131.03 |    148.48 |  344.11 | 470.63 |         0.1  |\n",
      "\n",
      ": Estadísticas ponderadas de consumo total mensual (kWh) para clima **Tropical**, estrato socioeconómico **Medio bajo** {#tbl-tropical-medio-bajo}\n",
      "\n",
      "\n",
      "|   m² |    P25 |   Mediana |   Media |    P75 |   %Viviendas |\n",
      "|-----:|-------:|----------:|--------:|-------:|-------------:|\n",
      "|   30 | 120.21 |    128.36 |  113.15 | 128.36 |         0    |\n",
      "|   55 |  96.68 |    128.72 |  221.72 | 268.59 |         0.02 |\n",
      "|   75 |  87.85 |    105.64 |  143.72 | 190.43 |         0.06 |\n",
      "|  100 | 122.97 |    200.92 |  291.92 | 427.76 |         0.03 |\n",
      "|  150 |  92.93 |    195.28 |  263.85 | 356.87 |         0.06 |\n",
      "|  200 |  99.02 |    109.71 |  229.03 | 276.79 |         0.05 |\n",
      "\n",
      ": Estadísticas ponderadas de consumo total mensual (kWh) para clima **Tropical**, estrato socioeconómico **Medio alto** {#tbl-tropical-medio-alto}\n",
      "\n",
      "\n",
      "|   m² |    P25 |   Mediana |   Media |    P75 |   %Viviendas |\n",
      "|-----:|-------:|----------:|--------:|-------:|-------------:|\n",
      "|   30 |  83.76 |     83.76 |  134.21 | 135.15 |         0    |\n",
      "|   55 |  80.6  |     80.6  |  124.27 | 223.21 |         0.01 |\n",
      "|   75 |  64.65 |     64.65 |  111.58 | 110.35 |         0.06 |\n",
      "|  100 |  79.26 |    114.1  |  167.56 | 252.22 |         0.06 |\n",
      "|  150 |  93.81 |    116.42 |  236.25 | 402.81 |         0.05 |\n",
      "|  200 | 136.09 |    136.09 |  166.66 | 208.81 |         0.04 |\n",
      "\n",
      ": Estadísticas ponderadas de consumo total mensual (kWh) para clima **Tropical**, estrato socioeconómico **Alto** {#tbl-tropical-alto}\n",
      "\n",
      "\n"
     ]
    }
   ],
   "source": [
    "tabla_markdown_kwh = make_box_tables(tabla_kwh)\n",
    "\n",
    "# --- 3.  Imprime cada tabla + caption en Markdown puro -----------------------\n",
    "for (clima, estrato), tbl in tabla_markdown_kwh.items():\n",
    "    md_table = df_to_md(tbl)\n",
    "    \n",
    "    # Etiqueta (anchor) compatible con Quarto\n",
    "    anchor = f\"tbl-{clima.lower().replace(' ', '-')}-{estrato.lower().replace(' ', '-')}\"\n",
    "    \n",
    "    # Muestra la tabla\n",
    "    print(md_table)\n",
    "    print()  # línea en blanco\n",
    "    # Caption estilo Quarto (empieza con \":\")\n",
    "    caption = (\n",
    "        f\": Estadísticas ponderadas de consumo total mensual (kWh) \"\n",
    "        f\"para clima **{clima}**, estrato socioeconómico **{estrato}** \"\n",
    "        f\"{{#{anchor}}}\"\n",
    "    )\n",
    "    print(caption)\n",
    "    print(\"\\n\")   # separador entre tablas"
   ]
  },
  {
   "cell_type": "code",
   "execution_count": 15,
   "id": "7e08766b-2ee5-4af3-ad1f-290a600a5890",
   "metadata": {},
   "outputs": [
    {
     "name": "stdout",
     "output_type": "stream",
     "text": [
      "|   m² |   P25 |   Mediana |   Media |   P75 |   %Viviendas |\n",
      "|-----:|------:|----------:|--------:|------:|-------------:|\n",
      "|   30 |  0.96 |      1.45 |    1.83 |  2.67 |         0.03 |\n",
      "|   55 |  0.78 |      1.28 |    1.73 |  2.25 |         0.09 |\n",
      "|   75 |  0.75 |      0.93 |    1.12 |  1.36 |         0.09 |\n",
      "|  100 |  0.48 |      0.85 |    1.07 |  1.45 |         0.11 |\n",
      "|  150 |  0.32 |      0.66 |    0.87 |  0.79 |         0.08 |\n",
      "|  200 |  0.11 |      0.22 |    0.43 |  0.61 |         0.02 |\n",
      "\n",
      ": Estadísticas ponderadas de consumo total mensual por metro cuadrado y personas  (kWh/(m2 personas)) para clima **Cálido extremoso**, estrato socioeconómico **Bajo** {#tbl-cálido-extremoso-bajo}\n",
      "\n",
      "\n",
      "|   m² |   P25 |   Mediana |   Media |   P75 |   %Viviendas |\n",
      "|-----:|------:|----------:|--------:|------:|-------------:|\n",
      "|   30 |  1.27 |      1.81 |    2.79 |  2.88 |         0.12 |\n",
      "|   55 |  0.65 |      1.14 |    1.44 |  1.71 |         0.65 |\n",
      "|   75 |  0.49 |      0.79 |    1.08 |  1.44 |         0.98 |\n",
      "|  100 |  0.42 |      0.67 |    0.99 |  1.12 |         0.92 |\n",
      "|  150 |  0.29 |      0.48 |    0.61 |  0.76 |         0.73 |\n",
      "|  200 |  0.25 |      0.43 |    0.52 |  0.68 |         0.26 |\n",
      "\n",
      ": Estadísticas ponderadas de consumo total mensual por metro cuadrado y personas  (kWh/(m2 personas)) para clima **Cálido extremoso**, estrato socioeconómico **Medio bajo** {#tbl-cálido-extremoso-medio-bajo}\n",
      "\n",
      "\n",
      "|   m² |   P25 |   Mediana |   Media |   P75 |   %Viviendas |\n",
      "|-----:|------:|----------:|--------:|------:|-------------:|\n",
      "|   30 |  1.71 |      3.13 |    3.16 |  4.23 |         0.05 |\n",
      "|   55 |  0.66 |      1.41 |    1.58 |  1.91 |         0.23 |\n",
      "|   75 |  0.68 |      1.14 |    1.47 |  1.66 |         0.58 |\n",
      "|  100 |  0.55 |      0.84 |    1.16 |  1.3  |         0.88 |\n",
      "|  150 |  0.36 |      0.54 |    0.75 |  0.88 |         0.8  |\n",
      "|  200 |  0.28 |      0.43 |    0.58 |  0.69 |         0.41 |\n",
      "\n",
      ": Estadísticas ponderadas de consumo total mensual por metro cuadrado y personas  (kWh/(m2 personas)) para clima **Cálido extremoso**, estrato socioeconómico **Medio alto** {#tbl-cálido-extremoso-medio-alto}\n",
      "\n",
      "\n",
      "|   m² |   P25 |   Mediana |   Media |   P75 |   %Viviendas |\n",
      "|-----:|------:|----------:|--------:|------:|-------------:|\n",
      "|   30 |  7.31 |      7.31 |    7.31 |  7.31 |         0    |\n",
      "|   55 |  0.82 |      1.16 |    1.62 |  2.1  |         0.1  |\n",
      "|   75 |  0.76 |      1.25 |    1.39 |  1.64 |         0.25 |\n",
      "|  100 |  0.49 |      0.77 |    1    |  1.08 |         0.54 |\n",
      "|  150 |  0.34 |      0.52 |    0.73 |  0.86 |         0.5  |\n",
      "|  200 |  0.38 |      0.64 |    0.79 |  1.09 |         0.33 |\n",
      "\n",
      ": Estadísticas ponderadas de consumo total mensual por metro cuadrado y personas  (kWh/(m2 personas)) para clima **Cálido extremoso**, estrato socioeconómico **Alto** {#tbl-cálido-extremoso-alto}\n",
      "\n",
      "\n",
      "|   m² |   P25 |   Mediana |   Media |   P75 |   %Viviendas |\n",
      "|-----:|------:|----------:|--------:|------:|-------------:|\n",
      "|   75 |  0.45 |      1.23 |    0.94 |  1.23 |         0.01 |\n",
      "|  100 |  0.2  |      0.2  |    0.4  |  0.73 |         0.01 |\n",
      "|  150 |  0.17 |      0.33 |    0.33 |  0.33 |         0.02 |\n",
      "\n",
      ": Estadísticas ponderadas de consumo total mensual por metro cuadrado y personas  (kWh/(m2 personas)) para clima **Templado**, estrato socioeconómico **Bajo** {#tbl-templado-bajo}\n",
      "\n",
      "\n",
      "|   m² |   P25 |   Mediana |   Media |   P75 |   %Viviendas |\n",
      "|-----:|------:|----------:|--------:|------:|-------------:|\n",
      "|   30 |  0.74 |      1.83 |    2.22 |  1.83 |         0.01 |\n",
      "|   55 |  0.61 |      0.78 |    0.99 |  1.25 |         0.03 |\n",
      "|   75 |  0.5  |      0.64 |    0.84 |  0.99 |         0.07 |\n",
      "|  100 |  0.38 |      0.62 |    0.81 |  1.13 |         0.06 |\n",
      "|  150 |  0.22 |      0.37 |    0.47 |  0.54 |         0.07 |\n",
      "|  200 |  0.2  |      0.32 |    0.51 |  0.55 |         0.03 |\n",
      "\n",
      ": Estadísticas ponderadas de consumo total mensual por metro cuadrado y personas  (kWh/(m2 personas)) para clima **Templado**, estrato socioeconómico **Medio bajo** {#tbl-templado-medio-bajo}\n",
      "\n",
      "\n",
      "|   m² |   P25 |   Mediana |   Media |   P75 |   %Viviendas |\n",
      "|-----:|------:|----------:|--------:|------:|-------------:|\n",
      "|   30 |  1.54 |      1.54 |    1.54 |  1.54 |         0    |\n",
      "|   55 |  0.52 |      0.66 |    0.62 |  0.66 |         0.01 |\n",
      "|   75 |  0.57 |      0.84 |    0.87 |  1.2  |         0.01 |\n",
      "|  100 |  0.39 |      0.49 |    0.64 |  0.79 |         0.03 |\n",
      "|  150 |  0.25 |      0.46 |    0.55 |  0.8  |         0.02 |\n",
      "|  200 |  0.26 |      0.44 |    0.49 |  0.5  |         0.02 |\n",
      "\n",
      ": Estadísticas ponderadas de consumo total mensual por metro cuadrado y personas  (kWh/(m2 personas)) para clima **Templado**, estrato socioeconómico **Medio alto** {#tbl-templado-medio-alto}\n",
      "\n",
      "\n",
      "|   m² |   P25 |   Mediana |   Media |   P75 |   %Viviendas |\n",
      "|-----:|------:|----------:|--------:|------:|-------------:|\n",
      "|   75 |  0.47 |      0.53 |    0.95 |  1.42 |         0.02 |\n",
      "|  100 |  0.82 |      1.01 |    0.99 |  1.22 |         0.01 |\n",
      "|  150 |  0.6  |      0.66 |    0.69 |  0.79 |         0.05 |\n",
      "|  200 |  0.07 |      0.32 |    0.28 |  0.41 |         0.04 |\n",
      "\n",
      ": Estadísticas ponderadas de consumo total mensual por metro cuadrado y personas  (kWh/(m2 personas)) para clima **Templado**, estrato socioeconómico **Alto** {#tbl-templado-alto}\n",
      "\n",
      "\n",
      "|   m² |   P25 |   Mediana |   Media |   P75 |   %Viviendas |\n",
      "|-----:|------:|----------:|--------:|------:|-------------:|\n",
      "|   30 |  3.03 |      3.03 |    4.41 |  7.29 |         0    |\n",
      "|   55 |  0.33 |      0.76 |    0.72 |  0.95 |         0.04 |\n",
      "|   75 |  0.51 |      0.61 |    0.69 |  1.07 |         0.05 |\n",
      "|  100 |  0.32 |      0.44 |    0.74 |  1.22 |         0.05 |\n",
      "|  150 |  0.25 |      0.76 |    0.87 |  1.4  |         0.03 |\n",
      "|  200 |  0.28 |      0.28 |    0.32 |  0.28 |         0.01 |\n",
      "\n",
      ": Estadísticas ponderadas de consumo total mensual por metro cuadrado y personas  (kWh/(m2 personas)) para clima **Tropical**, estrato socioeconómico **Bajo** {#tbl-tropical-bajo}\n",
      "\n",
      "\n",
      "|   m² |   P25 |   Mediana |   Media |   P75 |   %Viviendas |\n",
      "|-----:|------:|----------:|--------:|------:|-------------:|\n",
      "|   30 |  2.33 |      2.99 |    3.19 |  3.07 |         0.05 |\n",
      "|   55 |  1.1  |      1.34 |    1.84 |  2.36 |         0.14 |\n",
      "|   75 |  0.64 |      0.79 |    1.11 |  1.31 |         0.2  |\n",
      "|  100 |  0.45 |      0.71 |    0.91 |  1.14 |         0.26 |\n",
      "|  150 |  0.36 |      0.61 |    0.85 |  0.9  |         0.17 |\n",
      "|  200 |  0.29 |      0.41 |    0.69 |  0.66 |         0.1  |\n",
      "\n",
      ": Estadísticas ponderadas de consumo total mensual por metro cuadrado y personas  (kWh/(m2 personas)) para clima **Tropical**, estrato socioeconómico **Medio bajo** {#tbl-tropical-medio-bajo}\n",
      "\n",
      "\n",
      "|   m² |   P25 |   Mediana |   Media |   P75 |   %Viviendas |\n",
      "|-----:|------:|----------:|--------:|------:|-------------:|\n",
      "|   30 |  3.87 |      8.98 |    6.66 |  8.98 |         0    |\n",
      "|   55 |  0.69 |      0.79 |    1.39 |  1.26 |         0.02 |\n",
      "|   75 |  0.83 |      1.25 |    1.4  |  1.35 |         0.06 |\n",
      "|  100 |  0.61 |      1    |    1.11 |  1.24 |         0.03 |\n",
      "|  150 |  0.51 |      0.72 |    0.83 |  1.13 |         0.06 |\n",
      "|  200 |  0.27 |      0.36 |    0.62 |  0.78 |         0.05 |\n",
      "\n",
      ": Estadísticas ponderadas de consumo total mensual por metro cuadrado y personas  (kWh/(m2 personas)) para clima **Tropical**, estrato socioeconómico **Medio alto** {#tbl-tropical-medio-alto}\n",
      "\n",
      "\n",
      "|   m² |   P25 |   Mediana |   Media |   P75 |   %Viviendas |\n",
      "|-----:|------:|----------:|--------:|------:|-------------:|\n",
      "|   30 |  0.72 |      0.72 |    2.17 |  4.58 |         0    |\n",
      "|   55 |  0.99 |      0.99 |    1.59 |  2.93 |         0.01 |\n",
      "|   75 |  1.78 |      1.78 |    1.8  |  1.83 |         0.06 |\n",
      "|  100 |  0.72 |      0.83 |    0.99 |  1.3  |         0.06 |\n",
      "|  150 |  0.39 |      0.48 |    0.61 |  0.75 |         0.05 |\n",
      "|  200 |  0.16 |      0.34 |    0.47 |  0.65 |         0.04 |\n",
      "\n",
      ": Estadísticas ponderadas de consumo total mensual por metro cuadrado y personas  (kWh/(m2 personas)) para clima **Tropical**, estrato socioeconómico **Alto** {#tbl-tropical-alto}\n",
      "\n",
      "\n"
     ]
    }
   ],
   "source": [
    "tabla_markdown_kwhm2persona = make_box_tables(tabla_kwhm2persona)\n",
    "\n",
    "# --- 3.  Imprime cada tabla + caption en Markdown puro -----------------------\n",
    "for (clima, estrato), tbl in tabla_markdown_kwhm2persona.items():\n",
    "    md_table = df_to_md(tbl)\n",
    "    \n",
    "    # Etiqueta (anchor) compatible con Quarto\n",
    "    anchor = f\"tbl-{clima.lower().replace(' ', '-')}-{estrato.lower().replace(' ', '-')}\"\n",
    "    \n",
    "    # Muestra la tabla\n",
    "    print(md_table)\n",
    "    print()  # línea en blanco\n",
    "    # Caption estilo Quarto (empieza con \":\")\n",
    "    caption = (\n",
    "        f\": Estadísticas ponderadas de consumo total mensual por metro cuadrado y personas  (kWh/(m2 personas)) \"\n",
    "        f\"para clima **{clima}**, estrato socioeconómico **{estrato}** \"\n",
    "        f\"{{#{anchor}}}\"\n",
    "    )\n",
    "    print(caption)\n",
    "    print(\"\\n\")   # separador entre tablas"
   ]
  },
  {
   "cell_type": "code",
   "execution_count": 16,
   "id": "1a93746a-63f7-4fb3-8c3d-ce6722eb74b2",
   "metadata": {},
   "outputs": [],
   "source": [
    "tabla_kwh['etotal'] = tabla_kwh.media*tabla_kwh.porcentaje*total_viviendas*1000 # Ya son Wh"
   ]
  },
  {
   "cell_type": "code",
   "execution_count": 17,
   "id": "82f2cd3a-2b6e-4306-8382-7246c253a00e",
   "metadata": {},
   "outputs": [
    {
     "data": {
      "text/html": [
       "<div>\n",
       "<style scoped>\n",
       "    .dataframe tbody tr th:only-of-type {\n",
       "        vertical-align: middle;\n",
       "    }\n",
       "\n",
       "    .dataframe tbody tr th {\n",
       "        vertical-align: top;\n",
       "    }\n",
       "\n",
       "    .dataframe thead th {\n",
       "        text-align: right;\n",
       "    }\n",
       "</style>\n",
       "<table border=\"1\" class=\"dataframe\">\n",
       "  <thead>\n",
       "    <tr style=\"text-align: right;\">\n",
       "      <th></th>\n",
       "      <th>clima</th>\n",
       "      <th>estrato</th>\n",
       "      <th>m2</th>\n",
       "      <th>n</th>\n",
       "      <th>minimo</th>\n",
       "      <th>Q1</th>\n",
       "      <th>mediana</th>\n",
       "      <th>Q3</th>\n",
       "      <th>maximo</th>\n",
       "      <th>media</th>\n",
       "      <th>porcentaje</th>\n",
       "      <th>etotal</th>\n",
       "    </tr>\n",
       "  </thead>\n",
       "  <tbody>\n",
       "    <tr>\n",
       "      <th>15</th>\n",
       "      <td>Cálido extremoso</td>\n",
       "      <td>Medio alto</td>\n",
       "      <td>100.0</td>\n",
       "      <td>221125</td>\n",
       "      <td>31.521783</td>\n",
       "      <td>86.880959</td>\n",
       "      <td>147.828467</td>\n",
       "      <td>296.597074</td>\n",
       "      <td>1856.487878</td>\n",
       "      <td>243.424288</td>\n",
       "      <td>0.876852</td>\n",
       "      <td>7.078364e+12</td>\n",
       "    </tr>\n",
       "    <tr>\n",
       "      <th>16</th>\n",
       "      <td>Cálido extremoso</td>\n",
       "      <td>Medio alto</td>\n",
       "      <td>150.0</td>\n",
       "      <td>196503</td>\n",
       "      <td>10.158560</td>\n",
       "      <td>94.853388</td>\n",
       "      <td>152.157473</td>\n",
       "      <td>289.864958</td>\n",
       "      <td>1736.954459</td>\n",
       "      <td>251.145952</td>\n",
       "      <td>0.798133</td>\n",
       "      <td>6.647281e+12</td>\n",
       "    </tr>\n",
       "    <tr>\n",
       "      <th>21</th>\n",
       "      <td>Cálido extremoso</td>\n",
       "      <td>Medio bajo</td>\n",
       "      <td>100.0</td>\n",
       "      <td>244279</td>\n",
       "      <td>7.471627</td>\n",
       "      <td>81.865805</td>\n",
       "      <td>142.526151</td>\n",
       "      <td>235.015887</td>\n",
       "      <td>2452.657664</td>\n",
       "      <td>212.836662</td>\n",
       "      <td>0.922202</td>\n",
       "      <td>6.509013e+12</td>\n",
       "    </tr>\n",
       "    <tr>\n",
       "      <th>22</th>\n",
       "      <td>Cálido extremoso</td>\n",
       "      <td>Medio bajo</td>\n",
       "      <td>150.0</td>\n",
       "      <td>186936</td>\n",
       "      <td>12.181589</td>\n",
       "      <td>101.052532</td>\n",
       "      <td>169.193843</td>\n",
       "      <td>296.832620</td>\n",
       "      <td>1351.609254</td>\n",
       "      <td>220.992653</td>\n",
       "      <td>0.730483</td>\n",
       "      <td>5.353414e+12</td>\n",
       "    </tr>\n",
       "    <tr>\n",
       "      <th>20</th>\n",
       "      <td>Cálido extremoso</td>\n",
       "      <td>Medio bajo</td>\n",
       "      <td>75.0</td>\n",
       "      <td>224658</td>\n",
       "      <td>10.844893</td>\n",
       "      <td>73.518722</td>\n",
       "      <td>125.413587</td>\n",
       "      <td>210.290461</td>\n",
       "      <td>711.965532</td>\n",
       "      <td>164.157037</td>\n",
       "      <td>0.979861</td>\n",
       "      <td>5.334168e+12</td>\n",
       "    </tr>\n",
       "    <tr>\n",
       "      <th>...</th>\n",
       "      <td>...</td>\n",
       "      <td>...</td>\n",
       "      <td>...</td>\n",
       "      <td>...</td>\n",
       "      <td>...</td>\n",
       "      <td>...</td>\n",
       "      <td>...</td>\n",
       "      <td>...</td>\n",
       "      <td>...</td>\n",
       "      <td>...</td>\n",
       "      <td>...</td>\n",
       "      <td>...</td>\n",
       "    </tr>\n",
       "    <tr>\n",
       "      <th>55</th>\n",
       "      <td>Tropical</td>\n",
       "      <td>Medio alto</td>\n",
       "      <td>30.0</td>\n",
       "      <td>1515</td>\n",
       "      <td>50.358680</td>\n",
       "      <td>120.205088</td>\n",
       "      <td>128.356446</td>\n",
       "      <td>128.356446</td>\n",
       "      <td>128.356446</td>\n",
       "      <td>113.154528</td>\n",
       "      <td>0.004568</td>\n",
       "      <td>1.714291e+10</td>\n",
       "    </tr>\n",
       "    <tr>\n",
       "      <th>29</th>\n",
       "      <td>Templado</td>\n",
       "      <td>Bajo</td>\n",
       "      <td>100.0</td>\n",
       "      <td>2677</td>\n",
       "      <td>19.464671</td>\n",
       "      <td>19.464671</td>\n",
       "      <td>19.464671</td>\n",
       "      <td>74.631619</td>\n",
       "      <td>74.631619</td>\n",
       "      <td>40.154852</td>\n",
       "      <td>0.012535</td>\n",
       "      <td>1.669237e+10</td>\n",
       "    </tr>\n",
       "    <tr>\n",
       "      <th>32</th>\n",
       "      <td>Templado</td>\n",
       "      <td>Medio alto</td>\n",
       "      <td>55.0</td>\n",
       "      <td>2843</td>\n",
       "      <td>29.046530</td>\n",
       "      <td>29.046530</td>\n",
       "      <td>53.174943</td>\n",
       "      <td>53.174943</td>\n",
       "      <td>53.174943</td>\n",
       "      <td>46.495710</td>\n",
       "      <td>0.008573</td>\n",
       "      <td>1.321873e+10</td>\n",
       "    </tr>\n",
       "    <tr>\n",
       "      <th>0</th>\n",
       "      <td>Cálido extremoso</td>\n",
       "      <td>Alto</td>\n",
       "      <td>30.0</td>\n",
       "      <td>1112</td>\n",
       "      <td>113.406372</td>\n",
       "      <td>113.406372</td>\n",
       "      <td>113.406372</td>\n",
       "      <td>113.406372</td>\n",
       "      <td>113.406372</td>\n",
       "      <td>113.406372</td>\n",
       "      <td>0.003353</td>\n",
       "      <td>1.261079e+10</td>\n",
       "    </tr>\n",
       "    <tr>\n",
       "      <th>31</th>\n",
       "      <td>Templado</td>\n",
       "      <td>Medio alto</td>\n",
       "      <td>30.0</td>\n",
       "      <td>214</td>\n",
       "      <td>44.773249</td>\n",
       "      <td>44.773249</td>\n",
       "      <td>44.773249</td>\n",
       "      <td>44.773249</td>\n",
       "      <td>44.773249</td>\n",
       "      <td>44.773249</td>\n",
       "      <td>0.000645</td>\n",
       "      <td>9.581475e+08</td>\n",
       "    </tr>\n",
       "  </tbody>\n",
       "</table>\n",
       "<p>67 rows × 12 columns</p>\n",
       "</div>"
      ],
      "text/plain": [
       "               clima     estrato     m2       n      minimo          Q1  \\\n",
       "15  Cálido extremoso  Medio alto  100.0  221125   31.521783   86.880959   \n",
       "16  Cálido extremoso  Medio alto  150.0  196503   10.158560   94.853388   \n",
       "21  Cálido extremoso  Medio bajo  100.0  244279    7.471627   81.865805   \n",
       "22  Cálido extremoso  Medio bajo  150.0  186936   12.181589  101.052532   \n",
       "20  Cálido extremoso  Medio bajo   75.0  224658   10.844893   73.518722   \n",
       "..               ...         ...    ...     ...         ...         ...   \n",
       "55          Tropical  Medio alto   30.0    1515   50.358680  120.205088   \n",
       "29          Templado        Bajo  100.0    2677   19.464671   19.464671   \n",
       "32          Templado  Medio alto   55.0    2843   29.046530   29.046530   \n",
       "0   Cálido extremoso        Alto   30.0    1112  113.406372  113.406372   \n",
       "31          Templado  Medio alto   30.0     214   44.773249   44.773249   \n",
       "\n",
       "       mediana          Q3       maximo       media  porcentaje        etotal  \n",
       "15  147.828467  296.597074  1856.487878  243.424288    0.876852  7.078364e+12  \n",
       "16  152.157473  289.864958  1736.954459  251.145952    0.798133  6.647281e+12  \n",
       "21  142.526151  235.015887  2452.657664  212.836662    0.922202  6.509013e+12  \n",
       "22  169.193843  296.832620  1351.609254  220.992653    0.730483  5.353414e+12  \n",
       "20  125.413587  210.290461   711.965532  164.157037    0.979861  5.334168e+12  \n",
       "..         ...         ...          ...         ...         ...           ...  \n",
       "55  128.356446  128.356446   128.356446  113.154528    0.004568  1.714291e+10  \n",
       "29   19.464671   74.631619    74.631619   40.154852    0.012535  1.669237e+10  \n",
       "32   53.174943   53.174943    53.174943   46.495710    0.008573  1.321873e+10  \n",
       "0   113.406372  113.406372   113.406372  113.406372    0.003353  1.261079e+10  \n",
       "31   44.773249   44.773249    44.773249   44.773249    0.000645  9.581475e+08  \n",
       "\n",
       "[67 rows x 12 columns]"
      ]
     },
     "execution_count": 17,
     "metadata": {},
     "output_type": "execute_result"
    }
   ],
   "source": [
    "tabla_kwh.sort_values(by=\"etotal\",ascending=False)"
   ]
  },
  {
   "cell_type": "code",
   "execution_count": 18,
   "id": "74960c15-577a-4af9-bfe5-cd0b127968b4",
   "metadata": {},
   "outputs": [
    {
     "data": {
      "text/html": [
       "<div>\n",
       "<style scoped>\n",
       "    .dataframe tbody tr th:only-of-type {\n",
       "        vertical-align: middle;\n",
       "    }\n",
       "\n",
       "    .dataframe tbody tr th {\n",
       "        vertical-align: top;\n",
       "    }\n",
       "\n",
       "    .dataframe thead th {\n",
       "        text-align: right;\n",
       "    }\n",
       "</style>\n",
       "<table border=\"1\" class=\"dataframe\">\n",
       "  <thead>\n",
       "    <tr style=\"text-align: right;\">\n",
       "      <th></th>\n",
       "      <th>m2</th>\n",
       "      <th>clima</th>\n",
       "      <th>estrato</th>\n",
       "      <th>porcentaje</th>\n",
       "      <th>etotal</th>\n",
       "    </tr>\n",
       "  </thead>\n",
       "  <tbody>\n",
       "    <tr>\n",
       "      <th>0</th>\n",
       "      <td>100.0</td>\n",
       "      <td>Cálido extremoso</td>\n",
       "      <td>Medio alto</td>\n",
       "      <td>0.876852</td>\n",
       "      <td>7.078364e+12</td>\n",
       "    </tr>\n",
       "    <tr>\n",
       "      <th>1</th>\n",
       "      <td>150.0</td>\n",
       "      <td>Cálido extremoso</td>\n",
       "      <td>Medio alto</td>\n",
       "      <td>0.798133</td>\n",
       "      <td>6.647281e+12</td>\n",
       "    </tr>\n",
       "    <tr>\n",
       "      <th>2</th>\n",
       "      <td>100.0</td>\n",
       "      <td>Cálido extremoso</td>\n",
       "      <td>Medio bajo</td>\n",
       "      <td>0.922202</td>\n",
       "      <td>6.509013e+12</td>\n",
       "    </tr>\n",
       "    <tr>\n",
       "      <th>3</th>\n",
       "      <td>150.0</td>\n",
       "      <td>Cálido extremoso</td>\n",
       "      <td>Medio bajo</td>\n",
       "      <td>0.730483</td>\n",
       "      <td>5.353414e+12</td>\n",
       "    </tr>\n",
       "    <tr>\n",
       "      <th>4</th>\n",
       "      <td>75.0</td>\n",
       "      <td>Cálido extremoso</td>\n",
       "      <td>Medio bajo</td>\n",
       "      <td>0.979861</td>\n",
       "      <td>5.334168e+12</td>\n",
       "    </tr>\n",
       "    <tr>\n",
       "      <th>...</th>\n",
       "      <td>...</td>\n",
       "      <td>...</td>\n",
       "      <td>...</td>\n",
       "      <td>...</td>\n",
       "      <td>...</td>\n",
       "    </tr>\n",
       "    <tr>\n",
       "      <th>62</th>\n",
       "      <td>30.0</td>\n",
       "      <td>Tropical</td>\n",
       "      <td>Medio alto</td>\n",
       "      <td>0.004568</td>\n",
       "      <td>1.714291e+10</td>\n",
       "    </tr>\n",
       "    <tr>\n",
       "      <th>63</th>\n",
       "      <td>100.0</td>\n",
       "      <td>Templado</td>\n",
       "      <td>Bajo</td>\n",
       "      <td>0.012535</td>\n",
       "      <td>1.669237e+10</td>\n",
       "    </tr>\n",
       "    <tr>\n",
       "      <th>64</th>\n",
       "      <td>55.0</td>\n",
       "      <td>Templado</td>\n",
       "      <td>Medio alto</td>\n",
       "      <td>0.008573</td>\n",
       "      <td>1.321873e+10</td>\n",
       "    </tr>\n",
       "    <tr>\n",
       "      <th>65</th>\n",
       "      <td>30.0</td>\n",
       "      <td>Cálido extremoso</td>\n",
       "      <td>Alto</td>\n",
       "      <td>0.003353</td>\n",
       "      <td>1.261079e+10</td>\n",
       "    </tr>\n",
       "    <tr>\n",
       "      <th>66</th>\n",
       "      <td>30.0</td>\n",
       "      <td>Templado</td>\n",
       "      <td>Medio alto</td>\n",
       "      <td>0.000645</td>\n",
       "      <td>9.581475e+08</td>\n",
       "    </tr>\n",
       "  </tbody>\n",
       "</table>\n",
       "<p>67 rows × 5 columns</p>\n",
       "</div>"
      ],
      "text/plain": [
       "       m2             clima     estrato  porcentaje        etotal\n",
       "0   100.0  Cálido extremoso  Medio alto    0.876852  7.078364e+12\n",
       "1   150.0  Cálido extremoso  Medio alto    0.798133  6.647281e+12\n",
       "2   100.0  Cálido extremoso  Medio bajo    0.922202  6.509013e+12\n",
       "3   150.0  Cálido extremoso  Medio bajo    0.730483  5.353414e+12\n",
       "4    75.0  Cálido extremoso  Medio bajo    0.979861  5.334168e+12\n",
       "..    ...               ...         ...         ...           ...\n",
       "62   30.0          Tropical  Medio alto    0.004568  1.714291e+10\n",
       "63  100.0          Templado        Bajo    0.012535  1.669237e+10\n",
       "64   55.0          Templado  Medio alto    0.008573  1.321873e+10\n",
       "65   30.0  Cálido extremoso        Alto    0.003353  1.261079e+10\n",
       "66   30.0          Templado  Medio alto    0.000645  9.581475e+08\n",
       "\n",
       "[67 rows x 5 columns]"
      ]
     },
     "execution_count": 18,
     "metadata": {},
     "output_type": "execute_result"
    }
   ],
   "source": [
    "# Opción 1: Seleccionar las 4 columnas tras ordenar\n",
    "df_vis = (\n",
    "    tabla_kwh\n",
    "      .sort_values(by=\"etotal\", ascending=False)\n",
    "      [[\"m2\",\"clima\",\"estrato\",\"porcentaje\",\"etotal\"]]\n",
    "      .reset_index(drop=True)\n",
    ")\n",
    "df_vis\n"
   ]
  },
  {
   "cell_type": "code",
   "execution_count": 19,
   "id": "e02c4846-90b2-4b5b-a1c8-e69dfad0edd0",
   "metadata": {},
   "outputs": [
    {
     "data": {
      "image/png": "[encoded data removed]",
      "text/plain": [
       "<Figure size 800x400 with 1 Axes>"
      ]
     },
     "metadata": {},
     "output_type": "display_data"
    }
   ],
   "source": [
    "\n",
    "# Prepara Serie normalizada (ya la tienes)\n",
    "et = (\n",
    "    tabla_kwh\n",
    "      .sort_values(by=\"etotal\", ascending=False)\n",
    "      .set_index([\"m2\",\"clima\",\"estrato\"])[\"etotal\"]\n",
    "      .head(20)\n",
    ")\n",
    "# et = et / et.max()\n",
    "\n",
    "# Grafica horizontal\n",
    "plt.figure(figsize=(8, 4))\n",
    "# Para que la barra más grande quede arriba, ordena de menor a mayor\n",
    "et.sort_values().plot(kind='barh')\n",
    "\n",
    "plt.xlabel(\"Energía total (etotal)\")\n",
    "plt.ylabel(\"m2, clima, estrato\")\n",
    "plt.grid(axis='x', linestyle='--', alpha=0.7)\n",
    "plt.tight_layout()\n",
    "plt.show()"
   ]
  },
  {
   "cell_type": "code",
   "execution_count": 20,
   "id": "5b24dc59-9f21-4e1a-8f05-16f8a89f0da2",
   "metadata": {},
   "outputs": [
    {
     "data": {
      "text/plain": [
       "Index(['clima', 'estrato', 'm2', 'n', 'minimo', 'Q1', 'mediana', 'Q3',\n",
       "       'maximo', 'media', 'porcentaje', 'etotal'],\n",
       "      dtype='object')"
      ]
     },
     "execution_count": 20,
     "metadata": {},
     "output_type": "execute_result"
    }
   ],
   "source": [
    "tabla_kwh.columns"
   ]
  },
  {
   "cell_type": "code",
   "execution_count": 21,
   "id": "22d5d848-ae9d-42d7-91d3-ced8014086eb",
   "metadata": {},
   "outputs": [
    {
     "data": {
      "text/plain": [
       "array(['Cálido extremoso', 'Templado', 'Tropical'], dtype=object)"
      ]
     },
     "execution_count": 21,
     "metadata": {},
     "output_type": "execute_result"
    }
   ],
   "source": [
    "tabla_kwh.clima.unique()"
   ]
  },
  {
   "cell_type": "code",
   "execution_count": 22,
   "id": "69b5cf3e-64b3-4dd2-8d60-0419cba3b159",
   "metadata": {},
   "outputs": [
    {
     "data": {
      "application/vnd.plotly.v1+json": {
       "config": {
        "plotlyServerURL": "https://plot.ly"
       },
       "data": [
        {
         "customdata": [
          [
           "Alto",
           0.0033532206659230884,
           12610788600.910347
          ],
          [
           "Alto",
           0.1001985757979248,
           609793465407.6343
          ],
          [
           "Alto",
           0.24695625868384644,
           1758803837024.7344
          ],
          [
           "Alto",
           0.5442228893013805,
           4114422049249.72
          ],
          [
           "Alto",
           0.49880062051469043,
           3973000161211.9077
          ],
          [
           "Alto",
           0.3302530342726895,
           4118861430159.0767
          ],
          [
           "Bajo",
           0.028499360174135888,
           139672195691.8141
          ],
          [
           "Bajo",
           0.0860408680402729,
           584608486222.4388
          ],
          [
           "Bajo",
           0.08503972661843257,
           406549840881.4965
          ],
          [
           "Bajo",
           0.10510778734839493,
           753437544901.809
          ],
          [
           "Bajo",
           0.08068234904445876,
           515732841811.3651
          ],
          [
           "Bajo",
           0.024440515734987976,
           125407753171.32448
          ],
          [
           "Medio alto",
           0.0468033614710362,
           218683760391.6206
          ],
          [
           "Medio alto",
           0.22861908703863212,
           1473886360332.384
          ],
          [
           "Medio alto",
           0.5818018784549179,
           5082456011837.116
          ],
          [
           "Medio alto",
           0.8768521267078357,
           7078364466312.923
          ],
          [
           "Medio alto",
           0.7981328591863229,
           6647280831814.523
          ],
          [
           "Medio alto",
           0.40787466481363027,
           3735175558753.452
          ],
          [
           "Medio bajo",
           0.11967560123065611,
           573125343373.9657
          ],
          [
           "Medio bajo",
           0.6461433077254224,
           3290425812680.048
          ],
          [
           "Medio bajo",
           0.9798611356538183,
           5334168020896.241
          ],
          [
           "Medio bajo",
           0.9222020238254771,
           6509013375249.263
          ],
          [
           "Medio bajo",
           0.7304834415430508,
           5353414431110.692
          ],
          [
           "Medio bajo",
           0.25974192021578335,
           2229796576119.184
          ]
         ],
         "hovertemplate": "Clima=Cálido extremoso<br>x=%{x}<br>m2=%{y}<br>Porcentaje (%)=%{customdata[1]}<br>estrato=%{customdata[0]}<br>Energía total (TWh)=%{customdata[2]}<extra></extra>",
         "legendgroup": "Cálido extremoso",
         "marker": {
          "color": "red",
          "size": {
           "bdata": "icwVozZ4az/IaSgmnaa5PzV5Sz9DnM8/ABfpHkZq4T9QchVwWezfPzDIZp/dItU//I2er+8unT9xOFo6xga2P9zbr9wpxbU/DF43DVjouj8MqoIymae0P6bYHT/vBpk/qNC4NZz2pz81QQnnY0PNPz7jFvkenuI/KGz0MCwP7D/xLgLsTYrpP810j1aeGto/rzBqaQ+jvj/wt+a6NK3kP24liL0FW+8/gFWU0a2C7T9CTXbPHmDnP6yHLpOcn9A/",
           "dtype": "f8"
          },
          "sizemode": "area",
          "sizeref": 0.0002721836487927273,
          "symbol": "circle"
         },
         "mode": "markers",
         "name": "Cálido extremoso",
         "orientation": "v",
         "showlegend": true,
         "type": "scatter",
         "x": {
          "bdata": "+AHxZK/TiT+CsOeVbYPjP9ibAX4PJPw/GuC9DSt1EEBSQ/tOtMgPQPUnjc+2eRBAxxNUTMfgwT8bQynbHLXiPwnssZ/pBNo/UNHdDSkc6D/OsSEp4oDgPyCRRHtcDcA/Cy+GV9T9yz91XjrdCZX3P8fLSFlvVBRAFO5Pxj5QHEBc4k/J0JYaQBxRLbmj4Q1AN5nJ9QpX4j8OALvEylIKQD55RCQwVhVASrBfzToJGkAwOP545WkVQD9RWZaf1gFA",
          "dtype": "f8"
         },
         "xaxis": "x",
         "y": {
          "bdata": "AAAAAAAAPkAAAAAAAIBLQAAAAAAAwFJAAAAAAAAAWUAAAAAAAMBiQAAAAAAAAGlAAAAAAAAAPkAAAAAAAIBLQAAAAAAAwFJAAAAAAAAAWUAAAAAAAMBiQAAAAAAAAGlAAAAAAAAAPkAAAAAAAIBLQAAAAAAAwFJAAAAAAAAAWUAAAAAAAMBiQAAAAAAAAGlAAAAAAAAAPkAAAAAAAIBLQAAAAAAAwFJAAAAAAAAAWUAAAAAAAMBiQAAAAAAAAGlA",
          "dtype": "f8"
         },
         "yaxis": "y"
        },
        {
         "customdata": [
          [
           "Alto",
           0.01889805208034172,
           37572135028.609726
          ],
          [
           "Alto",
           0.010385334508488412,
           51746075551.690315
          ],
          [
           "Alto",
           0.04528958739343422,
           220743312569.34763
          ],
          [
           "Alto",
           0.035495288182176864,
           115868143308.07475
          ],
          [
           "Bajo",
           0.009354038224544442,
           36262948148.77294
          ],
          [
           "Bajo",
           0.012535376176476867,
           16692372106.010778
          ],
          [
           "Bajo",
           0.016473601167210278,
           47367061086.99825
          ],
          [
           "Medio alto",
           0.0006453140490175727,
           958147523.2499999
          ],
          [
           "Medio alto",
           0.008573027296060557,
           13218730274.15909
          ],
          [
           "Medio alto",
           0.013901391429771075,
           87810604153.46954
          ],
          [
           "Medio alto",
           0.02963318298923218,
           130918245297.02853
          ],
          [
           "Medio alto",
           0.018291939352058858,
           101652083899.15033
          ],
          [
           "Medio alto",
           0.022341737332575683,
           230357877278.382
          ],
          [
           "Medio bajo",
           0.01239364832458983,
           30103321073.71055
          ],
          [
           "Medio bajo",
           0.026997648041375364,
           117158769571.06203
          ],
          [
           "Medio bajo",
           0.07099057636435373,
           300778336368.2484
          ],
          [
           "Medio bajo",
           0.05831347233598982,
           391330501030.7932
          ],
          [
           "Medio bajo",
           0.07011306987713824,
           353253834790.8793
          ],
          [
           "Medio bajo",
           0.027015740958637544,
           222571605029.89038
          ]
         ],
         "hovertemplate": "Clima=Templado<br>x=%{x}<br>m2=%{y}<br>Porcentaje (%)=%{customdata[1]}<br>estrato=%{customdata[0]}<br>Energía total (TWh)=%{customdata[2]}<extra></extra>",
         "legendgroup": "Templado",
         "marker": {
          "color": "blue",
          "size": {
           "bdata": "zZuSzgJakz8vaZMA6ESFPzyEaGEyMKc/gyDPO3Asoj/dYRTCNSiDPxupxLUlrIk/mMQKqXTekD/kIzteSSVFP7UT6j68joE/NmR6LFV4jD/xskI/KVieP/+lMEUfu5I/Vom3nMDglj/dn9tR12GJP3lioH1FpZs/gyDPO3Assj9v1DJxQ9utPxX8JB7u8rE/eQaUrwOqmz8=",
           "dtype": "f8"
          },
          "sizemode": "area",
          "sizeref": 0.0002721836487927273,
          "symbol": "circle"
         },
         "mode": "markers",
         "name": "Templado",
         "orientation": "v",
         "showlegend": true,
         "type": "scatter",
         "x": {
          "bdata": "F6dgpqc8oz/Bt2Esdn6qPxflJR5RQcw/Swso3oipvT8uB7agDpGiP/PjJiHOF5E/G3aN1H5AqD9OFXgjhmVPP/z6xvFrEos/ecYUecF6tj+HDgDX7cHAP/3G6vfeBbo/XbCk7l18zT9O4AyuZ9OeP8xPv/sd/r0/pQCDx/M/0z/3sPYVjwvZPytC5/i1m9Y/3JBP8jl9zD8=",
          "dtype": "f8"
         },
         "xaxis": "x",
         "y": {
          "bdata": "AAAAAADAUkAAAAAAAABZQAAAAAAAwGJAAAAAAAAAaUAAAAAAAMBSQAAAAAAAAFlAAAAAAADAYkAAAAAAAAA+QAAAAAAAgEtAAAAAAADAUkAAAAAAAABZQAAAAAAAwGJAAAAAAAAAaUAAAAAAAAA+QAAAAAAAgEtAAAAAAADAUkAAAAAAAABZQAAAAAAAwGJAAAAAAAAAaUA=",
          "dtype": "f8"
         },
         "yaxis": "y"
        },
        {
         "customdata": [
          [
           "Alto",
           0.004137247080617335,
           18413248233.932228
          ],
          [
           "Alto",
           0.012022743520715244,
           49548141781.72505
          ],
          [
           "Alto",
           0.05747215168329868,
           212658442652.8555
          ],
          [
           "Alto",
           0.057236943758890414,
           318050209840.1079
          ],
          [
           "Alto",
           0.04608567575296992,
           361056179209.6058
          ],
          [
           "Alto",
           0.037597082070799516,
           207796887011.4126
          ],
          [
           "Bajo",
           0.004272943960083647,
           24324351270.250477
          ],
          [
           "Bajo",
           0.03514549178177481,
           156987225484.01752
          ],
          [
           "Bajo",
           0.04879358236987544,
           213114698835.10184
          ],
          [
           "Bajo",
           0.05098885633101933,
           322097336132.76105
          ],
          [
           "Bajo",
           0.03191590605047659,
           187148668300.36475
          ],
          [
           "Bajo",
           0.012426818672903819,
           58376158522.60366
          ],
          [
           "Medio alto",
           0.004568461608699171,
           17142910994.348478
          ],
          [
           "Medio alto",
           0.021566757376512525,
           158575156359.86374
          ],
          [
           "Medio alto",
           0.061208339097937804,
           291725435753.9899
          ],
          [
           "Medio alto",
           0.03371916680427335,
           326430253904.6669
          ],
          [
           "Medio alto",
           0.06406098905294072,
           560522936560.4777
          ],
          [
           "Medio alto",
           0.05061795152714474,
           384447297724.77374
          ],
          [
           "Medio bajo",
           0.04874231910429928,
           375296593839.8408
          ],
          [
           "Medio bajo",
           0.14085336088603187,
           1011181050866.4329
          ],
          [
           "Medio bajo",
           0.1983285280555409,
           1253420241679.774
          ],
          [
           "Medio bajo",
           0.25646408670511933,
           1907472316968.7842
          ],
          [
           "Medio bajo",
           0.16835459512453776,
           1038043663391.0907
          ],
          [
           "Medio bajo",
           0.09785554301247312,
           1116674984117.1726
          ]
         ],
         "hovertemplate": "Clima=Tropical<br>x=%{x}<br>m2=%{y}<br>Porcentaje (%)=%{customdata[1]}<br>estrato=%{customdata[0]}<br>Energía total (TWh)=%{customdata[2]}<extra></extra>",
         "legendgroup": "Tropical",
         "marker": {
          "color": "green",
          "size": {
           "bdata": "5++BzjfycD8cXNZRYZ+IP5Iv0mf9bK0/nYUiIylOrT8bnFisipinP9WV1rvsP6M/uScPqYGAcT8875sDl/6hP1QMEfF4+6g/TenNHDYbqj/EAmsZSFegPy75WF47c4k/AQI9E2G2cj/tmHOWmBWWP/UTVg2zVq8/Im9YfaNDoT8Uiu4MTWawP1yYzJyY6qk/AeT31MD0qD+5wkShewfCPwhi7kbUYsk/yM4/WOhp0D+YeRi0pIzFP3iM+JQPDbk/",
           "dtype": "f8"
          },
          "sizemode": "area",
          "sizeref": 0.0002721836487927273,
          "symbol": "circle"
         },
         "mode": "markers",
         "name": "Tropical",
         "orientation": "v",
         "showlegend": true,
         "type": "scatter",
         "x": {
          "bdata": "aFbpK+zakj+uZg/BX16pP3DGNFBkOMs/6PJvRO9a1D+OVW5gixvXPxda9qAWmco/Rv7OlHvomD8r/KtLKBjEP2GW5apXR8s/UGk0JT6d1D+6hevQfPTHP9v+cNd6460/WdxQSOmNkT+kCEPTMEzEPxJifimhq9I/aIM8uDvk1D+f7CXMze/hP9XcsNbImtg/bug1AdwE2D9e5nwuzC3wP3OLImICDvQ/GYA2sQGF/j81WyGs05vwP5W2kJbm3fE/",
          "dtype": "f8"
         },
         "xaxis": "x",
         "y": {
          "bdata": "AAAAAAAAPkAAAAAAAIBLQAAAAAAAwFJAAAAAAAAAWUAAAAAAAMBiQAAAAAAAAGlAAAAAAAAAPkAAAAAAAIBLQAAAAAAAwFJAAAAAAAAAWUAAAAAAAMBiQAAAAAAAAGlAAAAAAAAAPkAAAAAAAIBLQAAAAAAAwFJAAAAAAAAAWUAAAAAAAMBiQAAAAAAAAGlAAAAAAAAAPkAAAAAAAIBLQAAAAAAAwFJAAAAAAAAAWUAAAAAAAMBiQAAAAAAAAGlA",
          "dtype": "f8"
         },
         "yaxis": "y"
        }
       ],
       "layout": {
        "height": 600,
        "legend": {
         "itemsizing": "constant",
         "title": {
          "text": "Clima"
         },
         "tracegroupgap": 0
        },
        "template": {
         "data": {
          "bar": [
           {
            "error_x": {
             "color": "#2a3f5f"
            },
            "error_y": {
             "color": "#2a3f5f"
            },
            "marker": {
             "line": {
              "color": "#E5ECF6",
              "width": 0.5
             },
             "pattern": {
              "fillmode": "overlay",
              "size": 10,
              "solidity": 0.2
             }
            },
            "type": "bar"
           }
          ],
          "barpolar": [
           {
            "marker": {
             "line": {
              "color": "#E5ECF6",
              "width": 0.5
             },
             "pattern": {
              "fillmode": "overlay",
              "size": 10,
              "solidity": 0.2
             }
            },
            "type": "barpolar"
           }
          ],
          "carpet": [
           {
            "aaxis": {
             "endlinecolor": "#2a3f5f",
             "gridcolor": "white",
             "linecolor": "white",
             "minorgridcolor": "white",
             "startlinecolor": "#2a3f5f"
            },
            "baxis": {
             "endlinecolor": "#2a3f5f",
             "gridcolor": "white",
             "linecolor": "white",
             "minorgridcolor": "white",
             "startlinecolor": "#2a3f5f"
            },
            "type": "carpet"
           }
          ],
          "choropleth": [
           {
            "colorbar": {
             "outlinewidth": 0,
             "ticks": ""
            },
            "type": "choropleth"
           }
          ],
          "contour": [
           {
            "colorbar": {
             "outlinewidth": 0,
             "ticks": ""
            },
            "colorscale": [
             [
              0,
              "#0d0887"
             ],
             [
              0.1111111111111111,
              "#46039f"
             ],
             [
              0.2222222222222222,
              "#7201a8"
             ],
             [
              0.3333333333333333,
              "#9c179e"
             ],
             [
              0.4444444444444444,
              "#bd3786"
             ],
             [
              0.5555555555555556,
              "#d8576b"
             ],
             [
              0.6666666666666666,
              "#ed7953"
             ],
             [
              0.7777777777777778,
              "#fb9f3a"
             ],
             [
              0.8888888888888888,
              "#fdca26"
             ],
             [
              1,
              "#f0f921"
             ]
            ],
            "type": "contour"
           }
          ],
          "contourcarpet": [
           {
            "colorbar": {
             "outlinewidth": 0,
             "ticks": ""
            },
            "type": "contourcarpet"
           }
          ],
          "heatmap": [
           {
            "colorbar": {
             "outlinewidth": 0,
             "ticks": ""
            },
            "colorscale": [
             [
              0,
              "#0d0887"
             ],
             [
              0.1111111111111111,
              "#46039f"
             ],
             [
              0.2222222222222222,
              "#7201a8"
             ],
             [
              0.3333333333333333,
              "#9c179e"
             ],
             [
              0.4444444444444444,
              "#bd3786"
             ],
             [
              0.5555555555555556,
              "#d8576b"
             ],
             [
              0.6666666666666666,
              "#ed7953"
             ],
             [
              0.7777777777777778,
              "#fb9f3a"
             ],
             [
              0.8888888888888888,
              "#fdca26"
             ],
             [
              1,
              "#f0f921"
             ]
            ],
            "type": "heatmap"
           }
          ],
          "histogram": [
           {
            "marker": {
             "pattern": {
              "fillmode": "overlay",
              "size": 10,
              "solidity": 0.2
             }
            },
            "type": "histogram"
           }
          ],
          "histogram2d": [
           {
            "colorbar": {
             "outlinewidth": 0,
             "ticks": ""
            },
            "colorscale": [
             [
              0,
              "#0d0887"
             ],
             [
              0.1111111111111111,
              "#46039f"
             ],
             [
              0.2222222222222222,
              "#7201a8"
             ],
             [
              0.3333333333333333,
              "#9c179e"
             ],
             [
              0.4444444444444444,
              "#bd3786"
             ],
             [
              0.5555555555555556,
              "#d8576b"
             ],
             [
              0.6666666666666666,
              "#ed7953"
             ],
             [
              0.7777777777777778,
              "#fb9f3a"
             ],
             [
              0.8888888888888888,
              "#fdca26"
             ],
             [
              1,
              "#f0f921"
             ]
            ],
            "type": "histogram2d"
           }
          ],
          "histogram2dcontour": [
           {
            "colorbar": {
             "outlinewidth": 0,
             "ticks": ""
            },
            "colorscale": [
             [
              0,
              "#0d0887"
             ],
             [
              0.1111111111111111,
              "#46039f"
             ],
             [
              0.2222222222222222,
              "#7201a8"
             ],
             [
              0.3333333333333333,
              "#9c179e"
             ],
             [
              0.4444444444444444,
              "#bd3786"
             ],
             [
              0.5555555555555556,
              "#d8576b"
             ],
             [
              0.6666666666666666,
              "#ed7953"
             ],
             [
              0.7777777777777778,
              "#fb9f3a"
             ],
             [
              0.8888888888888888,
              "#fdca26"
             ],
             [
              1,
              "#f0f921"
             ]
            ],
            "type": "histogram2dcontour"
           }
          ],
          "mesh3d": [
           {
            "colorbar": {
             "outlinewidth": 0,
             "ticks": ""
            },
            "type": "mesh3d"
           }
          ],
          "parcoords": [
           {
            "line": {
             "colorbar": {
              "outlinewidth": 0,
              "ticks": ""
             }
            },
            "type": "parcoords"
           }
          ],
          "pie": [
           {
            "automargin": true,
            "type": "pie"
           }
          ],
          "scatter": [
           {
            "fillpattern": {
             "fillmode": "overlay",
             "size": 10,
             "solidity": 0.2
            },
            "type": "scatter"
           }
          ],
          "scatter3d": [
           {
            "line": {
             "colorbar": {
              "outlinewidth": 0,
              "ticks": ""
             }
            },
            "marker": {
             "colorbar": {
              "outlinewidth": 0,
              "ticks": ""
             }
            },
            "type": "scatter3d"
           }
          ],
          "scattercarpet": [
           {
            "marker": {
             "colorbar": {
              "outlinewidth": 0,
              "ticks": ""
             }
            },
            "type": "scattercarpet"
           }
          ],
          "scattergeo": [
           {
            "marker": {
             "colorbar": {
              "outlinewidth": 0,
              "ticks": ""
             }
            },
            "type": "scattergeo"
           }
          ],
          "scattergl": [
           {
            "marker": {
             "colorbar": {
              "outlinewidth": 0,
              "ticks": ""
             }
            },
            "type": "scattergl"
           }
          ],
          "scattermap": [
           {
            "marker": {
             "colorbar": {
              "outlinewidth": 0,
              "ticks": ""
             }
            },
            "type": "scattermap"
           }
          ],
          "scattermapbox": [
           {
            "marker": {
             "colorbar": {
              "outlinewidth": 0,
              "ticks": ""
             }
            },
            "type": "scattermapbox"
           }
          ],
          "scatterpolar": [
           {
            "marker": {
             "colorbar": {
              "outlinewidth": 0,
              "ticks": ""
             }
            },
            "type": "scatterpolar"
           }
          ],
          "scatterpolargl": [
           {
            "marker": {
             "colorbar": {
              "outlinewidth": 0,
              "ticks": ""
             }
            },
            "type": "scatterpolargl"
           }
          ],
          "scatterternary": [
           {
            "marker": {
             "colorbar": {
              "outlinewidth": 0,
              "ticks": ""
             }
            },
            "type": "scatterternary"
           }
          ],
          "surface": [
           {
            "colorbar": {
             "outlinewidth": 0,
             "ticks": ""
            },
            "colorscale": [
             [
              0,
              "#0d0887"
             ],
             [
              0.1111111111111111,
              "#46039f"
             ],
             [
              0.2222222222222222,
              "#7201a8"
             ],
             [
              0.3333333333333333,
              "#9c179e"
             ],
             [
              0.4444444444444444,
              "#bd3786"
             ],
             [
              0.5555555555555556,
              "#d8576b"
             ],
             [
              0.6666666666666666,
              "#ed7953"
             ],
             [
              0.7777777777777778,
              "#fb9f3a"
             ],
             [
              0.8888888888888888,
              "#fdca26"
             ],
             [
              1,
              "#f0f921"
             ]
            ],
            "type": "surface"
           }
          ],
          "table": [
           {
            "cells": {
             "fill": {
              "color": "#EBF0F8"
             },
             "line": {
              "color": "white"
             }
            },
            "header": {
             "fill": {
              "color": "#C8D4E3"
             },
             "line": {
              "color": "white"
             }
            },
            "type": "table"
           }
          ]
         },
         "layout": {
          "annotationdefaults": {
           "arrowcolor": "#2a3f5f",
           "arrowhead": 0,
           "arrowwidth": 1
          },
          "autotypenumbers": "strict",
          "coloraxis": {
           "colorbar": {
            "outlinewidth": 0,
            "ticks": ""
           }
          },
          "colorscale": {
           "diverging": [
            [
             0,
             "#8e0152"
            ],
            [
             0.1,
             "#c51b7d"
            ],
            [
             0.2,
             "#de77ae"
            ],
            [
             0.3,
             "#f1b6da"
            ],
            [
             0.4,
             "#fde0ef"
            ],
            [
             0.5,
             "#f7f7f7"
            ],
            [
             0.6,
             "#e6f5d0"
            ],
            [
             0.7,
             "#b8e186"
            ],
            [
             0.8,
             "#7fbc41"
            ],
            [
             0.9,
             "#4d9221"
            ],
            [
             1,
             "#276419"
            ]
           ],
           "sequential": [
            [
             0,
             "#0d0887"
            ],
            [
             0.1111111111111111,
             "#46039f"
            ],
            [
             0.2222222222222222,
             "#7201a8"
            ],
            [
             0.3333333333333333,
             "#9c179e"
            ],
            [
             0.4444444444444444,
             "#bd3786"
            ],
            [
             0.5555555555555556,
             "#d8576b"
            ],
            [
             0.6666666666666666,
             "#ed7953"
            ],
            [
             0.7777777777777778,
             "#fb9f3a"
            ],
            [
             0.8888888888888888,
             "#fdca26"
            ],
            [
             1,
             "#f0f921"
            ]
           ],
           "sequentialminus": [
            [
             0,
             "#0d0887"
            ],
            [
             0.1111111111111111,
             "#46039f"
            ],
            [
             0.2222222222222222,
             "#7201a8"
            ],
            [
             0.3333333333333333,
             "#9c179e"
            ],
            [
             0.4444444444444444,
             "#bd3786"
            ],
            [
             0.5555555555555556,
             "#d8576b"
            ],
            [
             0.6666666666666666,
             "#ed7953"
            ],
            [
             0.7777777777777778,
             "#fb9f3a"
            ],
            [
             0.8888888888888888,
             "#fdca26"
            ],
            [
             1,
             "#f0f921"
            ]
           ]
          },
          "colorway": [
           "#636efa",
           "#EF553B",
           "#00cc96",
           "#ab63fa",
           "#FFA15A",
           "#19d3f3",
           "#FF6692",
           "#B6E880",
           "#FF97FF",
           "#FECB52"
          ],
          "font": {
           "color": "#2a3f5f"
          },
          "geo": {
           "bgcolor": "white",
           "lakecolor": "white",
           "landcolor": "#E5ECF6",
           "showlakes": true,
           "showland": true,
           "subunitcolor": "white"
          },
          "hoverlabel": {
           "align": "left"
          },
          "hovermode": "closest",
          "mapbox": {
           "style": "light"
          },
          "paper_bgcolor": "white",
          "plot_bgcolor": "#E5ECF6",
          "polar": {
           "angularaxis": {
            "gridcolor": "white",
            "linecolor": "white",
            "ticks": ""
           },
           "bgcolor": "#E5ECF6",
           "radialaxis": {
            "gridcolor": "white",
            "linecolor": "white",
            "ticks": ""
           }
          },
          "scene": {
           "xaxis": {
            "backgroundcolor": "#E5ECF6",
            "gridcolor": "white",
            "gridwidth": 2,
            "linecolor": "white",
            "showbackground": true,
            "ticks": "",
            "zerolinecolor": "white"
           },
           "yaxis": {
            "backgroundcolor": "#E5ECF6",
            "gridcolor": "white",
            "gridwidth": 2,
            "linecolor": "white",
            "showbackground": true,
            "ticks": "",
            "zerolinecolor": "white"
           },
           "zaxis": {
            "backgroundcolor": "#E5ECF6",
            "gridcolor": "white",
            "gridwidth": 2,
            "linecolor": "white",
            "showbackground": true,
            "ticks": "",
            "zerolinecolor": "white"
           }
          },
          "shapedefaults": {
           "line": {
            "color": "#2a3f5f"
           }
          },
          "ternary": {
           "aaxis": {
            "gridcolor": "white",
            "linecolor": "white",
            "ticks": ""
           },
           "baxis": {
            "gridcolor": "white",
            "linecolor": "white",
            "ticks": ""
           },
           "bgcolor": "#E5ECF6",
           "caxis": {
            "gridcolor": "white",
            "linecolor": "white",
            "ticks": ""
           }
          },
          "title": {
           "x": 0.05
          },
          "xaxis": {
           "automargin": true,
           "gridcolor": "white",
           "linecolor": "white",
           "ticks": "",
           "title": {
            "standoff": 15
           },
           "zerolinecolor": "white",
           "zerolinewidth": 2
          },
          "yaxis": {
           "automargin": true,
           "gridcolor": "white",
           "linecolor": "white",
           "ticks": "",
           "title": {
            "standoff": 15
           },
           "zerolinecolor": "white",
           "zerolinewidth": 2
          }
         }
        },
        "title": {
         "text": "Energía total por mes"
        },
        "xaxis": {
         "anchor": "y",
         "domain": [
          0,
          1
         ],
         "tickformat": ".2e",
         "title": {
          "text": "Energía total (TWh)"
         }
        },
        "yaxis": {
         "anchor": "x",
         "domain": [
          0,
          1
         ],
         "tickmode": "array",
         "ticktext": [
          "30 m²",
          "55 m²",
          "75 m²",
          "100 m²",
          "150 m²",
          "200 m²"
         ],
         "tickvals": [
          30,
          55,
          75,
          100,
          150,
          200
         ],
         "title": {
          "text": "m2"
         }
        }
       }
      },
      "image/png": "[encoded data removed]"
     },
     "metadata": {},
     "output_type": "display_data"
    }
   ],
   "source": [
    "\n",
    "color_map = {\n",
    "    \"Cálido extremoso\": \"red\",\n",
    "    \"Tropical\"         : \"green\",\n",
    "    \"Templado\"         : \"blue\",\n",
    "}\n",
    "# Crear gráfica de burbujas: etotal vs porcentaje, tamaño por viviendas, color por clima\n",
    "fig = px.scatter(\n",
    "    tabla_kwh,\n",
    "    x=tabla_kwh['etotal']/1e12,\n",
    "    y='m2',\n",
    "    size='porcentaje',\n",
    "    color='clima',    \n",
    "    color_discrete_map=color_map,   # ← aquí asignas tus colores\n",
    "    hover_data=['m2', 'estrato',  'porcentaje', 'etotal'],\n",
    "    labels={\n",
    "        'etotal': 'Energía total (TWh)',\n",
    "        'porcentaje': 'Porcentaje (%)',\n",
    "        'clima': 'Clima'\n",
    "    },\n",
    "    title='Energía total por mes',\n",
    "    size_max=60\n",
    ")\n",
    "\n",
    "fig.update_layout(\n",
    "    xaxis=dict(tickformat=\".2e\"),\n",
    "    yaxis=dict(\n",
    "        tickmode=\"array\",\n",
    "        tickvals=[30, 55, 75, 100, 150, 200],\n",
    "        # opcional: si quieres texto distinto al valor numérico:\n",
    "        ticktext=[\"30 m²\",\"55 m²\",\"75 m²\",\"100 m²\",\"150 m²\",\"200 m²\"]\n",
    "    ),\n",
    "    height=600,\n",
    "    xaxis_title=\"Energía total (TWh)\",\n",
    ")\n",
    "\n",
    "fig.show()\n"
   ]
  }
 ],
 "metadata": {
  "kernelspec": {
   "display_name": "Python 3 (ipykernel)",
   "language": "python",
   "name": "python3"
  },
  "language_info": {
   "codemirror_mode": {
    "name": "ipython",
    "version": 3
   },
   "file_extension": ".py",
   "mimetype": "text/x-python",
   "name": "python",
   "nbconvert_exporter": "python",
   "pygments_lexer": "ipython3",
   "version": "3.10.17"
  }
 },
 "nbformat": 4,
 "nbformat_minor": 5
}
